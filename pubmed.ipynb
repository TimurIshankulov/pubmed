{
 "cells": [
  {
   "cell_type": "markdown",
   "metadata": {},
   "source": [
    "### Import"
   ]
  },
  {
   "cell_type": "code",
   "execution_count": 1,
   "metadata": {
    "ExecuteTime": {
     "end_time": "2020-09-28T15:37:23.530474Z",
     "start_time": "2020-09-28T15:37:22.527806Z"
    }
   },
   "outputs": [],
   "source": [
    "import pubmed"
   ]
  },
  {
   "cell_type": "markdown",
   "metadata": {},
   "source": [
    "### Download Neurosurgery articles"
   ]
  },
  {
   "cell_type": "code",
   "execution_count": 2,
   "metadata": {
    "ExecuteTime": {
     "end_time": "2020-09-28T15:37:23.559674Z",
     "start_time": "2020-09-28T15:37:23.545974Z"
    }
   },
   "outputs": [],
   "source": [
    "db = 'pmc'\n",
    "query = 'text classification neural network'\n",
    "query0 = 'neurosurgery'\n",
    "query1 = '(neurosurg*) AND (complicat*[Text Word])'\n",
    "query2 = '(\"Glioma/surgery\"[Mesh] OR \"Glioma/therapy\"[Mesh])'\n",
    "query3 = '(\"Neurosurgery\"[Mesh] OR \"Neurosurgical Procedures\"[Mesh]) AND \"Postoperative Complications\"[Mesh]'\n",
    "query4 = '(\"Neurosurgery\"[Mesh] OR \"Neurosurgical Procedures\"[Mesh]) AND complicat*[Text Word]'"
   ]
  },
  {
   "cell_type": "code",
   "execution_count": 3,
   "metadata": {
    "ExecuteTime": {
     "end_time": "2020-09-28T15:37:25.708351Z",
     "start_time": "2020-09-28T15:37:24.540323Z"
    },
    "scrolled": true
   },
   "outputs": [
    {
     "name": "stdout",
     "output_type": "stream",
     "text": [
      "1583 articles found in pmc with query specified.\n",
      "1583 articles are already stored in the database.\n",
      "0 articles will be downloaded from pmc.\n",
      "Total 1583 articles stored in the database.\n"
     ]
    }
   ],
   "source": [
    "article_ids = pubmed.download_all_articles(query=query3, db=db, refresh=False, cache=True)"
   ]
  },
  {
   "cell_type": "markdown",
   "metadata": {},
   "source": [
    "### Generate dataset"
   ]
  },
  {
   "cell_type": "code",
   "execution_count": 4,
   "metadata": {
    "ExecuteTime": {
     "end_time": "2020-09-28T15:37:39.028813Z",
     "start_time": "2020-09-28T15:37:31.956494Z"
    },
    "scrolled": false
   },
   "outputs": [
    {
     "data": {
      "application/vnd.jupyter.widget-view+json": {
       "model_id": "1bd0a79a75724b10a967ff798c40bf4d",
       "version_major": 2,
       "version_minor": 0
      },
      "text/plain": [
       "HBox(children=(FloatProgress(value=0.0, max=1583.0), HTML(value='')))"
      ]
     },
     "metadata": {},
     "output_type": "display_data"
    },
    {
     "name": "stdout",
     "output_type": "stream",
     "text": [
      "\n"
     ]
    },
    {
     "data": {
      "text/html": [
       "<div>\n",
       "<style scoped>\n",
       "    .dataframe tbody tr th:only-of-type {\n",
       "        vertical-align: middle;\n",
       "    }\n",
       "\n",
       "    .dataframe tbody tr th {\n",
       "        vertical-align: top;\n",
       "    }\n",
       "\n",
       "    .dataframe thead th {\n",
       "        text-align: right;\n",
       "    }\n",
       "</style>\n",
       "<table border=\"1\" class=\"dataframe\">\n",
       "  <thead>\n",
       "    <tr style=\"text-align: right;\">\n",
       "      <th></th>\n",
       "      <th>pmid</th>\n",
       "      <th>pmc</th>\n",
       "      <th>pii</th>\n",
       "      <th>doi</th>\n",
       "      <th>art-access-id</th>\n",
       "      <th>sici</th>\n",
       "      <th>pmc-scan</th>\n",
       "      <th>medline</th>\n",
       "      <th>manuscript</th>\n",
       "      <th>other</th>\n",
       "      <th>...</th>\n",
       "      <th>journal-id_nlm-journal-id</th>\n",
       "      <th>journal-id_iso-abbrev</th>\n",
       "      <th>abstract_len</th>\n",
       "      <th>abstract</th>\n",
       "      <th>full_text_len</th>\n",
       "      <th>full_text</th>\n",
       "      <th>license-type</th>\n",
       "      <th>license</th>\n",
       "      <th>copyright</th>\n",
       "      <th>keywords</th>\n",
       "    </tr>\n",
       "  </thead>\n",
       "  <tbody>\n",
       "    <tr>\n",
       "      <th>0</th>\n",
       "      <td>30773564</td>\n",
       "      <td>7433549</td>\n",
       "      <td>None</td>\n",
       "      <td>10.19723/j.issn.1671-167X.2019.01.030</td>\n",
       "      <td>1671-167X-51-1-177</td>\n",
       "      <td>None</td>\n",
       "      <td>None</td>\n",
       "      <td>None</td>\n",
       "      <td>None</td>\n",
       "      <td>R614.4</td>\n",
       "      <td>...</td>\n",
       "      <td>None</td>\n",
       "      <td>Beijing Da Xue Xue Bao</td>\n",
       "      <td>936</td>\n",
       "      <td>目的 比较超声引导下肌间沟臂丛神经阻滞和颈5-6神经根阻滞用于肩关节镜术后镇痛的效果。 方法...</td>\n",
       "      <td>0</td>\n",
       "      <td></td>\n",
       "      <td>None</td>\n",
       "      <td></td>\n",
       "      <td>版权所有©《北京大学学报(医学版)》编辑部2019</td>\n",
       "      <td>肌间沟臂丛神经阻滞; 颈神经根阻滞; 肩关节手术; 镇痛</td>\n",
       "    </tr>\n",
       "    <tr>\n",
       "      <th>1</th>\n",
       "      <td>32176032</td>\n",
       "      <td>7440145</td>\n",
       "      <td>None</td>\n",
       "      <td>10.1097/MD.0000000000019071</td>\n",
       "      <td>19071</td>\n",
       "      <td>None</td>\n",
       "      <td>None</td>\n",
       "      <td>None</td>\n",
       "      <td>None</td>\n",
       "      <td>None</td>\n",
       "      <td>...</td>\n",
       "      <td>None</td>\n",
       "      <td>Medicine (Baltimore)</td>\n",
       "      <td>2266</td>\n",
       "      <td>Abstract Background: It is important to manage...</td>\n",
       "      <td>23380</td>\n",
       "      <td>1 Introduction A craniotomy is a surgical oper...</td>\n",
       "      <td>open-access</td>\n",
       "      <td>This is an open access article distributed und...</td>\n",
       "      <td>Copyright © 2020 the Author(s). Published by W...</td>\n",
       "      <td>acupuncture; craniotomy; cytokine; electroacup...</td>\n",
       "    </tr>\n",
       "    <tr>\n",
       "      <th>2</th>\n",
       "      <td>32332664</td>\n",
       "      <td>7440095</td>\n",
       "      <td>None</td>\n",
       "      <td>10.1097/MD.0000000000019896</td>\n",
       "      <td>19896</td>\n",
       "      <td>None</td>\n",
       "      <td>None</td>\n",
       "      <td>None</td>\n",
       "      <td>None</td>\n",
       "      <td>None</td>\n",
       "      <td>...</td>\n",
       "      <td>None</td>\n",
       "      <td>Medicine (Baltimore)</td>\n",
       "      <td>53</td>\n",
       "      <td>Supplemental Digital Content is available in t...</td>\n",
       "      <td>18530</td>\n",
       "      <td>1 Introduction Postoperative delirium (POD) is...</td>\n",
       "      <td>open-access</td>\n",
       "      <td>This is an open access article distributed und...</td>\n",
       "      <td>Copyright © 2020 the Author(s). Published by W...</td>\n",
       "      <td>inflammation; pain; paravertebral block; posto...</td>\n",
       "    </tr>\n",
       "    <tr>\n",
       "      <th>3</th>\n",
       "      <td>19213828</td>\n",
       "      <td>7051788</td>\n",
       "      <td>None</td>\n",
       "      <td>10.3174/ajnr.A1453</td>\n",
       "      <td>None</td>\n",
       "      <td>None</td>\n",
       "      <td>None</td>\n",
       "      <td>None</td>\n",
       "      <td>None</td>\n",
       "      <td>08-00789</td>\n",
       "      <td>...</td>\n",
       "      <td>None</td>\n",
       "      <td>AJNR Am J Neuroradiol</td>\n",
       "      <td>1885</td>\n",
       "      <td>BACKGROUND AND PURPOSE: Recently, surgeons hav...</td>\n",
       "      <td>0</td>\n",
       "      <td></td>\n",
       "      <td>None</td>\n",
       "      <td></td>\n",
       "      <td>Copyright © American Society of Neuroradiology</td>\n",
       "      <td></td>\n",
       "    </tr>\n",
       "    <tr>\n",
       "      <th>4</th>\n",
       "      <td>32011490</td>\n",
       "      <td>7220741</td>\n",
       "      <td>None</td>\n",
       "      <td>10.1097/MD.0000000000018817</td>\n",
       "      <td>18817</td>\n",
       "      <td>None</td>\n",
       "      <td>None</td>\n",
       "      <td>None</td>\n",
       "      <td>None</td>\n",
       "      <td>None</td>\n",
       "      <td>...</td>\n",
       "      <td>None</td>\n",
       "      <td>Medicine (Baltimore)</td>\n",
       "      <td>1890</td>\n",
       "      <td>Abstract Rationale: Although C5 palsy is a com...</td>\n",
       "      <td>7929</td>\n",
       "      <td>1 Introduction C5 palsy is a common complicati...</td>\n",
       "      <td>open-access</td>\n",
       "      <td>This is an open access article distributed und...</td>\n",
       "      <td>Copyright © 2020 the Author(s). Published by W...</td>\n",
       "      <td>endoscopic; foraminotomy; palsy; radiculopathy...</td>\n",
       "    </tr>\n",
       "  </tbody>\n",
       "</table>\n",
       "<p>5 rows × 45 columns</p>\n",
       "</div>"
      ],
      "text/plain": [
       "       pmid      pmc   pii                                    doi  \\\n",
       "0  30773564  7433549  None  10.19723/j.issn.1671-167X.2019.01.030   \n",
       "1  32176032  7440145  None            10.1097/MD.0000000000019071   \n",
       "2  32332664  7440095  None            10.1097/MD.0000000000019896   \n",
       "3  19213828  7051788  None                     10.3174/ajnr.A1453   \n",
       "4  32011490  7220741  None            10.1097/MD.0000000000018817   \n",
       "\n",
       "        art-access-id  sici pmc-scan medline manuscript     other  ...  \\\n",
       "0  1671-167X-51-1-177  None     None    None       None    R614.4  ...   \n",
       "1               19071  None     None    None       None      None  ...   \n",
       "2               19896  None     None    None       None      None  ...   \n",
       "3                None  None     None    None       None  08-00789  ...   \n",
       "4               18817  None     None    None       None      None  ...   \n",
       "\n",
       "  journal-id_nlm-journal-id   journal-id_iso-abbrev abstract_len  \\\n",
       "0                      None  Beijing Da Xue Xue Bao          936   \n",
       "1                      None    Medicine (Baltimore)         2266   \n",
       "2                      None    Medicine (Baltimore)           53   \n",
       "3                      None   AJNR Am J Neuroradiol         1885   \n",
       "4                      None    Medicine (Baltimore)         1890   \n",
       "\n",
       "                                            abstract full_text_len  \\\n",
       "0  目的 比较超声引导下肌间沟臂丛神经阻滞和颈5-6神经根阻滞用于肩关节镜术后镇痛的效果。 方法...             0   \n",
       "1  Abstract Background: It is important to manage...         23380   \n",
       "2  Supplemental Digital Content is available in t...         18530   \n",
       "3  BACKGROUND AND PURPOSE: Recently, surgeons hav...             0   \n",
       "4  Abstract Rationale: Although C5 palsy is a com...          7929   \n",
       "\n",
       "                                           full_text license-type  \\\n",
       "0                                                            None   \n",
       "1  1 Introduction A craniotomy is a surgical oper...  open-access   \n",
       "2  1 Introduction Postoperative delirium (POD) is...  open-access   \n",
       "3                                                            None   \n",
       "4  1 Introduction C5 palsy is a common complicati...  open-access   \n",
       "\n",
       "                                             license  \\\n",
       "0                                                      \n",
       "1  This is an open access article distributed und...   \n",
       "2  This is an open access article distributed und...   \n",
       "3                                                      \n",
       "4  This is an open access article distributed und...   \n",
       "\n",
       "                                           copyright  \\\n",
       "0                          版权所有©《北京大学学报(医学版)》编辑部2019   \n",
       "1  Copyright © 2020 the Author(s). Published by W...   \n",
       "2  Copyright © 2020 the Author(s). Published by W...   \n",
       "3     Copyright © American Society of Neuroradiology   \n",
       "4  Copyright © 2020 the Author(s). Published by W...   \n",
       "\n",
       "                                            keywords  \n",
       "0                       肌间沟臂丛神经阻滞; 颈神经根阻滞; 肩关节手术; 镇痛  \n",
       "1  acupuncture; craniotomy; cytokine; electroacup...  \n",
       "2  inflammation; pain; paravertebral block; posto...  \n",
       "3                                                     \n",
       "4  endoscopic; foraminotomy; palsy; radiculopathy...  \n",
       "\n",
       "[5 rows x 45 columns]"
      ]
     },
     "execution_count": 4,
     "metadata": {},
     "output_type": "execute_result"
    }
   ],
   "source": [
    "items = pubmed.generate_dataset(db, article_ids)\n",
    "items.head()"
   ]
  },
  {
   "cell_type": "code",
   "execution_count": 6,
   "metadata": {
    "ExecuteTime": {
     "end_time": "2020-09-28T15:34:36.563952Z",
     "start_time": "2020-09-28T15:34:36.550568Z"
    }
   },
   "outputs": [
    {
     "name": "stdout",
     "output_type": "stream",
     "text": [
      "<class 'pandas.core.frame.DataFrame'>\n",
      "Int64Index: 1583 entries, 0 to 1582\n",
      "Columns: 45 entries, pmid to keywords\n",
      "dtypes: object(45)\n",
      "memory usage: 568.9+ KB\n"
     ]
    }
   ],
   "source": [
    "items.info(verbose=False)"
   ]
  },
  {
   "cell_type": "code",
   "execution_count": 10,
   "metadata": {
    "ExecuteTime": {
     "end_time": "2020-09-28T15:35:51.625509Z",
     "start_time": "2020-09-28T15:35:43.813268Z"
    }
   },
   "outputs": [],
   "source": [
    "items.to_csv('database/{0}_queryX.csv'.format(db), sep='|')\n",
    "items.to_excel('database/{0}_queryX.xlsx'.format(db))"
   ]
  },
  {
   "cell_type": "markdown",
   "metadata": {},
   "source": [
    "## MySQL tests"
   ]
  },
  {
   "cell_type": "code",
   "execution_count": 4,
   "metadata": {
    "ExecuteTime": {
     "end_time": "2020-09-16T10:56:39.210104Z",
     "start_time": "2020-09-16T10:56:39.199912Z"
    }
   },
   "outputs": [],
   "source": [
    "import pubmed\n",
    "item = {}\n",
    "filename = 'pmc/7051788'\n",
    "\n",
    "root = pubmed.get_element_tree(filename)\n",
    "item = pubmed.parse_element_tree_pmc(root)"
   ]
  },
  {
   "cell_type": "code",
   "execution_count": 3,
   "metadata": {
    "ExecuteTime": {
     "end_time": "2020-09-16T10:27:43.075158Z",
     "start_time": "2020-09-16T10:27:43.060718Z"
    }
   },
   "outputs": [
    {
     "data": {
      "text/plain": [
       "'(1) Brain Imaging and Behavior: Systems Neuroscience Krembil Research Institute, University Health Network Toronto Ontario Canada // (2) Department of Psychology University of Toronto Toronto Ontario Canada'"
      ]
     },
     "execution_count": 3,
     "metadata": {},
     "output_type": "execute_result"
    }
   ],
   "source": [
    "root = pubmed.get_element_tree(filename)\n",
    "item, article_meta = pubmed.parse_top_level_subroots_pmc(root)\n",
    "pubmed.parse_affiliations(article_meta, 'contrib-group/aff')"
   ]
  },
  {
   "cell_type": "code",
   "execution_count": 5,
   "metadata": {
    "ExecuteTime": {
     "end_time": "2020-09-16T10:56:41.583012Z",
     "start_time": "2020-09-16T10:56:41.556533Z"
    }
   },
   "outputs": [
    {
     "data": {
      "text/plain": [
       "{'article-type': 'research-article',\n",
       " 'pmid': '19213828',\n",
       " 'pmc': '7051788',\n",
       " 'other': '08-00789',\n",
       " 'doi': '10.3174/ajnr.A1453',\n",
       " 'category': 'Head & Neck',\n",
       " 'title': 'The MR Imaging Appearance of the Vascular Pedicle Nasoseptal Flap',\n",
       " 'authors': 'M.D. Kang (a); E. Escott (b); A.J. Thomas (c); R.L. Carrau (c,d); C.H. Snyderman (c,d); A.B. Kassam (c,d); W. Rothfus (b)',\n",
       " 'affiliations': '(a) Department of Neuroradiology, Thomas Jefferson University Hospital, Philadelphia, Pa // (b) Department of Neuroradiology, University of Pittsburgh Medical Center, Pittsburgh, Pa // (c) Department of Neurosurgery, University of Pittsburgh Medical Center, Pittsburgh, Pa // (d) Department of Otolaryngology—Head & Neck Surgery, University of Pittsburgh Medical Center, Pittsburgh, Pa',\n",
       " 'pub_date': '2009-4',\n",
       " 'copyright': 'Copyright © American Society of Neuroradiology',\n",
       " 'license': '',\n",
       " 'keywords': nan,\n",
       " 'abstract': 'BACKGROUND AND PURPOSE: Recently, surgeons have used an expanded endonasal surgical approach (EENS) to access skull base lesions not previously accessible by minimally invasive techniques. Reconstruction of the large skull base defects created during EENS is necessary to prevent postoperative CSF leaks. A vascular pedicle nasoseptal mucoperiosteal flap based on the nasoseptal artery, (Hadad-Bassagasteguy flap) is becoming a common reconstructive technique. The purpose of this study was to review the expected MR imaging appearance of these flaps and to discuss variations in the appearance that may suggest potential flap failure. MATERIALS AND METHODS: We retrospectively reviewed 10 patients who underwent EENS for resection of sellar lesions with skull base reconstruction by multilayered reconstruction including the Hadad-Bassagasteguy flap. All patients had preoperative, immediate, and delayed postoperative MR imaging scans. Flap features that were evaluated included flap configuration, signal intensity characteristics on T1-weighted and T2-weighted images, enhancement patterns, location, and flap thickness. RESULTS: All patients had detectable postoperative skull base defects. All patients had C-shaped configuration flaps within the operative defect, which were isointense on T1-weighted and T2-weighted images on both immediate and delayed postoperative MR imaging scans. On the immediate scans, 8 of 10 patients had enhancing flaps and 2 of 10 had minimal to no enhancement. There were 9 of 10 patients who had enhancing flaps on delayed scans, and 2 of 10 patients had flaps that increased in enhancing coverage on the delayed scans. CONCLUSIONS: Vascular pedicle nasoseptal flaps have a characteristic MR imaging appearance. It is important for the radiologist to recognize this appearance and to evaluate for variations that may suggest potential flap failure.',\n",
       " 'volume': '30',\n",
       " 'issue': '4',\n",
       " 'pages': '781-786',\n",
       " 'journal-id_nlm-ta': 'AJNR Am J Neuroradiol',\n",
       " 'journal-id_iso-abbrev': 'AJNR Am J Neuroradiol',\n",
       " 'journal-id_hwp': 'ajnr',\n",
       " 'issn_ppub': '0195-6108',\n",
       " 'issn_epub': '1936-959X',\n",
       " 'journal_title': 'AJNR: American Journal of Neuroradiology',\n",
       " 'publisher_name': 'American Society of Neuroradiology',\n",
       " 'full_text': '',\n",
       " 'abstract_len': 1885,\n",
       " 'full_text_len': 0}"
      ]
     },
     "execution_count": 5,
     "metadata": {},
     "output_type": "execute_result"
    }
   ],
   "source": [
    "item"
   ]
  },
  {
   "cell_type": "code",
   "execution_count": 6,
   "metadata": {
    "ExecuteTime": {
     "end_time": "2020-09-15T11:59:17.948260Z",
     "start_time": "2020-09-15T11:59:17.931569Z"
    }
   },
   "outputs": [],
   "source": [
    "from sqlalchemy import create_engine\n",
    "from sqlalchemy.orm import sessionmaker\n",
    "\n",
    "from config import conn_string\n",
    "from models.pubmed_model import PubmedArticle, Base\n",
    "\n",
    "engine = create_engine(conn_string)\n",
    "Base.metadata.bind = engine\n",
    "DBSession = sessionmaker(bind=engine)\n",
    "\n",
    "session = DBSession()"
   ]
  },
  {
   "cell_type": "markdown",
   "metadata": {},
   "source": [
    "### Add"
   ]
  },
  {
   "cell_type": "code",
   "execution_count": 4,
   "metadata": {
    "ExecuteTime": {
     "end_time": "2020-08-26T10:28:07.846224Z",
     "start_time": "2020-08-26T10:28:07.772209Z"
    }
   },
   "outputs": [],
   "source": [
    "article = PubmedArticle(item)\n",
    "session.add(article) \n",
    "session.commit()"
   ]
  },
  {
   "cell_type": "markdown",
   "metadata": {},
   "source": [
    "### Read"
   ]
  },
  {
   "cell_type": "code",
   "execution_count": 7,
   "metadata": {
    "ExecuteTime": {
     "end_time": "2020-09-15T11:59:28.555684Z",
     "start_time": "2020-09-15T11:59:28.508899Z"
    }
   },
   "outputs": [
    {
     "name": "stdout",
     "output_type": "stream",
     "text": [
      "Introduction: The aim of the study was an analysis of ophthalmic symptoms coexisting with the tumour of the cerebellum. Material and methods: The study included 14 patients in the age between 21–55 years old with the tumor of cerebellum, who were operated in the Neurosurgery Clinic of the Pomeranian Medical University in Szczecin. The comprehensive ophthalmic examination were performed before and after 5 days from surgery. The examinations included evaluation of: pupillary reactions, visual acuity, fundus ophthalmoscopy, intraocular pressures, eye motility, visual field, optometrical tests and visual manual localization test. Results: The symptoms found before surgery of cerebellum tumors: diplopia (3 persons), early papilloedema (4 persons), nystagmus (2 persons), lack (5 persons) and weakened of convergence re􀏐lex (3 persons), latent strabismus (5 persons), manifest strabismus (3 persons). On the 5th day after the surgery were found: nystagmus (1 person), lack (5 persons) and weakened of the convergence re􀏐lex (3 persons). Visual manual localization was disparate depending on location of the tumor in the cerebellum; prevailed crossed and uncrossed localizations. Conclusions: 1. The natural dynamic of the tumor and surgical damage to the posterior cranial cavity structures can be monitored by assessment of the condition of the organ sight. 2. It is recommended to make the visual manual localization tests such as exponent disorders of senso-motorical deviations, which may occur in the patients with the cerebellum tumor. \n"
     ]
    }
   ],
   "source": [
    "result = session.query(PubmedArticle).filter_by(pmid=29522659).first()\n",
    "print(result.to_dict()['abstract'])"
   ]
  },
  {
   "cell_type": "markdown",
   "metadata": {},
   "source": [
    "### Update"
   ]
  },
  {
   "cell_type": "code",
   "execution_count": 34,
   "metadata": {
    "ExecuteTime": {
     "end_time": "2020-08-18T11:57:52.313224Z",
     "start_time": "2020-08-18T11:57:52.292402Z"
    }
   },
   "outputs": [],
   "source": [
    "item = session.query(PubmedArticle).filter_by(pmid=18263039).first()\n",
    "item.pmc = 'PMCID888'\n",
    "session.commit()"
   ]
  },
  {
   "cell_type": "markdown",
   "metadata": {},
   "source": [
    "### Delete"
   ]
  },
  {
   "cell_type": "code",
   "execution_count": 5,
   "metadata": {
    "ExecuteTime": {
     "end_time": "2020-08-18T10:28:28.983604Z",
     "start_time": "2020-08-18T10:28:28.959541Z"
    }
   },
   "outputs": [],
   "source": [
    "article = session.query(PubmedArticle).filter_by(pmid=29368597).first()\n",
    "session.delete(article)\n",
    "session.commit()"
   ]
  },
  {
   "cell_type": "code",
   "execution_count": 5,
   "metadata": {
    "ExecuteTime": {
     "end_time": "2020-08-25T10:50:52.286845Z",
     "start_time": "2020-08-25T10:50:52.202617Z"
    }
   },
   "outputs": [],
   "source": [
    "articles = session.query(PubmedArticle).all()\n",
    "for article in articles[:100]:\n",
    "    session.delete(article)\n",
    "session.commit()"
   ]
  },
  {
   "cell_type": "code",
   "execution_count": 11,
   "metadata": {
    "ExecuteTime": {
     "end_time": "2020-08-24T14:20:25.254089Z",
     "start_time": "2020-08-24T14:20:25.241397Z"
    }
   },
   "outputs": [],
   "source": [
    "session.close()"
   ]
  },
  {
   "cell_type": "markdown",
   "metadata": {},
   "source": [
    "### Debug"
   ]
  },
  {
   "cell_type": "code",
   "execution_count": 2,
   "metadata": {
    "ExecuteTime": {
     "end_time": "2020-08-27T10:20:54.668628Z",
     "start_time": "2020-08-27T10:20:54.651059Z"
    }
   },
   "outputs": [],
   "source": [
    "import pandas as pd"
   ]
  },
  {
   "cell_type": "code",
   "execution_count": 5,
   "metadata": {
    "ExecuteTime": {
     "end_time": "2020-08-27T10:23:05.548830Z",
     "start_time": "2020-08-27T10:22:27.633632Z"
    }
   },
   "outputs": [
    {
     "data": {
      "text/html": [
       "<div>\n",
       "<style scoped>\n",
       "    .dataframe tbody tr th:only-of-type {\n",
       "        vertical-align: middle;\n",
       "    }\n",
       "\n",
       "    .dataframe tbody tr th {\n",
       "        vertical-align: top;\n",
       "    }\n",
       "\n",
       "    .dataframe thead th {\n",
       "        text-align: right;\n",
       "    }\n",
       "</style>\n",
       "<table border=\"1\" class=\"dataframe\">\n",
       "  <thead>\n",
       "    <tr style=\"text-align: right;\">\n",
       "      <th></th>\n",
       "      <th>abstract</th>\n",
       "      <th>abstract_len</th>\n",
       "      <th>art-access-id</th>\n",
       "      <th>article-type</th>\n",
       "      <th>authors</th>\n",
       "      <th>category</th>\n",
       "      <th>coden</th>\n",
       "      <th>copyright</th>\n",
       "      <th>doi</th>\n",
       "      <th>elocation-id</th>\n",
       "      <th>...</th>\n",
       "      <th>pmcid</th>\n",
       "      <th>pmid</th>\n",
       "      <th>pub_date</th>\n",
       "      <th>publisher-id</th>\n",
       "      <th>publisher-manuscript</th>\n",
       "      <th>publisher_loc</th>\n",
       "      <th>publisher_name</th>\n",
       "      <th>sici</th>\n",
       "      <th>title</th>\n",
       "      <th>volume</th>\n",
       "    </tr>\n",
       "  </thead>\n",
       "  <tbody>\n",
       "    <tr>\n",
       "      <th>0</th>\n",
       "      <td>NaN</td>\n",
       "      <td>0</td>\n",
       "      <td>NaN</td>\n",
       "      <td>editorial</td>\n",
       "      <td>Douglas Kondziolka, William T. Couldwell, Jame...</td>\n",
       "      <td>Editorial</td>\n",
       "      <td>NaN</td>\n",
       "      <td>Copyright held by the American Association of ...</td>\n",
       "      <td>10.3171/2020.7.JNS202691</td>\n",
       "      <td>NaN</td>\n",
       "      <td>...</td>\n",
       "      <td>NaN</td>\n",
       "      <td>32707559.0</td>\n",
       "      <td>2020-7-24</td>\n",
       "      <td>2020.7.JNS202691</td>\n",
       "      <td>NaN</td>\n",
       "      <td>NaN</td>\n",
       "      <td>American Association of Neurological Surgeons</td>\n",
       "      <td>NaN</td>\n",
       "      <td>Editorial. Putting pen to paper during a pande...</td>\n",
       "      <td>NaN</td>\n",
       "    </tr>\n",
       "    <tr>\n",
       "      <th>1</th>\n",
       "      <td>NaN</td>\n",
       "      <td>0</td>\n",
       "      <td>NaN</td>\n",
       "      <td>research-article</td>\n",
       "      <td>Junad M. Chowdhury, Maulin Patel, Matthew Zhen...</td>\n",
       "      <td>Perspective</td>\n",
       "      <td>NaN</td>\n",
       "      <td>Copyright © 2020 by the American Thoracic Society</td>\n",
       "      <td>10.1513/AnnalsATS.202003-259PS</td>\n",
       "      <td>NaN</td>\n",
       "      <td>...</td>\n",
       "      <td>NaN</td>\n",
       "      <td>32315201.0</td>\n",
       "      <td>2020-8</td>\n",
       "      <td>NaN</td>\n",
       "      <td>202003-259PS</td>\n",
       "      <td>NaN</td>\n",
       "      <td>American Thoracic Society</td>\n",
       "      <td>NaN</td>\n",
       "      <td>Mobilization and Preparation of a Large Urban ...</td>\n",
       "      <td>17</td>\n",
       "    </tr>\n",
       "    <tr>\n",
       "      <th>2</th>\n",
       "      <td>SUMMARY We address whether combinations with a...</td>\n",
       "      <td>957</td>\n",
       "      <td>NaN</td>\n",
       "      <td>research-article</td>\n",
       "      <td>Irem Ozkan-Dagliyan, J. Nathaniel Diehl, Samue...</td>\n",
       "      <td>Article</td>\n",
       "      <td>NaN</td>\n",
       "      <td>NaN</td>\n",
       "      <td>10.1016/j.celrep.2020.107764</td>\n",
       "      <td>NaN</td>\n",
       "      <td>...</td>\n",
       "      <td>NaN</td>\n",
       "      <td>32553168.0</td>\n",
       "      <td>2020-6-16</td>\n",
       "      <td>NaN</td>\n",
       "      <td>NaN</td>\n",
       "      <td>NaN</td>\n",
       "      <td>NaN</td>\n",
       "      <td>NaN</td>\n",
       "      <td>Low-Dose Vertical Inhibition of the RAF-MEK-ER...</td>\n",
       "      <td>31</td>\n",
       "    </tr>\n",
       "    <tr>\n",
       "      <th>3</th>\n",
       "      <td>NaN</td>\n",
       "      <td>0</td>\n",
       "      <td>NaN</td>\n",
       "      <td>news</td>\n",
       "      <td>Concezio Di Rocco</td>\n",
       "      <td>Obituary</td>\n",
       "      <td>NaN</td>\n",
       "      <td>© Springer-Verlag GmbH Germany, part of Spring...</td>\n",
       "      <td>10.1007/s00381-020-04804-2</td>\n",
       "      <td>NaN</td>\n",
       "      <td>...</td>\n",
       "      <td>NaN</td>\n",
       "      <td>NaN</td>\n",
       "      <td>2020-7-31</td>\n",
       "      <td>4804</td>\n",
       "      <td>NaN</td>\n",
       "      <td>Berlin/Heidelberg</td>\n",
       "      <td>Springer Berlin Heidelberg</td>\n",
       "      <td>NaN</td>\n",
       "      <td>Jim Tait Goodrich</td>\n",
       "      <td>NaN</td>\n",
       "    </tr>\n",
       "    <tr>\n",
       "      <th>4</th>\n",
       "      <td>NaN</td>\n",
       "      <td>0</td>\n",
       "      <td>NaN</td>\n",
       "      <td>discussion</td>\n",
       "      <td>Tariq Al-Saadi, Humaid Al-Kalbani, Jack Lam</td>\n",
       "      <td>Article</td>\n",
       "      <td>NaN</td>\n",
       "      <td>Crown Copyright © 2020 Published by Elsevier I...</td>\n",
       "      <td>10.1016/j.wneu.2020.06.123</td>\n",
       "      <td>NaN</td>\n",
       "      <td>...</td>\n",
       "      <td>NaN</td>\n",
       "      <td>NaN</td>\n",
       "      <td>2020-7-30</td>\n",
       "      <td>S1878-8750(20)31381-4</td>\n",
       "      <td>NaN</td>\n",
       "      <td>NaN</td>\n",
       "      <td>Published by Elsevier Inc.</td>\n",
       "      <td>NaN</td>\n",
       "      <td>Letter to the Editor: Spinal and Neurosurgical...</td>\n",
       "      <td>NaN</td>\n",
       "    </tr>\n",
       "  </tbody>\n",
       "</table>\n",
       "<p>5 rows × 52 columns</p>\n",
       "</div>"
      ],
      "text/plain": [
       "                                            abstract  abstract_len  \\\n",
       "0                                                NaN             0   \n",
       "1                                                NaN             0   \n",
       "2  SUMMARY We address whether combinations with a...           957   \n",
       "3                                                NaN             0   \n",
       "4                                                NaN             0   \n",
       "\n",
       "  art-access-id      article-type  \\\n",
       "0           NaN         editorial   \n",
       "1           NaN  research-article   \n",
       "2           NaN  research-article   \n",
       "3           NaN              news   \n",
       "4           NaN        discussion   \n",
       "\n",
       "                                             authors     category coden  \\\n",
       "0  Douglas Kondziolka, William T. Couldwell, Jame...    Editorial   NaN   \n",
       "1  Junad M. Chowdhury, Maulin Patel, Matthew Zhen...  Perspective   NaN   \n",
       "2  Irem Ozkan-Dagliyan, J. Nathaniel Diehl, Samue...      Article   NaN   \n",
       "3                                  Concezio Di Rocco     Obituary   NaN   \n",
       "4        Tariq Al-Saadi, Humaid Al-Kalbani, Jack Lam      Article   NaN   \n",
       "\n",
       "                                           copyright  \\\n",
       "0  Copyright held by the American Association of ...   \n",
       "1  Copyright © 2020 by the American Thoracic Society   \n",
       "2                                                NaN   \n",
       "3  © Springer-Verlag GmbH Germany, part of Spring...   \n",
       "4  Crown Copyright © 2020 Published by Elsevier I...   \n",
       "\n",
       "                              doi elocation-id  ...  pmcid        pmid  \\\n",
       "0        10.3171/2020.7.JNS202691          NaN  ...    NaN  32707559.0   \n",
       "1  10.1513/AnnalsATS.202003-259PS          NaN  ...    NaN  32315201.0   \n",
       "2    10.1016/j.celrep.2020.107764          NaN  ...    NaN  32553168.0   \n",
       "3      10.1007/s00381-020-04804-2          NaN  ...    NaN         NaN   \n",
       "4      10.1016/j.wneu.2020.06.123          NaN  ...    NaN         NaN   \n",
       "\n",
       "    pub_date           publisher-id publisher-manuscript      publisher_loc  \\\n",
       "0  2020-7-24       2020.7.JNS202691                  NaN                NaN   \n",
       "1     2020-8                    NaN         202003-259PS                NaN   \n",
       "2  2020-6-16                    NaN                  NaN                NaN   \n",
       "3  2020-7-31                   4804                  NaN  Berlin/Heidelberg   \n",
       "4  2020-7-30  S1878-8750(20)31381-4                  NaN                NaN   \n",
       "\n",
       "                                  publisher_name sici  \\\n",
       "0  American Association of Neurological Surgeons  NaN   \n",
       "1                      American Thoracic Society  NaN   \n",
       "2                                            NaN  NaN   \n",
       "3                     Springer Berlin Heidelberg  NaN   \n",
       "4                     Published by Elsevier Inc.  NaN   \n",
       "\n",
       "                                               title volume  \n",
       "0  Editorial. Putting pen to paper during a pande...    NaN  \n",
       "1  Mobilization and Preparation of a Large Urban ...     17  \n",
       "2  Low-Dose Vertical Inhibition of the RAF-MEK-ER...     31  \n",
       "3                                  Jim Tait Goodrich    NaN  \n",
       "4  Letter to the Editor: Spinal and Neurosurgical...    NaN  \n",
       "\n",
       "[5 rows x 52 columns]"
      ]
     },
     "execution_count": 5,
     "metadata": {},
     "output_type": "execute_result"
    }
   ],
   "source": [
    "articles = pd.read_csv('database/pmc_neurosurgery.csv', sep='|', low_memory=False)\n",
    "articles.head()"
   ]
  },
  {
   "cell_type": "code",
   "execution_count": 16,
   "metadata": {
    "ExecuteTime": {
     "end_time": "2020-08-27T10:43:42.901756Z",
     "start_time": "2020-08-27T10:43:42.885011Z"
    }
   },
   "outputs": [
    {
     "data": {
      "text/plain": [
       "Index(['abstract', 'abstract_len', 'art-access-id', 'article-type', 'authors',\n",
       "       'category', 'coden', 'copyright', 'doi', 'elocation-id', 'file_size',\n",
       "       'full_text', 'full_text_len', 'issn_epub', 'issn_ppub', 'issue',\n",
       "       'journal-id_', 'journal-id_allenpress-id', 'journal-id_archive',\n",
       "       'journal-id_coden', 'journal-id_doi', 'journal-id_hwp',\n",
       "       'journal-id_iso-abbrev', 'journal-id_issn', 'journal-id_nlm-journal-id',\n",
       "       'journal-id_nlm-ta', 'journal-id_pmc', 'journal-id_publisher-id',\n",
       "       'journal-id_pubmed', 'journal-id_pubmed-jr-id', 'journal-id_sc',\n",
       "       'journal_title', 'keywords', 'license', 'license-type', 'manuscript',\n",
       "       'medline', 'other', 'pages', 'pii', 'pmc', 'pmc-scan', 'pmcid', 'pmid',\n",
       "       'pub_date', 'publisher-id', 'publisher-manuscript', 'publisher_loc',\n",
       "       'publisher_name', 'sici', 'title', 'volume'],\n",
       "      dtype='object')"
      ]
     },
     "execution_count": 16,
     "metadata": {},
     "output_type": "execute_result"
    }
   ],
   "source": [
    "articles.columns"
   ]
  },
  {
   "cell_type": "code",
   "execution_count": 49,
   "metadata": {
    "ExecuteTime": {
     "end_time": "2020-08-27T11:20:17.743172Z",
     "start_time": "2020-08-27T11:20:17.733575Z"
    }
   },
   "outputs": [],
   "source": [
    "columns = ['pmid', 'pmc', 'pii', 'doi', 'art-access-id', 'sici', 'pmc-scan', 'medline', 'manuscript', 'other',\n",
    "                   'title', 'authors', 'article-type', 'category',\n",
    "                   'journal_title', 'volume', 'issue', 'pages', 'pub_date', 'issn_epub', 'issn_ppub',\n",
    "                   'publisher_name', 'publisher_loc', 'publisher-id', 'elocation-id', 'publisher-manuscript',\n",
    "                   'journal-id_nlm-ta', 'journal-id_pubmed-jr-id', 'journal-id_issn', 'journal-id_pmc',\n",
    "                   'journal-id_doi', 'journal-id_coden', 'journal-id_publisher-id', 'journal-id_hwp',\n",
    "                   'journal-id_nlm-journal-id', 'journal-id_iso-abbrev',\n",
    "                   'abstract_len', 'abstract', 'full_text_len', 'full_text',\n",
    "                   'license-type', 'license', 'copyright', 'keywords']"
   ]
  },
  {
   "cell_type": "code",
   "execution_count": 50,
   "metadata": {
    "ExecuteTime": {
     "end_time": "2020-08-27T11:20:20.226983Z",
     "start_time": "2020-08-27T11:20:20.212034Z"
    }
   },
   "outputs": [
    {
     "data": {
      "text/plain": [
       "['journal-id_pubmed',\n",
       " 'pmcid',\n",
       " 'coden',\n",
       " 'file_size',\n",
       " 'journal-id_archive',\n",
       " 'journal-id_sc',\n",
       " 'journal-id_',\n",
       " 'journal-id_allenpress-id']"
      ]
     },
     "execution_count": 50,
     "metadata": {},
     "output_type": "execute_result"
    }
   ],
   "source": [
    "intersection = list(set(articles.columns.difference(set(columns))))\n",
    "intersection"
   ]
  },
  {
   "cell_type": "code",
   "execution_count": 51,
   "metadata": {
    "ExecuteTime": {
     "end_time": "2020-08-27T11:20:23.715562Z",
     "start_time": "2020-08-27T11:20:23.620468Z"
    }
   },
   "outputs": [
    {
     "name": "stdout",
     "output_type": "stream",
     "text": [
      "<class 'pandas.core.frame.DataFrame'>\n",
      "RangeIndex: 132342 entries, 0 to 132341\n",
      "Data columns (total 8 columns):\n",
      " #   Column                    Non-Null Count   Dtype \n",
      "---  ------                    --------------   ----- \n",
      " 0   journal-id_pubmed         4 non-null       object\n",
      " 1   pmcid                     2 non-null       object\n",
      " 2   coden                     21 non-null      object\n",
      " 3   file_size                 132342 non-null  int64 \n",
      " 4   journal-id_archive        50 non-null      object\n",
      " 5   journal-id_sc             1 non-null       object\n",
      " 6   journal-id_               1 non-null       object\n",
      " 7   journal-id_allenpress-id  1 non-null       object\n",
      "dtypes: int64(1), object(7)\n",
      "memory usage: 8.1+ MB\n"
     ]
    }
   ],
   "source": [
    "articles[intersection].info()"
   ]
  },
  {
   "cell_type": "code",
   "execution_count": 4,
   "metadata": {
    "ExecuteTime": {
     "end_time": "2020-08-27T14:39:09.556787Z",
     "start_time": "2020-08-27T14:39:09.420295Z"
    }
   },
   "outputs": [
    {
     "ename": "NameError",
     "evalue": "name 'articles' is not defined",
     "output_type": "error",
     "traceback": [
      "\u001b[1;31m---------------------------------------------------------------------------\u001b[0m",
      "\u001b[1;31mNameError\u001b[0m                                 Traceback (most recent call last)",
      "\u001b[1;32m<ipython-input-4-dbb6db1f9a5c>\u001b[0m in \u001b[0;36m<module>\u001b[1;34m\u001b[0m\n\u001b[1;32m----> 1\u001b[1;33m \u001b[0marticles\u001b[0m\u001b[1;33m[\u001b[0m\u001b[1;34m'pmc'\u001b[0m\u001b[1;33m]\u001b[0m\u001b[1;33m.\u001b[0m\u001b[0mdropna\u001b[0m\u001b[1;33m(\u001b[0m\u001b[1;33m)\u001b[0m\u001b[1;33m\u001b[0m\u001b[1;33m\u001b[0m\u001b[0m\n\u001b[0m",
      "\u001b[1;31mNameError\u001b[0m: name 'articles' is not defined"
     ]
    }
   ],
   "source": [
    "articles['pmc'].dropna()"
   ]
  },
  {
   "cell_type": "code",
   "execution_count": 15,
   "metadata": {
    "ExecuteTime": {
     "end_time": "2020-08-27T10:29:11.044799Z",
     "start_time": "2020-08-27T10:29:10.756046Z"
    }
   },
   "outputs": [
    {
     "name": "stdout",
     "output_type": "stream",
     "text": [
      "<class 'pandas.core.frame.DataFrame'>\n",
      "RangeIndex: 132342 entries, 0 to 132341\n",
      "Data columns (total 52 columns):\n",
      " #   Column                     Non-Null Count   Dtype  \n",
      "---  ------                     --------------   -----  \n",
      " 0   abstract                   110056 non-null  object \n",
      " 1   abstract_len               132342 non-null  int64  \n",
      " 2   art-access-id              1478 non-null    object \n",
      " 3   article-type               132342 non-null  object \n",
      " 4   authors                    128259 non-null  object \n",
      " 5   category                   132328 non-null  object \n",
      " 6   coden                      21 non-null      object \n",
      " 7   copyright                  84607 non-null   object \n",
      " 8   doi                        98345 non-null   object \n",
      " 9   elocation-id               29050 non-null   object \n",
      " 10  file_size                  132342 non-null  int64  \n",
      " 11  full_text                  58351 non-null   object \n",
      " 12  full_text_len              132342 non-null  int64  \n",
      " 13  issn_epub                  122015 non-null  object \n",
      " 14  issn_ppub                  101797 non-null  object \n",
      " 15  issue                      106852 non-null  object \n",
      " 16  journal-id_                1 non-null       object \n",
      " 17  journal-id_allenpress-id   1 non-null       object \n",
      " 18  journal-id_archive         50 non-null      object \n",
      " 19  journal-id_coden           322 non-null     object \n",
      " 20  journal-id_doi             4166 non-null    object \n",
      " 21  journal-id_hwp             11394 non-null   object \n",
      " 22  journal-id_iso-abbrev      84379 non-null   object \n",
      " 23  journal-id_issn            1178 non-null    object \n",
      " 24  journal-id_nlm-journal-id  14732 non-null   object \n",
      " 25  journal-id_nlm-ta          132326 non-null  object \n",
      " 26  journal-id_pmc             10483 non-null   object \n",
      " 27  journal-id_publisher-id    59150 non-null   object \n",
      " 28  journal-id_pubmed          4 non-null       object \n",
      " 29  journal-id_pubmed-jr-id    14688 non-null   float64\n",
      " 30  journal-id_sc              1 non-null       object \n",
      " 31  journal_title              92577 non-null   object \n",
      " 32  keywords                   70120 non-null   object \n",
      " 33  license                    58252 non-null   object \n",
      " 34  license-type               45354 non-null   object \n",
      " 35  manuscript                 14753 non-null   object \n",
      " 36  medline                    84 non-null      object \n",
      " 37  other                      2188 non-null    object \n",
      " 38  pages                      101925 non-null  object \n",
      " 39  pii                        1875 non-null    object \n",
      " 40  pmc                        132342 non-null  int64  \n",
      " 41  pmc-scan                   129 non-null     object \n",
      " 42  pmcid                      2 non-null       object \n",
      " 43  pmid                       121342 non-null  float64\n",
      " 44  pub_date                   132342 non-null  object \n",
      " 45  publisher-id               65255 non-null   object \n",
      " 46  publisher-manuscript       551 non-null     object \n",
      " 47  publisher_loc              39714 non-null   object \n",
      " 48  publisher_name             91905 non-null   object \n",
      " 49  sici                       383 non-null     object \n",
      " 50  title                      132094 non-null  object \n",
      " 51  volume                     131428 non-null  object \n",
      "dtypes: float64(2), int64(4), object(46)\n",
      "memory usage: 52.5+ MB\n"
     ]
    }
   ],
   "source": [
    "articles.info()"
   ]
  },
  {
   "cell_type": "code",
   "execution_count": 14,
   "metadata": {
    "ExecuteTime": {
     "end_time": "2020-08-27T10:28:27.564229Z",
     "start_time": "2020-08-27T10:25:27.136453Z"
    }
   },
   "outputs": [
    {
     "name": "stdout",
     "output_type": "stream",
     "text": [
      "                 abstract  119942\n",
      "             abstract_len  6\n",
      "            art-access-id  18\n",
      "             article-type  19\n",
      "                  authors  40418\n",
      "                 category  176\n",
      "                    coden  17\n",
      "                copyright  1124\n",
      "                      doi  60\n",
      "             elocation-id  152\n",
      "                file_size  7\n",
      "                full_text  6327298\n",
      "            full_text_len  7\n",
      "                issn_epub  9\n",
      "                issn_ppub  9\n",
      "                    issue  29\n",
      "              journal-id_  3\n",
      " journal-id_allenpress-id  4\n",
      "       journal-id_archive  4\n",
      "         journal-id_coden  18\n",
      "           journal-id_doi  32\n",
      "           journal-id_hwp  43\n",
      "    journal-id_iso-abbrev  80\n",
      "          journal-id_issn  9\n",
      "journal-id_nlm-journal-id  9\n",
      "        journal-id_nlm-ta  80\n",
      "           journal-id_pmc  44\n",
      "  journal-id_publisher-id  67\n",
      "        journal-id_pubmed  4\n",
      "  journal-id_pubmed-jr-id  7\n",
      "            journal-id_sc  4\n",
      "            journal_title  237\n",
      "                 keywords  1979\n",
      "                  license  1065\n",
      "             license-type  46\n",
      "               manuscript  13\n",
      "                  medline  17\n",
      "                    other  35\n",
      "                    pages  37\n",
      "                      pii  23\n",
      "                      pmc  7\n",
      "                 pmc-scan  25\n",
      "                    pmcid  10\n",
      "                     pmid  10\n",
      "                 pub_date  14\n",
      "             publisher-id  49\n",
      "     publisher-manuscript  19\n",
      "            publisher_loc  211\n",
      "           publisher_name  402\n",
      "                     sici  30\n",
      "                    title  451\n",
      "                   volume  9\n"
     ]
    }
   ],
   "source": [
    "for column_name in articles.columns:\n",
    "    test = articles[column_name]\n",
    "    m = 0\n",
    "    for i in range(len(articles)):\n",
    "        n = len(str(test.loc[i]))\n",
    "        m = n if n > m else m\n",
    "    print('{0:>25}  {1}'.format(column_name, m))"
   ]
  }
 ],
 "metadata": {
  "kernelspec": {
   "display_name": "Python 3",
   "language": "python",
   "name": "python3"
  },
  "language_info": {
   "codemirror_mode": {
    "name": "ipython",
    "version": 3
   },
   "file_extension": ".py",
   "mimetype": "text/x-python",
   "name": "python",
   "nbconvert_exporter": "python",
   "pygments_lexer": "ipython3",
   "version": "3.6.10"
  }
 },
 "nbformat": 4,
 "nbformat_minor": 2
}
