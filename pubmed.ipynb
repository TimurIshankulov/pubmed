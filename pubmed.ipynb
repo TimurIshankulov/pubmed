{
 "cells": [
  {
   "cell_type": "markdown",
   "metadata": {},
   "source": [
    "### Import"
   ]
  },
  {
   "cell_type": "code",
   "execution_count": 115,
   "metadata": {
    "ExecuteTime": {
     "end_time": "2019-11-25T09:29:41.316745Z",
     "start_time": "2019-11-25T09:29:41.312757Z"
    }
   },
   "outputs": [],
   "source": [
    "import pandas as pd\n",
    "import datetime\n",
    "import time\n",
    "import requests\n",
    "import os\n",
    "import json"
   ]
  },
  {
   "cell_type": "code",
   "execution_count": 2,
   "metadata": {
    "ExecuteTime": {
     "end_time": "2019-11-19T13:05:54.772127Z",
     "start_time": "2019-11-19T13:05:54.582697Z"
    }
   },
   "outputs": [],
   "source": [
    "from pymed import PubMed\n",
    "import xml.etree.ElementTree as ET"
   ]
  },
  {
   "cell_type": "markdown",
   "metadata": {},
   "source": [
    "### Settings"
   ]
  },
  {
   "cell_type": "code",
   "execution_count": 65,
   "metadata": {
    "ExecuteTime": {
     "end_time": "2019-11-20T05:52:41.969620Z",
     "start_time": "2019-11-20T05:52:41.964633Z"
    }
   },
   "outputs": [],
   "source": [
    "headers = {\n",
    "    'User-Agent': 'Mozilla / 5.0(Windows NT 10.0; Win64; x64) AppleWebKit / 537.36(KHTML, like Gecko) Chrome / 69.0.3497.81 Safari / 537.36'\n",
    "}\n",
    "\n",
    "authors_list = [\n",
    "    'Danilov Gleb',\n",
    "    'Shifrin Michael',\n",
    "    'Potapov Alexander',\n",
    "    'Shimansky Vadim'\n",
    "]\n",
    "\n",
    "tool = 'my_tool1'\n",
    "email = 'tishankulov@nsi.ru'\n",
    "api_key = '2839ed49187b099ec3d13cc079fc3ca0fc09'\n",
    "max_results = 5000\n",
    "\n",
    "full_texts_path = 'fulltexts/'\n",
    "\n",
    "url_pubmed_to_pmc = 'https://eutils.ncbi.nlm.nih.gov/entrez/eutils/elink.fcgi'\n",
    "url_full_text = 'https://eutils.ncbi.nlm.nih.gov/entrez/eutils/efetch.fcgi'\n",
    "url_article_ids = 'https://eutils.ncbi.nlm.nih.gov/entrez/eutils/esearch.fcgi'"
   ]
  },
  {
   "cell_type": "markdown",
   "metadata": {},
   "source": [
    "### Functions"
   ]
  },
  {
   "cell_type": "code",
   "execution_count": 111,
   "metadata": {
    "ExecuteTime": {
     "end_time": "2019-11-25T09:19:49.388703Z",
     "start_time": "2019-11-25T09:19:49.379728Z"
    }
   },
   "outputs": [],
   "source": [
    "def get_items_pubmed(fullname):\n",
    "    \"\"\"\n",
    "    Makes request to Pubmed database using pymed library.\n",
    "    Returns DataFrame with all articles authored by <fullname>.\n",
    "    \"\"\"\n",
    "    items = pd.DataFrame(columns=['fullname', 'pubmed_id', 'title', 'abstract', 'keywords', 'journal', 'publication_date',\n",
    "                                  'authors', 'affiliations', 'methods', 'conclusions', 'results', 'copyrights', 'doi'])\n",
    "    \n",
    "    lastname = fullname.split()[0]\n",
    "    firstname = fullname.split()[1]\n",
    "    query = '{0}, {1}[Author]'.format(lastname, firstname)\n",
    "    \n",
    "    pubmed = PubMed(tool=tool, email=email)\n",
    "    results = pubmed.query(query, max_results=max_results)\n",
    "    \n",
    "    while True:\n",
    "        try:\n",
    "            result = next(results)\n",
    "            result_dict = result.toDict()\n",
    "            result_dict['fullname'] = fullname\n",
    "            result_dict['affiliations'] = [author['affiliation'] for author in result_dict['authors']]\n",
    "            result_dict['affiliations'] = '; '.join(result_dict['affiliations'])\n",
    "            result_dict['authors'] = [' '.join([author['lastname'], author['firstname']]) for author in result_dict['authors']]\n",
    "            result_dict['authors'] = '; '.join(result_dict['authors'])\n",
    "            result_dict['keywords'] = '; '.join(result_dict['keywords'])\n",
    "            result_dict['pubmed_id'] = result_dict['pubmed_id'].replace('\\n', '; ')\n",
    "            del result_dict['xml']\n",
    "            items = items.append(result_dict, ignore_index=True)\n",
    "        except StopIteration:\n",
    "            break\n",
    "    \n",
    "    return items"
   ]
  },
  {
   "cell_type": "code",
   "execution_count": 112,
   "metadata": {
    "ExecuteTime": {
     "end_time": "2019-11-25T09:19:50.267702Z",
     "start_time": "2019-11-25T09:19:50.260723Z"
    }
   },
   "outputs": [],
   "source": [
    "def add_pmc_id(items):\n",
    "    \"\"\"Add PMC ID to <items> DataFrame\"\"\"\n",
    "    params = {\n",
    "        'format': 'json',\n",
    "        'dbfrom': 'pubmed',\n",
    "        'linkname': 'pubmed_pmc',\n",
    "        'api_key': api_key\n",
    "    }\n",
    "    \n",
    "    if not 'pmc_id' in items.columns:\n",
    "        items.insert(2, 'pmc_id', pd.np.nan)\n",
    "    \n",
    "    for i in range(0, len(items)):\n",
    "        params['id'] = items.loc[i, 'pubmed_id']\n",
    "        try:\n",
    "            response = requests.get(url=url_pubmed_to_pmc, headers=headers, params=params)\n",
    "        except requests.RequestException:\n",
    "            print('Problem has occured with Pubmed ID: {0}'.format(params['id']))\n",
    "        else:\n",
    "            data = response.json()\n",
    "            if 'linksetdbs' in data['linksets'][0]:\n",
    "                items.loc[i, 'pmc_id'] = data['linksets'][0]['linksetdbs'][0]['links'][0]\n",
    "    return items"
   ]
  },
  {
   "cell_type": "code",
   "execution_count": 467,
   "metadata": {
    "ExecuteTime": {
     "end_time": "2019-11-26T14:52:27.075915Z",
     "start_time": "2019-11-26T14:52:27.060955Z"
    }
   },
   "outputs": [],
   "source": [
    "def parse_element_tree(root):\n",
    "    item = {}\n",
    "    \n",
    "    item['article-type'] = root.find('article').get('article-type')                             # Article type\n",
    "    article_meta = root.findall('article/front/article-meta')                                   # Article meta\n",
    "    for meta in article_meta:\n",
    "        article_ids = meta.findall('article-id')                                                # Article ids\n",
    "        for article_id in article_ids:\n",
    "            item[article_id.get('pub-id-type')] = article_id.text\n",
    "            \n",
    "        item['category'] = meta.find('article-categories/subj-group/subject').text              # Article category\n",
    "        item['title'] = meta.find('title-group/article-title').text                             # Article title\n",
    "    \n",
    "        pass                                                                                    # Authors\n",
    "        pass                                                                                    # Publication date\n",
    "    \n",
    "        item['copyright'] = meta.find('permissions/copyright-statement').text                   # Copyright statement\n",
    "        license_type = meta.find('permissions/license')                                         # License type\n",
    "        item['license-type'] = license_type.get('license-type') if license_type else ''           \n",
    "        license = meta.find('permissions/license/license-p')                                    # License text\n",
    "        if license:\n",
    "            for element in license.iter():\n",
    "                if element.text:\n",
    "                    item['license'] = item.get('license', '') + element.text + ' '\n",
    "                if element.tail:\n",
    "                    item['license'] = item.get('license', '') + element.tail + ' '\n",
    "        \n",
    "        abstract = meta.find('abstract')                                                        # Abstract\n",
    "        for element in abstract.iter():\n",
    "            if element.text:\n",
    "                item['abstract'] = item.get('abstract', '') + element.text + ' '\n",
    "            if element.tail:\n",
    "                item['abstract'] = item.get('abstract', '') + element.tail + ' '\n",
    "                                                                                    \n",
    "                        \n",
    "        pass                                                                                    # Journal meta\n",
    "        pass                                                                                    # Keywords\n",
    "    \n",
    "    body = root.find('article/body')\n",
    "    if body:\n",
    "        for element in body.iter():\n",
    "            if element.text:\n",
    "                item['full_text'] = item.get('full_text', '') + element.text + ' '\n",
    "            if element.tail:\n",
    "                item['full_text'] = item.get('full_text', '') + element.tail + ' '\n",
    "            \n",
    "    return item"
   ]
  },
  {
   "cell_type": "code",
   "execution_count": 450,
   "metadata": {
    "ExecuteTime": {
     "end_time": "2019-11-26T14:40:17.634855Z",
     "start_time": "2019-11-26T14:40:17.628870Z"
    }
   },
   "outputs": [],
   "source": [
    "def get_element_tree(pmc_id):\n",
    "    \"\"\"Returns parsed ElementTree object of article with <pmc_id> identifier\"\"\"\n",
    "    filename = os.path.join(full_texts_path, str(pmc_id))\n",
    "    \n",
    "    if not os.path.exists(filename):\n",
    "        return None\n",
    "    \n",
    "    with open(filename, 'r') as f:\n",
    "        data = f.read()        \n",
    "    root = ET.fromstring(data)\n",
    "    \n",
    "    return root"
   ]
  },
  {
   "cell_type": "code",
   "execution_count": 50,
   "metadata": {
    "ExecuteTime": {
     "end_time": "2019-11-19T14:42:33.695717Z",
     "start_time": "2019-11-19T14:42:33.688736Z"
    }
   },
   "outputs": [],
   "source": [
    "def get_article_ids(query):\n",
    "    \"\"\"Returns all article ids found by <query_words>\"\"\"\n",
    "    params = {\n",
    "        'db': 'pmc',\n",
    "        'tool': tool,\n",
    "        'email': email,\n",
    "        'term': query,\n",
    "        'retmax': max_results,\n",
    "        'retstart': 0\n",
    "    }\n",
    "    article_ids = []\n",
    "    count = params['retmax'] + 1\n",
    "    \n",
    "    while params['retstart'] < count:\n",
    "        try:\n",
    "            response = requests.get(url=url_article_ids, headers=headers, params=params)\n",
    "        except requests.RequestException:\n",
    "            print('Problem has occured at retstart: {0}'.format(params['retstart']))\n",
    "        else:\n",
    "            root = ET.fromstring(response.text)\n",
    "            for article_id in root.iter('Id'):\n",
    "                article_ids.append(int(article_id.text))\n",
    "            count = int(root.find('Count').text)\n",
    "        finally:\n",
    "            params['retstart'] += params['retmax']\n",
    "\n",
    "    return article_ids"
   ]
  },
  {
   "cell_type": "code",
   "execution_count": 96,
   "metadata": {
    "ExecuteTime": {
     "end_time": "2019-11-25T08:57:51.927024Z",
     "start_time": "2019-11-25T08:57:51.921014Z"
    }
   },
   "outputs": [],
   "source": [
    "def download_query_response(pmc_id, refresh=False):\n",
    "    \"\"\"Saves article query response with <pmc_id> identifier to file\"\"\"\n",
    "    params = {\n",
    "        'db': 'pmc',\n",
    "        'id': pmc_id,\n",
    "        'api_key': api_key\n",
    "    }\n",
    "    \n",
    "    filename = os.path.join(full_texts_path, str(pmc_id))\n",
    "    if (os.path.exists(filename)) and (not refresh):\n",
    "        pass\n",
    "    else:\n",
    "        try:\n",
    "            response = requests.get(url=url_full_text, headers=headers, params=params)\n",
    "        except requests.RequestException:\n",
    "            print('Problem has occured with PMC ID: {0}'.format(pmc_id))\n",
    "        else:\n",
    "            data = response.text\n",
    "            with open(filename, 'w+') as f:\n",
    "                f.write(data)"
   ]
  },
  {
   "cell_type": "code",
   "execution_count": 113,
   "metadata": {
    "ExecuteTime": {
     "end_time": "2019-11-25T09:20:27.737177Z",
     "start_time": "2019-11-25T09:20:27.732191Z"
    }
   },
   "outputs": [],
   "source": [
    "def download_all_query_responses(query='neurosurgery', refresh=False):\n",
    "    \"\"\"Downloads all query responses got by <query>\"\"\"\n",
    "    article_ids = get_article_ids(query)\n",
    "    print('{0} articles found, downloading...'.format(len(article_ids)))\n",
    "    \n",
    "    for pmc_id in article_ids:\n",
    "        download_query_response(pmc_id, refresh)\n",
    "        \n",
    "    files_count = len(os.listdir(full_texts_path))\n",
    "    print('{0} articles stored in the database'.format(files_count))"
   ]
  },
  {
   "cell_type": "markdown",
   "metadata": {},
   "source": [
    "### Main"
   ]
  },
  {
   "cell_type": "code",
   "execution_count": 51,
   "metadata": {
    "ExecuteTime": {
     "end_time": "2019-11-19T14:43:18.041521Z",
     "start_time": "2019-11-19T14:43:15.814718Z"
    }
   },
   "outputs": [
    {
     "data": {
      "text/html": [
       "<div>\n",
       "<style scoped>\n",
       "    .dataframe tbody tr th:only-of-type {\n",
       "        vertical-align: middle;\n",
       "    }\n",
       "\n",
       "    .dataframe tbody tr th {\n",
       "        vertical-align: top;\n",
       "    }\n",
       "\n",
       "    .dataframe thead th {\n",
       "        text-align: right;\n",
       "    }\n",
       "</style>\n",
       "<table border=\"1\" class=\"dataframe\">\n",
       "  <thead>\n",
       "    <tr style=\"text-align: right;\">\n",
       "      <th></th>\n",
       "      <th>fullname</th>\n",
       "      <th>pubmed_id</th>\n",
       "      <th>title</th>\n",
       "      <th>abstract</th>\n",
       "      <th>keywords</th>\n",
       "      <th>journal</th>\n",
       "      <th>publication_date</th>\n",
       "      <th>authors</th>\n",
       "      <th>affiliations</th>\n",
       "      <th>methods</th>\n",
       "      <th>conclusions</th>\n",
       "      <th>results</th>\n",
       "      <th>copyrights</th>\n",
       "      <th>doi</th>\n",
       "    </tr>\n",
       "  </thead>\n",
       "  <tbody>\n",
       "    <tr>\n",
       "      <th>0</th>\n",
       "      <td>Danilov Gleb</td>\n",
       "      <td>31349300</td>\n",
       "      <td>An Information Extraction Algorithm for Detect...</td>\n",
       "      <td>Rich-in-morphology language, such as Russian, ...</td>\n",
       "      <td>Adverse Events; Electronic Health Records; Nat...</td>\n",
       "      <td>Studies in health technology and informatics</td>\n",
       "      <td>2019-07-28</td>\n",
       "      <td>Danilov Gleb; Shifrin Michael; Strunina Uliya;...</td>\n",
       "      <td>National Medical Research Center for Neurosurg...</td>\n",
       "      <td>None</td>\n",
       "      <td>None</td>\n",
       "      <td>None</td>\n",
       "      <td>None</td>\n",
       "      <td>10.3233/SHTI190051</td>\n",
       "    </tr>\n",
       "    <tr>\n",
       "      <th>1</th>\n",
       "      <td>Danilov Gleb</td>\n",
       "      <td>31121374</td>\n",
       "      <td>A Single-Center Retrospective Descriptive Coho...</td>\n",
       "      <td>Cerebrospinal fluid (CSF) leak remains a signi...</td>\n",
       "      <td>Cerebrospinal fluid leakage; Children; Craniot...</td>\n",
       "      <td>World neurosurgery</td>\n",
       "      <td>2019-05-24</td>\n",
       "      <td>Kushel Yury; Danilov Gleb; Tekoev Aslan; Cheld...</td>\n",
       "      <td>2nd Neurosurgical Department, Burdenko Neurosu...</td>\n",
       "      <td>None</td>\n",
       "      <td>None</td>\n",
       "      <td>Postoperative wound CSF leakage was observed i...</td>\n",
       "      <td>Copyright © 2019 Elsevier Inc. All rights rese...</td>\n",
       "      <td>10.1016/j.wneu.2019.05.091</td>\n",
       "    </tr>\n",
       "  </tbody>\n",
       "</table>\n",
       "</div>"
      ],
      "text/plain": [
       "       fullname pubmed_id                                              title  \\\n",
       "0  Danilov Gleb  31349300  An Information Extraction Algorithm for Detect...   \n",
       "1  Danilov Gleb  31121374  A Single-Center Retrospective Descriptive Coho...   \n",
       "\n",
       "                                            abstract  \\\n",
       "0  Rich-in-morphology language, such as Russian, ...   \n",
       "1  Cerebrospinal fluid (CSF) leak remains a signi...   \n",
       "\n",
       "                                            keywords  \\\n",
       "0  Adverse Events; Electronic Health Records; Nat...   \n",
       "1  Cerebrospinal fluid leakage; Children; Craniot...   \n",
       "\n",
       "                                        journal publication_date  \\\n",
       "0  Studies in health technology and informatics       2019-07-28   \n",
       "1                            World neurosurgery       2019-05-24   \n",
       "\n",
       "                                             authors  \\\n",
       "0  Danilov Gleb; Shifrin Michael; Strunina Uliya;...   \n",
       "1  Kushel Yury; Danilov Gleb; Tekoev Aslan; Cheld...   \n",
       "\n",
       "                                        affiliations methods conclusions  \\\n",
       "0  National Medical Research Center for Neurosurg...    None        None   \n",
       "1  2nd Neurosurgical Department, Burdenko Neurosu...    None        None   \n",
       "\n",
       "                                             results  \\\n",
       "0                                               None   \n",
       "1  Postoperative wound CSF leakage was observed i...   \n",
       "\n",
       "                                          copyrights  \\\n",
       "0                                               None   \n",
       "1  Copyright © 2019 Elsevier Inc. All rights rese...   \n",
       "\n",
       "                          doi  \n",
       "0          10.3233/SHTI190051  \n",
       "1  10.1016/j.wneu.2019.05.091  "
      ]
     },
     "execution_count": 51,
     "metadata": {},
     "output_type": "execute_result"
    }
   ],
   "source": [
    "items = get_items(authors_list[0])\n",
    "items.head(2)"
   ]
  },
  {
   "cell_type": "code",
   "execution_count": 52,
   "metadata": {
    "ExecuteTime": {
     "end_time": "2019-11-19T14:43:44.658757Z",
     "start_time": "2019-11-19T14:43:37.448985Z"
    }
   },
   "outputs": [
    {
     "data": {
      "text/html": [
       "<div>\n",
       "<style scoped>\n",
       "    .dataframe tbody tr th:only-of-type {\n",
       "        vertical-align: middle;\n",
       "    }\n",
       "\n",
       "    .dataframe tbody tr th {\n",
       "        vertical-align: top;\n",
       "    }\n",
       "\n",
       "    .dataframe thead th {\n",
       "        text-align: right;\n",
       "    }\n",
       "</style>\n",
       "<table border=\"1\" class=\"dataframe\">\n",
       "  <thead>\n",
       "    <tr style=\"text-align: right;\">\n",
       "      <th></th>\n",
       "      <th>fullname</th>\n",
       "      <th>pubmed_id</th>\n",
       "      <th>pmc_id</th>\n",
       "      <th>title</th>\n",
       "      <th>abstract</th>\n",
       "      <th>keywords</th>\n",
       "      <th>journal</th>\n",
       "      <th>publication_date</th>\n",
       "      <th>authors</th>\n",
       "      <th>affiliations</th>\n",
       "      <th>methods</th>\n",
       "      <th>conclusions</th>\n",
       "      <th>results</th>\n",
       "      <th>copyrights</th>\n",
       "      <th>doi</th>\n",
       "    </tr>\n",
       "  </thead>\n",
       "  <tbody>\n",
       "    <tr>\n",
       "      <th>0</th>\n",
       "      <td>Danilov Gleb</td>\n",
       "      <td>31349300</td>\n",
       "      <td>NaN</td>\n",
       "      <td>An Information Extraction Algorithm for Detect...</td>\n",
       "      <td>Rich-in-morphology language, such as Russian, ...</td>\n",
       "      <td>Adverse Events; Electronic Health Records; Nat...</td>\n",
       "      <td>Studies in health technology and informatics</td>\n",
       "      <td>2019-07-28</td>\n",
       "      <td>Danilov Gleb; Shifrin Michael; Strunina Uliya;...</td>\n",
       "      <td>National Medical Research Center for Neurosurg...</td>\n",
       "      <td>None</td>\n",
       "      <td>None</td>\n",
       "      <td>None</td>\n",
       "      <td>None</td>\n",
       "      <td>10.3233/SHTI190051</td>\n",
       "    </tr>\n",
       "    <tr>\n",
       "      <th>1</th>\n",
       "      <td>Danilov Gleb</td>\n",
       "      <td>31121374</td>\n",
       "      <td>NaN</td>\n",
       "      <td>A Single-Center Retrospective Descriptive Coho...</td>\n",
       "      <td>Cerebrospinal fluid (CSF) leak remains a signi...</td>\n",
       "      <td>Cerebrospinal fluid leakage; Children; Craniot...</td>\n",
       "      <td>World neurosurgery</td>\n",
       "      <td>2019-05-24</td>\n",
       "      <td>Kushel Yury; Danilov Gleb; Tekoev Aslan; Cheld...</td>\n",
       "      <td>2nd Neurosurgical Department, Burdenko Neurosu...</td>\n",
       "      <td>None</td>\n",
       "      <td>None</td>\n",
       "      <td>Postoperative wound CSF leakage was observed i...</td>\n",
       "      <td>Copyright © 2019 Elsevier Inc. All rights rese...</td>\n",
       "      <td>10.1016/j.wneu.2019.05.091</td>\n",
       "    </tr>\n",
       "  </tbody>\n",
       "</table>\n",
       "</div>"
      ],
      "text/plain": [
       "       fullname pubmed_id pmc_id  \\\n",
       "0  Danilov Gleb  31349300    NaN   \n",
       "1  Danilov Gleb  31121374    NaN   \n",
       "\n",
       "                                               title  \\\n",
       "0  An Information Extraction Algorithm for Detect...   \n",
       "1  A Single-Center Retrospective Descriptive Coho...   \n",
       "\n",
       "                                            abstract  \\\n",
       "0  Rich-in-morphology language, such as Russian, ...   \n",
       "1  Cerebrospinal fluid (CSF) leak remains a signi...   \n",
       "\n",
       "                                            keywords  \\\n",
       "0  Adverse Events; Electronic Health Records; Nat...   \n",
       "1  Cerebrospinal fluid leakage; Children; Craniot...   \n",
       "\n",
       "                                        journal publication_date  \\\n",
       "0  Studies in health technology and informatics       2019-07-28   \n",
       "1                            World neurosurgery       2019-05-24   \n",
       "\n",
       "                                             authors  \\\n",
       "0  Danilov Gleb; Shifrin Michael; Strunina Uliya;...   \n",
       "1  Kushel Yury; Danilov Gleb; Tekoev Aslan; Cheld...   \n",
       "\n",
       "                                        affiliations methods conclusions  \\\n",
       "0  National Medical Research Center for Neurosurg...    None        None   \n",
       "1  2nd Neurosurgical Department, Burdenko Neurosu...    None        None   \n",
       "\n",
       "                                             results  \\\n",
       "0                                               None   \n",
       "1  Postoperative wound CSF leakage was observed i...   \n",
       "\n",
       "                                          copyrights  \\\n",
       "0                                               None   \n",
       "1  Copyright © 2019 Elsevier Inc. All rights rese...   \n",
       "\n",
       "                          doi  \n",
       "0          10.3233/SHTI190051  \n",
       "1  10.1016/j.wneu.2019.05.091  "
      ]
     },
     "execution_count": 52,
     "metadata": {},
     "output_type": "execute_result"
    }
   ],
   "source": [
    "items = add_pmc_id(items)\n",
    "items.head(2)"
   ]
  },
  {
   "cell_type": "code",
   "execution_count": 121,
   "metadata": {
    "ExecuteTime": {
     "end_time": "2019-11-14T07:53:51.314534Z",
     "start_time": "2019-11-14T07:53:51.282340Z"
    }
   },
   "outputs": [],
   "source": [
    "items.to_excel('output/pubmed-pymed.xlsx')"
   ]
  },
  {
   "cell_type": "markdown",
   "metadata": {},
   "source": [
    "### Download Neurosurgery articles"
   ]
  },
  {
   "cell_type": "code",
   "execution_count": 114,
   "metadata": {
    "ExecuteTime": {
     "end_time": "2019-11-25T09:21:27.517778Z",
     "start_time": "2019-11-25T09:20:39.932098Z"
    }
   },
   "outputs": [
    {
     "name": "stdout",
     "output_type": "stream",
     "text": [
      "121183 articles found, downloading...\n",
      "121183 articles stored in the database\n"
     ]
    }
   ],
   "source": [
    "download_all_query_responses(query='neurosurgery', refresh=False)"
   ]
  },
  {
   "cell_type": "markdown",
   "metadata": {},
   "source": [
    "### Debug"
   ]
  },
  {
   "cell_type": "code",
   "execution_count": 452,
   "metadata": {
    "ExecuteTime": {
     "end_time": "2019-11-26T14:42:10.884752Z",
     "start_time": "2019-11-26T14:42:10.876776Z"
    }
   },
   "outputs": [],
   "source": [
    "root = get_element_tree(6069828)"
   ]
  },
  {
   "cell_type": "code",
   "execution_count": 468,
   "metadata": {
    "ExecuteTime": {
     "end_time": "2019-11-26T14:52:36.826414Z",
     "start_time": "2019-11-26T14:52:36.819432Z"
    }
   },
   "outputs": [
    {
     "data": {
      "text/plain": [
       "{'article-type': 'research-article',\n",
       " 'pmid': '29976640',\n",
       " 'pmc': '6070712',\n",
       " 'doi': '10.21873/cgp.20093',\n",
       " 'category': 'Research Article',\n",
       " 'title': 'A Comprehensive Method for Detecting Fusion Genes in Paediatric Brain Tumours',\n",
       " 'copyright': 'Copyright 2018, International Institute of Anticancer Research',\n",
       " 'license-type': '',\n",
       " 'abstract': '\\n         \\n       Background: Fusion genes driving tumourigenesis have drawn the attention of researchers and oncologists. Despite the importance of such molecular alterations, there are no comprehensive reproducible methods for detecting fusion genes. Materials and Methods: Nineteen paediatric brain tumours of five types, namely pilocytic astrocytoma, oligodendroglioma, anaplastic astrocytoma, glioblastoma and, ganglioglioma, were examined to detect fusion genes using a pyrosequencing-based method following RNA isolation, cDNA synthesis and real-time polymerase chain reaction. Results: Our method successfully detected KIAA1549–v-raf murine sarcoma viral oncogene homolog B1 (BRAF) fusion in 14 out of 19 patients suffering from five types of paediatric brain tumours providing information on fusion breakpoints within 2 h. Conclusion: A comprehensive method for detecting fusion genes in paediatric brain tumours was evaluated. This method identified KIAA1549–BRAF fusion variants quickly. Our results may help researchers interested in the role of fusion genes in tumourigenesis. \\n       '}"
      ]
     },
     "execution_count": 468,
     "metadata": {},
     "output_type": "execute_result"
    }
   ],
   "source": [
    "root = get_element_tree(6070712)\n",
    "item = parse_element_tree(root)\n",
    "item"
   ]
  },
  {
   "cell_type": "code",
   "execution_count": 451,
   "metadata": {
    "ExecuteTime": {
     "end_time": "2019-11-26T14:41:40.107240Z",
     "start_time": "2019-11-26T14:41:40.092282Z"
    }
   },
   "outputs": [],
   "source": [
    "item = {}\n",
    "\n",
    "item['article-type'] = root.find('article').get('article-type')                 # Article type\n",
    "\n",
    "article_meta = root.findall('article/front/article-meta')                       # Article meta\n",
    "for meta in article_meta:\n",
    "    article_ids = meta.findall('article-id')                                    # Article ids\n",
    "    for article_id in article_ids:\n",
    "        item[article_id.get('pub-id-type')] = article_id.text\n",
    "        \n",
    "    item['category'] = meta.find('article-categories/subj-group/subject').text  # Article category\n",
    "    item['title'] = meta.find('title-group/article-title').text                 # Article title\n",
    "\n",
    "    pass                                                                        # Authors\n",
    "    pass                                                                        # Publication date\n",
    "\n",
    "    item['copyright'] = meta.find('permissions/copyright-statement').text       # Copyright statement        \n",
    "    item['license-type'] = meta.find('permissions/license').get('license-type') # License type  \n",
    "    license = meta.find('permissions/license/license-p')                        # License text\n",
    "    for element in license.iter():\n",
    "        if element.text:\n",
    "            item['license'] = item.get('license', '') + element.text + ' '\n",
    "        if element.tail:\n",
    "            item['license'] = item.get('license', '') + element.tail + ' '\n",
    "    abstract = meta.find('abstract')                                            # Abstract\n",
    "    for element in abstract.iter():\n",
    "        if element.text:\n",
    "            item['abstract'] = item.get('abstract', '') + element.text + ' '\n",
    "        if element.tail:\n",
    "            item['abstract'] = item.get('abstract', '') + element.tail + ' '\n",
    "                                                                                \n",
    "                    \n",
    "    pass                                                                        # Journal meta\n",
    "    pass                                                                        # Keywords\n",
    "\n",
    "body = root.find('article/body')\n",
    "for element in body.iter():\n",
    "    if element.text:\n",
    "        item['full_text'] = item.get('full_text', '') + element.text + ' '\n",
    "    if element.tail:\n",
    "        item['full_text'] = item.get('full_text', '') + element.tail + ' '\n",
    "        \n",
    "#item"
   ]
  },
  {
   "cell_type": "code",
   "execution_count": 343,
   "metadata": {
    "ExecuteTime": {
     "end_time": "2019-11-26T13:32:20.393364Z",
     "start_time": "2019-11-26T13:32:20.387380Z"
    }
   },
   "outputs": [
    {
     "data": {
      "text/plain": [
       "[<Element 'article-meta' at 0x000001E11A85DE58>]"
      ]
     },
     "execution_count": 343,
     "metadata": {},
     "output_type": "execute_result"
    }
   ],
   "source": [
    "article_meta = root.findall('article/front/article-meta')\n",
    "article_meta"
   ]
  },
  {
   "cell_type": "code",
   "execution_count": 243,
   "metadata": {
    "ExecuteTime": {
     "end_time": "2019-11-25T10:44:05.547355Z",
     "start_time": "2019-11-25T10:44:05.540375Z"
    }
   },
   "outputs": [
    {
     "data": {
      "text/plain": [
       "{'pmid': '30083313',\n",
       " 'pmc': '6069828',\n",
       " 'publisher-id': '383',\n",
       " 'doi': '10.1186/s13756-018-0383-4'}"
      ]
     },
     "execution_count": 243,
     "metadata": {},
     "output_type": "execute_result"
    }
   ],
   "source": [
    "test = {}\n",
    "for meta in article_meta:\n",
    "    article_ids = meta.findall('article-id')\n",
    "    for article_id in article_ids:\n",
    "        test[article_id.get('pub-id-type')] = article_id.text\n",
    "test"
   ]
  },
  {
   "cell_type": "code",
   "execution_count": 342,
   "metadata": {
    "ExecuteTime": {
     "end_time": "2019-11-26T13:31:02.234069Z",
     "start_time": "2019-11-26T13:31:02.228084Z"
    }
   },
   "outputs": [
    {
     "name": "stdout",
     "output_type": "stream",
     "text": [
      "Open Access This article is distributed under the terms of the Creative Commons Attribution 4.0 International License (\n",
      "http://creativecommons.org/licenses/by/4.0/ ), which permits unrestricted use, distribution, and reproduction in any medium, provided you give appropriate credit to the original author(s) and the source, provide a link to the Creative Commons license, and indicate if changes were made. The Creative Commons Public Domain Dedication waiver (\n",
      "http://creativecommons.org/publicdomain/zero/1.0/ ) applies to the data made available in this article, unless otherwise stated.\n"
     ]
    }
   ],
   "source": [
    "license = article_meta[0].iter()\n",
    "# print(license)\n",
    "for element in license:\n",
    "    #print(element.tag)\n",
    "    if element.tag == 'license-p':\n",
    "        #print(element.text, element.tail)\n",
    "        for l in element.iter():\n",
    "            if l.text:\n",
    "                print(l.text, l.tail)"
   ]
  },
  {
   "cell_type": "code",
   "execution_count": 425,
   "metadata": {
    "ExecuteTime": {
     "end_time": "2019-11-26T14:12:30.865602Z",
     "start_time": "2019-11-26T14:12:30.860618Z"
    }
   },
   "outputs": [
    {
     "name": "stdout",
     "output_type": "stream",
     "text": [
      "\n",
      "         \n",
      "      \n",
      "           \n",
      "        Background \n",
      "          The impact of infection prevention and control (IPC) programs in limited resource countries such as Russia are largely unknown due to a lack of reliable data. The aim of this study is to evaluate the effect of an IPC program with respect to healthcare associated infection (HAI) prevention and to define the incidence of HAIs in a Russian ICU. \n",
      "        \n",
      "           \n",
      "        Methods \n",
      "          A pioneering IPC program was implemented in a neuro-ICU at Burdenko Neurosurgery Institute in 2010 and included hand hygiene, surveillance, contact precautions, patient isolation, and environmental cleaning measures. This prospective observational cohort study lasted from 2011 to 2016, included high-risk ICU patients, and evaluated the dynamics of incidence, etiological spectrum, and resistance profile of four types of HAIs, including subgroup analysis of device-associated infections. Survival analysis compared patients with and without HAIs. \n",
      "        \n",
      "           \n",
      "        Results \n",
      "          We included 2038 high-risk patients. By 2016, HAI cumulative incidence decreased significantly for respiratory HAIs (36.1% vs. 24.5%,  \n",
      "        p -value = 0.0003), urinary-tract HAIs (29.1% vs. 21.3%, p-value = 0.0006), and healthcare-associated ventriculitis and meningitis (HAVM) (16% vs. 7.8%, p-value = 0.004). The incidence rate of EVD-related HAVM dropped from 22.2 to 13.5 cases per 1000 EVD-days. The proportion of invasive isolates of Klebsiella pneumoniae  and Acinetobacter baumannii  resistant to carbapenems decreased 1.7 and 2 fold, respectively. HAVM significantly impaired survival and independently increasing the probability of death by 1.43.\n",
      "           \n",
      "        Conclusions \n",
      "          The implementation of an evidence-based IPC program in a middle-income country (Russia) was highly effective in HAI prevention with meaningful reductions in antibiotic resistance. \n",
      "        \n",
      "           \n",
      "      Electronic supplementary material \n",
      "          The online version of this article (10.1186/s13756-018-0383-4) contains supplementary material, which is available to authorized users. \n",
      "        \n"
     ]
    }
   ],
   "source": [
    "a = ''\n",
    "article_meta = root.findall('article/front/article-meta')\n",
    "for meta in article_meta:\n",
    "    abstract = meta.find('abstract')\n",
    "    for _ in abstract.iter():\n",
    "        a+= ' '.join([_.text, _.tail])\n",
    "print(a)"
   ]
  }
 ],
 "metadata": {
  "kernelspec": {
   "display_name": "Python 3",
   "language": "python",
   "name": "python3"
  },
  "language_info": {
   "codemirror_mode": {
    "name": "ipython",
    "version": 3
   },
   "file_extension": ".py",
   "mimetype": "text/x-python",
   "name": "python",
   "nbconvert_exporter": "python",
   "pygments_lexer": "ipython3",
   "version": "3.7.3"
  }
 },
 "nbformat": 4,
 "nbformat_minor": 2
}
