{
 "cells": [
  {
   "cell_type": "markdown",
   "metadata": {},
   "source": [
    "### Import"
   ]
  },
  {
   "cell_type": "code",
   "execution_count": 4,
   "metadata": {
    "ExecuteTime": {
     "end_time": "2020-08-25T11:53:03.109828Z",
     "start_time": "2020-08-25T11:53:03.091876Z"
    }
   },
   "outputs": [],
   "source": [
    "import pubmed"
   ]
  },
  {
   "cell_type": "markdown",
   "metadata": {},
   "source": [
    "### Download Neurosurgery articles"
   ]
  },
  {
   "cell_type": "code",
   "execution_count": 2,
   "metadata": {
    "ExecuteTime": {
     "end_time": "2020-08-25T10:51:26.236169Z",
     "start_time": "2020-08-25T10:51:26.214694Z"
    }
   },
   "outputs": [],
   "source": [
    "db = 'pubmed'\n",
    "query = 'text classification neural network'\n",
    "query0 = 'neurosurgery'\n",
    "query1 = '(neurosurg*) AND (complicat*[Text Word])'\n",
    "query2 = '(\"Glioma/surgery\"[Mesh] OR \"Glioma/therapy\"[Mesh])'\n",
    "query3 = '(\"Neurosurgery\"[Mesh] OR \"Neurosurgical Procedures\"[Mesh]) AND \"Postoperative Complications\"[Mesh]'\n",
    "query4 = '(\"Neurosurgery\"[Mesh] OR \"Neurosurgical Procedures\"[Mesh]) AND complicat*[Text Word]'"
   ]
  },
  {
   "cell_type": "code",
   "execution_count": 3,
   "metadata": {
    "ExecuteTime": {
     "end_time": "2020-08-25T10:52:46.797984Z",
     "start_time": "2020-08-25T10:51:27.152592Z"
    },
    "scrolled": true
   },
   "outputs": [
    {
     "name": "stdout",
     "output_type": "stream",
     "text": [
      "242 articles found in pubmed with query specified.\n",
      "142 articles are already stored in the database.\n",
      "100 articles will be downloaded.\n"
     ]
    },
    {
     "data": {
      "application/vnd.jupyter.widget-view+json": {
       "model_id": "8cbeb6832a4e4b19a26befa1cfb3c75d",
       "version_major": 2,
       "version_minor": 0
      },
      "text/plain": [
       "HBox(children=(FloatProgress(value=0.0, max=242.0), HTML(value='')))"
      ]
     },
     "metadata": {},
     "output_type": "display_data"
    },
    {
     "name": "stdout",
     "output_type": "stream",
     "text": [
      "\n",
      "Total 242 articles stored in the database.\n"
     ]
    }
   ],
   "source": [
    "article_ids = pubmed.download_all_articles(query=query, db=db, refresh=False, cache=True)"
   ]
  },
  {
   "cell_type": "markdown",
   "metadata": {},
   "source": [
    "### Generate dataset"
   ]
  },
  {
   "cell_type": "code",
   "execution_count": 5,
   "metadata": {
    "ExecuteTime": {
     "end_time": "2020-08-25T11:53:06.784174Z",
     "start_time": "2020-08-25T11:53:06.339198Z"
    },
    "scrolled": false
   },
   "outputs": [
    {
     "data": {
      "application/vnd.jupyter.widget-view+json": {
       "model_id": "7457d07b2638423abdcd3f709443a6d4",
       "version_major": 2,
       "version_minor": 0
      },
      "text/plain": [
       "HBox(children=(FloatProgress(value=0.0, max=242.0), HTML(value='')))"
      ]
     },
     "metadata": {},
     "output_type": "display_data"
    },
    {
     "name": "stdout",
     "output_type": "stream",
     "text": [
      "\n"
     ]
    },
    {
     "data": {
      "text/html": [
       "<div>\n",
       "<style scoped>\n",
       "    .dataframe tbody tr th:only-of-type {\n",
       "        vertical-align: middle;\n",
       "    }\n",
       "\n",
       "    .dataframe tbody tr th {\n",
       "        vertical-align: top;\n",
       "    }\n",
       "\n",
       "    .dataframe thead th {\n",
       "        text-align: right;\n",
       "    }\n",
       "</style>\n",
       "<table border=\"1\" class=\"dataframe\">\n",
       "  <thead>\n",
       "    <tr style=\"text-align: right;\">\n",
       "      <th></th>\n",
       "      <th>pmid</th>\n",
       "      <th>pmc</th>\n",
       "      <th>pii</th>\n",
       "      <th>mid</th>\n",
       "      <th>doi</th>\n",
       "      <th>elocation_id</th>\n",
       "      <th>language</th>\n",
       "      <th>title</th>\n",
       "      <th>authors</th>\n",
       "      <th>affiliations</th>\n",
       "      <th>...</th>\n",
       "      <th>publisher_location</th>\n",
       "      <th>publisher_nlm_id</th>\n",
       "      <th>publisher_issn_linking</th>\n",
       "      <th>abstract_len</th>\n",
       "      <th>abstract</th>\n",
       "      <th>copyright</th>\n",
       "      <th>mesh_quals_major</th>\n",
       "      <th>mesh_quals_minor</th>\n",
       "      <th>mesh_descriptors</th>\n",
       "      <th>keywords</th>\n",
       "    </tr>\n",
       "  </thead>\n",
       "  <tbody>\n",
       "    <tr>\n",
       "      <th>0</th>\n",
       "      <td>32833649</td>\n",
       "      <td>None</td>\n",
       "      <td>None</td>\n",
       "      <td>None</td>\n",
       "      <td>10.1109/TNNLS.2020.3015830</td>\n",
       "      <td>10.1109/TNNLS.2020.3015830</td>\n",
       "      <td>eng</td>\n",
       "      <td>A Unified Framework for Multilingual Speech Re...</td>\n",
       "      <td>Lin Yi; Guo Dongyue; Zhang Jianwei; Chen Zheng...</td>\n",
       "      <td>Not defined // Not defined // Not defined // N...</td>\n",
       "      <td>...</td>\n",
       "      <td>United States</td>\n",
       "      <td>101616214</td>\n",
       "      <td>2162-237X</td>\n",
       "      <td>1665</td>\n",
       "      <td>This work focuses on robust speech recognition...</td>\n",
       "      <td>None</td>\n",
       "      <td>None</td>\n",
       "      <td>None</td>\n",
       "      <td>None</td>\n",
       "      <td>None</td>\n",
       "    </tr>\n",
       "    <tr>\n",
       "      <th>1</th>\n",
       "      <td>32818665</td>\n",
       "      <td>None</td>\n",
       "      <td>S1532-0464(20)30167-2</td>\n",
       "      <td>None</td>\n",
       "      <td>10.1016/j.jbi.2020.103539</td>\n",
       "      <td>S1532-0464(20)30167-2</td>\n",
       "      <td>eng</td>\n",
       "      <td>Comparing deep learning architectures for sent...</td>\n",
       "      <td>Colón-Ruiz Cristóbal; Segura-Bedmar Isabel</td>\n",
       "      <td>Computer Science Department, University Carlos...</td>\n",
       "      <td>...</td>\n",
       "      <td>United States</td>\n",
       "      <td>100970413</td>\n",
       "      <td>1532-0464</td>\n",
       "      <td>1899</td>\n",
       "      <td>Since the turn of the century, as millions of ...</td>\n",
       "      <td>Copyright © 2020. Published by Elsevier Inc.</td>\n",
       "      <td>None</td>\n",
       "      <td>None</td>\n",
       "      <td>None</td>\n",
       "      <td>Bidirectional Encoder Representations from Tra...</td>\n",
       "    </tr>\n",
       "    <tr>\n",
       "      <th>2</th>\n",
       "      <td>32814201</td>\n",
       "      <td>None</td>\n",
       "      <td>S1532-0464(20)30169-6</td>\n",
       "      <td>None</td>\n",
       "      <td>10.1016/j.jbi.2020.103541</td>\n",
       "      <td>S1532-0464(20)30169-6</td>\n",
       "      <td>eng</td>\n",
       "      <td>A Corpus-Driven Standardization Framework for ...</td>\n",
       "      <td>Peterson Kevin J; Jiang Guoqian; Liu Hongfang</td>\n",
       "      <td>Department of Information Technology, Mayo Cli...</td>\n",
       "      <td>...</td>\n",
       "      <td>United States</td>\n",
       "      <td>100970413</td>\n",
       "      <td>1532-0464</td>\n",
       "      <td>1739</td>\n",
       "      <td>Free-text problem descriptions are brief expla...</td>\n",
       "      <td>Copyright © 2020. Published by Elsevier Inc.</td>\n",
       "      <td>None</td>\n",
       "      <td>None</td>\n",
       "      <td>None</td>\n",
       "      <td>Deep Learning (D000077321); Health Information...</td>\n",
       "    </tr>\n",
       "    <tr>\n",
       "      <th>3</th>\n",
       "      <td>32807454</td>\n",
       "      <td>None</td>\n",
       "      <td>S1052-3057(20)30460-2</td>\n",
       "      <td>None</td>\n",
       "      <td>10.1016/j.jstrokecerebrovasdis.2020.105042</td>\n",
       "      <td>S1052-3057(20)30460-2</td>\n",
       "      <td>eng</td>\n",
       "      <td>Toward automatic evaluation of medical abstrac...</td>\n",
       "      <td>Fischer Igor; Steiger Hans-Jakob</td>\n",
       "      <td>Division of Informatics and Statistics, Depart...</td>\n",
       "      <td>...</td>\n",
       "      <td>United States</td>\n",
       "      <td>9111633</td>\n",
       "      <td>1052-3057</td>\n",
       "      <td>2092</td>\n",
       "      <td>BACKGROUND: Text mining with automatic extract...</td>\n",
       "      <td>Copyright © 2020 Elsevier Inc. All rights rese...</td>\n",
       "      <td>None</td>\n",
       "      <td>None</td>\n",
       "      <td>None</td>\n",
       "      <td>Artificial neural network; Machine learning; P...</td>\n",
       "    </tr>\n",
       "    <tr>\n",
       "      <th>4</th>\n",
       "      <td>32765261</td>\n",
       "      <td>PMC7378532</td>\n",
       "      <td>None</td>\n",
       "      <td>None</td>\n",
       "      <td>10.3389/fphar.2020.01028</td>\n",
       "      <td>10.3389/fphar.2020.01028</td>\n",
       "      <td>eng</td>\n",
       "      <td>Artificial Intelligence in Pharmacoepidemiolog...</td>\n",
       "      <td>Sessa Maurizio; Khan Abdul Rauf; Liang David; ...</td>\n",
       "      <td>Department of Drug Design and Pharmacology, Un...</td>\n",
       "      <td>...</td>\n",
       "      <td>Switzerland</td>\n",
       "      <td>101548923</td>\n",
       "      <td>1663-9812</td>\n",
       "      <td>1496</td>\n",
       "      <td>Aim: To perform a systematic review on the app...</td>\n",
       "      <td>Copyright © 2020 Sessa, Khan, Liang, Andersen ...</td>\n",
       "      <td>None</td>\n",
       "      <td>None</td>\n",
       "      <td>None</td>\n",
       "      <td>artificial intelligence; deep learning; machin...</td>\n",
       "    </tr>\n",
       "  </tbody>\n",
       "</table>\n",
       "<p>5 rows × 31 columns</p>\n",
       "</div>"
      ],
      "text/plain": [
       "       pmid         pmc                    pii   mid  \\\n",
       "0  32833649        None                   None  None   \n",
       "1  32818665        None  S1532-0464(20)30167-2  None   \n",
       "2  32814201        None  S1532-0464(20)30169-6  None   \n",
       "3  32807454        None  S1052-3057(20)30460-2  None   \n",
       "4  32765261  PMC7378532                   None  None   \n",
       "\n",
       "                                          doi                elocation_id  \\\n",
       "0                  10.1109/TNNLS.2020.3015830  10.1109/TNNLS.2020.3015830   \n",
       "1                   10.1016/j.jbi.2020.103539       S1532-0464(20)30167-2   \n",
       "2                   10.1016/j.jbi.2020.103541       S1532-0464(20)30169-6   \n",
       "3  10.1016/j.jstrokecerebrovasdis.2020.105042       S1052-3057(20)30460-2   \n",
       "4                    10.3389/fphar.2020.01028    10.3389/fphar.2020.01028   \n",
       "\n",
       "  language                                              title  \\\n",
       "0      eng  A Unified Framework for Multilingual Speech Re...   \n",
       "1      eng  Comparing deep learning architectures for sent...   \n",
       "2      eng  A Corpus-Driven Standardization Framework for ...   \n",
       "3      eng  Toward automatic evaluation of medical abstrac...   \n",
       "4      eng  Artificial Intelligence in Pharmacoepidemiolog...   \n",
       "\n",
       "                                             authors  \\\n",
       "0  Lin Yi; Guo Dongyue; Zhang Jianwei; Chen Zheng...   \n",
       "1         Colón-Ruiz Cristóbal; Segura-Bedmar Isabel   \n",
       "2      Peterson Kevin J; Jiang Guoqian; Liu Hongfang   \n",
       "3                   Fischer Igor; Steiger Hans-Jakob   \n",
       "4  Sessa Maurizio; Khan Abdul Rauf; Liang David; ...   \n",
       "\n",
       "                                        affiliations  ... publisher_location  \\\n",
       "0  Not defined // Not defined // Not defined // N...  ...      United States   \n",
       "1  Computer Science Department, University Carlos...  ...      United States   \n",
       "2  Department of Information Technology, Mayo Cli...  ...      United States   \n",
       "3  Division of Informatics and Statistics, Depart...  ...      United States   \n",
       "4  Department of Drug Design and Pharmacology, Un...  ...        Switzerland   \n",
       "\n",
       "  publisher_nlm_id publisher_issn_linking abstract_len  \\\n",
       "0        101616214              2162-237X         1665   \n",
       "1        100970413              1532-0464         1899   \n",
       "2        100970413              1532-0464         1739   \n",
       "3          9111633              1052-3057         2092   \n",
       "4        101548923              1663-9812         1496   \n",
       "\n",
       "                                            abstract  \\\n",
       "0  This work focuses on robust speech recognition...   \n",
       "1  Since the turn of the century, as millions of ...   \n",
       "2  Free-text problem descriptions are brief expla...   \n",
       "3  BACKGROUND: Text mining with automatic extract...   \n",
       "4  Aim: To perform a systematic review on the app...   \n",
       "\n",
       "                                           copyright mesh_quals_major  \\\n",
       "0                                               None             None   \n",
       "1       Copyright © 2020. Published by Elsevier Inc.             None   \n",
       "2       Copyright © 2020. Published by Elsevier Inc.             None   \n",
       "3  Copyright © 2020 Elsevier Inc. All rights rese...             None   \n",
       "4  Copyright © 2020 Sessa, Khan, Liang, Andersen ...             None   \n",
       "\n",
       "  mesh_quals_minor mesh_descriptors  \\\n",
       "0             None             None   \n",
       "1             None             None   \n",
       "2             None             None   \n",
       "3             None             None   \n",
       "4             None             None   \n",
       "\n",
       "                                            keywords  \n",
       "0                                               None  \n",
       "1  Bidirectional Encoder Representations from Tra...  \n",
       "2  Deep Learning (D000077321); Health Information...  \n",
       "3  Artificial neural network; Machine learning; P...  \n",
       "4  artificial intelligence; deep learning; machin...  \n",
       "\n",
       "[5 rows x 31 columns]"
      ]
     },
     "execution_count": 5,
     "metadata": {},
     "output_type": "execute_result"
    }
   ],
   "source": [
    "items = pubmed.generate_dataset(db, article_ids)\n",
    "items.head()"
   ]
  },
  {
   "cell_type": "code",
   "execution_count": 18,
   "metadata": {
    "ExecuteTime": {
     "end_time": "2020-08-25T11:56:44.961382Z",
     "start_time": "2020-08-25T11:56:44.952407Z"
    }
   },
   "outputs": [
    {
     "name": "stdout",
     "output_type": "stream",
     "text": [
      "<class 'pandas.core.frame.DataFrame'>\n",
      "Int64Index: 242 entries, 0 to 241\n",
      "Columns: 31 entries, pmid to keywords\n",
      "dtypes: object(31)\n",
      "memory usage: 60.5+ KB\n"
     ]
    }
   ],
   "source": [
    "items.info(verbose=False)"
   ]
  },
  {
   "cell_type": "code",
   "execution_count": 33,
   "metadata": {
    "ExecuteTime": {
     "end_time": "2020-08-02T21:41:30.718328Z",
     "start_time": "2020-08-02T21:41:29.933751Z"
    }
   },
   "outputs": [],
   "source": [
    "items.to_csv('database/{0}_queryX.csv'.format(db), sep='|')\n",
    "items.to_excel('database/{0}_queryX.xlsx'.format(db))"
   ]
  },
  {
   "cell_type": "markdown",
   "metadata": {},
   "source": [
    "## MySQL tests"
   ]
  },
  {
   "cell_type": "code",
   "execution_count": 8,
   "metadata": {
    "ExecuteTime": {
     "end_time": "2020-08-17T10:29:48.347966Z",
     "start_time": "2020-08-17T10:29:48.336887Z"
    }
   },
   "outputs": [],
   "source": [
    "import pubmed\n",
    "item = {}\n",
    "filename = 'pubmed/29368597'\n",
    "\n",
    "root = pubmed.get_element_tree(filename)\n",
    "item = pubmed.parse_element_tree_pubmed(root)"
   ]
  },
  {
   "cell_type": "code",
   "execution_count": 4,
   "metadata": {
    "ExecuteTime": {
     "end_time": "2020-08-25T10:50:34.627141Z",
     "start_time": "2020-08-25T10:50:34.605914Z"
    }
   },
   "outputs": [],
   "source": [
    "from sqlalchemy import create_engine\n",
    "from sqlalchemy.orm import sessionmaker\n",
    "\n",
    "from config import conn_string_pubmed\n",
    "from models.pubmed_model import PubmedArticle, BasePubmed\n",
    "\n",
    "engine = create_engine(conn_string_pubmed)\n",
    "BasePubmed.metadata.bind = engine\n",
    "DBSession = sessionmaker(bind=engine)\n",
    "\n",
    "session = DBSession()"
   ]
  },
  {
   "cell_type": "markdown",
   "metadata": {},
   "source": [
    "### Add"
   ]
  },
  {
   "cell_type": "code",
   "execution_count": 9,
   "metadata": {
    "ExecuteTime": {
     "end_time": "2020-08-17T10:29:52.158798Z",
     "start_time": "2020-08-17T10:29:52.132994Z"
    }
   },
   "outputs": [],
   "source": [
    "article = PubmedArticle(item)\n",
    "session.add(article) \n",
    "session.commit()"
   ]
  },
  {
   "cell_type": "markdown",
   "metadata": {},
   "source": [
    "### Read"
   ]
  },
  {
   "cell_type": "code",
   "execution_count": 10,
   "metadata": {
    "ExecuteTime": {
     "end_time": "2020-08-24T14:19:34.567503Z",
     "start_time": "2020-08-24T14:19:34.546366Z"
    }
   },
   "outputs": [
    {
     "name": "stdout",
     "output_type": "stream",
     "text": [
      "[18263039] Title: A dynamic gesture recognition system for the Korean sign language (KSL).\n"
     ]
    }
   ],
   "source": [
    "result = session.query(PubmedArticle).filter_by(pmid=18263039).first()\n",
    "print(result)"
   ]
  },
  {
   "cell_type": "markdown",
   "metadata": {},
   "source": [
    "### Update"
   ]
  },
  {
   "cell_type": "code",
   "execution_count": 34,
   "metadata": {
    "ExecuteTime": {
     "end_time": "2020-08-18T11:57:52.313224Z",
     "start_time": "2020-08-18T11:57:52.292402Z"
    }
   },
   "outputs": [],
   "source": [
    "item = session.query(PubmedArticle).filter_by(pmid=18263039).first()\n",
    "item.pmc = 'PMCID888'\n",
    "session.commit()"
   ]
  },
  {
   "cell_type": "markdown",
   "metadata": {},
   "source": [
    "### Delete"
   ]
  },
  {
   "cell_type": "code",
   "execution_count": 5,
   "metadata": {
    "ExecuteTime": {
     "end_time": "2020-08-18T10:28:28.983604Z",
     "start_time": "2020-08-18T10:28:28.959541Z"
    }
   },
   "outputs": [],
   "source": [
    "article = session.query(PubmedArticle).filter_by(pmid=29368597).first()\n",
    "session.delete(article)\n",
    "session.commit()"
   ]
  },
  {
   "cell_type": "code",
   "execution_count": 5,
   "metadata": {
    "ExecuteTime": {
     "end_time": "2020-08-25T10:50:52.286845Z",
     "start_time": "2020-08-25T10:50:52.202617Z"
    }
   },
   "outputs": [],
   "source": [
    "articles = session.query(PubmedArticle).all()\n",
    "for article in articles[:100]:\n",
    "    session.delete(article)\n",
    "session.commit()"
   ]
  },
  {
   "cell_type": "code",
   "execution_count": 11,
   "metadata": {
    "ExecuteTime": {
     "end_time": "2020-08-24T14:20:25.254089Z",
     "start_time": "2020-08-24T14:20:25.241397Z"
    }
   },
   "outputs": [],
   "source": [
    "session.close()"
   ]
  }
 ],
 "metadata": {
  "kernelspec": {
   "display_name": "Python 3",
   "language": "python",
   "name": "python3"
  },
  "language_info": {
   "codemirror_mode": {
    "name": "ipython",
    "version": 3
   },
   "file_extension": ".py",
   "mimetype": "text/x-python",
   "name": "python",
   "nbconvert_exporter": "python",
   "pygments_lexer": "ipython3",
   "version": "3.6.10"
  }
 },
 "nbformat": 4,
 "nbformat_minor": 2
}
