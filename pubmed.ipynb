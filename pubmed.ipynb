{
 "cells": [
  {
   "cell_type": "markdown",
   "metadata": {},
   "source": [
    "### Import"
   ]
  },
  {
   "cell_type": "code",
   "execution_count": 499,
   "metadata": {
    "ExecuteTime": {
     "end_time": "2019-11-27T10:09:36.284980Z",
     "start_time": "2019-11-27T10:09:36.280993Z"
    }
   },
   "outputs": [],
   "source": [
    "import datetime\n",
    "import time\n",
    "import requests\n",
    "import os\n",
    "import json"
   ]
  },
  {
   "cell_type": "code",
   "execution_count": 691,
   "metadata": {
    "ExecuteTime": {
     "end_time": "2019-11-28T14:09:13.097780Z",
     "start_time": "2019-11-28T14:09:13.092794Z"
    }
   },
   "outputs": [],
   "source": [
    "from pymed import PubMed\n",
    "from IPython.display import clear_output\n",
    "import xml.etree.ElementTree as ET\n",
    "import pandas as pd\n",
    "import numpy as np"
   ]
  },
  {
   "cell_type": "markdown",
   "metadata": {},
   "source": [
    "### Settings"
   ]
  },
  {
   "cell_type": "code",
   "execution_count": 65,
   "metadata": {
    "ExecuteTime": {
     "end_time": "2019-11-20T05:52:41.969620Z",
     "start_time": "2019-11-20T05:52:41.964633Z"
    }
   },
   "outputs": [],
   "source": [
    "headers = {\n",
    "    'User-Agent': 'Mozilla / 5.0(Windows NT 10.0; Win64; x64) AppleWebKit / 537.36(KHTML, like Gecko) Chrome / 69.0.3497.81 Safari / 537.36'\n",
    "}\n",
    "\n",
    "authors_list = [\n",
    "    'Danilov Gleb',\n",
    "    'Shifrin Michael',\n",
    "    'Potapov Alexander',\n",
    "    'Shimansky Vadim'\n",
    "]\n",
    "\n",
    "tool = 'my_tool1'\n",
    "email = 'tishankulov@nsi.ru'\n",
    "api_key = '2839ed49187b099ec3d13cc079fc3ca0fc09'\n",
    "max_results = 5000\n",
    "\n",
    "full_texts_path = 'fulltexts/'\n",
    "\n",
    "url_pubmed_to_pmc = 'https://eutils.ncbi.nlm.nih.gov/entrez/eutils/elink.fcgi'\n",
    "url_full_text = 'https://eutils.ncbi.nlm.nih.gov/entrez/eutils/efetch.fcgi'\n",
    "url_article_ids = 'https://eutils.ncbi.nlm.nih.gov/entrez/eutils/esearch.fcgi'"
   ]
  },
  {
   "cell_type": "markdown",
   "metadata": {},
   "source": [
    "### Functions"
   ]
  },
  {
   "cell_type": "code",
   "execution_count": 111,
   "metadata": {
    "ExecuteTime": {
     "end_time": "2019-11-25T09:19:49.388703Z",
     "start_time": "2019-11-25T09:19:49.379728Z"
    }
   },
   "outputs": [],
   "source": [
    "def get_items_pubmed(fullname):\n",
    "    \"\"\"\n",
    "    Makes request to Pubmed database using pymed library.\n",
    "    Returns DataFrame with all articles authored by <fullname>.\n",
    "    \"\"\"\n",
    "    items = pd.DataFrame(columns=['fullname', 'pubmed_id', 'title', 'abstract', 'keywords', 'journal', 'publication_date',\n",
    "                                  'authors', 'affiliations', 'methods', 'conclusions', 'results', 'copyrights', 'doi'])\n",
    "    \n",
    "    lastname = fullname.split()[0]\n",
    "    firstname = fullname.split()[1]\n",
    "    query = '{0}, {1}[Author]'.format(lastname, firstname)\n",
    "    \n",
    "    pubmed = PubMed(tool=tool, email=email)\n",
    "    results = pubmed.query(query, max_results=max_results)\n",
    "    \n",
    "    while True:\n",
    "        try:\n",
    "            result = next(results)\n",
    "            result_dict = result.toDict()\n",
    "            result_dict['fullname'] = fullname\n",
    "            result_dict['affiliations'] = [author['affiliation'] for author in result_dict['authors']]\n",
    "            result_dict['affiliations'] = '; '.join(result_dict['affiliations'])\n",
    "            result_dict['authors'] = [' '.join([author['lastname'], author['firstname']]) for author in result_dict['authors']]\n",
    "            result_dict['authors'] = '; '.join(result_dict['authors'])\n",
    "            result_dict['keywords'] = '; '.join(result_dict['keywords'])\n",
    "            result_dict['pubmed_id'] = result_dict['pubmed_id'].replace('\\n', '; ')\n",
    "            del result_dict['xml']\n",
    "            items = items.append(result_dict, ignore_index=True)\n",
    "        except StopIteration:\n",
    "            break\n",
    "    \n",
    "    return items"
   ]
  },
  {
   "cell_type": "code",
   "execution_count": 112,
   "metadata": {
    "ExecuteTime": {
     "end_time": "2019-11-25T09:19:50.267702Z",
     "start_time": "2019-11-25T09:19:50.260723Z"
    }
   },
   "outputs": [],
   "source": [
    "def add_pmc_id(items):\n",
    "    \"\"\"Add PMC ID to <items> DataFrame\"\"\"\n",
    "    params = {\n",
    "        'format': 'json',\n",
    "        'dbfrom': 'pubmed',\n",
    "        'linkname': 'pubmed_pmc',\n",
    "        'api_key': api_key\n",
    "    }\n",
    "    \n",
    "    if not 'pmc_id' in items.columns:\n",
    "        items.insert(2, 'pmc_id', pd.np.nan)\n",
    "    \n",
    "    for i in range(0, len(items)):\n",
    "        params['id'] = items.loc[i, 'pubmed_id']\n",
    "        try:\n",
    "            response = requests.get(url=url_pubmed_to_pmc, headers=headers, params=params)\n",
    "        except requests.RequestException:\n",
    "            print('Problem has occured with Pubmed ID: {0}'.format(params['id']))\n",
    "        else:\n",
    "            data = response.json()\n",
    "            if 'linksetdbs' in data['linksets'][0]:\n",
    "                items.loc[i, 'pmc_id'] = data['linksets'][0]['linksetdbs'][0]['links'][0]\n",
    "    return items"
   ]
  },
  {
   "cell_type": "code",
   "execution_count": 821,
   "metadata": {
    "ExecuteTime": {
     "end_time": "2019-12-02T11:07:38.778703Z",
     "start_time": "2019-12-02T11:07:38.770725Z"
    }
   },
   "outputs": [],
   "source": [
    "def parse_pub_date(subroot, pub_type):\n",
    "    \"\"\"Returns parsed publication date from given ET <subroot>\"\"\"\n",
    "    pub_date = np.NaN\n",
    "    pub_dates = subroot.findall('pub-date')\n",
    "    for pub_record in pub_dates:\n",
    "        if (pub_record.attrib.get('pub-type', '') == pub_type or\n",
    "            pub_record.attrib.get('date-type', '') == 'pub'):\n",
    "            day = pub_record.find('day')\n",
    "            month = pub_record.find('month')\n",
    "            year = pub_record.find('year')\n",
    "            if year is not None:\n",
    "                pub_date = year.text\n",
    "                if month is not None:\n",
    "                    pub_date += '-' + month.text\n",
    "                    if day is not None:\n",
    "                        pub_date += '-' + day.text\n",
    "    if pub_date is np.NaN:\n",
    "        pub_date = parse_pub_date(subroot, 'ppub')\n",
    "    return pub_date"
   ]
  },
  {
   "cell_type": "code",
   "execution_count": 822,
   "metadata": {
    "ExecuteTime": {
     "end_time": "2019-12-02T11:07:38.963331Z",
     "start_time": "2019-12-02T11:07:38.954353Z"
    }
   },
   "outputs": [],
   "source": [
    "def parse_authors(subroot, path):\n",
    "    \"\"\"Returns parsed authors string from given ET <subroot>\"\"\"\n",
    "    authors = []\n",
    "    contributors = subroot.findall(path)\n",
    "    for contributor in contributors:\n",
    "        for contributor_meta in contributor.iter('name'):\n",
    "            surname = contributor_meta.find('surname')\n",
    "            given_name = contributor_meta.find('given-names')\n",
    "            if (surname is not None) and (given_name is not None):\n",
    "                surname = surname.text if surname.text is not None else ''\n",
    "                given_name = given_name.text if given_name.text is not None else ''\n",
    "                authors.append(' '.join([given_name, surname]))\n",
    "    if len(authors) > 0:\n",
    "        authors = ', '.join(authors)\n",
    "        authors = ' '.join(authors.split())\n",
    "    if authors:\n",
    "        return authors\n",
    "    return np.NaN"
   ]
  },
  {
   "cell_type": "code",
   "execution_count": 823,
   "metadata": {
    "ExecuteTime": {
     "end_time": "2019-12-02T11:07:39.207180Z",
     "start_time": "2019-12-02T11:07:39.200198Z"
    }
   },
   "outputs": [],
   "source": [
    "def parse_keywords(subroot):\n",
    "    \"\"\"Returns parsed keywords string from given ET <subroot>\"\"\"\n",
    "    keywords = []\n",
    "    kwds = subroot.find('kwd-group')\n",
    "    if kwds is not None:\n",
    "        for kwd in kwds.iter('kwd'):\n",
    "            if kwd is not None and kwd.text is not None:\n",
    "                keywords.append(kwd.text)\n",
    "    if len(keywords) > 0:\n",
    "        keywords = '; '.join(keywords)\n",
    "        return keywords\n",
    "    return np.NaN"
   ]
  },
  {
   "cell_type": "code",
   "execution_count": 824,
   "metadata": {
    "ExecuteTime": {
     "end_time": "2019-12-02T11:07:55.537608Z",
     "start_time": "2019-12-02T11:07:55.529656Z"
    }
   },
   "outputs": [],
   "source": [
    "def parse_issue(subroot):\n",
    "    \"\"\"Returns parsed journal issue from given ET <subroot>\"\"\"\n",
    "    journal_issue = {}\n",
    "    volume = subroot.find('volume')                            # Volume\n",
    "    if volume is not None:\n",
    "        journal_issue['volume'] = volume.text\n",
    "        \n",
    "    elocation_id = subroot.find('elocation-id')                # Elocation-id\n",
    "    if elocation_id is not None:\n",
    "        journal_issue['elocation-id'] = elocation_id.text\n",
    "        \n",
    "    issue = subroot.find('issue')                              # Issue\n",
    "    if issue is not None:\n",
    "        journal_issue['issue'] = issue.text\n",
    "        \n",
    "    fpage = subroot.find('fpage')                              # Pages\n",
    "    fpage = fpage.text if fpage is not None else None\n",
    "    lpage = subroot.find('lpage')\n",
    "    lpage = lpage.text if lpage is not None else None\n",
    "    \n",
    "    if isinstance(fpage, str) and isinstance(lpage, str):\n",
    "        journal_issue['pages'] = '-'.join([fpage, lpage])\n",
    "        \n",
    "    return journal_issue"
   ]
  },
  {
   "cell_type": "code",
   "execution_count": 825,
   "metadata": {
    "ExecuteTime": {
     "end_time": "2019-12-02T11:08:33.791657Z",
     "start_time": "2019-12-02T11:08:33.785648Z"
    }
   },
   "outputs": [],
   "source": [
    "def extract_text(subroot, path):\n",
    "    \"\"\"Returns extracted text between xml tags\"\"\"\n",
    "    text = ''\n",
    "    section = subroot.find(path)\n",
    "    if section is not None:\n",
    "        for element in section.iter():\n",
    "            if element.text:\n",
    "                text = text + element.text + ' '\n",
    "            if element.tail:\n",
    "                text = text + element.tail + ' '\n",
    "        text = ' '.join(text.split())\n",
    "    if text:\n",
    "        return text\n",
    "    return np.NaN"
   ]
  },
  {
   "cell_type": "code",
   "execution_count": 826,
   "metadata": {
    "ExecuteTime": {
     "end_time": "2019-12-02T11:11:07.615653Z",
     "start_time": "2019-12-02T11:11:07.597670Z"
    }
   },
   "outputs": [],
   "source": [
    "def parse_element_tree(root):\n",
    "    \"\"\"Returns parsed dict with all values found\"\"\"\n",
    "    item = {}\n",
    "    \n",
    "    item['article-type'] = root.find('article').get('article-type')                             # Article type\n",
    "    article_meta = root.findall('article/front/article-meta')                                   # Article meta\n",
    "    for meta in article_meta:\n",
    "        article_ids = meta.findall('article-id')                                                # Article ids\n",
    "        for article_id in article_ids:\n",
    "            item[article_id.get('pub-id-type')] = article_id.text\n",
    "            \n",
    "        category = meta.find('article-categories/subj-group/subject')                           # Article category\n",
    "        if category is not None:\n",
    "            item['category'] = category.text\n",
    "            \n",
    "        item['title'] = extract_text(meta, 'title-group/article-title')                         # Article title\n",
    "        item['authors'] = parse_authors(meta, 'contrib-group/contrib')                          # Authors\n",
    "        item['pub_date'] = parse_pub_date(meta, 'epub')                                         # Publication date\n",
    "    \n",
    "        copyright = meta.find('permissions/copyright-statement')                                # Copyright statement\n",
    "        if copyright is not None:\n",
    "            item['copyright'] = copyright.text\n",
    "        license_type = meta.find('permissions/license')                                         # License type\n",
    "        if license_type is not None:\n",
    "            item['license-type'] = license_type.get('license-type')\n",
    "        item['license'] = extract_text(meta, 'permissions/license/license-p')                   # License text\n",
    "        \n",
    "        item['keywords'] = parse_keywords(meta)                                                 # Keywords\n",
    "        item['abstract'] = extract_text(meta, 'abstract')                                       # Abstract\n",
    "        item.update(parse_issue(meta))                                                          # Journal issue\n",
    "    \n",
    "    pass                                                                                    # Journal meta\n",
    "    item['full_text'] = extract_text(root, 'article/body')\n",
    "    \n",
    "    item['abstract_len'] = len(item['abstract']) if item['abstract'] is not np.NaN else 0\n",
    "    item['full_text_len'] = len(item['full_text']) if item['full_text'] is not np.NaN else 0\n",
    "            \n",
    "    return item"
   ]
  },
  {
   "cell_type": "code",
   "execution_count": 450,
   "metadata": {
    "ExecuteTime": {
     "end_time": "2019-11-26T14:40:17.634855Z",
     "start_time": "2019-11-26T14:40:17.628870Z"
    }
   },
   "outputs": [],
   "source": [
    "def get_element_tree(pmc_id):\n",
    "    \"\"\"Returns parsed ElementTree object of article with <pmc_id> identifier\"\"\"\n",
    "    filename = os.path.join(full_texts_path, str(pmc_id))\n",
    "    \n",
    "    if not os.path.exists(filename):\n",
    "        return None\n",
    "    \n",
    "    with open(filename, 'r') as f:\n",
    "        data = f.read()        \n",
    "    root = ET.fromstring(data)\n",
    "    \n",
    "    return root"
   ]
  },
  {
   "cell_type": "code",
   "execution_count": 829,
   "metadata": {
    "ExecuteTime": {
     "end_time": "2019-12-02T11:12:56.214355Z",
     "start_time": "2019-12-02T11:12:56.204383Z"
    }
   },
   "outputs": [],
   "source": [
    "def handle_query_responses():\n",
    "    filenames = os.listdir(full_texts_path)\n",
    "    print('{0} query responses found. Starting...'.format(len(filenames)))\n",
    "    time.sleep(1)\n",
    "    \n",
    "    items = pd.DataFrame(columns=['pmid', 'pmc', 'publisher-id', 'doi', 'abstract_len', 'full_text_len', 'file_size',\n",
    "                                  'title', 'article-type', 'category', 'authors', 'pub_date', 'keywords',\n",
    "                                  'volume', 'elocation-id', 'issue', 'pages',\n",
    "                                  'copyright', 'license-type', 'license', 'abstract', 'full_text'])\n",
    "    for i in range(0, len(filenames)):\n",
    "        clear_output(wait=True)\n",
    "        print('Done {0} of {1}. Working on {2}'.format(i+1, len(filenames), filenames[i]))\n",
    "        root = get_element_tree(filenames[i])\n",
    "        item = parse_element_tree(root)\n",
    "        item['file_size'] = os.path.getsize(os.path.join(full_texts_path, filenames[i]))\n",
    "        items = items.append(item, ignore_index=True)\n",
    "        if i % 5000 == 0:\n",
    "            items.to_csv('database/pmc.csv', sep='|', index=False)\n",
    "        \n",
    "    return items"
   ]
  },
  {
   "cell_type": "code",
   "execution_count": 790,
   "metadata": {
    "ExecuteTime": {
     "end_time": "2019-11-29T13:29:23.165133Z",
     "start_time": "2019-11-29T13:29:23.103300Z"
    }
   },
   "outputs": [],
   "source": [
    "def get_article_ids(query):\n",
    "    \"\"\"Returns all article ids found by <query_words>\"\"\"\n",
    "    params = {\n",
    "        'db': 'pmc',\n",
    "        #'tool': tool,\n",
    "        #'email': email,\n",
    "        'api_key': api_key,\n",
    "        'term': query,\n",
    "        'retmax': max_results,\n",
    "        'retstart': 0\n",
    "    }\n",
    "    article_ids = []\n",
    "    count = params['retmax'] + 1\n",
    "    \n",
    "    while params['retstart'] < count:\n",
    "        try:\n",
    "            response = requests.get(url=url_article_ids, headers=headers, params=params)\n",
    "        except requests.RequestException:\n",
    "            print('Problem has occured at retstart: {0}'.format(params['retstart']))\n",
    "        else:\n",
    "            root = ET.fromstring(response.text)\n",
    "            for article_id in root.iter('Id'):\n",
    "                article_ids.append(int(article_id.text))\n",
    "            count = int(root.find('Count').text)\n",
    "        finally:\n",
    "            params['retstart'] += params['retmax']\n",
    "\n",
    "    return article_ids"
   ]
  },
  {
   "cell_type": "code",
   "execution_count": 96,
   "metadata": {
    "ExecuteTime": {
     "end_time": "2019-11-25T08:57:51.927024Z",
     "start_time": "2019-11-25T08:57:51.921014Z"
    }
   },
   "outputs": [],
   "source": [
    "def download_query_response(pmc_id, refresh=False):\n",
    "    \"\"\"Saves article query response with <pmc_id> identifier to file\"\"\"\n",
    "    params = {\n",
    "        'db': 'pmc',\n",
    "        'id': pmc_id,\n",
    "        'api_key': api_key\n",
    "    }\n",
    "    \n",
    "    filename = os.path.join(full_texts_path, str(pmc_id))\n",
    "    if (os.path.exists(filename)) and (not refresh):\n",
    "        pass\n",
    "    else:\n",
    "        try:\n",
    "            response = requests.get(url=url_full_text, headers=headers, params=params)\n",
    "        except requests.RequestException:\n",
    "            print('Problem has occured with PMC ID: {0}'.format(pmc_id))\n",
    "        else:\n",
    "            data = response.text\n",
    "            with open(filename, 'w+') as f:\n",
    "                f.write(data)"
   ]
  },
  {
   "cell_type": "code",
   "execution_count": 113,
   "metadata": {
    "ExecuteTime": {
     "end_time": "2019-11-25T09:20:27.737177Z",
     "start_time": "2019-11-25T09:20:27.732191Z"
    }
   },
   "outputs": [],
   "source": [
    "def download_all_query_responses(query='neurosurgery', refresh=False):\n",
    "    \"\"\"Downloads all query responses got by <query>\"\"\"\n",
    "    article_ids = get_article_ids(query)\n",
    "    print('{0} articles found, downloading...'.format(len(article_ids)))\n",
    "    \n",
    "    for pmc_id in article_ids:\n",
    "        download_query_response(pmc_id, refresh)\n",
    "        \n",
    "    files_count = len(os.listdir(full_texts_path))\n",
    "    print('{0} articles stored in the database'.format(files_count))"
   ]
  },
  {
   "cell_type": "markdown",
   "metadata": {},
   "source": [
    "### Main"
   ]
  },
  {
   "cell_type": "code",
   "execution_count": 51,
   "metadata": {
    "ExecuteTime": {
     "end_time": "2019-11-19T14:43:18.041521Z",
     "start_time": "2019-11-19T14:43:15.814718Z"
    }
   },
   "outputs": [
    {
     "data": {
      "text/html": [
       "<div>\n",
       "<style scoped>\n",
       "    .dataframe tbody tr th:only-of-type {\n",
       "        vertical-align: middle;\n",
       "    }\n",
       "\n",
       "    .dataframe tbody tr th {\n",
       "        vertical-align: top;\n",
       "    }\n",
       "\n",
       "    .dataframe thead th {\n",
       "        text-align: right;\n",
       "    }\n",
       "</style>\n",
       "<table border=\"1\" class=\"dataframe\">\n",
       "  <thead>\n",
       "    <tr style=\"text-align: right;\">\n",
       "      <th></th>\n",
       "      <th>fullname</th>\n",
       "      <th>pubmed_id</th>\n",
       "      <th>title</th>\n",
       "      <th>abstract</th>\n",
       "      <th>keywords</th>\n",
       "      <th>journal</th>\n",
       "      <th>publication_date</th>\n",
       "      <th>authors</th>\n",
       "      <th>affiliations</th>\n",
       "      <th>methods</th>\n",
       "      <th>conclusions</th>\n",
       "      <th>results</th>\n",
       "      <th>copyrights</th>\n",
       "      <th>doi</th>\n",
       "    </tr>\n",
       "  </thead>\n",
       "  <tbody>\n",
       "    <tr>\n",
       "      <th>0</th>\n",
       "      <td>Danilov Gleb</td>\n",
       "      <td>31349300</td>\n",
       "      <td>An Information Extraction Algorithm for Detect...</td>\n",
       "      <td>Rich-in-morphology language, such as Russian, ...</td>\n",
       "      <td>Adverse Events; Electronic Health Records; Nat...</td>\n",
       "      <td>Studies in health technology and informatics</td>\n",
       "      <td>2019-07-28</td>\n",
       "      <td>Danilov Gleb; Shifrin Michael; Strunina Uliya;...</td>\n",
       "      <td>National Medical Research Center for Neurosurg...</td>\n",
       "      <td>None</td>\n",
       "      <td>None</td>\n",
       "      <td>None</td>\n",
       "      <td>None</td>\n",
       "      <td>10.3233/SHTI190051</td>\n",
       "    </tr>\n",
       "    <tr>\n",
       "      <th>1</th>\n",
       "      <td>Danilov Gleb</td>\n",
       "      <td>31121374</td>\n",
       "      <td>A Single-Center Retrospective Descriptive Coho...</td>\n",
       "      <td>Cerebrospinal fluid (CSF) leak remains a signi...</td>\n",
       "      <td>Cerebrospinal fluid leakage; Children; Craniot...</td>\n",
       "      <td>World neurosurgery</td>\n",
       "      <td>2019-05-24</td>\n",
       "      <td>Kushel Yury; Danilov Gleb; Tekoev Aslan; Cheld...</td>\n",
       "      <td>2nd Neurosurgical Department, Burdenko Neurosu...</td>\n",
       "      <td>None</td>\n",
       "      <td>None</td>\n",
       "      <td>Postoperative wound CSF leakage was observed i...</td>\n",
       "      <td>Copyright © 2019 Elsevier Inc. All rights rese...</td>\n",
       "      <td>10.1016/j.wneu.2019.05.091</td>\n",
       "    </tr>\n",
       "  </tbody>\n",
       "</table>\n",
       "</div>"
      ],
      "text/plain": [
       "       fullname pubmed_id                                              title  \\\n",
       "0  Danilov Gleb  31349300  An Information Extraction Algorithm for Detect...   \n",
       "1  Danilov Gleb  31121374  A Single-Center Retrospective Descriptive Coho...   \n",
       "\n",
       "                                            abstract  \\\n",
       "0  Rich-in-morphology language, such as Russian, ...   \n",
       "1  Cerebrospinal fluid (CSF) leak remains a signi...   \n",
       "\n",
       "                                            keywords  \\\n",
       "0  Adverse Events; Electronic Health Records; Nat...   \n",
       "1  Cerebrospinal fluid leakage; Children; Craniot...   \n",
       "\n",
       "                                        journal publication_date  \\\n",
       "0  Studies in health technology and informatics       2019-07-28   \n",
       "1                            World neurosurgery       2019-05-24   \n",
       "\n",
       "                                             authors  \\\n",
       "0  Danilov Gleb; Shifrin Michael; Strunina Uliya;...   \n",
       "1  Kushel Yury; Danilov Gleb; Tekoev Aslan; Cheld...   \n",
       "\n",
       "                                        affiliations methods conclusions  \\\n",
       "0  National Medical Research Center for Neurosurg...    None        None   \n",
       "1  2nd Neurosurgical Department, Burdenko Neurosu...    None        None   \n",
       "\n",
       "                                             results  \\\n",
       "0                                               None   \n",
       "1  Postoperative wound CSF leakage was observed i...   \n",
       "\n",
       "                                          copyrights  \\\n",
       "0                                               None   \n",
       "1  Copyright © 2019 Elsevier Inc. All rights rese...   \n",
       "\n",
       "                          doi  \n",
       "0          10.3233/SHTI190051  \n",
       "1  10.1016/j.wneu.2019.05.091  "
      ]
     },
     "execution_count": 51,
     "metadata": {},
     "output_type": "execute_result"
    }
   ],
   "source": [
    "items = get_items(authors_list[0])\n",
    "items.head(2)"
   ]
  },
  {
   "cell_type": "code",
   "execution_count": 52,
   "metadata": {
    "ExecuteTime": {
     "end_time": "2019-11-19T14:43:44.658757Z",
     "start_time": "2019-11-19T14:43:37.448985Z"
    }
   },
   "outputs": [
    {
     "data": {
      "text/html": [
       "<div>\n",
       "<style scoped>\n",
       "    .dataframe tbody tr th:only-of-type {\n",
       "        vertical-align: middle;\n",
       "    }\n",
       "\n",
       "    .dataframe tbody tr th {\n",
       "        vertical-align: top;\n",
       "    }\n",
       "\n",
       "    .dataframe thead th {\n",
       "        text-align: right;\n",
       "    }\n",
       "</style>\n",
       "<table border=\"1\" class=\"dataframe\">\n",
       "  <thead>\n",
       "    <tr style=\"text-align: right;\">\n",
       "      <th></th>\n",
       "      <th>fullname</th>\n",
       "      <th>pubmed_id</th>\n",
       "      <th>pmc_id</th>\n",
       "      <th>title</th>\n",
       "      <th>abstract</th>\n",
       "      <th>keywords</th>\n",
       "      <th>journal</th>\n",
       "      <th>publication_date</th>\n",
       "      <th>authors</th>\n",
       "      <th>affiliations</th>\n",
       "      <th>methods</th>\n",
       "      <th>conclusions</th>\n",
       "      <th>results</th>\n",
       "      <th>copyrights</th>\n",
       "      <th>doi</th>\n",
       "    </tr>\n",
       "  </thead>\n",
       "  <tbody>\n",
       "    <tr>\n",
       "      <th>0</th>\n",
       "      <td>Danilov Gleb</td>\n",
       "      <td>31349300</td>\n",
       "      <td>NaN</td>\n",
       "      <td>An Information Extraction Algorithm for Detect...</td>\n",
       "      <td>Rich-in-morphology language, such as Russian, ...</td>\n",
       "      <td>Adverse Events; Electronic Health Records; Nat...</td>\n",
       "      <td>Studies in health technology and informatics</td>\n",
       "      <td>2019-07-28</td>\n",
       "      <td>Danilov Gleb; Shifrin Michael; Strunina Uliya;...</td>\n",
       "      <td>National Medical Research Center for Neurosurg...</td>\n",
       "      <td>None</td>\n",
       "      <td>None</td>\n",
       "      <td>None</td>\n",
       "      <td>None</td>\n",
       "      <td>10.3233/SHTI190051</td>\n",
       "    </tr>\n",
       "    <tr>\n",
       "      <th>1</th>\n",
       "      <td>Danilov Gleb</td>\n",
       "      <td>31121374</td>\n",
       "      <td>NaN</td>\n",
       "      <td>A Single-Center Retrospective Descriptive Coho...</td>\n",
       "      <td>Cerebrospinal fluid (CSF) leak remains a signi...</td>\n",
       "      <td>Cerebrospinal fluid leakage; Children; Craniot...</td>\n",
       "      <td>World neurosurgery</td>\n",
       "      <td>2019-05-24</td>\n",
       "      <td>Kushel Yury; Danilov Gleb; Tekoev Aslan; Cheld...</td>\n",
       "      <td>2nd Neurosurgical Department, Burdenko Neurosu...</td>\n",
       "      <td>None</td>\n",
       "      <td>None</td>\n",
       "      <td>Postoperative wound CSF leakage was observed i...</td>\n",
       "      <td>Copyright © 2019 Elsevier Inc. All rights rese...</td>\n",
       "      <td>10.1016/j.wneu.2019.05.091</td>\n",
       "    </tr>\n",
       "  </tbody>\n",
       "</table>\n",
       "</div>"
      ],
      "text/plain": [
       "       fullname pubmed_id pmc_id  \\\n",
       "0  Danilov Gleb  31349300    NaN   \n",
       "1  Danilov Gleb  31121374    NaN   \n",
       "\n",
       "                                               title  \\\n",
       "0  An Information Extraction Algorithm for Detect...   \n",
       "1  A Single-Center Retrospective Descriptive Coho...   \n",
       "\n",
       "                                            abstract  \\\n",
       "0  Rich-in-morphology language, such as Russian, ...   \n",
       "1  Cerebrospinal fluid (CSF) leak remains a signi...   \n",
       "\n",
       "                                            keywords  \\\n",
       "0  Adverse Events; Electronic Health Records; Nat...   \n",
       "1  Cerebrospinal fluid leakage; Children; Craniot...   \n",
       "\n",
       "                                        journal publication_date  \\\n",
       "0  Studies in health technology and informatics       2019-07-28   \n",
       "1                            World neurosurgery       2019-05-24   \n",
       "\n",
       "                                             authors  \\\n",
       "0  Danilov Gleb; Shifrin Michael; Strunina Uliya;...   \n",
       "1  Kushel Yury; Danilov Gleb; Tekoev Aslan; Cheld...   \n",
       "\n",
       "                                        affiliations methods conclusions  \\\n",
       "0  National Medical Research Center for Neurosurg...    None        None   \n",
       "1  2nd Neurosurgical Department, Burdenko Neurosu...    None        None   \n",
       "\n",
       "                                             results  \\\n",
       "0                                               None   \n",
       "1  Postoperative wound CSF leakage was observed i...   \n",
       "\n",
       "                                          copyrights  \\\n",
       "0                                               None   \n",
       "1  Copyright © 2019 Elsevier Inc. All rights rese...   \n",
       "\n",
       "                          doi  \n",
       "0          10.3233/SHTI190051  \n",
       "1  10.1016/j.wneu.2019.05.091  "
      ]
     },
     "execution_count": 52,
     "metadata": {},
     "output_type": "execute_result"
    }
   ],
   "source": [
    "items = add_pmc_id(items)\n",
    "items.head(2)"
   ]
  },
  {
   "cell_type": "code",
   "execution_count": 121,
   "metadata": {
    "ExecuteTime": {
     "end_time": "2019-11-14T07:53:51.314534Z",
     "start_time": "2019-11-14T07:53:51.282340Z"
    }
   },
   "outputs": [],
   "source": [
    "items.to_excel('output/pubmed-pymed.xlsx')"
   ]
  },
  {
   "cell_type": "markdown",
   "metadata": {},
   "source": [
    "### Download Neurosurgery articles"
   ]
  },
  {
   "cell_type": "code",
   "execution_count": 114,
   "metadata": {
    "ExecuteTime": {
     "end_time": "2019-11-25T09:21:27.517778Z",
     "start_time": "2019-11-25T09:20:39.932098Z"
    }
   },
   "outputs": [
    {
     "name": "stdout",
     "output_type": "stream",
     "text": [
      "121183 articles found, downloading...\n",
      "121183 articles stored in the database\n"
     ]
    }
   ],
   "source": [
    "download_all_query_responses(query='neurosurgery', refresh=False)"
   ]
  },
  {
   "cell_type": "markdown",
   "metadata": {},
   "source": [
    "### Handle query responses"
   ]
  },
  {
   "cell_type": "code",
   "execution_count": 794,
   "metadata": {
    "ExecuteTime": {
     "end_time": "2019-11-29T17:54:28.056802Z",
     "start_time": "2019-11-29T13:51:16.148192Z"
    }
   },
   "outputs": [
    {
     "name": "stdout",
     "output_type": "stream",
     "text": [
      "Done 121183 of 121183. Working on 99430\n"
     ]
    },
    {
     "data": {
      "text/html": [
       "<div>\n",
       "<style scoped>\n",
       "    .dataframe tbody tr th:only-of-type {\n",
       "        vertical-align: middle;\n",
       "    }\n",
       "\n",
       "    .dataframe tbody tr th {\n",
       "        vertical-align: top;\n",
       "    }\n",
       "\n",
       "    .dataframe thead th {\n",
       "        text-align: right;\n",
       "    }\n",
       "</style>\n",
       "<table border=\"1\" class=\"dataframe\">\n",
       "  <thead>\n",
       "    <tr style=\"text-align: right;\">\n",
       "      <th></th>\n",
       "      <th>pmid</th>\n",
       "      <th>pmc</th>\n",
       "      <th>publisher-id</th>\n",
       "      <th>doi</th>\n",
       "      <th>abstract_len</th>\n",
       "      <th>full_text_len</th>\n",
       "      <th>file_size</th>\n",
       "      <th>title</th>\n",
       "      <th>article-type</th>\n",
       "      <th>category</th>\n",
       "      <th>...</th>\n",
       "      <th>manuscript</th>\n",
       "      <th>pii</th>\n",
       "      <th>sici</th>\n",
       "      <th>other</th>\n",
       "      <th>medline</th>\n",
       "      <th>pmcid</th>\n",
       "      <th>coden</th>\n",
       "      <th>art-access-id</th>\n",
       "      <th>publisher-manuscript</th>\n",
       "      <th>pmc-scan</th>\n",
       "    </tr>\n",
       "  </thead>\n",
       "  <tbody>\n",
       "    <tr>\n",
       "      <th>0</th>\n",
       "      <td>496443</td>\n",
       "      <td>1000359</td>\n",
       "      <td>NaN</td>\n",
       "      <td>NaN</td>\n",
       "      <td>1460</td>\n",
       "      <td>0</td>\n",
       "      <td>4635</td>\n",
       "      <td>The neuropsychiatric disorder in systemic lupu...</td>\n",
       "      <td>research-article</td>\n",
       "      <td>Research Article</td>\n",
       "      <td>...</td>\n",
       "      <td>NaN</td>\n",
       "      <td>NaN</td>\n",
       "      <td>NaN</td>\n",
       "      <td>NaN</td>\n",
       "      <td>NaN</td>\n",
       "      <td>NaN</td>\n",
       "      <td>NaN</td>\n",
       "      <td>NaN</td>\n",
       "      <td>NaN</td>\n",
       "      <td>NaN</td>\n",
       "    </tr>\n",
       "    <tr>\n",
       "      <th>1</th>\n",
       "      <td>NaN</td>\n",
       "      <td>1000485</td>\n",
       "      <td>NaN</td>\n",
       "      <td>NaN</td>\n",
       "      <td>0</td>\n",
       "      <td>0</td>\n",
       "      <td>1523</td>\n",
       "      <td>Clinical Aspects of Neuroimmunology</td>\n",
       "      <td>book-review</td>\n",
       "      <td>Book Reviews</td>\n",
       "      <td>...</td>\n",
       "      <td>NaN</td>\n",
       "      <td>NaN</td>\n",
       "      <td>NaN</td>\n",
       "      <td>NaN</td>\n",
       "      <td>NaN</td>\n",
       "      <td>NaN</td>\n",
       "      <td>NaN</td>\n",
       "      <td>NaN</td>\n",
       "      <td>NaN</td>\n",
       "      <td>NaN</td>\n",
       "    </tr>\n",
       "    <tr>\n",
       "      <th>2</th>\n",
       "      <td>6696518</td>\n",
       "      <td>1001222</td>\n",
       "      <td>NaN</td>\n",
       "      <td>NaN</td>\n",
       "      <td>329</td>\n",
       "      <td>0</td>\n",
       "      <td>2839</td>\n",
       "      <td>Popliteal masses masquerading as popliteal cysts.</td>\n",
       "      <td>research-article</td>\n",
       "      <td>Research Article</td>\n",
       "      <td>...</td>\n",
       "      <td>NaN</td>\n",
       "      <td>NaN</td>\n",
       "      <td>NaN</td>\n",
       "      <td>NaN</td>\n",
       "      <td>NaN</td>\n",
       "      <td>NaN</td>\n",
       "      <td>NaN</td>\n",
       "      <td>NaN</td>\n",
       "      <td>NaN</td>\n",
       "      <td>NaN</td>\n",
       "    </tr>\n",
       "    <tr>\n",
       "      <th>3</th>\n",
       "      <td>4083935</td>\n",
       "      <td>1001788</td>\n",
       "      <td>NaN</td>\n",
       "      <td>NaN</td>\n",
       "      <td>0</td>\n",
       "      <td>0</td>\n",
       "      <td>1587</td>\n",
       "      <td>Rheumatoid subluxations of the cervical spine.</td>\n",
       "      <td>research-article</td>\n",
       "      <td>Research Article</td>\n",
       "      <td>...</td>\n",
       "      <td>NaN</td>\n",
       "      <td>NaN</td>\n",
       "      <td>NaN</td>\n",
       "      <td>NaN</td>\n",
       "      <td>NaN</td>\n",
       "      <td>NaN</td>\n",
       "      <td>NaN</td>\n",
       "      <td>NaN</td>\n",
       "      <td>NaN</td>\n",
       "      <td>NaN</td>\n",
       "    </tr>\n",
       "    <tr>\n",
       "      <th>4</th>\n",
       "      <td>4083936</td>\n",
       "      <td>1001789</td>\n",
       "      <td>NaN</td>\n",
       "      <td>NaN</td>\n",
       "      <td>1159</td>\n",
       "      <td>0</td>\n",
       "      <td>4061</td>\n",
       "      <td>Surgical treatment of cervical cord compressio...</td>\n",
       "      <td>research-article</td>\n",
       "      <td>Research Article</td>\n",
       "      <td>...</td>\n",
       "      <td>NaN</td>\n",
       "      <td>NaN</td>\n",
       "      <td>NaN</td>\n",
       "      <td>NaN</td>\n",
       "      <td>NaN</td>\n",
       "      <td>NaN</td>\n",
       "      <td>NaN</td>\n",
       "      <td>NaN</td>\n",
       "      <td>NaN</td>\n",
       "      <td>NaN</td>\n",
       "    </tr>\n",
       "  </tbody>\n",
       "</table>\n",
       "<p>5 rows × 28 columns</p>\n",
       "</div>"
      ],
      "text/plain": [
       "      pmid      pmc publisher-id  doi abstract_len full_text_len file_size  \\\n",
       "0   496443  1000359          NaN  NaN         1460             0      4635   \n",
       "1      NaN  1000485          NaN  NaN            0             0      1523   \n",
       "2  6696518  1001222          NaN  NaN          329             0      2839   \n",
       "3  4083935  1001788          NaN  NaN            0             0      1587   \n",
       "4  4083936  1001789          NaN  NaN         1159             0      4061   \n",
       "\n",
       "                                               title      article-type  \\\n",
       "0  The neuropsychiatric disorder in systemic lupu...  research-article   \n",
       "1                Clinical Aspects of Neuroimmunology       book-review   \n",
       "2  Popliteal masses masquerading as popliteal cysts.  research-article   \n",
       "3     Rheumatoid subluxations of the cervical spine.  research-article   \n",
       "4  Surgical treatment of cervical cord compressio...  research-article   \n",
       "\n",
       "           category  ... manuscript  pii sici other medline pmcid coden  \\\n",
       "0  Research Article  ...        NaN  NaN  NaN   NaN     NaN   NaN   NaN   \n",
       "1      Book Reviews  ...        NaN  NaN  NaN   NaN     NaN   NaN   NaN   \n",
       "2  Research Article  ...        NaN  NaN  NaN   NaN     NaN   NaN   NaN   \n",
       "3  Research Article  ...        NaN  NaN  NaN   NaN     NaN   NaN   NaN   \n",
       "4  Research Article  ...        NaN  NaN  NaN   NaN     NaN   NaN   NaN   \n",
       "\n",
       "  art-access-id publisher-manuscript pmc-scan  \n",
       "0           NaN                  NaN      NaN  \n",
       "1           NaN                  NaN      NaN  \n",
       "2           NaN                  NaN      NaN  \n",
       "3           NaN                  NaN      NaN  \n",
       "4           NaN                  NaN      NaN  \n",
       "\n",
       "[5 rows x 28 columns]"
      ]
     },
     "execution_count": 794,
     "metadata": {},
     "output_type": "execute_result"
    }
   ],
   "source": [
    "items = handle_query_responses()\n",
    "items.head()"
   ]
  },
  {
   "cell_type": "code",
   "execution_count": 795,
   "metadata": {
    "ExecuteTime": {
     "end_time": "2019-12-02T05:35:10.208666Z",
     "start_time": "2019-12-02T05:35:08.086365Z"
    }
   },
   "outputs": [
    {
     "name": "stdout",
     "output_type": "stream",
     "text": [
      "<class 'pandas.core.frame.DataFrame'>\n",
      "RangeIndex: 121183 entries, 0 to 121182\n",
      "Data columns (total 28 columns):\n",
      "pmid                    110744 non-null object\n",
      "pmc                     121183 non-null object\n",
      "publisher-id            56677 non-null object\n",
      "doi                     87377 non-null object\n",
      "abstract_len            121183 non-null object\n",
      "full_text_len           121183 non-null object\n",
      "file_size               121183 non-null object\n",
      "title                   120936 non-null object\n",
      "article-type            121183 non-null object\n",
      "category                121169 non-null object\n",
      "authors                 117241 non-null object\n",
      "pub_date                121183 non-null object\n",
      "keywords                61401 non-null object\n",
      "copyright               74689 non-null object\n",
      "license-type            39082 non-null object\n",
      "license                 49738 non-null object\n",
      "abstract                99856 non-null object\n",
      "full_text               50393 non-null object\n",
      "manuscript              13759 non-null object\n",
      "pii                     1867 non-null object\n",
      "sici                    338 non-null object\n",
      "other                   2073 non-null object\n",
      "medline                 82 non-null object\n",
      "pmcid                   2 non-null object\n",
      "coden                   21 non-null object\n",
      "art-access-id           1210 non-null object\n",
      "publisher-manuscript    447 non-null object\n",
      "pmc-scan                129 non-null object\n",
      "dtypes: object(28)\n",
      "memory usage: 25.9+ MB\n"
     ]
    }
   ],
   "source": [
    "items.info()"
   ]
  },
  {
   "cell_type": "code",
   "execution_count": 796,
   "metadata": {
    "ExecuteTime": {
     "end_time": "2019-12-02T08:44:45.130802Z",
     "start_time": "2019-12-02T08:44:09.341096Z"
    }
   },
   "outputs": [],
   "source": [
    "items.to_csv('database/pmc_all.csv', sep='|')"
   ]
  },
  {
   "cell_type": "markdown",
   "metadata": {},
   "source": [
    "### Debug"
   ]
  },
  {
   "cell_type": "code",
   "execution_count": 801,
   "metadata": {
    "ExecuteTime": {
     "end_time": "2019-12-02T10:51:51.710588Z",
     "start_time": "2019-12-02T10:51:51.689643Z"
    }
   },
   "outputs": [],
   "source": [
    "#root = get_element_tree(6069828)\n",
    "root = get_element_tree(6070712)"
   ]
  },
  {
   "cell_type": "code",
   "execution_count": 828,
   "metadata": {
    "ExecuteTime": {
     "end_time": "2019-12-02T11:11:47.963556Z",
     "start_time": "2019-12-02T11:11:47.956549Z"
    }
   },
   "outputs": [
    {
     "data": {
      "text/plain": [
       "{'article-type': 'research-article',\n",
       " 'pmid': '29976640',\n",
       " 'pmc': '6070712',\n",
       " 'doi': '10.21873/cgp.20093',\n",
       " 'category': 'Research Article',\n",
       " 'title': 'A Comprehensive Method for Detecting Fusion Genes in Paediatric Brain Tumours',\n",
       " 'authors': 'AKIHIDE KONDO, YUZABURO SHIMIZU, SATOSHI ADACHI, IKUKO OGINO, MARIO SUZUKI, OSAMU AKIYAMA, HAJIME ARAI',\n",
       " 'pub_date': '2018-7-5',\n",
       " 'copyright': 'Copyright 2018, International Institute of Anticancer Research',\n",
       " 'license': nan,\n",
       " 'keywords': 'Paediatric brain tumours; BRAF; KIAA1549; fusion gene; pyrosequencing',\n",
       " 'abstract': 'Background: Fusion genes driving tumourigenesis have drawn the attention of researchers and oncologists. Despite the importance of such molecular alterations, there are no comprehensive reproducible methods for detecting fusion genes. Materials and Methods: Nineteen paediatric brain tumours of five types, namely pilocytic astrocytoma, oligodendroglioma, anaplastic astrocytoma, glioblastoma and, ganglioglioma, were examined to detect fusion genes using a pyrosequencing-based method following RNA isolation, cDNA synthesis and real-time polymerase chain reaction. Results: Our method successfully detected KIAA1549–v-raf murine sarcoma viral oncogene homolog B1 (BRAF) fusion in 14 out of 19 patients suffering from five types of paediatric brain tumours providing information on fusion breakpoints within 2 h. Conclusion: A comprehensive method for detecting fusion genes in paediatric brain tumours was evaluated. This method identified KIAA1549–BRAF fusion variants quickly. Our results may help researchers interested in the role of fusion genes in tumourigenesis.',\n",
       " 'volume': '15',\n",
       " 'issue': '4',\n",
       " 'pages': '343-348',\n",
       " 'full_text': nan,\n",
       " 'abstract_len': 1071,\n",
       " 'full_text_len': 0}"
      ]
     },
     "execution_count": 828,
     "metadata": {},
     "output_type": "execute_result"
    }
   ],
   "source": [
    "root = get_element_tree(6070712)\n",
    "item = parse_element_tree(root)\n",
    "item"
   ]
  },
  {
   "cell_type": "code",
   "execution_count": 501,
   "metadata": {
    "ExecuteTime": {
     "end_time": "2019-11-27T10:10:04.197895Z",
     "start_time": "2019-11-27T10:10:04.034338Z"
    }
   },
   "outputs": [
    {
     "data": {
      "text/html": [
       "<div>\n",
       "<style scoped>\n",
       "    .dataframe tbody tr th:only-of-type {\n",
       "        vertical-align: middle;\n",
       "    }\n",
       "\n",
       "    .dataframe tbody tr th {\n",
       "        vertical-align: top;\n",
       "    }\n",
       "\n",
       "    .dataframe thead th {\n",
       "        text-align: right;\n",
       "    }\n",
       "</style>\n",
       "<table border=\"1\" class=\"dataframe\">\n",
       "  <thead>\n",
       "    <tr style=\"text-align: right;\">\n",
       "      <th></th>\n",
       "      <th>abstract</th>\n",
       "      <th>abstract_len</th>\n",
       "      <th>article-type</th>\n",
       "      <th>category</th>\n",
       "      <th>full_text_len</th>\n",
       "      <th>pmc</th>\n",
       "      <th>pmid</th>\n",
       "      <th>title</th>\n",
       "    </tr>\n",
       "  </thead>\n",
       "  <tbody>\n",
       "    <tr>\n",
       "      <th>0</th>\n",
       "      <td>\\n         \\n     As part of a prospective sur...</td>\n",
       "      <td>1555.0</td>\n",
       "      <td>research-article</td>\n",
       "      <td>Research Article</td>\n",
       "      <td>0.0</td>\n",
       "      <td>1000359</td>\n",
       "      <td>496443</td>\n",
       "      <td>The neuropsychiatric disorder in systemic lupu...</td>\n",
       "    </tr>\n",
       "    <tr>\n",
       "      <th>1</th>\n",
       "      <td>NaN</td>\n",
       "      <td>0.0</td>\n",
       "      <td>book-review</td>\n",
       "      <td>Book Reviews</td>\n",
       "      <td>0.0</td>\n",
       "      <td>1000485</td>\n",
       "      <td>NaN</td>\n",
       "      <td>Clinical Aspects of Neuroimmunology</td>\n",
       "    </tr>\n",
       "    <tr>\n",
       "      <th>2</th>\n",
       "      <td>\\n         \\n     Two popliteal swellings, tho...</td>\n",
       "      <td>462.0</td>\n",
       "      <td>research-article</td>\n",
       "      <td>Research Article</td>\n",
       "      <td>0.0</td>\n",
       "      <td>1001222</td>\n",
       "      <td>6696518</td>\n",
       "      <td>Popliteal masses masquerading as popliteal cysts.</td>\n",
       "    </tr>\n",
       "    <tr>\n",
       "      <th>3</th>\n",
       "      <td>NaN</td>\n",
       "      <td>0.0</td>\n",
       "      <td>research-article</td>\n",
       "      <td>Research Article</td>\n",
       "      <td>0.0</td>\n",
       "      <td>1001788</td>\n",
       "      <td>4083935</td>\n",
       "      <td>Rheumatoid subluxations of the cervical spine.</td>\n",
       "    </tr>\n",
       "    <tr>\n",
       "      <th>4</th>\n",
       "      <td>\\n         \\n     Cervical myelopathy is a rar...</td>\n",
       "      <td>1292.0</td>\n",
       "      <td>research-article</td>\n",
       "      <td>Research Article</td>\n",
       "      <td>0.0</td>\n",
       "      <td>1001789</td>\n",
       "      <td>4083936</td>\n",
       "      <td>Surgical treatment of cervical cord compressio...</td>\n",
       "    </tr>\n",
       "    <tr>\n",
       "      <th>5</th>\n",
       "      <td>\\n         \\n     Material from 100 consecutiv...</td>\n",
       "      <td>958.0</td>\n",
       "      <td>research-article</td>\n",
       "      <td>Research Article</td>\n",
       "      <td>0.0</td>\n",
       "      <td>1001857</td>\n",
       "      <td>3954473</td>\n",
       "      <td>Amyloid in intervertebral discs: a histopathol...</td>\n",
       "    </tr>\n",
       "    <tr>\n",
       "      <th>6</th>\n",
       "      <td>NaN</td>\n",
       "      <td>0.0</td>\n",
       "      <td>research-article</td>\n",
       "      <td>Research Article</td>\n",
       "      <td>0.0</td>\n",
       "      <td>1002279</td>\n",
       "      <td>2309487</td>\n",
       "      <td>Perceived health quackery use among patients. ...</td>\n",
       "    </tr>\n",
       "    <tr>\n",
       "      <th>7</th>\n",
       "      <td>\\n         \\n     \\n           \\n       Images...</td>\n",
       "      <td>167.0</td>\n",
       "      <td>research-article</td>\n",
       "      <td>Research Article</td>\n",
       "      <td>0.0</td>\n",
       "      <td>1002313</td>\n",
       "      <td>2305578</td>\n",
       "      <td>Intracranial tuberculoma developing during the...</td>\n",
       "    </tr>\n",
       "    <tr>\n",
       "      <th>8</th>\n",
       "      <td>\\n         \\n     Multiple myeloma associated ...</td>\n",
       "      <td>1147.0</td>\n",
       "      <td>review-article</td>\n",
       "      <td>Research Article</td>\n",
       "      <td>0.0</td>\n",
       "      <td>1002325</td>\n",
       "      <td>2185597</td>\n",
       "      <td>Syndrome of plasma cell dyscrasia, polyneuropa...</td>\n",
       "    </tr>\n",
       "    <tr>\n",
       "      <th>9</th>\n",
       "      <td>\\n         \\n     \\n           \\n       Images...</td>\n",
       "      <td>129.0</td>\n",
       "      <td>research-article</td>\n",
       "      <td>Research Article</td>\n",
       "      <td>0.0</td>\n",
       "      <td>1002389</td>\n",
       "      <td>2161587</td>\n",
       "      <td>A 36-year-old woman with a pulsatile mass of t...</td>\n",
       "    </tr>\n",
       "  </tbody>\n",
       "</table>\n",
       "</div>"
      ],
      "text/plain": [
       "                                            abstract  abstract_len  \\\n",
       "0  \\n         \\n     As part of a prospective sur...        1555.0   \n",
       "1                                                NaN           0.0   \n",
       "2  \\n         \\n     Two popliteal swellings, tho...         462.0   \n",
       "3                                                NaN           0.0   \n",
       "4  \\n         \\n     Cervical myelopathy is a rar...        1292.0   \n",
       "5  \\n         \\n     Material from 100 consecutiv...         958.0   \n",
       "6                                                NaN           0.0   \n",
       "7  \\n         \\n     \\n           \\n       Images...         167.0   \n",
       "8  \\n         \\n     Multiple myeloma associated ...        1147.0   \n",
       "9  \\n         \\n     \\n           \\n       Images...         129.0   \n",
       "\n",
       "       article-type          category  full_text_len      pmc     pmid  \\\n",
       "0  research-article  Research Article            0.0  1000359   496443   \n",
       "1       book-review      Book Reviews            0.0  1000485      NaN   \n",
       "2  research-article  Research Article            0.0  1001222  6696518   \n",
       "3  research-article  Research Article            0.0  1001788  4083935   \n",
       "4  research-article  Research Article            0.0  1001789  4083936   \n",
       "5  research-article  Research Article            0.0  1001857  3954473   \n",
       "6  research-article  Research Article            0.0  1002279  2309487   \n",
       "7  research-article  Research Article            0.0  1002313  2305578   \n",
       "8    review-article  Research Article            0.0  1002325  2185597   \n",
       "9  research-article  Research Article            0.0  1002389  2161587   \n",
       "\n",
       "                                               title  \n",
       "0  The neuropsychiatric disorder in systemic lupu...  \n",
       "1                Clinical Aspects of Neuroimmunology  \n",
       "2  Popliteal masses masquerading as popliteal cysts.  \n",
       "3     Rheumatoid subluxations of the cervical spine.  \n",
       "4  Surgical treatment of cervical cord compressio...  \n",
       "5  Amyloid in intervertebral discs: a histopathol...  \n",
       "6  Perceived health quackery use among patients. ...  \n",
       "7  Intracranial tuberculoma developing during the...  \n",
       "8  Syndrome of plasma cell dyscrasia, polyneuropa...  \n",
       "9  A 36-year-old woman with a pulsatile mass of t...  "
      ]
     },
     "execution_count": 501,
     "metadata": {},
     "output_type": "execute_result"
    }
   ],
   "source": [
    "filenames = os.listdir(full_texts_path)\n",
    "items = pd.DataFrame()\n",
    "for filename in filenames[0:10]:\n",
    "    root = get_element_tree(filename)\n",
    "    item = parse_element_tree(root)\n",
    "    items = items.append(item, ignore_index=True)\n",
    "items"
   ]
  },
  {
   "cell_type": "code",
   "execution_count": 798,
   "metadata": {
    "ExecuteTime": {
     "end_time": "2019-12-02T10:49:22.360086Z",
     "start_time": "2019-12-02T10:49:22.348118Z"
    }
   },
   "outputs": [
    {
     "data": {
      "text/plain": [
       "[<Element 'article-meta' at 0x000001E14189F778>]"
      ]
     },
     "execution_count": 798,
     "metadata": {},
     "output_type": "execute_result"
    }
   ],
   "source": [
    "article_meta = root.findall('article/front/article-meta')\n",
    "article_meta"
   ]
  },
  {
   "cell_type": "code",
   "execution_count": 595,
   "metadata": {
    "ExecuteTime": {
     "end_time": "2019-11-28T09:57:36.403303Z",
     "start_time": "2019-11-28T09:57:36.397319Z"
    }
   },
   "outputs": [
    {
     "name": "stdout",
     "output_type": "stream",
     "text": [
      "Ksenia Ershova, Ivan Savin, Nataliya Kurdyumova, Darren Wong, Gleb Danilov, Michael Shifrin, Irina Alexandrova, Ekaterina Sokolova, Nadezhda Fursova, Vladimir Zelman, Olga Ershova\n"
     ]
    }
   ],
   "source": [
    "authors = []\n",
    "article_meta = root.findall('article/front/article-meta')\n",
    "for meta in article_meta:\n",
    "    contributors = meta.findall('contrib-group/contrib')\n",
    "    for contributor in contributors:\n",
    "        for contributor_meta in contributor.iter('name'):\n",
    "            surname = contributor_meta.find('surname')\n",
    "            given_name = contributor_meta.find('given-names')\n",
    "            if surname is not None and given_name is not None:\n",
    "                authors.append(' '.join([given_name.text, surname.text]))\n",
    "    authors = ', '.join(authors)\n",
    "print(authors)"
   ]
  },
  {
   "cell_type": "code",
   "execution_count": 709,
   "metadata": {
    "ExecuteTime": {
     "end_time": "2019-11-28T14:21:08.375118Z",
     "start_time": "2019-11-28T14:21:08.370132Z"
    }
   },
   "outputs": [],
   "source": [
    "body = root.find('article/body')\n",
    "if body is not None:\n",
    "    for element in body.iter():\n",
    "        if element.text:\n",
    "            item['full_text'] = item.get('full_text', '') + element.text + ' '\n",
    "        if element.tail:\n",
    "            item['full_text'] = item.get('full_text', '') + element.tail + ' '\n",
    "    item['full_text'] = ' '.join(item['full_text'].split())"
   ]
  },
  {
   "cell_type": "code",
   "execution_count": 775,
   "metadata": {
    "ExecuteTime": {
     "end_time": "2019-11-29T13:14:15.870039Z",
     "start_time": "2019-11-29T13:14:15.866052Z"
    }
   },
   "outputs": [
    {
     "name": "stdout",
     "output_type": "stream",
     "text": [
      "Cross infection\n",
      "Intensive care unit\n",
      "Infection control\n",
      "Drug resistance\n",
      "Survival analysis\n"
     ]
    }
   ],
   "source": [
    "article_meta = root.findall('article/front/article-meta')\n",
    "for meta in article_meta:\n",
    "    keywords = meta.find('kwd-group')\n",
    "    for keyword in keywords.iter('kwd'):\n",
    "        print(keyword.text)"
   ]
  },
  {
   "cell_type": "code",
   "execution_count": 805,
   "metadata": {
    "ExecuteTime": {
     "end_time": "2019-12-02T10:53:28.614728Z",
     "start_time": "2019-12-02T10:53:28.607749Z"
    }
   },
   "outputs": [
    {
     "name": "stdout",
     "output_type": "stream",
     "text": [
      "15\n",
      "4\n",
      "343\n",
      "348\n",
      "343-348\n"
     ]
    }
   ],
   "source": [
    "article_meta = root.findall('article/front/article-meta')\n",
    "for meta in article_meta:\n",
    "    volume = meta.find('volume')\n",
    "    if volume is not None:\n",
    "        print(volume.text)\n",
    "    elocation_id = meta.find('elocation-id')\n",
    "    if elocation_id is not None:\n",
    "        print(elocation_id.text)\n",
    "    issue = meta.find('issue')\n",
    "    if issue is not None:\n",
    "        print(issue.text)\n",
    "    fpage = meta.find('fpage')\n",
    "    if fpage is not None:\n",
    "        print(fpage.text)\n",
    "    lpage = meta.find('lpage')\n",
    "    if lpage is not None:\n",
    "        print(lpage.text)\n",
    "    pages = '-'.join([fpage.text, lpage.text])\n",
    "    print(pages)"
   ]
  }
 ],
 "metadata": {
  "kernelspec": {
   "display_name": "Python 3",
   "language": "python",
   "name": "python3"
  },
  "language_info": {
   "codemirror_mode": {
    "name": "ipython",
    "version": 3
   },
   "file_extension": ".py",
   "mimetype": "text/x-python",
   "name": "python",
   "nbconvert_exporter": "python",
   "pygments_lexer": "ipython3",
   "version": "3.7.3"
  }
 },
 "nbformat": 4,
 "nbformat_minor": 2
}
