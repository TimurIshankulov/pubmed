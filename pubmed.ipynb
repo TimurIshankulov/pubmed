{
 "cells": [
  {
   "cell_type": "markdown",
   "metadata": {},
   "source": [
    "### Import"
   ]
  },
  {
   "cell_type": "code",
   "execution_count": 1,
   "metadata": {
    "ExecuteTime": {
     "end_time": "2020-08-24T14:10:25.516468Z",
     "start_time": "2020-08-24T14:10:24.311067Z"
    }
   },
   "outputs": [],
   "source": [
    "import pubmed"
   ]
  },
  {
   "cell_type": "markdown",
   "metadata": {},
   "source": [
    "### Download Neurosurgery articles"
   ]
  },
  {
   "cell_type": "code",
   "execution_count": 2,
   "metadata": {
    "ExecuteTime": {
     "end_time": "2020-08-24T14:10:26.236437Z",
     "start_time": "2020-08-24T14:10:26.226229Z"
    }
   },
   "outputs": [],
   "source": [
    "db = 'pubmed'\n",
    "query = 'text classification neural network'\n",
    "query0 = 'neurosurgery'\n",
    "query1 = '(neurosurg*) AND (complicat*[Text Word])'\n",
    "query2 = '(\"Glioma/surgery\"[Mesh] OR \"Glioma/therapy\"[Mesh])'\n",
    "query3 = '(\"Neurosurgery\"[Mesh] OR \"Neurosurgical Procedures\"[Mesh]) AND \"Postoperative Complications\"[Mesh]'\n",
    "query4 = '(\"Neurosurgery\"[Mesh] OR \"Neurosurgical Procedures\"[Mesh]) AND complicat*[Text Word]'"
   ]
  },
  {
   "cell_type": "code",
   "execution_count": 3,
   "metadata": {
    "ExecuteTime": {
     "end_time": "2020-08-24T14:10:36.897819Z",
     "start_time": "2020-08-24T14:10:35.080089Z"
    },
    "scrolled": true
   },
   "outputs": [
    {
     "name": "stdout",
     "output_type": "stream",
     "text": [
      "241 articles found in pubmed with query specified.\n"
     ]
    },
    {
     "data": {
      "application/vnd.jupyter.widget-view+json": {
       "model_id": "8fe2baa3c4c44e2eb89eacaa2874e84a",
       "version_major": 2,
       "version_minor": 0
      },
      "text/plain": [
       "HBox(children=(FloatProgress(value=0.0, max=241.0), HTML(value='')))"
      ]
     },
     "metadata": {},
     "output_type": "display_data"
    },
    {
     "name": "stdout",
     "output_type": "stream",
     "text": [
      "\n"
     ]
    }
   ],
   "source": [
    "article_ids = pubmed.download_all_articles(query=query, db=db, refresh=False, cache=True)"
   ]
  },
  {
   "cell_type": "markdown",
   "metadata": {},
   "source": [
    "### Generate dataset"
   ]
  },
  {
   "cell_type": "code",
   "execution_count": 5,
   "metadata": {
    "ExecuteTime": {
     "end_time": "2020-08-24T14:11:16.641578Z",
     "start_time": "2020-08-24T14:11:15.711760Z"
    },
    "scrolled": false
   },
   "outputs": [
    {
     "data": {
      "application/vnd.jupyter.widget-view+json": {
       "model_id": "dbb669fe7dfa46fd82f9470a43a2a40c",
       "version_major": 2,
       "version_minor": 0
      },
      "text/plain": [
       "HBox(children=(FloatProgress(value=0.0, max=241.0), HTML(value='')))"
      ]
     },
     "metadata": {},
     "output_type": "display_data"
    },
    {
     "name": "stdout",
     "output_type": "stream",
     "text": [
      "\n"
     ]
    },
    {
     "data": {
      "text/html": [
       "<div>\n",
       "<style scoped>\n",
       "    .dataframe tbody tr th:only-of-type {\n",
       "        vertical-align: middle;\n",
       "    }\n",
       "\n",
       "    .dataframe tbody tr th {\n",
       "        vertical-align: top;\n",
       "    }\n",
       "\n",
       "    .dataframe thead th {\n",
       "        text-align: right;\n",
       "    }\n",
       "</style>\n",
       "<table border=\"1\" class=\"dataframe\">\n",
       "  <thead>\n",
       "    <tr style=\"text-align: right;\">\n",
       "      <th></th>\n",
       "      <th>pmid</th>\n",
       "      <th>pmc</th>\n",
       "      <th>pii</th>\n",
       "      <th>mid</th>\n",
       "      <th>doi</th>\n",
       "      <th>elocation_id</th>\n",
       "      <th>language</th>\n",
       "      <th>title</th>\n",
       "      <th>authors</th>\n",
       "      <th>affiliations</th>\n",
       "      <th>...</th>\n",
       "      <th>publisher_location</th>\n",
       "      <th>publisher_nlm_id</th>\n",
       "      <th>publisher_issn_linking</th>\n",
       "      <th>abstract_len</th>\n",
       "      <th>abstract</th>\n",
       "      <th>copyright</th>\n",
       "      <th>mesh_quals_major</th>\n",
       "      <th>mesh_quals_minor</th>\n",
       "      <th>mesh_descriptors</th>\n",
       "      <th>keywords</th>\n",
       "    </tr>\n",
       "  </thead>\n",
       "  <tbody>\n",
       "    <tr>\n",
       "      <th>0</th>\n",
       "      <td>32818665</td>\n",
       "      <td>None</td>\n",
       "      <td>S1532-0464(20)30167-2</td>\n",
       "      <td>None</td>\n",
       "      <td>10.1016/j.jbi.2020.103539</td>\n",
       "      <td>S1532-0464(20)30167-2</td>\n",
       "      <td>eng</td>\n",
       "      <td>Comparing deep learning architectures for sent...</td>\n",
       "      <td>Colón-Ruiz Cristóbal; Segura-Bedmar Isabel</td>\n",
       "      <td>Computer Science Department, University Carlos...</td>\n",
       "      <td>...</td>\n",
       "      <td>United States</td>\n",
       "      <td>100970413</td>\n",
       "      <td>1532-0464</td>\n",
       "      <td>1899</td>\n",
       "      <td>Since the turn of the century, as millions of ...</td>\n",
       "      <td>Copyright © 2020. Published by Elsevier Inc.</td>\n",
       "      <td>None</td>\n",
       "      <td>None</td>\n",
       "      <td>None</td>\n",
       "      <td>Bidirectional Encoder Representations from Tra...</td>\n",
       "    </tr>\n",
       "    <tr>\n",
       "      <th>1</th>\n",
       "      <td>32814201</td>\n",
       "      <td>None</td>\n",
       "      <td>S1532-0464(20)30169-6</td>\n",
       "      <td>None</td>\n",
       "      <td>10.1016/j.jbi.2020.103541</td>\n",
       "      <td>S1532-0464(20)30169-6</td>\n",
       "      <td>eng</td>\n",
       "      <td>A Corpus-Driven Standardization Framework for ...</td>\n",
       "      <td>Peterson Kevin J; Jiang Guoqian; Liu Hongfang</td>\n",
       "      <td>Department of Information Technology, Mayo Cli...</td>\n",
       "      <td>...</td>\n",
       "      <td>United States</td>\n",
       "      <td>100970413</td>\n",
       "      <td>1532-0464</td>\n",
       "      <td>1739</td>\n",
       "      <td>Free-text problem descriptions are brief expla...</td>\n",
       "      <td>Copyright © 2020. Published by Elsevier Inc.</td>\n",
       "      <td>None</td>\n",
       "      <td>None</td>\n",
       "      <td>None</td>\n",
       "      <td>Deep Learning (D000077321); Health Information...</td>\n",
       "    </tr>\n",
       "    <tr>\n",
       "      <th>2</th>\n",
       "      <td>32807454</td>\n",
       "      <td>None</td>\n",
       "      <td>S1052-3057(20)30460-2</td>\n",
       "      <td>None</td>\n",
       "      <td>10.1016/j.jstrokecerebrovasdis.2020.105042</td>\n",
       "      <td>S1052-3057(20)30460-2</td>\n",
       "      <td>eng</td>\n",
       "      <td>Toward automatic evaluation of medical abstrac...</td>\n",
       "      <td>Fischer Igor; Steiger Hans-Jakob</td>\n",
       "      <td>Division of Informatics and Statistics, Depart...</td>\n",
       "      <td>...</td>\n",
       "      <td>United States</td>\n",
       "      <td>9111633</td>\n",
       "      <td>1052-3057</td>\n",
       "      <td>2092</td>\n",
       "      <td>BACKGROUND: Text mining with automatic extract...</td>\n",
       "      <td>Copyright © 2020 Elsevier Inc. All rights rese...</td>\n",
       "      <td>None</td>\n",
       "      <td>None</td>\n",
       "      <td>None</td>\n",
       "      <td>Artificial neural network; Machine learning; P...</td>\n",
       "    </tr>\n",
       "    <tr>\n",
       "      <th>3</th>\n",
       "      <td>32765261</td>\n",
       "      <td>PMC7378532</td>\n",
       "      <td>None</td>\n",
       "      <td>None</td>\n",
       "      <td>10.3389/fphar.2020.01028</td>\n",
       "      <td>10.3389/fphar.2020.01028</td>\n",
       "      <td>eng</td>\n",
       "      <td>Artificial Intelligence in Pharmacoepidemiolog...</td>\n",
       "      <td>Sessa Maurizio; Khan Abdul Rauf; Liang David; ...</td>\n",
       "      <td>Department of Drug Design and Pharmacology, Un...</td>\n",
       "      <td>...</td>\n",
       "      <td>Switzerland</td>\n",
       "      <td>101548923</td>\n",
       "      <td>1663-9812</td>\n",
       "      <td>1496</td>\n",
       "      <td>Aim: To perform a systematic review on the app...</td>\n",
       "      <td>Copyright © 2020 Sessa, Khan, Liang, Andersen ...</td>\n",
       "      <td>None</td>\n",
       "      <td>None</td>\n",
       "      <td>None</td>\n",
       "      <td>artificial intelligence; deep learning; machin...</td>\n",
       "    </tr>\n",
       "    <tr>\n",
       "      <th>4</th>\n",
       "      <td>32764354</td>\n",
       "      <td>None</td>\n",
       "      <td>s20164369</td>\n",
       "      <td>None</td>\n",
       "      <td>10.3390/s20164369</td>\n",
       "      <td>E4369</td>\n",
       "      <td>eng</td>\n",
       "      <td>Earthquake Probability Assessment for the Indi...</td>\n",
       "      <td>Jena Ratiranjan; Pradhan Biswajeet; Al-Amri Ab...</td>\n",
       "      <td>Center for Advanced Modeling and Geospatial In...</td>\n",
       "      <td>...</td>\n",
       "      <td>Switzerland</td>\n",
       "      <td>101204366</td>\n",
       "      <td>1424-8220</td>\n",
       "      <td>2212</td>\n",
       "      <td>Earthquake prediction is a popular topic among...</td>\n",
       "      <td>None</td>\n",
       "      <td>None</td>\n",
       "      <td>None</td>\n",
       "      <td>None</td>\n",
       "      <td>GIS; Indian subcontinent; deep learning; earth...</td>\n",
       "    </tr>\n",
       "  </tbody>\n",
       "</table>\n",
       "<p>5 rows × 31 columns</p>\n",
       "</div>"
      ],
      "text/plain": [
       "       pmid         pmc                    pii   mid  \\\n",
       "0  32818665        None  S1532-0464(20)30167-2  None   \n",
       "1  32814201        None  S1532-0464(20)30169-6  None   \n",
       "2  32807454        None  S1052-3057(20)30460-2  None   \n",
       "3  32765261  PMC7378532                   None  None   \n",
       "4  32764354        None              s20164369  None   \n",
       "\n",
       "                                          doi              elocation_id  \\\n",
       "0                   10.1016/j.jbi.2020.103539     S1532-0464(20)30167-2   \n",
       "1                   10.1016/j.jbi.2020.103541     S1532-0464(20)30169-6   \n",
       "2  10.1016/j.jstrokecerebrovasdis.2020.105042     S1052-3057(20)30460-2   \n",
       "3                    10.3389/fphar.2020.01028  10.3389/fphar.2020.01028   \n",
       "4                           10.3390/s20164369                     E4369   \n",
       "\n",
       "  language                                              title  \\\n",
       "0      eng  Comparing deep learning architectures for sent...   \n",
       "1      eng  A Corpus-Driven Standardization Framework for ...   \n",
       "2      eng  Toward automatic evaluation of medical abstrac...   \n",
       "3      eng  Artificial Intelligence in Pharmacoepidemiolog...   \n",
       "4      eng  Earthquake Probability Assessment for the Indi...   \n",
       "\n",
       "                                             authors  \\\n",
       "0         Colón-Ruiz Cristóbal; Segura-Bedmar Isabel   \n",
       "1      Peterson Kevin J; Jiang Guoqian; Liu Hongfang   \n",
       "2                   Fischer Igor; Steiger Hans-Jakob   \n",
       "3  Sessa Maurizio; Khan Abdul Rauf; Liang David; ...   \n",
       "4  Jena Ratiranjan; Pradhan Biswajeet; Al-Amri Ab...   \n",
       "\n",
       "                                        affiliations  ... publisher_location  \\\n",
       "0  Computer Science Department, University Carlos...  ...      United States   \n",
       "1  Department of Information Technology, Mayo Cli...  ...      United States   \n",
       "2  Division of Informatics and Statistics, Depart...  ...      United States   \n",
       "3  Department of Drug Design and Pharmacology, Un...  ...        Switzerland   \n",
       "4  Center for Advanced Modeling and Geospatial In...  ...        Switzerland   \n",
       "\n",
       "  publisher_nlm_id publisher_issn_linking abstract_len  \\\n",
       "0        100970413              1532-0464         1899   \n",
       "1        100970413              1532-0464         1739   \n",
       "2          9111633              1052-3057         2092   \n",
       "3        101548923              1663-9812         1496   \n",
       "4        101204366              1424-8220         2212   \n",
       "\n",
       "                                            abstract  \\\n",
       "0  Since the turn of the century, as millions of ...   \n",
       "1  Free-text problem descriptions are brief expla...   \n",
       "2  BACKGROUND: Text mining with automatic extract...   \n",
       "3  Aim: To perform a systematic review on the app...   \n",
       "4  Earthquake prediction is a popular topic among...   \n",
       "\n",
       "                                           copyright mesh_quals_major  \\\n",
       "0       Copyright © 2020. Published by Elsevier Inc.             None   \n",
       "1       Copyright © 2020. Published by Elsevier Inc.             None   \n",
       "2  Copyright © 2020 Elsevier Inc. All rights rese...             None   \n",
       "3  Copyright © 2020 Sessa, Khan, Liang, Andersen ...             None   \n",
       "4                                               None             None   \n",
       "\n",
       "  mesh_quals_minor mesh_descriptors  \\\n",
       "0             None             None   \n",
       "1             None             None   \n",
       "2             None             None   \n",
       "3             None             None   \n",
       "4             None             None   \n",
       "\n",
       "                                            keywords  \n",
       "0  Bidirectional Encoder Representations from Tra...  \n",
       "1  Deep Learning (D000077321); Health Information...  \n",
       "2  Artificial neural network; Machine learning; P...  \n",
       "3  artificial intelligence; deep learning; machin...  \n",
       "4  GIS; Indian subcontinent; deep learning; earth...  \n",
       "\n",
       "[5 rows x 31 columns]"
      ]
     },
     "execution_count": 5,
     "metadata": {},
     "output_type": "execute_result"
    }
   ],
   "source": [
    "items = pubmed.generate_dataset(db, article_ids)\n",
    "items.head()"
   ]
  },
  {
   "cell_type": "code",
   "execution_count": 6,
   "metadata": {
    "ExecuteTime": {
     "end_time": "2020-08-24T14:16:26.811495Z",
     "start_time": "2020-08-24T14:16:26.781653Z"
    }
   },
   "outputs": [
    {
     "name": "stdout",
     "output_type": "stream",
     "text": [
      "<class 'pandas.core.frame.DataFrame'>\n",
      "Int64Index: 241 entries, 0 to 240\n",
      "Data columns (total 31 columns):\n",
      " #   Column                  Non-Null Count  Dtype \n",
      "---  ------                  --------------  ----- \n",
      " 0   pmid                    241 non-null    object\n",
      " 1   pmc                     99 non-null     object\n",
      " 2   pii                     146 non-null    object\n",
      " 3   mid                     21 non-null     object\n",
      " 4   doi                     232 non-null    object\n",
      " 5   elocation_id            211 non-null    object\n",
      " 6   language                241 non-null    object\n",
      " 7   title                   241 non-null    object\n",
      " 8   authors                 241 non-null    object\n",
      " 9   affiliations            241 non-null    object\n",
      " 10  article_type            241 non-null    object\n",
      " 11  publication_type        241 non-null    object\n",
      " 12  journal_title           241 non-null    object\n",
      " 13  volume                  231 non-null    object\n",
      " 14  issue                   153 non-null    object\n",
      " 15  pages                   223 non-null    object\n",
      " 16  pub_date                241 non-null    object\n",
      " 17  issn_electronic         196 non-null    object\n",
      " 18  issn_print              42 non-null     object\n",
      " 19  journal_iso_abbr        241 non-null    object\n",
      " 20  publisher_name          241 non-null    object\n",
      " 21  publisher_location      241 non-null    object\n",
      " 22  publisher_nlm_id        241 non-null    object\n",
      " 23  publisher_issn_linking  231 non-null    object\n",
      " 24  abstract_len            241 non-null    object\n",
      " 25  abstract                241 non-null    object\n",
      " 26  copyright               81 non-null     object\n",
      " 27  mesh_quals_major        162 non-null    object\n",
      " 28  mesh_quals_minor        162 non-null    object\n",
      " 29  mesh_descriptors        162 non-null    object\n",
      " 30  keywords                135 non-null    object\n",
      "dtypes: object(31)\n",
      "memory usage: 60.2+ KB\n"
     ]
    }
   ],
   "source": [
    "items.info()"
   ]
  },
  {
   "cell_type": "code",
   "execution_count": 33,
   "metadata": {
    "ExecuteTime": {
     "end_time": "2020-08-02T21:41:30.718328Z",
     "start_time": "2020-08-02T21:41:29.933751Z"
    }
   },
   "outputs": [],
   "source": [
    "items.to_csv('database/{0}_queryX.csv'.format(db), sep='|')\n",
    "items.to_excel('database/{0}_queryX.xlsx'.format(db))"
   ]
  },
  {
   "cell_type": "markdown",
   "metadata": {},
   "source": [
    "## MySQL tests"
   ]
  },
  {
   "cell_type": "code",
   "execution_count": 8,
   "metadata": {
    "ExecuteTime": {
     "end_time": "2020-08-17T10:29:48.347966Z",
     "start_time": "2020-08-17T10:29:48.336887Z"
    }
   },
   "outputs": [],
   "source": [
    "import pubmed\n",
    "item = {}\n",
    "filename = 'pubmed/29368597'\n",
    "\n",
    "root = pubmed.get_element_tree(filename)\n",
    "item = pubmed.parse_element_tree_pubmed(root)"
   ]
  },
  {
   "cell_type": "code",
   "execution_count": 7,
   "metadata": {
    "ExecuteTime": {
     "end_time": "2020-08-24T14:19:04.450438Z",
     "start_time": "2020-08-24T14:19:04.423734Z"
    }
   },
   "outputs": [],
   "source": [
    "from sqlalchemy import create_engine\n",
    "from sqlalchemy.orm import sessionmaker\n",
    "\n",
    "from config import conn_string_pubmed\n",
    "from models.pubmed_model import PubmedArticle, BasePubmed\n",
    "\n",
    "engine = create_engine(conn_string_pubmed)\n",
    "BasePubmed.metadata.bind = engine\n",
    "DBSession = sessionmaker(bind=engine)\n",
    "\n",
    "session = DBSession()"
   ]
  },
  {
   "cell_type": "markdown",
   "metadata": {},
   "source": [
    "### Add"
   ]
  },
  {
   "cell_type": "code",
   "execution_count": 9,
   "metadata": {
    "ExecuteTime": {
     "end_time": "2020-08-17T10:29:52.158798Z",
     "start_time": "2020-08-17T10:29:52.132994Z"
    }
   },
   "outputs": [],
   "source": [
    "article = PubmedArticle(item)\n",
    "session.add(article) \n",
    "session.commit()"
   ]
  },
  {
   "cell_type": "markdown",
   "metadata": {},
   "source": [
    "### Read"
   ]
  },
  {
   "cell_type": "code",
   "execution_count": 7,
   "metadata": {
    "ExecuteTime": {
     "end_time": "2020-08-18T10:28:48.002274Z",
     "start_time": "2020-08-18T10:28:47.992370Z"
    }
   },
   "outputs": [],
   "source": [
    "results = session.query(PubmedArticle).all()"
   ]
  },
  {
   "cell_type": "code",
   "execution_count": 8,
   "metadata": {
    "ExecuteTime": {
     "end_time": "2020-08-24T14:19:08.971260Z",
     "start_time": "2020-08-24T14:19:08.927898Z"
    }
   },
   "outputs": [
    {
     "data": {
      "text/plain": [
       "{'pmid': 18263039,\n",
       " 'pmc': None,\n",
       " 'pii': None,\n",
       " 'mid': None,\n",
       " 'doi': '10.1109/3477.485888',\n",
       " 'elocation_id': None,\n",
       " 'language': 'eng',\n",
       " 'title': 'A dynamic gesture recognition system for the Korean sign language (KSL).',\n",
       " 'authors': 'Kim J S; Jang W; Bien Z',\n",
       " 'affiliations': 'Dept. of Electr. Eng., Korea Adv. Inst. of Sci. & Technol., Taejon. // Not defined // Not defined',\n",
       " 'article_type': 'pubmed_article',\n",
       " 'publication_type': 'Journal Article',\n",
       " 'journal_title': 'IEEE transactions on systems, man, and cybernetics. Part B, Cybernetics : a publication of the IEEE Systems, Man, and Cybernetics Society',\n",
       " 'volume': '26',\n",
       " 'issue': '2',\n",
       " 'pages': '354-9',\n",
       " 'pub_date': '1996',\n",
       " 'issn_electronic': None,\n",
       " 'issn_print': '1083-4419',\n",
       " 'journal_iso_abbr': 'IEEE Trans Syst Man Cybern B Cybern',\n",
       " 'publisher_name': 'IEEE Trans Syst Man Cybern B Cybern',\n",
       " 'publisher_location': 'United States',\n",
       " 'publisher_nlm_id': '9890044',\n",
       " 'publisher_issn_linking': '1083-4419',\n",
       " 'abstract_len': 571,\n",
       " 'abstract': 'The sign language is a method of communication for the deaf-mute. Articulated gestures and postures of hands and fingers are commonly used for the sign language. This paper presents a system which recognizes the Korean sign language (KSL) and translates into a normal Korean text. A pair of data-gloves are used as the sensing device for detecting motions of hands and fingers. For efficient recognition of gestures and postures, a technique of efficient classification of motions is proposed and a fuzzy min-max neural network is adopted for on-line pattern recognition.',\n",
       " 'copyright': None,\n",
       " 'mesh_quals_major': None,\n",
       " 'mesh_quals_minor': None,\n",
       " 'mesh_descriptors': None,\n",
       " 'keywords': None}"
      ]
     },
     "execution_count": 8,
     "metadata": {},
     "output_type": "execute_result"
    }
   ],
   "source": [
    "result = session.query(PubmedArticle).filter_by(pmid=18263039).first()\n",
    "result.to_dict()"
   ]
  },
  {
   "cell_type": "code",
   "execution_count": 10,
   "metadata": {
    "ExecuteTime": {
     "end_time": "2020-08-24T14:19:34.567503Z",
     "start_time": "2020-08-24T14:19:34.546366Z"
    }
   },
   "outputs": [
    {
     "name": "stdout",
     "output_type": "stream",
     "text": [
      "[18263039] Title: A dynamic gesture recognition system for the Korean sign language (KSL).\n"
     ]
    }
   ],
   "source": [
    "print(result)"
   ]
  },
  {
   "cell_type": "markdown",
   "metadata": {},
   "source": [
    "### Update"
   ]
  },
  {
   "cell_type": "code",
   "execution_count": 34,
   "metadata": {
    "ExecuteTime": {
     "end_time": "2020-08-18T11:57:52.313224Z",
     "start_time": "2020-08-18T11:57:52.292402Z"
    }
   },
   "outputs": [],
   "source": [
    "item = session.query(PubmedArticle).filter_by(pmid=18263039).first()\n",
    "item.pmc = 'PMCID888'\n",
    "session.commit()"
   ]
  },
  {
   "cell_type": "markdown",
   "metadata": {},
   "source": [
    "### Delete"
   ]
  },
  {
   "cell_type": "code",
   "execution_count": 5,
   "metadata": {
    "ExecuteTime": {
     "end_time": "2020-08-18T10:28:28.983604Z",
     "start_time": "2020-08-18T10:28:28.959541Z"
    }
   },
   "outputs": [],
   "source": [
    "article = session.query(PubmedArticle).filter_by(pmid=29368597).first()\n",
    "session.delete(article)\n",
    "session.commit()"
   ]
  },
  {
   "cell_type": "code",
   "execution_count": 8,
   "metadata": {
    "ExecuteTime": {
     "end_time": "2020-08-24T12:05:32.621775Z",
     "start_time": "2020-08-24T12:05:32.460838Z"
    }
   },
   "outputs": [],
   "source": [
    "articles = session.query(PubmedArticle).all()\n",
    "for article in articles:\n",
    "    session.delete(article)\n",
    "session.commit()"
   ]
  },
  {
   "cell_type": "code",
   "execution_count": 11,
   "metadata": {
    "ExecuteTime": {
     "end_time": "2020-08-24T14:20:25.254089Z",
     "start_time": "2020-08-24T14:20:25.241397Z"
    }
   },
   "outputs": [],
   "source": [
    "session.close()"
   ]
  }
 ],
 "metadata": {
  "kernelspec": {
   "display_name": "Python 3",
   "language": "python",
   "name": "python3"
  },
  "language_info": {
   "codemirror_mode": {
    "name": "ipython",
    "version": 3
   },
   "file_extension": ".py",
   "mimetype": "text/x-python",
   "name": "python",
   "nbconvert_exporter": "python",
   "pygments_lexer": "ipython3",
   "version": "3.6.10"
  }
 },
 "nbformat": 4,
 "nbformat_minor": 2
}
