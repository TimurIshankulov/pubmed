{
 "cells": [
  {
   "cell_type": "markdown",
   "metadata": {},
   "source": [
    "### Import"
   ]
  },
  {
   "cell_type": "code",
   "execution_count": 499,
   "metadata": {
    "ExecuteTime": {
     "end_time": "2019-11-27T10:09:36.284980Z",
     "start_time": "2019-11-27T10:09:36.280993Z"
    }
   },
   "outputs": [],
   "source": [
    "import datetime\n",
    "import time\n",
    "import requests\n",
    "import os\n",
    "import json"
   ]
  },
  {
   "cell_type": "code",
   "execution_count": 691,
   "metadata": {
    "ExecuteTime": {
     "end_time": "2019-11-28T14:09:13.097780Z",
     "start_time": "2019-11-28T14:09:13.092794Z"
    }
   },
   "outputs": [],
   "source": [
    "from pymed import PubMed\n",
    "from IPython.display import clear_output\n",
    "import xml.etree.ElementTree as ET\n",
    "import pandas as pd\n",
    "import numpy as np"
   ]
  },
  {
   "cell_type": "markdown",
   "metadata": {},
   "source": [
    "### Settings"
   ]
  },
  {
   "cell_type": "code",
   "execution_count": 65,
   "metadata": {
    "ExecuteTime": {
     "end_time": "2019-11-20T05:52:41.969620Z",
     "start_time": "2019-11-20T05:52:41.964633Z"
    }
   },
   "outputs": [],
   "source": [
    "headers = {\n",
    "    'User-Agent': 'Mozilla / 5.0(Windows NT 10.0; Win64; x64) AppleWebKit / 537.36(KHTML, like Gecko) Chrome / 69.0.3497.81 Safari / 537.36'\n",
    "}\n",
    "\n",
    "authors_list = [\n",
    "    'Danilov Gleb',\n",
    "    'Shifrin Michael',\n",
    "    'Potapov Alexander',\n",
    "    'Shimansky Vadim'\n",
    "]\n",
    "\n",
    "tool = 'my_tool1'\n",
    "email = 'tishankulov@nsi.ru'\n",
    "api_key = '2839ed49187b099ec3d13cc079fc3ca0fc09'\n",
    "max_results = 5000\n",
    "\n",
    "full_texts_path = 'fulltexts/'\n",
    "\n",
    "url_pubmed_to_pmc = 'https://eutils.ncbi.nlm.nih.gov/entrez/eutils/elink.fcgi'\n",
    "url_full_text = 'https://eutils.ncbi.nlm.nih.gov/entrez/eutils/efetch.fcgi'\n",
    "url_article_ids = 'https://eutils.ncbi.nlm.nih.gov/entrez/eutils/esearch.fcgi'"
   ]
  },
  {
   "cell_type": "markdown",
   "metadata": {},
   "source": [
    "### Functions"
   ]
  },
  {
   "cell_type": "code",
   "execution_count": 111,
   "metadata": {
    "ExecuteTime": {
     "end_time": "2019-11-25T09:19:49.388703Z",
     "start_time": "2019-11-25T09:19:49.379728Z"
    }
   },
   "outputs": [],
   "source": [
    "def get_items_pubmed(fullname):\n",
    "    \"\"\"\n",
    "    Makes request to Pubmed database using pymed library.\n",
    "    Returns DataFrame with all articles authored by <fullname>.\n",
    "    \"\"\"\n",
    "    items = pd.DataFrame(columns=['fullname', 'pubmed_id', 'title', 'abstract', 'keywords', 'journal', 'publication_date',\n",
    "                                  'authors', 'affiliations', 'methods', 'conclusions', 'results', 'copyrights', 'doi'])\n",
    "    \n",
    "    lastname = fullname.split()[0]\n",
    "    firstname = fullname.split()[1]\n",
    "    query = '{0}, {1}[Author]'.format(lastname, firstname)\n",
    "    \n",
    "    pubmed = PubMed(tool=tool, email=email)\n",
    "    results = pubmed.query(query, max_results=max_results)\n",
    "    \n",
    "    while True:\n",
    "        try:\n",
    "            result = next(results)\n",
    "            result_dict = result.toDict()\n",
    "            result_dict['fullname'] = fullname\n",
    "            result_dict['affiliations'] = [author['affiliation'] for author in result_dict['authors']]\n",
    "            result_dict['affiliations'] = '; '.join(result_dict['affiliations'])\n",
    "            result_dict['authors'] = [' '.join([author['lastname'], author['firstname']]) for author in result_dict['authors']]\n",
    "            result_dict['authors'] = '; '.join(result_dict['authors'])\n",
    "            result_dict['keywords'] = '; '.join(result_dict['keywords'])\n",
    "            result_dict['pubmed_id'] = result_dict['pubmed_id'].replace('\\n', '; ')\n",
    "            del result_dict['xml']\n",
    "            items = items.append(result_dict, ignore_index=True)\n",
    "        except StopIteration:\n",
    "            break\n",
    "    \n",
    "    return items"
   ]
  },
  {
   "cell_type": "code",
   "execution_count": 112,
   "metadata": {
    "ExecuteTime": {
     "end_time": "2019-11-25T09:19:50.267702Z",
     "start_time": "2019-11-25T09:19:50.260723Z"
    }
   },
   "outputs": [],
   "source": [
    "def add_pmc_id(items):\n",
    "    \"\"\"Add PMC ID to <items> DataFrame\"\"\"\n",
    "    params = {\n",
    "        'format': 'json',\n",
    "        'dbfrom': 'pubmed',\n",
    "        'linkname': 'pubmed_pmc',\n",
    "        'api_key': api_key\n",
    "    }\n",
    "    \n",
    "    if not 'pmc_id' in items.columns:\n",
    "        items.insert(2, 'pmc_id', pd.np.nan)\n",
    "    \n",
    "    for i in range(0, len(items)):\n",
    "        params['id'] = items.loc[i, 'pubmed_id']\n",
    "        try:\n",
    "            response = requests.get(url=url_pubmed_to_pmc, headers=headers, params=params)\n",
    "        except requests.RequestException:\n",
    "            print('Problem has occured with Pubmed ID: {0}'.format(params['id']))\n",
    "        else:\n",
    "            data = response.json()\n",
    "            if 'linksetdbs' in data['linksets'][0]:\n",
    "                items.loc[i, 'pmc_id'] = data['linksets'][0]['linksetdbs'][0]['links'][0]\n",
    "    return items"
   ]
  },
  {
   "cell_type": "code",
   "execution_count": 821,
   "metadata": {
    "ExecuteTime": {
     "end_time": "2019-12-02T11:07:38.778703Z",
     "start_time": "2019-12-02T11:07:38.770725Z"
    }
   },
   "outputs": [],
   "source": [
    "def parse_pub_date(subroot, pub_type):\n",
    "    \"\"\"Returns parsed publication date from given ET <subroot>\"\"\"\n",
    "    pub_date = np.NaN\n",
    "    pub_dates = subroot.findall('pub-date')\n",
    "    for pub_record in pub_dates:\n",
    "        if (pub_record.attrib.get('pub-type', '') == pub_type or\n",
    "            pub_record.attrib.get('date-type', '') == 'pub'):\n",
    "            day = pub_record.find('day')\n",
    "            month = pub_record.find('month')\n",
    "            year = pub_record.find('year')\n",
    "            if year is not None:\n",
    "                pub_date = year.text\n",
    "                if month is not None:\n",
    "                    pub_date += '-' + month.text\n",
    "                    if day is not None:\n",
    "                        pub_date += '-' + day.text\n",
    "    if pub_date is np.NaN:\n",
    "        pub_date = parse_pub_date(subroot, 'ppub')\n",
    "    return pub_date"
   ]
  },
  {
   "cell_type": "code",
   "execution_count": 822,
   "metadata": {
    "ExecuteTime": {
     "end_time": "2019-12-02T11:07:38.963331Z",
     "start_time": "2019-12-02T11:07:38.954353Z"
    }
   },
   "outputs": [],
   "source": [
    "def parse_authors(subroot, path):\n",
    "    \"\"\"Returns parsed authors string from given ET <subroot>\"\"\"\n",
    "    authors = []\n",
    "    contributors = subroot.findall(path)\n",
    "    for contributor in contributors:\n",
    "        for contributor_meta in contributor.iter('name'):\n",
    "            surname = contributor_meta.find('surname')\n",
    "            given_name = contributor_meta.find('given-names')\n",
    "            if (surname is not None) and (given_name is not None):\n",
    "                surname = surname.text if surname.text is not None else ''\n",
    "                given_name = given_name.text if given_name.text is not None else ''\n",
    "                authors.append(' '.join([given_name, surname]))\n",
    "    if len(authors) > 0:\n",
    "        authors = ', '.join(authors)\n",
    "        authors = ' '.join(authors.split())\n",
    "    if authors:\n",
    "        return authors\n",
    "    return np.NaN"
   ]
  },
  {
   "cell_type": "code",
   "execution_count": 823,
   "metadata": {
    "ExecuteTime": {
     "end_time": "2019-12-02T11:07:39.207180Z",
     "start_time": "2019-12-02T11:07:39.200198Z"
    }
   },
   "outputs": [],
   "source": [
    "def parse_keywords(subroot):\n",
    "    \"\"\"Returns parsed keywords string from given ET <subroot>\"\"\"\n",
    "    keywords = []\n",
    "    kwds = subroot.find('kwd-group')\n",
    "    if kwds is not None:\n",
    "        for kwd in kwds.iter('kwd'):\n",
    "            if kwd is not None and kwd.text is not None:\n",
    "                keywords.append(kwd.text)\n",
    "    if len(keywords) > 0:\n",
    "        keywords = '; '.join(keywords)\n",
    "        return keywords\n",
    "    return np.NaN"
   ]
  },
  {
   "cell_type": "code",
   "execution_count": 870,
   "metadata": {
    "ExecuteTime": {
     "end_time": "2019-12-03T05:45:11.273787Z",
     "start_time": "2019-12-03T05:45:11.266807Z"
    }
   },
   "outputs": [],
   "source": [
    "def parse_issue(subroot):\n",
    "    \"\"\"Returns parsed journal issue dict from given ET <subroot>\"\"\"\n",
    "    journal_issue = {}\n",
    "    volume = subroot.find('volume')                            # Volume\n",
    "    if volume is not None:\n",
    "        journal_issue['volume'] = volume.text\n",
    "        \n",
    "    elocation_id = subroot.find('elocation-id')                # Elocation-id\n",
    "    if elocation_id is not None:\n",
    "        journal_issue['elocation-id'] = elocation_id.text\n",
    "        \n",
    "    issue = subroot.find('issue')                              # Issue\n",
    "    if issue is not None:\n",
    "        journal_issue['issue'] = issue.text\n",
    "        \n",
    "    fpage = subroot.find('fpage')                              # Pages\n",
    "    fpage = fpage.text if fpage is not None else None\n",
    "    lpage = subroot.find('lpage')\n",
    "    lpage = lpage.text if lpage is not None else None\n",
    "    \n",
    "    if isinstance(fpage, str) and isinstance(lpage, str):\n",
    "        journal_issue['pages'] = '-'.join([fpage, lpage])\n",
    "        \n",
    "    return journal_issue"
   ]
  },
  {
   "cell_type": "code",
   "execution_count": 869,
   "metadata": {
    "ExecuteTime": {
     "end_time": "2019-12-03T05:45:02.356665Z",
     "start_time": "2019-12-03T05:45:02.347690Z"
    }
   },
   "outputs": [],
   "source": [
    "def parse_journal_meta(subroot, path):\n",
    "    \"\"\"Returns parsed journal meta dict from given ET <subroot>\"\"\"\n",
    "    journal_meta = {}\n",
    "    meta = subroot.find(path)\n",
    "    if meta is not None:\n",
    "        journal_ids = meta.findall('journal-id')                                            # Journal ids\n",
    "        for journal_id in journal_ids:\n",
    "            journal_meta['journal-id_' + journal_id.attrib.get('journal-id-type')] = journal_id.text\n",
    "            \n",
    "        issns = meta.findall('issn')                                                        # ISSNs\n",
    "        for issn in issns:\n",
    "            journal_meta['issn_' + issn.attrib.get('pub-type')] = issn.text\n",
    "        \n",
    "        journal_title = meta.find('journal-title-group/journal-title')                      # Journal title\n",
    "        if (journal_title is not None) and (journal_title.text is not None):\n",
    "            journal_meta['journal_title'] = journal_title.text\n",
    "            \n",
    "        publisher = meta.find('publisher')                                                  # Publisher\n",
    "        if publisher is not None:\n",
    "            publisher_name = publisher.find('publisher-name')                               # Publisher's name\n",
    "            if (publisher_name is not None) and (publisher_name.text is not None):\n",
    "                journal_meta['publisher_name'] = publisher_name.text\n",
    "                \n",
    "            publisher_loc = publisher.find('publisher-loc')                                 # Publisher's location\n",
    "            if (publisher_loc is not None) and (publisher_loc.text is not None):\n",
    "                journal_meta['publisher_loc'] = publisher_loc.text\n",
    "    return journal_meta"
   ]
  },
  {
   "cell_type": "code",
   "execution_count": 825,
   "metadata": {
    "ExecuteTime": {
     "end_time": "2019-12-02T11:08:33.791657Z",
     "start_time": "2019-12-02T11:08:33.785648Z"
    }
   },
   "outputs": [],
   "source": [
    "def extract_text(subroot, path):\n",
    "    \"\"\"Returns extracted text between xml tags\"\"\"\n",
    "    text = ''\n",
    "    section = subroot.find(path)\n",
    "    if section is not None:\n",
    "        for element in section.iter():\n",
    "            if element.text:\n",
    "                text = text + element.text + ' '\n",
    "            if element.tail:\n",
    "                text = text + element.tail + ' '\n",
    "        text = ' '.join(text.split())\n",
    "    if text:\n",
    "        return text\n",
    "    return np.NaN"
   ]
  },
  {
   "cell_type": "code",
   "execution_count": 853,
   "metadata": {
    "ExecuteTime": {
     "end_time": "2019-12-02T13:57:10.117546Z",
     "start_time": "2019-12-02T13:57:10.104581Z"
    }
   },
   "outputs": [],
   "source": [
    "def parse_element_tree(root):\n",
    "    \"\"\"Returns parsed dict with all values found\"\"\"\n",
    "    item = {}\n",
    "    \n",
    "    item['article-type'] = root.find('article').get('article-type')                             # Article type\n",
    "    article_meta = root.findall('article/front/article-meta')                                   # Article meta\n",
    "    for meta in article_meta:\n",
    "        article_ids = meta.findall('article-id')                                                # Article ids\n",
    "        for article_id in article_ids:\n",
    "            item[article_id.get('pub-id-type')] = article_id.text\n",
    "            \n",
    "        category = meta.find('article-categories/subj-group/subject')                           # Article category\n",
    "        if category is not None:\n",
    "            item['category'] = category.text\n",
    "            \n",
    "        item['title'] = extract_text(meta, 'title-group/article-title')                         # Article title\n",
    "        item['authors'] = parse_authors(meta, 'contrib-group/contrib')                          # Authors\n",
    "        item['pub_date'] = parse_pub_date(meta, 'epub')                                         # Publication date\n",
    "    \n",
    "        copyright = meta.find('permissions/copyright-statement')                                # Copyright statement\n",
    "        if copyright is not None:\n",
    "            item['copyright'] = copyright.text\n",
    "        license_type = meta.find('permissions/license')                                         # License type\n",
    "        if license_type is not None:\n",
    "            item['license-type'] = license_type.get('license-type')\n",
    "        item['license'] = extract_text(meta, 'permissions/license/license-p')                   # License text\n",
    "        \n",
    "        item['keywords'] = parse_keywords(meta)                                                 # Keywords\n",
    "        item['abstract'] = extract_text(meta, 'abstract')                                       # Abstract\n",
    "        item.update(parse_issue(meta))                                                          # Journal issue\n",
    "    \n",
    "    item.update(parse_journal_meta(root, 'article/front/journal-meta'))                         # Journal meta\n",
    "    item['full_text'] = extract_text(root, 'article/body')\n",
    "    item['abstract_len'] = len(item['abstract']) if item['abstract'] is not np.NaN else 0\n",
    "    item['full_text_len'] = len(item['full_text']) if item['full_text'] is not np.NaN else 0\n",
    "            \n",
    "    return item"
   ]
  },
  {
   "cell_type": "code",
   "execution_count": 450,
   "metadata": {
    "ExecuteTime": {
     "end_time": "2019-11-26T14:40:17.634855Z",
     "start_time": "2019-11-26T14:40:17.628870Z"
    }
   },
   "outputs": [],
   "source": [
    "def get_element_tree(pmc_id):\n",
    "    \"\"\"Returns parsed ElementTree object of article with <pmc_id> identifier\"\"\"\n",
    "    filename = os.path.join(full_texts_path, str(pmc_id))\n",
    "    \n",
    "    if not os.path.exists(filename):\n",
    "        return None\n",
    "    \n",
    "    with open(filename, 'r') as f:\n",
    "        data = f.read()        \n",
    "    root = ET.fromstring(data)\n",
    "    \n",
    "    return root"
   ]
  },
  {
   "cell_type": "code",
   "execution_count": 871,
   "metadata": {
    "ExecuteTime": {
     "end_time": "2019-12-03T05:47:10.043261Z",
     "start_time": "2019-12-03T05:47:10.034285Z"
    }
   },
   "outputs": [],
   "source": [
    "def handle_query_responses():\n",
    "    \"\"\"Returns articles DataFrame\"\"\"\n",
    "    filenames = os.listdir(full_texts_path)\n",
    "    print('{0} query responses found. Starting...'.format(len(filenames)))\n",
    "    time.sleep(1)\n",
    "    \n",
    "    items = pd.DataFrame(columns=['pmid', 'pmc', 'publisher-id', 'doi', 'abstract_len', 'full_text_len', 'file_size',\n",
    "                                  'title', 'article-type', 'category', 'authors', 'pub_date', 'keywords',\n",
    "                                  'volume', 'elocation-id', 'issue', 'pages', 'issn_epub', 'issn_ppub',\n",
    "                                  'journal-id_nlm-ta', 'journal_title', 'publisher_name', 'publisher_loc',\n",
    "                                  'copyright', 'license-type', 'license', 'abstract', 'full_text'])\n",
    "    for i in range(0, len(filenames)):\n",
    "        clear_output(wait=True)\n",
    "        print('Done {0} of {1}. Working on {2}'.format(i+1, len(filenames), filenames[i]))\n",
    "        root = get_element_tree(filenames[i])\n",
    "        item = parse_element_tree(root)\n",
    "        item['file_size'] = os.path.getsize(os.path.join(full_texts_path, filenames[i]))\n",
    "        items = items.append(item, ignore_index=True)\n",
    "        if i % 5000 == 0:\n",
    "            items.to_csv('database/pmc.csv', sep='|', index=False)\n",
    "        \n",
    "    return items"
   ]
  },
  {
   "cell_type": "code",
   "execution_count": 790,
   "metadata": {
    "ExecuteTime": {
     "end_time": "2019-11-29T13:29:23.165133Z",
     "start_time": "2019-11-29T13:29:23.103300Z"
    }
   },
   "outputs": [],
   "source": [
    "def get_article_ids(query):\n",
    "    \"\"\"Returns all article ids found by <query_words>\"\"\"\n",
    "    params = {\n",
    "        'db': 'pmc',\n",
    "        #'tool': tool,\n",
    "        #'email': email,\n",
    "        'api_key': api_key,\n",
    "        'term': query,\n",
    "        'retmax': max_results,\n",
    "        'retstart': 0\n",
    "    }\n",
    "    article_ids = []\n",
    "    count = params['retmax'] + 1\n",
    "    \n",
    "    while params['retstart'] < count:\n",
    "        try:\n",
    "            response = requests.get(url=url_article_ids, headers=headers, params=params)\n",
    "        except requests.RequestException:\n",
    "            print('Problem has occured at retstart: {0}'.format(params['retstart']))\n",
    "        else:\n",
    "            root = ET.fromstring(response.text)\n",
    "            for article_id in root.iter('Id'):\n",
    "                article_ids.append(int(article_id.text))\n",
    "            count = int(root.find('Count').text)\n",
    "        finally:\n",
    "            params['retstart'] += params['retmax']\n",
    "\n",
    "    return article_ids"
   ]
  },
  {
   "cell_type": "code",
   "execution_count": 96,
   "metadata": {
    "ExecuteTime": {
     "end_time": "2019-11-25T08:57:51.927024Z",
     "start_time": "2019-11-25T08:57:51.921014Z"
    }
   },
   "outputs": [],
   "source": [
    "def download_query_response(pmc_id, refresh=False):\n",
    "    \"\"\"Saves article query response with <pmc_id> identifier to file\"\"\"\n",
    "    params = {\n",
    "        'db': 'pmc',\n",
    "        'id': pmc_id,\n",
    "        'api_key': api_key\n",
    "    }\n",
    "    \n",
    "    filename = os.path.join(full_texts_path, str(pmc_id))\n",
    "    if (os.path.exists(filename)) and (not refresh):\n",
    "        pass\n",
    "    else:\n",
    "        try:\n",
    "            response = requests.get(url=url_full_text, headers=headers, params=params)\n",
    "        except requests.RequestException:\n",
    "            print('Problem has occured with PMC ID: {0}'.format(pmc_id))\n",
    "        else:\n",
    "            data = response.text\n",
    "            with open(filename, 'w+') as f:\n",
    "                f.write(data)"
   ]
  },
  {
   "cell_type": "code",
   "execution_count": 113,
   "metadata": {
    "ExecuteTime": {
     "end_time": "2019-11-25T09:20:27.737177Z",
     "start_time": "2019-11-25T09:20:27.732191Z"
    }
   },
   "outputs": [],
   "source": [
    "def download_all_query_responses(query='neurosurgery', refresh=False):\n",
    "    \"\"\"Downloads all query responses got by <query>\"\"\"\n",
    "    article_ids = get_article_ids(query)\n",
    "    print('{0} articles found, downloading...'.format(len(article_ids)))\n",
    "    \n",
    "    for pmc_id in article_ids:\n",
    "        download_query_response(pmc_id, refresh)\n",
    "        \n",
    "    files_count = len(os.listdir(full_texts_path))\n",
    "    print('{0} articles stored in the database'.format(files_count))"
   ]
  },
  {
   "cell_type": "markdown",
   "metadata": {},
   "source": [
    "### Main"
   ]
  },
  {
   "cell_type": "code",
   "execution_count": 51,
   "metadata": {
    "ExecuteTime": {
     "end_time": "2019-11-19T14:43:18.041521Z",
     "start_time": "2019-11-19T14:43:15.814718Z"
    }
   },
   "outputs": [
    {
     "data": {
      "text/html": [
       "<div>\n",
       "<style scoped>\n",
       "    .dataframe tbody tr th:only-of-type {\n",
       "        vertical-align: middle;\n",
       "    }\n",
       "\n",
       "    .dataframe tbody tr th {\n",
       "        vertical-align: top;\n",
       "    }\n",
       "\n",
       "    .dataframe thead th {\n",
       "        text-align: right;\n",
       "    }\n",
       "</style>\n",
       "<table border=\"1\" class=\"dataframe\">\n",
       "  <thead>\n",
       "    <tr style=\"text-align: right;\">\n",
       "      <th></th>\n",
       "      <th>fullname</th>\n",
       "      <th>pubmed_id</th>\n",
       "      <th>title</th>\n",
       "      <th>abstract</th>\n",
       "      <th>keywords</th>\n",
       "      <th>journal</th>\n",
       "      <th>publication_date</th>\n",
       "      <th>authors</th>\n",
       "      <th>affiliations</th>\n",
       "      <th>methods</th>\n",
       "      <th>conclusions</th>\n",
       "      <th>results</th>\n",
       "      <th>copyrights</th>\n",
       "      <th>doi</th>\n",
       "    </tr>\n",
       "  </thead>\n",
       "  <tbody>\n",
       "    <tr>\n",
       "      <th>0</th>\n",
       "      <td>Danilov Gleb</td>\n",
       "      <td>31349300</td>\n",
       "      <td>An Information Extraction Algorithm for Detect...</td>\n",
       "      <td>Rich-in-morphology language, such as Russian, ...</td>\n",
       "      <td>Adverse Events; Electronic Health Records; Nat...</td>\n",
       "      <td>Studies in health technology and informatics</td>\n",
       "      <td>2019-07-28</td>\n",
       "      <td>Danilov Gleb; Shifrin Michael; Strunina Uliya;...</td>\n",
       "      <td>National Medical Research Center for Neurosurg...</td>\n",
       "      <td>None</td>\n",
       "      <td>None</td>\n",
       "      <td>None</td>\n",
       "      <td>None</td>\n",
       "      <td>10.3233/SHTI190051</td>\n",
       "    </tr>\n",
       "    <tr>\n",
       "      <th>1</th>\n",
       "      <td>Danilov Gleb</td>\n",
       "      <td>31121374</td>\n",
       "      <td>A Single-Center Retrospective Descriptive Coho...</td>\n",
       "      <td>Cerebrospinal fluid (CSF) leak remains a signi...</td>\n",
       "      <td>Cerebrospinal fluid leakage; Children; Craniot...</td>\n",
       "      <td>World neurosurgery</td>\n",
       "      <td>2019-05-24</td>\n",
       "      <td>Kushel Yury; Danilov Gleb; Tekoev Aslan; Cheld...</td>\n",
       "      <td>2nd Neurosurgical Department, Burdenko Neurosu...</td>\n",
       "      <td>None</td>\n",
       "      <td>None</td>\n",
       "      <td>Postoperative wound CSF leakage was observed i...</td>\n",
       "      <td>Copyright © 2019 Elsevier Inc. All rights rese...</td>\n",
       "      <td>10.1016/j.wneu.2019.05.091</td>\n",
       "    </tr>\n",
       "  </tbody>\n",
       "</table>\n",
       "</div>"
      ],
      "text/plain": [
       "       fullname pubmed_id                                              title  \\\n",
       "0  Danilov Gleb  31349300  An Information Extraction Algorithm for Detect...   \n",
       "1  Danilov Gleb  31121374  A Single-Center Retrospective Descriptive Coho...   \n",
       "\n",
       "                                            abstract  \\\n",
       "0  Rich-in-morphology language, such as Russian, ...   \n",
       "1  Cerebrospinal fluid (CSF) leak remains a signi...   \n",
       "\n",
       "                                            keywords  \\\n",
       "0  Adverse Events; Electronic Health Records; Nat...   \n",
       "1  Cerebrospinal fluid leakage; Children; Craniot...   \n",
       "\n",
       "                                        journal publication_date  \\\n",
       "0  Studies in health technology and informatics       2019-07-28   \n",
       "1                            World neurosurgery       2019-05-24   \n",
       "\n",
       "                                             authors  \\\n",
       "0  Danilov Gleb; Shifrin Michael; Strunina Uliya;...   \n",
       "1  Kushel Yury; Danilov Gleb; Tekoev Aslan; Cheld...   \n",
       "\n",
       "                                        affiliations methods conclusions  \\\n",
       "0  National Medical Research Center for Neurosurg...    None        None   \n",
       "1  2nd Neurosurgical Department, Burdenko Neurosu...    None        None   \n",
       "\n",
       "                                             results  \\\n",
       "0                                               None   \n",
       "1  Postoperative wound CSF leakage was observed i...   \n",
       "\n",
       "                                          copyrights  \\\n",
       "0                                               None   \n",
       "1  Copyright © 2019 Elsevier Inc. All rights rese...   \n",
       "\n",
       "                          doi  \n",
       "0          10.3233/SHTI190051  \n",
       "1  10.1016/j.wneu.2019.05.091  "
      ]
     },
     "execution_count": 51,
     "metadata": {},
     "output_type": "execute_result"
    }
   ],
   "source": [
    "items = get_items(authors_list[0])\n",
    "items.head(2)"
   ]
  },
  {
   "cell_type": "code",
   "execution_count": 52,
   "metadata": {
    "ExecuteTime": {
     "end_time": "2019-11-19T14:43:44.658757Z",
     "start_time": "2019-11-19T14:43:37.448985Z"
    }
   },
   "outputs": [
    {
     "data": {
      "text/html": [
       "<div>\n",
       "<style scoped>\n",
       "    .dataframe tbody tr th:only-of-type {\n",
       "        vertical-align: middle;\n",
       "    }\n",
       "\n",
       "    .dataframe tbody tr th {\n",
       "        vertical-align: top;\n",
       "    }\n",
       "\n",
       "    .dataframe thead th {\n",
       "        text-align: right;\n",
       "    }\n",
       "</style>\n",
       "<table border=\"1\" class=\"dataframe\">\n",
       "  <thead>\n",
       "    <tr style=\"text-align: right;\">\n",
       "      <th></th>\n",
       "      <th>fullname</th>\n",
       "      <th>pubmed_id</th>\n",
       "      <th>pmc_id</th>\n",
       "      <th>title</th>\n",
       "      <th>abstract</th>\n",
       "      <th>keywords</th>\n",
       "      <th>journal</th>\n",
       "      <th>publication_date</th>\n",
       "      <th>authors</th>\n",
       "      <th>affiliations</th>\n",
       "      <th>methods</th>\n",
       "      <th>conclusions</th>\n",
       "      <th>results</th>\n",
       "      <th>copyrights</th>\n",
       "      <th>doi</th>\n",
       "    </tr>\n",
       "  </thead>\n",
       "  <tbody>\n",
       "    <tr>\n",
       "      <th>0</th>\n",
       "      <td>Danilov Gleb</td>\n",
       "      <td>31349300</td>\n",
       "      <td>NaN</td>\n",
       "      <td>An Information Extraction Algorithm for Detect...</td>\n",
       "      <td>Rich-in-morphology language, such as Russian, ...</td>\n",
       "      <td>Adverse Events; Electronic Health Records; Nat...</td>\n",
       "      <td>Studies in health technology and informatics</td>\n",
       "      <td>2019-07-28</td>\n",
       "      <td>Danilov Gleb; Shifrin Michael; Strunina Uliya;...</td>\n",
       "      <td>National Medical Research Center for Neurosurg...</td>\n",
       "      <td>None</td>\n",
       "      <td>None</td>\n",
       "      <td>None</td>\n",
       "      <td>None</td>\n",
       "      <td>10.3233/SHTI190051</td>\n",
       "    </tr>\n",
       "    <tr>\n",
       "      <th>1</th>\n",
       "      <td>Danilov Gleb</td>\n",
       "      <td>31121374</td>\n",
       "      <td>NaN</td>\n",
       "      <td>A Single-Center Retrospective Descriptive Coho...</td>\n",
       "      <td>Cerebrospinal fluid (CSF) leak remains a signi...</td>\n",
       "      <td>Cerebrospinal fluid leakage; Children; Craniot...</td>\n",
       "      <td>World neurosurgery</td>\n",
       "      <td>2019-05-24</td>\n",
       "      <td>Kushel Yury; Danilov Gleb; Tekoev Aslan; Cheld...</td>\n",
       "      <td>2nd Neurosurgical Department, Burdenko Neurosu...</td>\n",
       "      <td>None</td>\n",
       "      <td>None</td>\n",
       "      <td>Postoperative wound CSF leakage was observed i...</td>\n",
       "      <td>Copyright © 2019 Elsevier Inc. All rights rese...</td>\n",
       "      <td>10.1016/j.wneu.2019.05.091</td>\n",
       "    </tr>\n",
       "  </tbody>\n",
       "</table>\n",
       "</div>"
      ],
      "text/plain": [
       "       fullname pubmed_id pmc_id  \\\n",
       "0  Danilov Gleb  31349300    NaN   \n",
       "1  Danilov Gleb  31121374    NaN   \n",
       "\n",
       "                                               title  \\\n",
       "0  An Information Extraction Algorithm for Detect...   \n",
       "1  A Single-Center Retrospective Descriptive Coho...   \n",
       "\n",
       "                                            abstract  \\\n",
       "0  Rich-in-morphology language, such as Russian, ...   \n",
       "1  Cerebrospinal fluid (CSF) leak remains a signi...   \n",
       "\n",
       "                                            keywords  \\\n",
       "0  Adverse Events; Electronic Health Records; Nat...   \n",
       "1  Cerebrospinal fluid leakage; Children; Craniot...   \n",
       "\n",
       "                                        journal publication_date  \\\n",
       "0  Studies in health technology and informatics       2019-07-28   \n",
       "1                            World neurosurgery       2019-05-24   \n",
       "\n",
       "                                             authors  \\\n",
       "0  Danilov Gleb; Shifrin Michael; Strunina Uliya;...   \n",
       "1  Kushel Yury; Danilov Gleb; Tekoev Aslan; Cheld...   \n",
       "\n",
       "                                        affiliations methods conclusions  \\\n",
       "0  National Medical Research Center for Neurosurg...    None        None   \n",
       "1  2nd Neurosurgical Department, Burdenko Neurosu...    None        None   \n",
       "\n",
       "                                             results  \\\n",
       "0                                               None   \n",
       "1  Postoperative wound CSF leakage was observed i...   \n",
       "\n",
       "                                          copyrights  \\\n",
       "0                                               None   \n",
       "1  Copyright © 2019 Elsevier Inc. All rights rese...   \n",
       "\n",
       "                          doi  \n",
       "0          10.3233/SHTI190051  \n",
       "1  10.1016/j.wneu.2019.05.091  "
      ]
     },
     "execution_count": 52,
     "metadata": {},
     "output_type": "execute_result"
    }
   ],
   "source": [
    "items = add_pmc_id(items)\n",
    "items.head(2)"
   ]
  },
  {
   "cell_type": "code",
   "execution_count": 121,
   "metadata": {
    "ExecuteTime": {
     "end_time": "2019-11-14T07:53:51.314534Z",
     "start_time": "2019-11-14T07:53:51.282340Z"
    }
   },
   "outputs": [],
   "source": [
    "items.to_excel('output/pubmed-pymed.xlsx')"
   ]
  },
  {
   "cell_type": "markdown",
   "metadata": {},
   "source": [
    "### Download Neurosurgery articles"
   ]
  },
  {
   "cell_type": "code",
   "execution_count": 114,
   "metadata": {
    "ExecuteTime": {
     "end_time": "2019-11-25T09:21:27.517778Z",
     "start_time": "2019-11-25T09:20:39.932098Z"
    }
   },
   "outputs": [
    {
     "name": "stdout",
     "output_type": "stream",
     "text": [
      "121183 articles found, downloading...\n",
      "121183 articles stored in the database\n"
     ]
    }
   ],
   "source": [
    "download_all_query_responses(query='neurosurgery', refresh=False)"
   ]
  },
  {
   "cell_type": "markdown",
   "metadata": {},
   "source": [
    "### Handle query responses"
   ]
  },
  {
   "cell_type": "code",
   "execution_count": 866,
   "metadata": {
    "ExecuteTime": {
     "end_time": "2019-12-02T20:10:49.687581Z",
     "start_time": "2019-12-02T14:03:08.405661Z"
    }
   },
   "outputs": [
    {
     "name": "stdout",
     "output_type": "stream",
     "text": [
      "Done 121183 of 121183. Working on 99430\n"
     ]
    },
    {
     "data": {
      "text/html": [
       "<div>\n",
       "<style scoped>\n",
       "    .dataframe tbody tr th:only-of-type {\n",
       "        vertical-align: middle;\n",
       "    }\n",
       "\n",
       "    .dataframe tbody tr th {\n",
       "        vertical-align: top;\n",
       "    }\n",
       "\n",
       "    .dataframe thead th {\n",
       "        text-align: right;\n",
       "    }\n",
       "</style>\n",
       "<table border=\"1\" class=\"dataframe\">\n",
       "  <thead>\n",
       "    <tr style=\"text-align: right;\">\n",
       "      <th></th>\n",
       "      <th>pmid</th>\n",
       "      <th>pmc</th>\n",
       "      <th>publisher-id</th>\n",
       "      <th>doi</th>\n",
       "      <th>abstract_len</th>\n",
       "      <th>full_text_len</th>\n",
       "      <th>file_size</th>\n",
       "      <th>title</th>\n",
       "      <th>article-type</th>\n",
       "      <th>category</th>\n",
       "      <th>...</th>\n",
       "      <th>journal-id_</th>\n",
       "      <th>pmcid</th>\n",
       "      <th>journal-id_doi</th>\n",
       "      <th>journal-id_coden</th>\n",
       "      <th>coden</th>\n",
       "      <th>art-access-id</th>\n",
       "      <th>journal-id_issn</th>\n",
       "      <th>publisher-manuscript</th>\n",
       "      <th>journal-id_archive</th>\n",
       "      <th>pmc-scan</th>\n",
       "    </tr>\n",
       "  </thead>\n",
       "  <tbody>\n",
       "    <tr>\n",
       "      <th>0</th>\n",
       "      <td>496443</td>\n",
       "      <td>1000359</td>\n",
       "      <td>NaN</td>\n",
       "      <td>NaN</td>\n",
       "      <td>1460</td>\n",
       "      <td>0</td>\n",
       "      <td>4635</td>\n",
       "      <td>The neuropsychiatric disorder in systemic lupu...</td>\n",
       "      <td>research-article</td>\n",
       "      <td>Research Article</td>\n",
       "      <td>...</td>\n",
       "      <td>NaN</td>\n",
       "      <td>NaN</td>\n",
       "      <td>NaN</td>\n",
       "      <td>NaN</td>\n",
       "      <td>NaN</td>\n",
       "      <td>NaN</td>\n",
       "      <td>NaN</td>\n",
       "      <td>NaN</td>\n",
       "      <td>NaN</td>\n",
       "      <td>NaN</td>\n",
       "    </tr>\n",
       "    <tr>\n",
       "      <th>1</th>\n",
       "      <td>NaN</td>\n",
       "      <td>1000485</td>\n",
       "      <td>NaN</td>\n",
       "      <td>NaN</td>\n",
       "      <td>0</td>\n",
       "      <td>0</td>\n",
       "      <td>1523</td>\n",
       "      <td>Clinical Aspects of Neuroimmunology</td>\n",
       "      <td>book-review</td>\n",
       "      <td>Book Reviews</td>\n",
       "      <td>...</td>\n",
       "      <td>NaN</td>\n",
       "      <td>NaN</td>\n",
       "      <td>NaN</td>\n",
       "      <td>NaN</td>\n",
       "      <td>NaN</td>\n",
       "      <td>NaN</td>\n",
       "      <td>NaN</td>\n",
       "      <td>NaN</td>\n",
       "      <td>NaN</td>\n",
       "      <td>NaN</td>\n",
       "    </tr>\n",
       "    <tr>\n",
       "      <th>2</th>\n",
       "      <td>6696518</td>\n",
       "      <td>1001222</td>\n",
       "      <td>NaN</td>\n",
       "      <td>NaN</td>\n",
       "      <td>329</td>\n",
       "      <td>0</td>\n",
       "      <td>2839</td>\n",
       "      <td>Popliteal masses masquerading as popliteal cysts.</td>\n",
       "      <td>research-article</td>\n",
       "      <td>Research Article</td>\n",
       "      <td>...</td>\n",
       "      <td>NaN</td>\n",
       "      <td>NaN</td>\n",
       "      <td>NaN</td>\n",
       "      <td>NaN</td>\n",
       "      <td>NaN</td>\n",
       "      <td>NaN</td>\n",
       "      <td>NaN</td>\n",
       "      <td>NaN</td>\n",
       "      <td>NaN</td>\n",
       "      <td>NaN</td>\n",
       "    </tr>\n",
       "    <tr>\n",
       "      <th>3</th>\n",
       "      <td>4083935</td>\n",
       "      <td>1001788</td>\n",
       "      <td>NaN</td>\n",
       "      <td>NaN</td>\n",
       "      <td>0</td>\n",
       "      <td>0</td>\n",
       "      <td>1587</td>\n",
       "      <td>Rheumatoid subluxations of the cervical spine.</td>\n",
       "      <td>research-article</td>\n",
       "      <td>Research Article</td>\n",
       "      <td>...</td>\n",
       "      <td>NaN</td>\n",
       "      <td>NaN</td>\n",
       "      <td>NaN</td>\n",
       "      <td>NaN</td>\n",
       "      <td>NaN</td>\n",
       "      <td>NaN</td>\n",
       "      <td>NaN</td>\n",
       "      <td>NaN</td>\n",
       "      <td>NaN</td>\n",
       "      <td>NaN</td>\n",
       "    </tr>\n",
       "    <tr>\n",
       "      <th>4</th>\n",
       "      <td>4083936</td>\n",
       "      <td>1001789</td>\n",
       "      <td>NaN</td>\n",
       "      <td>NaN</td>\n",
       "      <td>1159</td>\n",
       "      <td>0</td>\n",
       "      <td>4061</td>\n",
       "      <td>Surgical treatment of cervical cord compressio...</td>\n",
       "      <td>research-article</td>\n",
       "      <td>Research Article</td>\n",
       "      <td>...</td>\n",
       "      <td>NaN</td>\n",
       "      <td>NaN</td>\n",
       "      <td>NaN</td>\n",
       "      <td>NaN</td>\n",
       "      <td>NaN</td>\n",
       "      <td>NaN</td>\n",
       "      <td>NaN</td>\n",
       "      <td>NaN</td>\n",
       "      <td>NaN</td>\n",
       "      <td>NaN</td>\n",
       "    </tr>\n",
       "  </tbody>\n",
       "</table>\n",
       "<p>5 rows × 51 columns</p>\n",
       "</div>"
      ],
      "text/plain": [
       "      pmid      pmc publisher-id  doi abstract_len full_text_len file_size  \\\n",
       "0   496443  1000359          NaN  NaN         1460             0      4635   \n",
       "1      NaN  1000485          NaN  NaN            0             0      1523   \n",
       "2  6696518  1001222          NaN  NaN          329             0      2839   \n",
       "3  4083935  1001788          NaN  NaN            0             0      1587   \n",
       "4  4083936  1001789          NaN  NaN         1159             0      4061   \n",
       "\n",
       "                                               title      article-type  \\\n",
       "0  The neuropsychiatric disorder in systemic lupu...  research-article   \n",
       "1                Clinical Aspects of Neuroimmunology       book-review   \n",
       "2  Popliteal masses masquerading as popliteal cysts.  research-article   \n",
       "3     Rheumatoid subluxations of the cervical spine.  research-article   \n",
       "4  Surgical treatment of cervical cord compressio...  research-article   \n",
       "\n",
       "           category  ... journal-id_ pmcid journal-id_doi journal-id_coden  \\\n",
       "0  Research Article  ...         NaN   NaN            NaN              NaN   \n",
       "1      Book Reviews  ...         NaN   NaN            NaN              NaN   \n",
       "2  Research Article  ...         NaN   NaN            NaN              NaN   \n",
       "3  Research Article  ...         NaN   NaN            NaN              NaN   \n",
       "4  Research Article  ...         NaN   NaN            NaN              NaN   \n",
       "\n",
       "  coden art-access-id journal-id_issn publisher-manuscript journal-id_archive  \\\n",
       "0   NaN           NaN             NaN                  NaN                NaN   \n",
       "1   NaN           NaN             NaN                  NaN                NaN   \n",
       "2   NaN           NaN             NaN                  NaN                NaN   \n",
       "3   NaN           NaN             NaN                  NaN                NaN   \n",
       "4   NaN           NaN             NaN                  NaN                NaN   \n",
       "\n",
       "  pmc-scan  \n",
       "0      NaN  \n",
       "1      NaN  \n",
       "2      NaN  \n",
       "3      NaN  \n",
       "4      NaN  \n",
       "\n",
       "[5 rows x 51 columns]"
      ]
     },
     "execution_count": 866,
     "metadata": {},
     "output_type": "execute_result"
    }
   ],
   "source": [
    "items = handle_query_responses()\n",
    "items.head()"
   ]
  },
  {
   "cell_type": "code",
   "execution_count": 867,
   "metadata": {
    "ExecuteTime": {
     "end_time": "2019-12-03T05:40:46.262990Z",
     "start_time": "2019-12-03T05:40:45.624682Z"
    },
    "scrolled": true
   },
   "outputs": [
    {
     "name": "stdout",
     "output_type": "stream",
     "text": [
      "<class 'pandas.core.frame.DataFrame'>\n",
      "RangeIndex: 121183 entries, 0 to 121182\n",
      "Data columns (total 51 columns):\n",
      "pmid                         110744 non-null object\n",
      "pmc                          121183 non-null object\n",
      "publisher-id                 56677 non-null object\n",
      "doi                          87377 non-null object\n",
      "abstract_len                 121183 non-null object\n",
      "full_text_len                121183 non-null object\n",
      "file_size                    121183 non-null object\n",
      "title                        120936 non-null object\n",
      "article-type                 121183 non-null object\n",
      "category                     121169 non-null object\n",
      "authors                      117241 non-null object\n",
      "pub_date                     121183 non-null object\n",
      "keywords                     61401 non-null object\n",
      "volume                       120858 non-null object\n",
      "elocation-id                 24254 non-null object\n",
      "issue                        99546 non-null object\n",
      "pages                        95680 non-null object\n",
      "issn_epub                    111055 non-null object\n",
      "issn_ppub                    95255 non-null object\n",
      "journal-id_nlm-ta            121181 non-null object\n",
      "journal_title                81407 non-null object\n",
      "publisher_name               81855 non-null object\n",
      "publisher_loc                34381 non-null object\n",
      "copyright                    74689 non-null object\n",
      "license-type                 39082 non-null object\n",
      "license                      49738 non-null object\n",
      "abstract                     99856 non-null object\n",
      "full_text                    50393 non-null object\n",
      "journal-id_publisher-id      52598 non-null object\n",
      "journal-id_iso-abbrev        73435 non-null object\n",
      "journal-id_pmc               9662 non-null object\n",
      "journal-id_nlm-journal-id    13738 non-null object\n",
      "journal-id_pubmed-jr-id      13712 non-null object\n",
      "manuscript                   13759 non-null object\n",
      "pii                          1867 non-null object\n",
      "sici                         338 non-null object\n",
      "journal-id_hwp               10419 non-null object\n",
      "other                        2073 non-null object\n",
      "journal-id_pubmed            4 non-null object\n",
      "medline                      82 non-null object\n",
      "journal-id_allenpress-id     1 non-null object\n",
      "journal-id_                  1 non-null object\n",
      "pmcid                        2 non-null object\n",
      "journal-id_doi               3010 non-null object\n",
      "journal-id_coden             243 non-null object\n",
      "coden                        21 non-null object\n",
      "art-access-id                1210 non-null object\n",
      "journal-id_issn              949 non-null object\n",
      "publisher-manuscript         447 non-null object\n",
      "journal-id_archive           50 non-null object\n",
      "pmc-scan                     129 non-null object\n",
      "dtypes: object(51)\n",
      "memory usage: 47.2+ MB\n"
     ]
    }
   ],
   "source": [
    "items.info()"
   ]
  },
  {
   "cell_type": "code",
   "execution_count": 877,
   "metadata": {
    "ExecuteTime": {
     "end_time": "2019-12-03T05:51:29.058255Z",
     "start_time": "2019-12-03T05:51:28.756068Z"
    },
    "scrolled": true
   },
   "outputs": [
    {
     "name": "stdout",
     "output_type": "stream",
     "text": [
      "<class 'pandas.core.frame.DataFrame'>\n",
      "Int64Index: 50393 entries, 5230 to 121144\n",
      "Data columns (total 51 columns):\n",
      "pmid                         49659 non-null object\n",
      "pmc                          50393 non-null object\n",
      "publisher-id                 37249 non-null object\n",
      "doi                          49030 non-null object\n",
      "abstract_len                 50393 non-null object\n",
      "full_text_len                50393 non-null object\n",
      "file_size                    50393 non-null object\n",
      "title                        50389 non-null object\n",
      "article-type                 50393 non-null object\n",
      "category                     50393 non-null object\n",
      "authors                      50173 non-null object\n",
      "pub_date                     50393 non-null object\n",
      "keywords                     36146 non-null object\n",
      "volume                       50323 non-null object\n",
      "elocation-id                 21797 non-null object\n",
      "issue                        32402 non-null object\n",
      "pages                        28406 non-null object\n",
      "issn_epub                    49901 non-null object\n",
      "issn_ppub                    27557 non-null object\n",
      "journal-id_nlm-ta            50392 non-null object\n",
      "journal_title                49320 non-null object\n",
      "publisher_name               49884 non-null object\n",
      "publisher_loc                24179 non-null object\n",
      "copyright                    48852 non-null object\n",
      "license-type                 37325 non-null object\n",
      "license                      47687 non-null object\n",
      "abstract                     47156 non-null object\n",
      "full_text                    50393 non-null object\n",
      "journal-id_publisher-id      34047 non-null object\n",
      "journal-id_iso-abbrev        45765 non-null object\n",
      "journal-id_pmc               4394 non-null object\n",
      "journal-id_nlm-journal-id    485 non-null object\n",
      "journal-id_pubmed-jr-id      480 non-null object\n",
      "manuscript                   485 non-null object\n",
      "pii                          1087 non-null object\n",
      "sici                         43 non-null object\n",
      "journal-id_hwp               2947 non-null object\n",
      "other                        221 non-null object\n",
      "journal-id_pubmed            0 non-null object\n",
      "medline                      16 non-null object\n",
      "journal-id_allenpress-id     0 non-null object\n",
      "journal-id_                  0 non-null object\n",
      "pmcid                        0 non-null object\n",
      "journal-id_doi               1963 non-null object\n",
      "journal-id_coden             94 non-null object\n",
      "coden                        10 non-null object\n",
      "art-access-id                1187 non-null object\n",
      "journal-id_issn              943 non-null object\n",
      "publisher-manuscript         96 non-null object\n",
      "journal-id_archive           49 non-null object\n",
      "pmc-scan                     0 non-null object\n",
      "dtypes: object(51)\n",
      "memory usage: 20.0+ MB\n"
     ]
    }
   ],
   "source": [
    "items[items.full_text.notnull()].info()"
   ]
  },
  {
   "cell_type": "code",
   "execution_count": 868,
   "metadata": {
    "ExecuteTime": {
     "end_time": "2019-12-03T05:43:58.566796Z",
     "start_time": "2019-12-03T05:43:30.917314Z"
    }
   },
   "outputs": [],
   "source": [
    "items.to_csv('database/pmc_all.csv', sep='|')"
   ]
  },
  {
   "cell_type": "markdown",
   "metadata": {},
   "source": [
    "### Debug"
   ]
  },
  {
   "cell_type": "code",
   "execution_count": 830,
   "metadata": {
    "ExecuteTime": {
     "end_time": "2019-12-02T13:10:37.860583Z",
     "start_time": "2019-12-02T13:10:37.830551Z"
    }
   },
   "outputs": [],
   "source": [
    "root = get_element_tree(6069828)\n",
    "#root = get_element_tree(6070712)"
   ]
  },
  {
   "cell_type": "code",
   "execution_count": 860,
   "metadata": {
    "ExecuteTime": {
     "end_time": "2019-12-02T14:00:51.009143Z",
     "start_time": "2019-12-02T14:00:50.983186Z"
    }
   },
   "outputs": [
    {
     "data": {
      "text/plain": [
       "{'article-type': 'research-article',\n",
       " 'pmid': '30083313',\n",
       " 'pmc': '6069828',\n",
       " 'publisher-id': '383',\n",
       " 'doi': '10.1186/s13756-018-0383-4',\n",
       " 'category': 'Research',\n",
       " 'title': 'Implementing an infection control and prevention program decreases the incidence of healthcare-associated infections and antibiotic resistance in a Russian neuro-ICU',\n",
       " 'authors': 'Ksenia Ershova, Ivan Savin, Nataliya Kurdyumova, Darren Wong, Gleb Danilov, Michael Shifrin, Irina Alexandrova, Ekaterina Sokolova, Nadezhda Fursova, Vladimir Zelman, Olga Ershova',\n",
       " 'pub_date': '2018-7-31',\n",
       " 'copyright': '© The Author(s). 2018',\n",
       " 'license-type': 'OpenAccess',\n",
       " 'license': 'Open Access This article is distributed under the terms of the Creative Commons Attribution 4.0 International License ( http://creativecommons.org/licenses/by/4.0/ ), which permits unrestricted use, distribution, and reproduction in any medium, provided you give appropriate credit to the original author(s) and the source, provide a link to the Creative Commons license, and indicate if changes were made. The Creative Commons Public Domain Dedication waiver ( http://creativecommons.org/publicdomain/zero/1.0/ ) applies to the data made available in this article, unless otherwise stated.',\n",
       " 'keywords': 'Cross infection; Intensive care unit; Infection control; Drug resistance; Survival analysis',\n",
       " 'abstract': 'Background The impact of infection prevention and control (IPC) programs in limited resource countries such as Russia are largely unknown due to a lack of reliable data. The aim of this study is to evaluate the effect of an IPC program with respect to healthcare associated infection (HAI) prevention and to define the incidence of HAIs in a Russian ICU. Methods A pioneering IPC program was implemented in a neuro-ICU at Burdenko Neurosurgery Institute in 2010 and included hand hygiene, surveillance, contact precautions, patient isolation, and environmental cleaning measures. This prospective observational cohort study lasted from 2011 to 2016, included high-risk ICU patients, and evaluated the dynamics of incidence, etiological spectrum, and resistance profile of four types of HAIs, including subgroup analysis of device-associated infections. Survival analysis compared patients with and without HAIs. Results We included 2038 high-risk patients. By 2016, HAI cumulative incidence decreased significantly for respiratory HAIs (36.1% vs. 24.5%, p -value = 0.0003), urinary-tract HAIs (29.1% vs. 21.3%, p-value = 0.0006), and healthcare-associated ventriculitis and meningitis (HAVM) (16% vs. 7.8%, p-value = 0.004). The incidence rate of EVD-related HAVM dropped from 22.2 to 13.5 cases per 1000 EVD-days. The proportion of invasive isolates of Klebsiella pneumoniae and Acinetobacter baumannii resistant to carbapenems decreased 1.7 and 2 fold, respectively. HAVM significantly impaired survival and independently increasing the probability of death by 1.43. Conclusions The implementation of an evidence-based IPC program in a middle-income country (Russia) was highly effective in HAI prevention with meaningful reductions in antibiotic resistance. Electronic supplementary material The online version of this article (10.1186/s13756-018-0383-4) contains supplementary material, which is available to authorized users.',\n",
       " 'volume': '7',\n",
       " 'elocation-id': '94',\n",
       " 'journal-id_nlm-ta': 'Antimicrob Resist Infect Control',\n",
       " 'journal-id_iso-abbrev': 'Antimicrob Resist Infect Control',\n",
       " 'issn_epub': '2047-2994',\n",
       " 'journal_title': 'Antimicrobial Resistance and Infection Control',\n",
       " 'publisher_name': 'BioMed Central',\n",
       " 'publisher_loc': 'London',\n",
       " 'full_text': 'Background Infection prevention and control (IPC) programs have been repeatedly shown to be effective at decreasing the incidence of healthcare-associated infections (HAIs). A landmark paper on this topic in 1985 showed a 32% decrease in the hospital infection rate after 5 years of an ongoing IPC program [ 1 ]. In 1999 the CDC identified seven key evidence-based elements of an effective IPC strategy including voluntary participation of all hospitals, standardized case definitions and protocols, targeted interventions for high risk patient populations, risk adjusted comparisons of infection rates across hospitals, education and adequacy of resources, and feedback to healthcare providers [ 2 ]. The elements of an IPC program have since been significantly updated, forming the concept of “multimodal strategy” [ 3 ]. To prevent HAIs, the WHO recommends implementing an IPC program in every acute healthcare facility [ 4 ]. However, according to the most-recent survey, only 29% of 133 countries surveyed have IPC programs in all tertiary hospitals [ 3 ]. In Russia, IPC programs are also not widely used. The rate of HAIs in Russia has been heavily underestimated for decades. In 2016 it was reported to be approximately 0.08% (24,771 [ 5 ] cases per 31.3 million hospitalized patients [ 6 ]) yet a concurrent meta-analysis which included Russia reported the prevalence of HAIs at 15.5% [ 7 ]. According to the latest World Bank report, Russia has a gross national income per capita of US $9720, corresponding to a middle-income country [ 8 ]. Besides significant underreporting of HAIs, Russia faces other challenges in establishing IPC programs, such as lack of commitment, punishment-based HAI reporting systems, lack of expertise, and inadequate allocation of resources [ 9 ]. Since the dissolution of the Soviet Union, Russia has made some progress in adopting the IPC programs [ 10 ]. A pioneering Russian hospital where an evidence-based IPC program was implemented in 2010 is Burdenko National Medical Research Center of Neurosurgery (NSI) in Moscow. Herein we report the results of our study which aimed to evaluate the impact of this program on HAI prevention in the ICU. Methods Study design and healthcare facility This study was a prospective observational cohort study with annual interim data analyses. The study was done in the neuro-ICU department at NSI in Moscow, Russia. NSI is a specialized neurosurgical hospital with 300 beds that cares for approximately 8000 patients per year, 95% of whom undergo surgery. The NSI ICU has 38 single-bed rooms with a flow of approximately 3000 patients per year. Infection prevention and control program In September 2010, an IPC program was first set up in the neuro-ICU, inspired by the results of the European HELICS-ICU program [ 11 ]. The protocols for our IPC program were adopted from the 2007 CDC guidelines [ 12 ] and included three key components: education, infection prevention measures, and surveillance (Fig. 1 ). The surveillance software was designed in-house and integrated in the NSI electronic health record system [ 13 ]. At the time of initiation of this program, an antibiotic stewardship program was in existence at our facility. However, during the study period there were refinements to this program and coordination of antibiotic stewardship initiatives with the infection control program. Fig. 1 The key elements of multimodal strategy and core infection prevention and control measures in the scope of Infection Prevention and Control (IPC) Program implemented in 2010 in neuro-ICU at Burdenko National Medical Research Center of Neurosurgery in Russia Patients We studied a high-risk patient population, which we defined as patients who required > 48 h of care in the neurosurgical ICU. All of these patients were qualified to participate in the study until discharge or death. Enrollment period was between January 1st, 2011 and December 31st, 2016. Following ICU discharge, the parameters of total length of stay and outcome were collected. To identify cases of HAIs, we used the 2008 CDC definition [ 14 ]. Four types of HAIs were surveilled: bloodstream, respiratory and urinary-tract infections, and healthcare-associated ventriculitis and meningitis (HAVM). We specifically focused on the subgroup of device-related infections, such as central line-associated bloodstream infections (CLABSI), ventilator-associated pneumonia (VAP), catheter-associated urinary-tract infections (CAUTI), and external ventricular drain (EVD)-associated HAVM. In accordance with the CDC case definitions, an infection was considered device-related if the patient had a device in place for > 48 h prior to developing the HAI [ 12 ]. In addition to HAIs, we monitored superficial surgical-site infections (SSSI) after neurosurgery, and ICU-acquired intestinal dysfunction. The latter was clinically defined by the presence of one or more of the following gastrointestinal symptoms, as delineated in the literature [ 15 ]: vomiting, diarrhea, absence or abnormality of bowel sounds, bowel dilation, gastrointestinal bleeding, or increased nasogastric aspirate volume (> 500 ml/day). Data collection and preprocessing Data was collected prospectively on a daily basis and incorporated 54 different characteristics (Additional file 1 : Table S1). The spectrum and susceptibility profile of identified organisms causing the HAIs was built for each infection type. In January of each year, interim analysis was performed, and the results were then disseminated to NSI staff to encourage compliance with IPC measures. Microbiological analysis Clinical samples were collected form patients with HAIs and delivered to the microbiological laboratory without delay. Blood and CSF samples were processed using BD BACTEC (Becton, Dickinson and Company, USA). All samples of pure bacterial cultures underwent automated identification by VITEK®2 (Biomerieux, France) with standard AST Cards. Selected samples of pure bacterial cultures were subsequently identified by MALDI-TOF MS, MALDI Biotyper® (Bruker Daltonik GmbH, Germany). Minimal inhibitory concentrations obtained from VITEK®2 were interpreted in accordance with the current CLSI guidelines [ 16 ]. A profile of antibiotic resistance for each strain was built using the WHONET software [ 17 ]. Statistical analysis Statistical analysis was performed in Python3.6 using StatsModels [ 18 ] and Scipy [ 19 ]. Categorical variables for dichotomous events were reported as number of events of one category with percentage and 95% confidence interval (CI) for binomial distribution. Continuous variables were reported as a median value with first and third quartiles (Q1; Q3). Incidence of HAIs was calculated as a number of cases per 100 high-risk patients or as a number of cases per 1000 patient-days. DA-HAIs were measured as cases per 1000 device-days. Device utilization ratio (DUR) was calculated as proportion of device-days to patient-days. We used Chi-square test to compare binary and categorical variables and linear regression analysis to compare continuous variables over years. In survival analysis we used Cox regression, including HAIs, diagnosis, surgeries, and preexisting characteristics. Log-rank test was used to compare survival curves. P -values below 0.05 were considered statistically significant. Results A total of 2038 patients of all ages and both genders were included in the study during 6 years (the study data set is available at 10.5281/zenodo.1021503). The code for data analysis is available at https://github.com/KseniaErshova/IPC_paper.git . Study population included 50% males, 16.9% children under 18 years, and a patient median age of 46 [Q1;Q3: 26.0; 59.0] years. The patients were uniformly distributed across the years by disease types, surgery types, and patient features. However, the number of lethal outcomes and the length of stay in the ICU decreased from 2011 to 2016. The baseline characteristics of the study population for each year and averaged over the 6 years are shown in Table 1 . Table 1 Baseline characteristics of the study population by years Parameters Total 2011 2012 2013 2014 2015 2016 p -value No of pts. (%) No of pts. (%) No of pts. (%) No of pts. (%) No of pts. (%) No of pts. (%) Patients, total 2038 313 (100%) 350 (100%) 361 (100%) 341 (100%) 326 (100%) 347 (100%) 1.000 Children 345 (16.9%) 52 (16.6%) 57 (16.3%) 58 (16.1%) 65 (19.1%) 42 (12.9%) 71 (20.5%) 0.315 Male gender 1020 (50%) 154 (49.2%) 184 (52.6%) 186 (51.5%) 168 (49.3%) 164 (50.3%) 164 (47.3%) 0.976 Diagnosis Brain trauma 255 (12.5%) 43 (13.7%) 54 (15.4%) 51 (14.1%) 41 (12.0%) 28 (8.6%) 38 (11.0%) 0.192 Brain tumor 1271 (62.4%) 185 (59.1%) 221 (63.1%) 240 (66.5%) 200 (58.7%) 209 (64.1%) 216 (62.2%) 0.911 Congenital disorders 23 (1.1%) 4 (1.3%) 5 (1.4%) 3 (0.8%) 7 (2.1%) 2 (0.6%) 2 (0.6%) 0.436 Vascular brain diseases 454 (22.3%) 77 (24.6%) 60 (17.1%) 63 (17.5%) 89 (26.1%) 80 (24.5%) 85 (24.5%) 0.066 Other diseases 29 (1.4%) 3 (1.0%) 10 (2.9%) 4 (1.1%) 4 (1.2%) 4 (1.2%) 4 (1.2%) 0.302 Surgeries Craniotomy 1537 (75.4%) 230 (73.5%) 261 (74.6%) 279 (77.3%) 262 (76.8%) 245 (75.2%) 260 (74.9%) 0.998 INSD 650 (31.9%) 101 (32.3%) 130 (37.1%) 124 (34.3%) 112 (32.8%) 94 (28.8%) 89 (25.6%) 0.227 Endovascular surgery 194 (9.5%) 31 (9.9%) 37 (10.6%) 26 (7.2%) 40 (11.7%) 25 (7.7%) 35 (10.1%) 0.407 EETS 87 (4.3%) 13 (4.2%) 15 (4.3%) 15 (4.2%) 14 (4.1%) 15 (4.6%) 15 (4.3%) 1.000 Spinal surgery 4 (0.2%) 1 (0.3%) 0 (0.0%) 0 (0.0%) 0 (0.0%) 2 (0.6%) 1 (0.3%) 0.377 Other surgeries 873 (42.8%) 151 (48.2%) 161 (46.0%) 156 (43.2%) 146 (42.8%) 127 (39.0%) 132 (38.0%) 0.523 Outcomes Recovery 80 (3.9%) 15 (4.8%) 14 (4.0%) 14 (3.9%) 19 (5.6%) 9 (2.8%) 9 (2.6%) 0.365 Positive dynamics 934 (45.8%) 133 (42.5%) 153 (43.7%) 170 (47.1%) 159 (46.6%) 150 (46.0%) 169 (48.7%) 0.934 No dynamics 210 (10.3%) 34 (10.9%) 41 (11.7%) 37 (10.2%) 30 (8.8%) 29 (8.9%) 39 (11.2%) 0.818 Negative dynamics 505 (24.8%) 81 (25.9%) 67 (19.1%) 78 (21.6%) 92 (27.0%) 96 (29.4%) 91 (26.2%) 0.153 Death 307 (15%) 50 (16.0%) 75 (21.4%) 62 (17.2%) 41 (12.0%) 41 (12.6%) 38 (11.0%) 0.009 Median [Q1;Q3] Median [Q1;Q3] Median [Q1;Q3] Median [Q1;Q3] Median [Q1;Q3] Median [Q1;Q3] Median [Q1;Q3] p -value Age, years 46 [26.0; 59.0] 44 [25.0; 57.0] 44 [25.0; 58.0] 47 [26.0; 60.0] 44 [25.0; 57.0] 50 [30.0; 59.75] 48 [24.5; 60.5] 0.099 CCI score 3 [2.0; 5.0] 3 [2.0; 4.0] 3 [2.0; 5.0] 3 [2.0; 5.0] 3 [2.0; 4.0] 3 [2.0; 5.0] 3 [2.0; 4.0] 1.000 Length of stay in ICU, days 10 [6.0; 22.0] 13 [7.0; 27.0] 12 [6.0; 25.0] 10 [6.0; 24.0] 8 [6.0; 22.0] 9 [6.0; 22.0] 8 [5.0; 17.0] 0.010 Abbreviations: INSD Implantation of neurosurgical devices, EETS Endoscopic endonasal transsphenoidal surgery, CCI Charlson comorbidity index HAIs and patients’ stay in the ICU A median number of 344 [Q1;Q3: 330; 349] patients per year accounted for a median 6998 [Q1;Q3: 6678; 7399] patient-days per year (Additional file 1 : Table S2). Since the number of patients increased from 2011 to 2016 by an average of 2.3% annually and the number of patient-days gradually decreased simultaneously by 2.7% per year (from 6778 to 5809), an average patient spent less time in the ICU, from the median of 13 days [Q1;Q3: 7.0; 27.0] in 2011 to 8 days [Q1;Q3: 5.0; 17.0] in 2016, p -value = 0.01 (Table 1 ). We found that over the six-year study, the lowest percentage of DA-HAIs was in the HAVM group: 40.4% [95% CI 33.6–47.1]. The highest percentage of DA-HAIs was in healthcare-associated bloodstream infections: 86.6% [95% CI 80.4–92.7]. Thus, most healthcare-associated bloodstream infections were CLABSI, whereas less than half of HAVM cases were EVD-associated (Additional file 1 : Table S3, Fig. 2 ). Fig. 2 Proportion of time-dependent variables (total patient days, device days, days with infection, days with device-associated infection; unstacked area plot), number of patients, and device utilization ratio (right y-axis) for corresponding device by the years for each HAI. a HA respiratory infection and mechanical ventilation. b HA urinary tract infection and urinary catheter. c HA bloodstream infection and central line. d HA ventriculitis and meningitis and EVD. Number of patients in the study in each year is presented in a table below each graph. HA - healthcare-associated; HAI - healthcare-associated infection; DA-HAI - device-associated HAI. Star (*) shows p -value > 0.05 in a linear regression analysis over years DUR was relatively high for mechanical ventilation (0.65 [Q1;Q3: 0.65; 0.69]), central line (0.70 [Q1;Q3: 0.66; 0.76]), and urinary catheter (0.70 [Q1;Q3: 0.67; 0.72]), but low for EVD (0.12 [Q1;Q3: 0.12; 0.13] (Additional file 1 : Table S2, Fig. 2 ). Although, DURs varied slightly over time, we observed a significant decrease in the number of days with respiratory HAIs: from 1643 days in 2011 to 690 in 2016 (mean annual reduction rate 11.9%, p -value = 0.038), while the number of days with VAP remained unchanged (Fig. 2a ). The number of patients with HAVM and with DA-HAVM decreased significantly from 2011 to 2016 (Fig. 2d ). Incidence of healthcare-associated infections The incidence of all-cause HAIs and DA-HAIs was analyzed. The cumulative incidence of all-cause HAIs decreased significantly for respiratory infections (from 36.1% [95% CI 30.8–41.4] in 2011 to 24.5% [95% CI 20.0–29.0] in 2016, p-value = 0.0003), urinary tract infections (from 29.07% [95% CI 24.0–34.1] in 2011 to 21.33% [95% CI 17.0–25.6], p-value = 0.0006), and HAVM (from 15.97% [95% CI 11.9–20.0] in 2011 to 7.78% [95% CI 5.0–10.6] in 2016, p-value = 0.004) (Fig. 3a , Additional file 1 : Table S4). Time-adjusted incidence rate of all-cause HAIs identified a declining trend for all four types of HAIs (Fig. 3c ). In the group of DA-HAIs, only the cumulative incidence of CAUTI decreased significantly, from 28.04 [95% CI 22.7–33.4] per 100 patients with a urinary catheter in 2011 to 18.31 [95% CI 13.8–22.8] in 2016, p-value = 0.026 (Fig. 3b , Additional file 1 : Table S4). However, once we adjusted incidence to the device-days at risk, EVD-associated HAVM demonstrated a significant drop from 2011 to 2016 (22.2 vs. 13.5 cases per 1000 EVD-days, respectively) (Fig. 3d , Additional file 1 : Table S2). Risk-adjusted incidence of VAP and CAUTI also trended toward a decrease. The incidence rate of CLABSI did not change and remained at the median level of 3.7 [Q1;Q3: 3.5; 4.1] per 1000 central line-days (Fig. 3d , Additional file 1 : Table S2). Of note, in 2012 the rates of respiratory and urinary HAIs as well as VAP and CAUTI spiked increasing 4–14% compare to 2011 (Additional file 1 : Table S4). Therefore, the reduction in infection rate at the end of the study period in 2016 was more pronounced when compared to peak rates seen in 2012. Fig. 3 The incidence rate of HAIs in high-risk patients in 2011–2016. a Cumulative incidence of HAIs, cases per 100 patients in study population. b Cumulative incidence of device-associated HAIs per 100 patients with devices. c incidence rate of all HAIs, cases per 1000 patient-days. d incidence rate of device-associated HAIs, cases per 1000 device-days in patients with devices. Star (*) marks p-value < 0.05 in group comparison; in a and b p -values obtained from Chi-square test, in c and d —from linear regression. In a and b shadowed area shows 95% confidence interval, in c and d —the confidence interval for the regression estimate. Abbreviations: VAP - Ventilator-Associated Pneumonia; CLABSI - Central Line-associated Bloodstream Infection; CAUTI - Catheter-Associated Urinary Tract Infection Microbiological profile of HAIs We observed that in 2011–2012 approximately half of bloodstream HAIs were caused by Klebsiella pneumoniae and Acinetobacter baumannii. However, in 2016 the proportion of K. pneumoniae decreased to 14% from a high of 47% in 2012 and A. baumannii did not appear on the profile for the first time (Fig. 4a ). There was a tendency for Gram-negative species to be replaced by Gram-positive species (Fig. 4a ). For other HAIs, the etiological spectrum remained relatively stable over time (Additional file 1 : Figures S1–S3). Fig. 4 The surveillance results at the high-risk patient population in neuro-ICU from 2011 to 2016. a the dynamics of etiological structure of bloodstream HAIs. b The proportion of bacterial isolates resistant to Imipenem. c Survival curves for patients with and without bloodstream HAIs throughout the entire study period. d Survival curves for patients with and without HAVM throughout the entire study period. Shadowed areas with corresponding color at b, c and d represent 95% confidence interval. For survival curves, number of patients at risk in each group is presented in table below each graph. Abbreviations: MRSA - methicillin-resistant Staphylococcus aureus ; CoNS - coagulase-negative Staphylococci, HAVM - healthcare-associated ventriculitis and meningitis By 2016 K. pneumoniae became more susceptible to the most-tested antibiotics: there were significantly fewer isolates resistant to cephalosporins, ciprofloxacin, and imipenem as compared to 2011 (Additional file 1 : Figure S4). The proportion of imipenem-resistant K. pneumoniae decreased from 34.5% [95% CI 29.9–39.1] in 2011 to 20.2% [95% CI 15.6–24.8], p -value < 0.001 (Fig. 4b ). Dramatic changes were found in cephalosporin resistance, e.g. in 2011 there were 90.3% isolates resistant to cefepime [95% CI 87.4–93.1] vs. 45.6% [95% CI 39.9–51.4] in 2016, p -value < 0.001 (Additional file 1 : Figure S4). The number of imipenem-resistant isolates of A. baumannii decreased from 77.7% [95% CI 72.3–83.0] in 2011 to 38% [95% CI 30.9–45.1] in 2016, p -value < 0.001 (Fig. 4b ). While the proportion of ampicillin/sulbactam-resistant isolates increased from 48.1% [95% CI 34.8–61.5] in 2011 to 82% [95% CI 76.2–87.9] in 2016, p -value < 0.001, the resistance to the rest of tested antibiotics remained virtually unchanged (Additional file 1 : Figure S5). These changes in resistance occurred with a concurrent reduction in antibiotic utilization over the study period. Antibiotic use was measured as antibiotic-days per 1000 patient-days. The rate of antibiotic utilization was initially 1066 antibiotic days per 1000 patient-days in 2011. This highlights that multiple antibiotics were administered in many patients and a high overall usage rate was in effect. Over the six-year study period the utilization rate consistently declined. In 2016 the utilization rate was 807 antibiotic days per 1000 patient-days. Survival analysis in patients with HAIs Bloodstream HAIs and HAVM significantly impair survival (log-rank p -values = 0.012 and < 0.0001, respectively), Fig. 4c and 4d . In order to confirm their influence on mortality, multifactorial survival analyses were done by Cox regression (Additional file 1 : Table S5). We confirmed that only HAVM affected survival independently from other factors, increasing the probability of death 1.43 times (95% CI 1.03–1.98, p-value = 0.034). Other types of HAIs did not influence survival (Additional file 1 : Figure S6). Besides HAIs, other factors were shown to independently affect survival. While brain tumor (HR = 1.57 [95% CI 1.1–2.24], p-value = 0.012) and implantation of neurosurgical devices (HR = 1.59 [95% CI 1.24–2.03], p-value = 0.0002) enhanced mortality, craniotomy decreased mortality: HR = 0.64 [95% CI 0.48–0.87], p-value = 0.0037 (Additional file 1 : Figure S7). ICU-acquired intestinal dysfunction The cumulative incidence of overall intestinal dysfunctions dropped from 54.9% [95% CI 49.4–60.5] in 2011 to 23.9% [95% CI 19.4–28.4] in 2016, p-value < 0.001 (Additional file 1 : Figure S8A, Additional file 1 : Table S6). Intestinal dysfunction impaired survival independently increasing the probability of death 1.46 times [95% CI 1.11–1.93], p-value = 0.0069; log-rank test p-value = 0.019 (Additional file 1 : Figure S8D). Discussion A comprehensive IPC program with a focus on hand hygiene and patient isolation was started in NSI’s ICU in 2010 (Fig. 1a ). By that time, the use of our IPC program to prevent HAIs in the ICU became a paradigm-shifting solution across Russia as HAI prevention strategies had previously remained unchanged for years and had become outdated [ 20 ]. The importance of HAI prevention programs is clearly indicated by the observation that HAIs directly deteriorate patient survival. It was found that HAIs increased the probability of death by 1.4–1.5 [ 21 ] and odds of mortality increased 1.5 to 1.9-fold [ 22 ]. In our study, we found that HAVM decreased the probability of survival by 1.43, while other HAIs did not significantly influence survival. It has been previously reported that HAVM increased mortality rate approximately three times [ 23 ]. Although the exact mechanism is not yet understood, prospective studies have found that in ICU patients, gastrointestinal dysfunction is also an independent risk factor for increased mortality [ 15 ]. We can postulate that the intestinal microbiome serves an important role in immune function and consequently, is a well described reservoir for antibiotic resistance [ 24 ]. Additionally, in critically ill patients intestinal dysbiosis could be postulated as a potential contributor to gut translocation of pathogens and may play a role in enteric absorption. In our study, ICU-acquired intestinal dysfunction decreased the probability of survival by 1.46, which is consistent with earlier studies. The implementation of IPC initiatives and the accompanying reduction in the incidence of infections, thereby reducing the requirement for antibiotics, can be assumed to at least in part account for reduction in gastrointestinal dysbiosis. This finding further highlights the potential unseen morbidity impact of IPC beyond simple measures of antibiotic utilization and resistance rates. The implementation of the IPC program was followed by significant reduction of HAIs in the ICU. In fact, the impact of this program may actually be under-estimated. Our IPC program was implemented in 9/2010 whereas study data collection began 1/2011. Therefore, although adherence to IPC protocols would be expected to improve with greater time and familiarity, the totality of impact of this program may be under-estimated. Key initiatives, such as early removal of indwelling catheters, would be expected to have an immediate impact in the reduction of nosocomial infections. Even discounting the IPC impact in the initial months after implementation, the fact that a sustained and continued reduction in HAI rate occurred is both meaningful and serves as a reinforcement of overall utility. In high-risk ICU patients we observed a substantial decrease in HAI incidence: cumulative incidence of respiratory HAIs declined by 1.47 (from 36.1 to 24.5%), urinary tract HAIs by 1.4-fold (from 29.1 to 21.3%), HAVM by twofold (from 16 to 7.8%), CAUTI by 1.93 (from 35.4 to 18.3%) (Fig. 3 ), and ICU-acquired intestinal dysfunction by 2.3 fold. These results are consistent with previously reported evidence, demonstrating a reduction of HAI prevalence by approximately 1.7 fold (from 11.7 to 6.8%) [ 25 ]. We also found that the risk-adjusted incidence of EVD-related HAVM reduced 1.64 fold (from 22.2 to 13.5 cases per 1000 EVD-days) over the six-year study period. The impact of an IPC program on decreasing DA-HAI incidence has been previously reported. For example, one publication reported a 2.7-fold decrease in CAUTI episodes per 100 patients within a year after IPC implementation [ 26 ]. However, for some HAIs, like HAVM, such statistics are absent. In addition, the changes in the incidence of intestinal dysfunction could be confounded by the implementation of an advanced nutritional protocol in 2012 at the ICU. We did find that in 2012 the rates of several infection subcategories did increase in comparison to 2011. The rate of respiratory and urinary HAIs had increases ranging from 4 to 14% compared to 2011. The reason for this increase is unclear, but we postulate that this may be related to several factors. One contributor may be that staff were educated on the appropriate identification of HAIs and utilized clear standardized case definitions. As staff became more familiar with these definitions, they may have been able to better identify cases leading to an apparent increase in infection rates. Additionally, during initial implementation of IPC protocols, staff underwent in-service training and consequently there was a specific focus on the strict adherence to protocols. However, adherence to infection control practices may wane with time, and that probably what happened in 2012. Therefore, continued reinforcement of best practices along with feedback to healthcare teams is necessary for sustained adherence to IPC initiatives. Following the re-education of staff, a renewed attention to IPC may have contributed to reductions seen in 2013 HAI rate. Additionally, both the length of patients’ stays in the ICU and the incidence of patient mortality did decrease over the study period. Although a direct causality cannot be determined, it would be fair to postulate that the associated decrease in HAI incidence may at least have been a partial contributor for this reduction. Thus, a reduction in the rate of HAIs may result in a meaningful reduction in healthcare cost, and potential benefit in overall mortality. However, we did not monitor all other parameters that could have influenced the mortality and the length of stay, thus other explanations should be investigated. Additionally, we admit that the overall approach in patient treatment did not change much, and the DUR did not change for any of the devices we monitored. The prevention of the spread of carbapenem-resistant, Gram-negative bacteria was named the first priority of IPC efforts by the latest WHO guidelines because these strains pose significant threat to global health [ 27 ]. We found firstly that the proportion of such Gram-negatives as K. pneumoniae and A. baumannii in the spectrum of bloodstream HAIs decreased and secondly that the resistance of both pathogens to carbapenems was significantly reduced. In our study the initial percentage of isolates resistant to imipenem was 34.5% for K. pneumonia and 77.7% for A. baumannii. By the end of the study, the percentage decreased 1.7- and 2-fold, respectively (Fig. 4b ). The initial prevalence of carbapenem-resistant isolates in the NSI neuro-ICU was shown to be higher than the mean prevalence in Europe (8.1% for K. pneumoniae and 50% for A. baumannii ), and in the U.S. (7.9% for K. pneumoniae and 49.5% for A. baumannii ) [ 27 ]. This finding could partly be explained by the study population because we analyzed only intensive care unit patients which may be a higher risk population. However, we postulate these initial rates of carbapenem resistance were at least in part due to nosocomial cross-infection of patients. Our hypothesis is that the implementation of IPC protocols acted in a two-fold manner with an initial reduction in nosocomial patient-to-patient transmission which consequently lead to a reduction in nosocomial infection rate. Our most critical interventions involved implementation of contact precautions utilizing gloves, gown, and mask, isolation of patients identified with carbapenemase resistance genes, and cohorting of patients with Acinetobacter or Klebsiella (Fig. 1 ). These efforts were paired with intensive environmental disinfection measures, skin antisepsis for indwelling devices, as well as initiates focused on hand hygiene as a multi-modal strategy (Fig. 1 ). Of note, hand hygiene compliance was particularly difficult to implement with a compliance rate of 27% in 2011. Compliance with hand hygiene in the subsequent years 2012 through 2016 were 40, 69, 63, 68, and 81% respectively. The reduction in infection rate over time could reasonably be postulated to result in a secondary reduction in the necessity of broad spectrum antibiotic therapy. This reduction in antibiotic utilization is underscored by the dramatic decline in the rate of antibiotic utilization over the study period. It must be noted that an antibiotic stewardship program was in existence prior to IPC implementation. Antibiotic stewardship involved institutional protocols for perioperative antibiotic prophylaxis and for empiric antibiotic therapy. However, integration of IPC protocols, including surveillance measures may have enhanced the effectiveness of antibiotic stewardship interventions. The ultimate result was that within the study period, our observed resistance rates decreased to the level of global and regional estimations. This improvement in susceptibility rates, is in contrast to the global trend of increasing carbapenem resistance over the past decade [ 27 ], indicating that in limited-resource settings IPC programs can be highly effective. The programs may be especially significant in healthcare settings with high levels of resistance where they can serve as a cost-effective intervention leading to a substantial clinical impact. The substantial diminution in carbapenem resistance supports the notion that implemented IPC strategies contain effective measures to prevent and control the resistance to carbapenems (Fig. 1 ). Moreover, this is supported by the recent WHO guidelines which affirmed that the core components of multimodal IPC strategy can help to prevent carbapenem resistance. This paper reports a prospective study of the impact of an infection control program in a high acuity limited resource setting with regard to the reduction in HAI risk. Such studies are limited to date but have been identified by the WHO as particularly needed [ 27 ]. Thus, this study can help to fill this research gap providing insight regarding an approach to implantation of these programs and highlighting the most essential IPC components. Our results suggest that a focus on robust surveillance paired with isolation/infection control measures can promote a sustainable and meaningful reduction in HAI incidence and antibiotic resistance. The current study has certain limitations. It is a single-center study in a highly specialized ICU facility. Thus, one should be careful when generalizing these results to other hospitals and other wards. In addition, we only studied a cohort of high-risk patients, those staying in the dedicated neuro-ICU for > 48 h—not the entire ICU population. Thus, reported HAI incidences are higher than those calculated for the entire ICU population. However, the underlying principles of our IPC program leading to the reduction of CAUTI, CLABSI, and VAP would be expected to be generalizable to other hospitalized settings with a similar expected impact. One aspect that was not able to be fully evaluated were Clostridium difficile infections (CDI). The prevalence of CDI, identified by a positive PCR stool assay and compatible symptoms, was measured quarterly. However, the quarterly rate included all patients in the ICU at the time of a positive diagnosis and included patients that did not meet the defined criteria for high-risk population that were studied. Additionally, the incidence rate was low throughout the six-year period with a peak rate of 1.5% in 2011 and a nadir of 0.9% in 2015. Notably, patients who were transferred out of the ICU and subsequently developed CDI would not have been identified. Therefore, we can postulate that IPC initiatives may result in a reduction in CDI as the rate did decline from 2011; however, the low overall incidence of CDI and aforementioned limitations do not allow for definitive conclusions. By design, the study did not include a control group (i.e. a group treated in the ICU before the IPC program had been implemented), because HAI rates without surveillance are unknown. Moreover, the decrease of HAI incidence and length of stay in the ICU could be explained by modification of clinical practices and by regression to the mean. It should be mentioned that survival analysis in our study suffers from immortal time bias. Patients in the HAI group are “immortal” until they get the infection, that favors the HAI group by lowering mortality rate in this group. Thus, HAIs have a stronger influence on survival, posing a higher risk of death in patients once they get HAIs. Conclusion Implementation of an evidence-based IPC program was strongly associated with a significant reduction in HAIs in the neuro-ICU. Over a six-year period, there was a decreasing HAI incidence, reduction in the prevalence of carbapenem-resistant invasive bacterial isolates, and consequently improved patient outcomes. Our study supports the finding that an IPC program can be highly effective in a middle-income country (Russia) despite the lack of a national surveillance system and limited resources. Expansion of IPC initiatives, potentially paired with a robust antimicrobial stewardship program, should be considered in resource limited settings as a feasible cost-effective opportunity to achieve meaningful reductions in antibiotic resistance and HAI incidence. Additional file Additional file 1: Supplementary materials for the research study report \"Implementing an infection control and prevention program decreases the incidence of healthcare-associated infections and antibiotic resistance in a Russian neuro-ICU\". (PDF 35444 kb)',\n",
       " 'abstract_len': 1930,\n",
       " 'full_text_len': 33367}"
      ]
     },
     "execution_count": 860,
     "metadata": {},
     "output_type": "execute_result"
    }
   ],
   "source": [
    "root = get_element_tree(6069828)\n",
    "item = parse_element_tree(root)\n",
    "item"
   ]
  },
  {
   "cell_type": "code",
   "execution_count": 501,
   "metadata": {
    "ExecuteTime": {
     "end_time": "2019-11-27T10:10:04.197895Z",
     "start_time": "2019-11-27T10:10:04.034338Z"
    }
   },
   "outputs": [
    {
     "data": {
      "text/html": [
       "<div>\n",
       "<style scoped>\n",
       "    .dataframe tbody tr th:only-of-type {\n",
       "        vertical-align: middle;\n",
       "    }\n",
       "\n",
       "    .dataframe tbody tr th {\n",
       "        vertical-align: top;\n",
       "    }\n",
       "\n",
       "    .dataframe thead th {\n",
       "        text-align: right;\n",
       "    }\n",
       "</style>\n",
       "<table border=\"1\" class=\"dataframe\">\n",
       "  <thead>\n",
       "    <tr style=\"text-align: right;\">\n",
       "      <th></th>\n",
       "      <th>abstract</th>\n",
       "      <th>abstract_len</th>\n",
       "      <th>article-type</th>\n",
       "      <th>category</th>\n",
       "      <th>full_text_len</th>\n",
       "      <th>pmc</th>\n",
       "      <th>pmid</th>\n",
       "      <th>title</th>\n",
       "    </tr>\n",
       "  </thead>\n",
       "  <tbody>\n",
       "    <tr>\n",
       "      <th>0</th>\n",
       "      <td>\\n         \\n     As part of a prospective sur...</td>\n",
       "      <td>1555.0</td>\n",
       "      <td>research-article</td>\n",
       "      <td>Research Article</td>\n",
       "      <td>0.0</td>\n",
       "      <td>1000359</td>\n",
       "      <td>496443</td>\n",
       "      <td>The neuropsychiatric disorder in systemic lupu...</td>\n",
       "    </tr>\n",
       "    <tr>\n",
       "      <th>1</th>\n",
       "      <td>NaN</td>\n",
       "      <td>0.0</td>\n",
       "      <td>book-review</td>\n",
       "      <td>Book Reviews</td>\n",
       "      <td>0.0</td>\n",
       "      <td>1000485</td>\n",
       "      <td>NaN</td>\n",
       "      <td>Clinical Aspects of Neuroimmunology</td>\n",
       "    </tr>\n",
       "    <tr>\n",
       "      <th>2</th>\n",
       "      <td>\\n         \\n     Two popliteal swellings, tho...</td>\n",
       "      <td>462.0</td>\n",
       "      <td>research-article</td>\n",
       "      <td>Research Article</td>\n",
       "      <td>0.0</td>\n",
       "      <td>1001222</td>\n",
       "      <td>6696518</td>\n",
       "      <td>Popliteal masses masquerading as popliteal cysts.</td>\n",
       "    </tr>\n",
       "    <tr>\n",
       "      <th>3</th>\n",
       "      <td>NaN</td>\n",
       "      <td>0.0</td>\n",
       "      <td>research-article</td>\n",
       "      <td>Research Article</td>\n",
       "      <td>0.0</td>\n",
       "      <td>1001788</td>\n",
       "      <td>4083935</td>\n",
       "      <td>Rheumatoid subluxations of the cervical spine.</td>\n",
       "    </tr>\n",
       "    <tr>\n",
       "      <th>4</th>\n",
       "      <td>\\n         \\n     Cervical myelopathy is a rar...</td>\n",
       "      <td>1292.0</td>\n",
       "      <td>research-article</td>\n",
       "      <td>Research Article</td>\n",
       "      <td>0.0</td>\n",
       "      <td>1001789</td>\n",
       "      <td>4083936</td>\n",
       "      <td>Surgical treatment of cervical cord compressio...</td>\n",
       "    </tr>\n",
       "    <tr>\n",
       "      <th>5</th>\n",
       "      <td>\\n         \\n     Material from 100 consecutiv...</td>\n",
       "      <td>958.0</td>\n",
       "      <td>research-article</td>\n",
       "      <td>Research Article</td>\n",
       "      <td>0.0</td>\n",
       "      <td>1001857</td>\n",
       "      <td>3954473</td>\n",
       "      <td>Amyloid in intervertebral discs: a histopathol...</td>\n",
       "    </tr>\n",
       "    <tr>\n",
       "      <th>6</th>\n",
       "      <td>NaN</td>\n",
       "      <td>0.0</td>\n",
       "      <td>research-article</td>\n",
       "      <td>Research Article</td>\n",
       "      <td>0.0</td>\n",
       "      <td>1002279</td>\n",
       "      <td>2309487</td>\n",
       "      <td>Perceived health quackery use among patients. ...</td>\n",
       "    </tr>\n",
       "    <tr>\n",
       "      <th>7</th>\n",
       "      <td>\\n         \\n     \\n           \\n       Images...</td>\n",
       "      <td>167.0</td>\n",
       "      <td>research-article</td>\n",
       "      <td>Research Article</td>\n",
       "      <td>0.0</td>\n",
       "      <td>1002313</td>\n",
       "      <td>2305578</td>\n",
       "      <td>Intracranial tuberculoma developing during the...</td>\n",
       "    </tr>\n",
       "    <tr>\n",
       "      <th>8</th>\n",
       "      <td>\\n         \\n     Multiple myeloma associated ...</td>\n",
       "      <td>1147.0</td>\n",
       "      <td>review-article</td>\n",
       "      <td>Research Article</td>\n",
       "      <td>0.0</td>\n",
       "      <td>1002325</td>\n",
       "      <td>2185597</td>\n",
       "      <td>Syndrome of plasma cell dyscrasia, polyneuropa...</td>\n",
       "    </tr>\n",
       "    <tr>\n",
       "      <th>9</th>\n",
       "      <td>\\n         \\n     \\n           \\n       Images...</td>\n",
       "      <td>129.0</td>\n",
       "      <td>research-article</td>\n",
       "      <td>Research Article</td>\n",
       "      <td>0.0</td>\n",
       "      <td>1002389</td>\n",
       "      <td>2161587</td>\n",
       "      <td>A 36-year-old woman with a pulsatile mass of t...</td>\n",
       "    </tr>\n",
       "  </tbody>\n",
       "</table>\n",
       "</div>"
      ],
      "text/plain": [
       "                                            abstract  abstract_len  \\\n",
       "0  \\n         \\n     As part of a prospective sur...        1555.0   \n",
       "1                                                NaN           0.0   \n",
       "2  \\n         \\n     Two popliteal swellings, tho...         462.0   \n",
       "3                                                NaN           0.0   \n",
       "4  \\n         \\n     Cervical myelopathy is a rar...        1292.0   \n",
       "5  \\n         \\n     Material from 100 consecutiv...         958.0   \n",
       "6                                                NaN           0.0   \n",
       "7  \\n         \\n     \\n           \\n       Images...         167.0   \n",
       "8  \\n         \\n     Multiple myeloma associated ...        1147.0   \n",
       "9  \\n         \\n     \\n           \\n       Images...         129.0   \n",
       "\n",
       "       article-type          category  full_text_len      pmc     pmid  \\\n",
       "0  research-article  Research Article            0.0  1000359   496443   \n",
       "1       book-review      Book Reviews            0.0  1000485      NaN   \n",
       "2  research-article  Research Article            0.0  1001222  6696518   \n",
       "3  research-article  Research Article            0.0  1001788  4083935   \n",
       "4  research-article  Research Article            0.0  1001789  4083936   \n",
       "5  research-article  Research Article            0.0  1001857  3954473   \n",
       "6  research-article  Research Article            0.0  1002279  2309487   \n",
       "7  research-article  Research Article            0.0  1002313  2305578   \n",
       "8    review-article  Research Article            0.0  1002325  2185597   \n",
       "9  research-article  Research Article            0.0  1002389  2161587   \n",
       "\n",
       "                                               title  \n",
       "0  The neuropsychiatric disorder in systemic lupu...  \n",
       "1                Clinical Aspects of Neuroimmunology  \n",
       "2  Popliteal masses masquerading as popliteal cysts.  \n",
       "3     Rheumatoid subluxations of the cervical spine.  \n",
       "4  Surgical treatment of cervical cord compressio...  \n",
       "5  Amyloid in intervertebral discs: a histopathol...  \n",
       "6  Perceived health quackery use among patients. ...  \n",
       "7  Intracranial tuberculoma developing during the...  \n",
       "8  Syndrome of plasma cell dyscrasia, polyneuropa...  \n",
       "9  A 36-year-old woman with a pulsatile mass of t...  "
      ]
     },
     "execution_count": 501,
     "metadata": {},
     "output_type": "execute_result"
    }
   ],
   "source": [
    "filenames = os.listdir(full_texts_path)\n",
    "items = pd.DataFrame()\n",
    "for filename in filenames[0:10]:\n",
    "    root = get_element_tree(filename)\n",
    "    item = parse_element_tree(root)\n",
    "    items = items.append(item, ignore_index=True)\n",
    "items"
   ]
  },
  {
   "cell_type": "code",
   "execution_count": 798,
   "metadata": {
    "ExecuteTime": {
     "end_time": "2019-12-02T10:49:22.360086Z",
     "start_time": "2019-12-02T10:49:22.348118Z"
    }
   },
   "outputs": [
    {
     "data": {
      "text/plain": [
       "[<Element 'article-meta' at 0x000001E14189F778>]"
      ]
     },
     "execution_count": 798,
     "metadata": {},
     "output_type": "execute_result"
    }
   ],
   "source": [
    "article_meta = root.findall('article/front/article-meta')\n",
    "article_meta"
   ]
  },
  {
   "cell_type": "code",
   "execution_count": 595,
   "metadata": {
    "ExecuteTime": {
     "end_time": "2019-11-28T09:57:36.403303Z",
     "start_time": "2019-11-28T09:57:36.397319Z"
    }
   },
   "outputs": [
    {
     "name": "stdout",
     "output_type": "stream",
     "text": [
      "Ksenia Ershova, Ivan Savin, Nataliya Kurdyumova, Darren Wong, Gleb Danilov, Michael Shifrin, Irina Alexandrova, Ekaterina Sokolova, Nadezhda Fursova, Vladimir Zelman, Olga Ershova\n"
     ]
    }
   ],
   "source": [
    "authors = []\n",
    "article_meta = root.findall('article/front/article-meta')\n",
    "for meta in article_meta:\n",
    "    contributors = meta.findall('contrib-group/contrib')\n",
    "    for contributor in contributors:\n",
    "        for contributor_meta in contributor.iter('name'):\n",
    "            surname = contributor_meta.find('surname')\n",
    "            given_name = contributor_meta.find('given-names')\n",
    "            if surname is not None and given_name is not None:\n",
    "                authors.append(' '.join([given_name.text, surname.text]))\n",
    "    authors = ', '.join(authors)\n",
    "print(authors)"
   ]
  },
  {
   "cell_type": "code",
   "execution_count": 709,
   "metadata": {
    "ExecuteTime": {
     "end_time": "2019-11-28T14:21:08.375118Z",
     "start_time": "2019-11-28T14:21:08.370132Z"
    }
   },
   "outputs": [],
   "source": [
    "body = root.find('article/body')\n",
    "if body is not None:\n",
    "    for element in body.iter():\n",
    "        if element.text:\n",
    "            item['full_text'] = item.get('full_text', '') + element.text + ' '\n",
    "        if element.tail:\n",
    "            item['full_text'] = item.get('full_text', '') + element.tail + ' '\n",
    "    item['full_text'] = ' '.join(item['full_text'].split())"
   ]
  },
  {
   "cell_type": "code",
   "execution_count": 775,
   "metadata": {
    "ExecuteTime": {
     "end_time": "2019-11-29T13:14:15.870039Z",
     "start_time": "2019-11-29T13:14:15.866052Z"
    }
   },
   "outputs": [
    {
     "name": "stdout",
     "output_type": "stream",
     "text": [
      "Cross infection\n",
      "Intensive care unit\n",
      "Infection control\n",
      "Drug resistance\n",
      "Survival analysis\n"
     ]
    }
   ],
   "source": [
    "article_meta = root.findall('article/front/article-meta')\n",
    "for meta in article_meta:\n",
    "    keywords = meta.find('kwd-group')\n",
    "    for keyword in keywords.iter('kwd'):\n",
    "        print(keyword.text)"
   ]
  },
  {
   "cell_type": "code",
   "execution_count": 805,
   "metadata": {
    "ExecuteTime": {
     "end_time": "2019-12-02T10:53:28.614728Z",
     "start_time": "2019-12-02T10:53:28.607749Z"
    }
   },
   "outputs": [
    {
     "name": "stdout",
     "output_type": "stream",
     "text": [
      "15\n",
      "4\n",
      "343\n",
      "348\n",
      "343-348\n"
     ]
    }
   ],
   "source": [
    "article_meta = root.findall('article/front/article-meta')\n",
    "for meta in article_meta:\n",
    "    volume = meta.find('volume')\n",
    "    if volume is not None:\n",
    "        print(volume.text)\n",
    "    elocation_id = meta.find('elocation-id')\n",
    "    if elocation_id is not None:\n",
    "        print(elocation_id.text)\n",
    "    issue = meta.find('issue')\n",
    "    if issue is not None:\n",
    "        print(issue.text)\n",
    "    fpage = meta.find('fpage')\n",
    "    if fpage is not None:\n",
    "        print(fpage.text)\n",
    "    lpage = meta.find('lpage')\n",
    "    if lpage is not None:\n",
    "        print(lpage.text)\n",
    "    pages = '-'.join([fpage.text, lpage.text])\n",
    "    print(pages)"
   ]
  },
  {
   "cell_type": "code",
   "execution_count": 845,
   "metadata": {
    "ExecuteTime": {
     "end_time": "2019-12-02T13:25:02.233284Z",
     "start_time": "2019-12-02T13:25:02.226301Z"
    }
   },
   "outputs": [
    {
     "name": "stdout",
     "output_type": "stream",
     "text": [
      "nlm-ta Antimicrob Resist Infect Control\n",
      "iso-abbrev Antimicrob Resist Infect Control\n",
      "issn-epub 2047-2994\n",
      "Antimicrobial Resistance and Infection Control\n",
      "BioMed Central\n",
      "London\n"
     ]
    }
   ],
   "source": [
    "journal_meta = root.find('article/front/journal-meta')\n",
    "if journal_meta is not None:\n",
    "    journal_ids = journal_meta.findall('journal-id')\n",
    "    for journal_id in journal_ids:\n",
    "        print(journal_id.attrib.get('journal-id-type'), journal_id.text)\n",
    "        \n",
    "    issns = journal_meta.findall('issn')\n",
    "    for issn in issns:\n",
    "        print('issn-' + issn.attrib.get('pub-type'), issn.text)\n",
    "    \n",
    "    journal_title = journal_meta.find('journal-title-group/journal-title')\n",
    "    if journal_title is not None:\n",
    "        print(journal_title.text)\n",
    "        \n",
    "    publisher = journal_meta.find('publisher')\n",
    "    if publisher is not None:\n",
    "        publisher_name = publisher.find('publisher-name')\n",
    "        if (publisher_name is not None) and (publisher_name.text is not None):\n",
    "            print(publisher_name.text)\n",
    "            \n",
    "        publisher_loc = publisher.find('publisher-loc')\n",
    "        if (publisher_loc is not None) and (publisher_loc.text is not None):\n",
    "            print(publisher_loc.text)"
   ]
  }
 ],
 "metadata": {
  "kernelspec": {
   "display_name": "Python 3",
   "language": "python",
   "name": "python3"
  },
  "language_info": {
   "codemirror_mode": {
    "name": "ipython",
    "version": 3
   },
   "file_extension": ".py",
   "mimetype": "text/x-python",
   "name": "python",
   "nbconvert_exporter": "python",
   "pygments_lexer": "ipython3",
   "version": "3.7.3"
  }
 },
 "nbformat": 4,
 "nbformat_minor": 2
}
