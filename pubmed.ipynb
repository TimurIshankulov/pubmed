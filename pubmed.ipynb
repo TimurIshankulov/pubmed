{
 "cells": [
  {
   "cell_type": "markdown",
   "metadata": {},
   "source": [
    "### Import"
   ]
  },
  {
   "cell_type": "code",
   "execution_count": 77,
   "metadata": {
    "ExecuteTime": {
     "end_time": "2019-11-13T15:10:04.784286Z",
     "start_time": "2019-11-13T15:10:04.351339Z"
    }
   },
   "outputs": [],
   "source": [
    "import pandas as pd\n",
    "import datetime\n",
    "import time\n",
    "import requests\n",
    "import os\n",
    "import json"
   ]
  },
  {
   "cell_type": "code",
   "execution_count": 3,
   "metadata": {
    "ExecuteTime": {
     "end_time": "2019-11-13T13:21:09.436427Z",
     "start_time": "2019-11-13T13:21:09.284725Z"
    }
   },
   "outputs": [],
   "source": [
    "from pymed import PubMed"
   ]
  },
  {
   "cell_type": "markdown",
   "metadata": {},
   "source": [
    "### Settings"
   ]
  },
  {
   "cell_type": "code",
   "execution_count": 79,
   "metadata": {
    "ExecuteTime": {
     "end_time": "2019-11-13T15:10:12.171067Z",
     "start_time": "2019-11-13T15:10:12.167077Z"
    }
   },
   "outputs": [],
   "source": [
    "authors_list = [\n",
    "    'Danilov Gleb',\n",
    "    'Shifrin Michael',\n",
    "    'Potapov Alexander',\n",
    "    'Shimansky Vadim'\n",
    "]\n",
    "\n",
    "tool = 'my_tool1'\n",
    "email = 'tishankulov@nsi.ru'\n",
    "max_results = 500"
   ]
  },
  {
   "cell_type": "markdown",
   "metadata": {},
   "source": [
    "### Functions"
   ]
  },
  {
   "cell_type": "code",
   "execution_count": 81,
   "metadata": {
    "ExecuteTime": {
     "end_time": "2019-11-13T15:11:30.259836Z",
     "start_time": "2019-11-13T15:11:30.252854Z"
    }
   },
   "outputs": [],
   "source": [
    "def get_items(fullname):\n",
    "    items = pd.DataFrame(columns=['fullname', 'pubmed_id', 'title', 'abstract', 'keywords', 'journal', 'publication_date',\n",
    "                                  'authors', 'methods', 'conclusions', 'results', 'copyrights', 'doi', 'xml'])\n",
    "    \n",
    "    lastname = fullname.split()[0]\n",
    "    firstname = fullname.split()[1]\n",
    "    query = '{0}, {1}[Author]'.format(lastname, firstname)\n",
    "    \n",
    "    pubmed = PubMed(tool=tool, email=email)\n",
    "    results = pubmed.query(query, max_results=max_results)\n",
    "    \n",
    "    while True:\n",
    "        try:\n",
    "            result = next(results)\n",
    "            result_dict = result.toDict()\n",
    "            result_dict['fullname'] = fullname\n",
    "            items = items.append(result_dict, ignore_index=True)\n",
    "        except StopIteration:\n",
    "            break\n",
    "    \n",
    "    return items"
   ]
  },
  {
   "cell_type": "markdown",
   "metadata": {},
   "source": [
    "### Main"
   ]
  },
  {
   "cell_type": "code",
   "execution_count": 84,
   "metadata": {
    "ExecuteTime": {
     "end_time": "2019-11-13T15:14:19.004668Z",
     "start_time": "2019-11-13T15:14:16.665479Z"
    }
   },
   "outputs": [
    {
     "data": {
      "text/html": [
       "<div>\n",
       "<style scoped>\n",
       "    .dataframe tbody tr th:only-of-type {\n",
       "        vertical-align: middle;\n",
       "    }\n",
       "\n",
       "    .dataframe tbody tr th {\n",
       "        vertical-align: top;\n",
       "    }\n",
       "\n",
       "    .dataframe thead th {\n",
       "        text-align: right;\n",
       "    }\n",
       "</style>\n",
       "<table border=\"1\" class=\"dataframe\">\n",
       "  <thead>\n",
       "    <tr style=\"text-align: right;\">\n",
       "      <th></th>\n",
       "      <th>fullname</th>\n",
       "      <th>pubmed_id</th>\n",
       "      <th>title</th>\n",
       "      <th>abstract</th>\n",
       "      <th>keywords</th>\n",
       "      <th>journal</th>\n",
       "      <th>publication_date</th>\n",
       "      <th>authors</th>\n",
       "      <th>methods</th>\n",
       "      <th>conclusions</th>\n",
       "      <th>results</th>\n",
       "      <th>copyrights</th>\n",
       "      <th>doi</th>\n",
       "      <th>xml</th>\n",
       "    </tr>\n",
       "  </thead>\n",
       "  <tbody>\n",
       "    <tr>\n",
       "      <th>0</th>\n",
       "      <td>Danilov Gleb</td>\n",
       "      <td>31349300</td>\n",
       "      <td>An Information Extraction Algorithm for Detect...</td>\n",
       "      <td>Rich-in-morphology language, such as Russian, ...</td>\n",
       "      <td>[Adverse Events, Electronic Health Records, Na...</td>\n",
       "      <td>Studies in health technology and informatics</td>\n",
       "      <td>2019-07-28</td>\n",
       "      <td>[{'lastname': 'Danilov', 'firstname': 'Gleb', ...</td>\n",
       "      <td>None</td>\n",
       "      <td>None</td>\n",
       "      <td>None</td>\n",
       "      <td>None</td>\n",
       "      <td>10.3233/SHTI190051</td>\n",
       "      <td>[[[], [&lt;Element 'Year' at 0x000002168F0B8C28&gt;,...</td>\n",
       "    </tr>\n",
       "    <tr>\n",
       "      <th>1</th>\n",
       "      <td>Danilov Gleb</td>\n",
       "      <td>31121374</td>\n",
       "      <td>A Single-Center Retrospective Descriptive Coho...</td>\n",
       "      <td>Cerebrospinal fluid (CSF) leak remains a signi...</td>\n",
       "      <td>[Cerebrospinal fluid leakage, Children, Cranio...</td>\n",
       "      <td>World neurosurgery</td>\n",
       "      <td>2019-05-24</td>\n",
       "      <td>[{'lastname': 'Kushel', 'firstname': 'Yury', '...</td>\n",
       "      <td>None</td>\n",
       "      <td>None</td>\n",
       "      <td>Postoperative wound CSF leakage was observed i...</td>\n",
       "      <td>Copyright © 2019 Elsevier Inc. All rights rese...</td>\n",
       "      <td>10.1016/j.wneu.2019.05.091</td>\n",
       "      <td>[[[], [&lt;Element 'Year' at 0x000002168EEDF0E8&gt;,...</td>\n",
       "    </tr>\n",
       "    <tr>\n",
       "      <th>2</th>\n",
       "      <td>Danilov Gleb</td>\n",
       "      <td>30942728</td>\n",
       "      <td>Prediction of Postoperative Hospital Stay with...</td>\n",
       "      <td>Electronic Health Records (EHRs) conceal a hid...</td>\n",
       "      <td>[Deep Learning, Electronic Health Records, Neu...</td>\n",
       "      <td>Studies in health technology and informatics</td>\n",
       "      <td>2019-04-04</td>\n",
       "      <td>[{'lastname': 'Danilov', 'firstname': 'Gleb', ...</td>\n",
       "      <td>None</td>\n",
       "      <td>None</td>\n",
       "      <td>None</td>\n",
       "      <td>None</td>\n",
       "      <td>None</td>\n",
       "      <td>[[[], [&lt;Element 'Year' at 0x000002168F33DA98&gt;,...</td>\n",
       "    </tr>\n",
       "    <tr>\n",
       "      <th>3</th>\n",
       "      <td>Danilov Gleb</td>\n",
       "      <td>30468924</td>\n",
       "      <td>Pineal Cyst-Related Aqueductal Stenosis as Cau...</td>\n",
       "      <td>Pineal cysts (PCs) are histologically benign l...</td>\n",
       "      <td>[Cerebral aqueduct, Headache, Magnetic resonan...</td>\n",
       "      <td>World neurosurgery</td>\n",
       "      <td>2018-11-24</td>\n",
       "      <td>[{'lastname': 'Pitskhelauri', 'firstname': 'Da...</td>\n",
       "      <td>None</td>\n",
       "      <td>The results indicate a statistically significa...</td>\n",
       "      <td>In 25 patients (82%) we observed clinical impr...</td>\n",
       "      <td>Copyright © 2018 Elsevier Inc. All rights rese...</td>\n",
       "      <td>10.1016/j.wneu.2018.11.096</td>\n",
       "      <td>[[[], [&lt;Element 'Year' at 0x000002168EE47598&gt;,...</td>\n",
       "    </tr>\n",
       "    <tr>\n",
       "      <th>4</th>\n",
       "      <td>Danilov Gleb</td>\n",
       "      <td>30096505</td>\n",
       "      <td>Great Hospitals of the Russian Federation: Nat...</td>\n",
       "      <td>In 1929 the surgeon N. N. Burdenko and the neu...</td>\n",
       "      <td>[Education, N. N. Burdenko Neurosurgery Center...</td>\n",
       "      <td>World neurosurgery</td>\n",
       "      <td>2018-08-11</td>\n",
       "      <td>[{'lastname': 'Potapov', 'firstname': 'Alexand...</td>\n",
       "      <td>None</td>\n",
       "      <td>None</td>\n",
       "      <td>None</td>\n",
       "      <td>Copyright © 2018 The Authors. Published by Els...</td>\n",
       "      <td>10.1016/j.wneu.2018.07.280</td>\n",
       "      <td>[[[], [&lt;Element 'Year' at 0x000002168F085728&gt;,...</td>\n",
       "    </tr>\n",
       "  </tbody>\n",
       "</table>\n",
       "</div>"
      ],
      "text/plain": [
       "       fullname pubmed_id                                              title  \\\n",
       "0  Danilov Gleb  31349300  An Information Extraction Algorithm for Detect...   \n",
       "1  Danilov Gleb  31121374  A Single-Center Retrospective Descriptive Coho...   \n",
       "2  Danilov Gleb  30942728  Prediction of Postoperative Hospital Stay with...   \n",
       "3  Danilov Gleb  30468924  Pineal Cyst-Related Aqueductal Stenosis as Cau...   \n",
       "4  Danilov Gleb  30096505  Great Hospitals of the Russian Federation: Nat...   \n",
       "\n",
       "                                            abstract  \\\n",
       "0  Rich-in-morphology language, such as Russian, ...   \n",
       "1  Cerebrospinal fluid (CSF) leak remains a signi...   \n",
       "2  Electronic Health Records (EHRs) conceal a hid...   \n",
       "3  Pineal cysts (PCs) are histologically benign l...   \n",
       "4  In 1929 the surgeon N. N. Burdenko and the neu...   \n",
       "\n",
       "                                            keywords  \\\n",
       "0  [Adverse Events, Electronic Health Records, Na...   \n",
       "1  [Cerebrospinal fluid leakage, Children, Cranio...   \n",
       "2  [Deep Learning, Electronic Health Records, Neu...   \n",
       "3  [Cerebral aqueduct, Headache, Magnetic resonan...   \n",
       "4  [Education, N. N. Burdenko Neurosurgery Center...   \n",
       "\n",
       "                                        journal publication_date  \\\n",
       "0  Studies in health technology and informatics       2019-07-28   \n",
       "1                            World neurosurgery       2019-05-24   \n",
       "2  Studies in health technology and informatics       2019-04-04   \n",
       "3                            World neurosurgery       2018-11-24   \n",
       "4                            World neurosurgery       2018-08-11   \n",
       "\n",
       "                                             authors methods  \\\n",
       "0  [{'lastname': 'Danilov', 'firstname': 'Gleb', ...    None   \n",
       "1  [{'lastname': 'Kushel', 'firstname': 'Yury', '...    None   \n",
       "2  [{'lastname': 'Danilov', 'firstname': 'Gleb', ...    None   \n",
       "3  [{'lastname': 'Pitskhelauri', 'firstname': 'Da...    None   \n",
       "4  [{'lastname': 'Potapov', 'firstname': 'Alexand...    None   \n",
       "\n",
       "                                         conclusions  \\\n",
       "0                                               None   \n",
       "1                                               None   \n",
       "2                                               None   \n",
       "3  The results indicate a statistically significa...   \n",
       "4                                               None   \n",
       "\n",
       "                                             results  \\\n",
       "0                                               None   \n",
       "1  Postoperative wound CSF leakage was observed i...   \n",
       "2                                               None   \n",
       "3  In 25 patients (82%) we observed clinical impr...   \n",
       "4                                               None   \n",
       "\n",
       "                                          copyrights  \\\n",
       "0                                               None   \n",
       "1  Copyright © 2019 Elsevier Inc. All rights rese...   \n",
       "2                                               None   \n",
       "3  Copyright © 2018 Elsevier Inc. All rights rese...   \n",
       "4  Copyright © 2018 The Authors. Published by Els...   \n",
       "\n",
       "                          doi  \\\n",
       "0          10.3233/SHTI190051   \n",
       "1  10.1016/j.wneu.2019.05.091   \n",
       "2                        None   \n",
       "3  10.1016/j.wneu.2018.11.096   \n",
       "4  10.1016/j.wneu.2018.07.280   \n",
       "\n",
       "                                                 xml  \n",
       "0  [[[], [<Element 'Year' at 0x000002168F0B8C28>,...  \n",
       "1  [[[], [<Element 'Year' at 0x000002168EEDF0E8>,...  \n",
       "2  [[[], [<Element 'Year' at 0x000002168F33DA98>,...  \n",
       "3  [[[], [<Element 'Year' at 0x000002168EE47598>,...  \n",
       "4  [[[], [<Element 'Year' at 0x000002168F085728>,...  "
      ]
     },
     "execution_count": 84,
     "metadata": {},
     "output_type": "execute_result"
    }
   ],
   "source": [
    "items = get_items(authors_list[0])\n",
    "items.head()"
   ]
  },
  {
   "cell_type": "code",
   "execution_count": 85,
   "metadata": {
    "ExecuteTime": {
     "end_time": "2019-11-13T15:14:20.352027Z",
     "start_time": "2019-11-13T15:14:20.325991Z"
    }
   },
   "outputs": [],
   "source": [
    "items.to_excel('output/pubmed-pymed.xlsx')"
   ]
  },
  {
   "cell_type": "markdown",
   "metadata": {},
   "source": [
    "### Debug"
   ]
  },
  {
   "cell_type": "code",
   "execution_count": 53,
   "metadata": {
    "ExecuteTime": {
     "end_time": "2019-11-13T14:12:33.244319Z",
     "start_time": "2019-11-13T14:12:32.272448Z"
    }
   },
   "outputs": [],
   "source": [
    "pubmed = PubMed(tool=tool, email=email)\n",
    "results = pubmed.query(\"Danilov, Gleb[Author]\", max_results=500)"
   ]
  },
  {
   "cell_type": "code",
   "execution_count": 73,
   "metadata": {
    "ExecuteTime": {
     "end_time": "2019-11-13T14:20:36.169130Z",
     "start_time": "2019-11-13T14:20:36.164145Z"
    },
    "scrolled": true
   },
   "outputs": [
    {
     "data": {
      "text/plain": [
       "itertools.chain"
      ]
     },
     "execution_count": 73,
     "metadata": {},
     "output_type": "execute_result"
    }
   ],
   "source": [
    "type(results)"
   ]
  },
  {
   "cell_type": "code",
   "execution_count": 69,
   "metadata": {
    "ExecuteTime": {
     "end_time": "2019-11-13T14:15:08.587834Z",
     "start_time": "2019-11-13T14:15:08.583845Z"
    }
   },
   "outputs": [],
   "source": [
    "test = next(results)"
   ]
  },
  {
   "cell_type": "code",
   "execution_count": 55,
   "metadata": {
    "ExecuteTime": {
     "end_time": "2019-11-13T14:12:47.455131Z",
     "start_time": "2019-11-13T14:12:47.450176Z"
    }
   },
   "outputs": [
    {
     "data": {
      "text/plain": [
       "dict_keys(['pubmed_id', 'title', 'abstract', 'keywords', 'journal', 'publication_date', 'authors', 'methods', 'conclusions', 'results', 'copyrights', 'doi', 'xml'])"
      ]
     },
     "execution_count": 55,
     "metadata": {},
     "output_type": "execute_result"
    }
   ],
   "source": [
    "test.toDict().keys()"
   ]
  },
  {
   "cell_type": "code",
   "execution_count": 52,
   "metadata": {
    "ExecuteTime": {
     "end_time": "2019-11-13T14:04:04.355673Z",
     "start_time": "2019-11-13T14:04:04.350683Z"
    }
   },
   "outputs": [
    {
     "name": "stdout",
     "output_type": "stream",
     "text": [
      "{'lastname': 'Danilov', 'firstname': 'V', 'initials': 'V', 'affiliation': 'Deutsches Elektronen-Synchrotron, Hamburg, Germany.'}\n",
      "{'lastname': 'Danilov', 'firstname': 'M', 'initials': 'M', 'affiliation': \"National Research Nuclear University 'Moscow Engineering Physics Institute' (MEPhI), Moscow, Russia.\"}\n"
     ]
    }
   ],
   "source": [
    "for author in test.authors:\n",
    "    if author['lastname'] == 'Danilov':\n",
    "        print(author)"
   ]
  },
  {
   "cell_type": "code",
   "execution_count": 70,
   "metadata": {
    "ExecuteTime": {
     "end_time": "2019-11-13T14:15:10.467891Z",
     "start_time": "2019-11-13T14:15:10.463903Z"
    }
   },
   "outputs": [
    {
     "data": {
      "text/plain": [
       "'A Single-Center Retrospective Descriptive Cohort Study of 211 Pediatric Patients: Cerebrospinal Fluid Leakage After Fourth Ventricle Tumor Resection.'"
      ]
     },
     "execution_count": 70,
     "metadata": {},
     "output_type": "execute_result"
    }
   ],
   "source": [
    "test.title"
   ]
  }
 ],
 "metadata": {
  "kernelspec": {
   "display_name": "Python 3",
   "language": "python",
   "name": "python3"
  },
  "language_info": {
   "codemirror_mode": {
    "name": "ipython",
    "version": 3
   },
   "file_extension": ".py",
   "mimetype": "text/x-python",
   "name": "python",
   "nbconvert_exporter": "python",
   "pygments_lexer": "ipython3",
   "version": "3.7.3"
  }
 },
 "nbformat": 4,
 "nbformat_minor": 2
}
