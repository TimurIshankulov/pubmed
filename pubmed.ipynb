{
 "cells": [
  {
   "cell_type": "markdown",
   "metadata": {},
   "source": [
    "### Import"
   ]
  },
  {
   "cell_type": "code",
   "execution_count": 77,
   "metadata": {
    "ExecuteTime": {
     "end_time": "2019-11-13T15:10:04.784286Z",
     "start_time": "2019-11-13T15:10:04.351339Z"
    }
   },
   "outputs": [],
   "source": [
    "import pandas as pd\n",
    "import datetime\n",
    "import time\n",
    "import requests\n",
    "import os\n",
    "import json"
   ]
  },
  {
   "cell_type": "code",
   "execution_count": 3,
   "metadata": {
    "ExecuteTime": {
     "end_time": "2019-11-13T13:21:09.436427Z",
     "start_time": "2019-11-13T13:21:09.284725Z"
    }
   },
   "outputs": [],
   "source": [
    "from pymed import PubMed"
   ]
  },
  {
   "cell_type": "markdown",
   "metadata": {},
   "source": [
    "### Settings"
   ]
  },
  {
   "cell_type": "code",
   "execution_count": 79,
   "metadata": {
    "ExecuteTime": {
     "end_time": "2019-11-13T15:10:12.171067Z",
     "start_time": "2019-11-13T15:10:12.167077Z"
    }
   },
   "outputs": [],
   "source": [
    "authors_list = [\n",
    "    'Danilov Gleb',\n",
    "    'Shifrin Michael',\n",
    "    'Potapov Alexander',\n",
    "    'Shimansky Vadim'\n",
    "]\n",
    "\n",
    "tool = 'my_tool1'\n",
    "email = 'tishankulov@nsi.ru'\n",
    "max_results = 500"
   ]
  },
  {
   "cell_type": "markdown",
   "metadata": {},
   "source": [
    "### Functions"
   ]
  },
  {
   "cell_type": "code",
   "execution_count": 119,
   "metadata": {
    "ExecuteTime": {
     "end_time": "2019-11-14T07:53:19.584793Z",
     "start_time": "2019-11-14T07:53:19.572825Z"
    }
   },
   "outputs": [],
   "source": [
    "def get_items(fullname):\n",
    "    items = pd.DataFrame(columns=['fullname', 'pubmed_id', 'title', 'abstract', 'keywords', 'journal', 'publication_date',\n",
    "                                  'authors', 'affiliations', 'methods', 'conclusions', 'results', 'copyrights', 'doi'])\n",
    "    \n",
    "    lastname = fullname.split()[0]\n",
    "    firstname = fullname.split()[1]\n",
    "    query = '{0}, {1}[Author]'.format(lastname, firstname)\n",
    "    \n",
    "    pubmed = PubMed(tool=tool, email=email)\n",
    "    results = pubmed.query(query, max_results=max_results)\n",
    "    \n",
    "    while True:\n",
    "        try:\n",
    "            result = next(results)\n",
    "            result_dict = result.toDict()\n",
    "            result_dict['fullname'] = fullname\n",
    "            result_dict['affiliations'] = [author['affiliation'] for author in result_dict['authors']]\n",
    "            result_dict['affiliations'] = '; '.join(result_dict['affiliations'])\n",
    "            result_dict['authors'] = [' '.join([author['lastname'], author['firstname']]) for author in result_dict['authors']]\n",
    "            result_dict['authors'] = '; '.join(result_dict['authors'])\n",
    "            result_dict['keywords'] = '; '.join(result_dict['keywords'])\n",
    "            result_dict['pubmed_id'] = result_dict['pubmed_id'].replace('\\n', '; ')\n",
    "            del result_dict['xml']\n",
    "            items = items.append(result_dict, ignore_index=True)\n",
    "        except StopIteration:\n",
    "            break\n",
    "    \n",
    "    return items"
   ]
  },
  {
   "cell_type": "markdown",
   "metadata": {},
   "source": [
    "### Main"
   ]
  },
  {
   "cell_type": "code",
   "execution_count": 120,
   "metadata": {
    "ExecuteTime": {
     "end_time": "2019-11-14T07:53:24.146645Z",
     "start_time": "2019-11-14T07:53:22.196553Z"
    }
   },
   "outputs": [
    {
     "data": {
      "text/html": [
       "<div>\n",
       "<style scoped>\n",
       "    .dataframe tbody tr th:only-of-type {\n",
       "        vertical-align: middle;\n",
       "    }\n",
       "\n",
       "    .dataframe tbody tr th {\n",
       "        vertical-align: top;\n",
       "    }\n",
       "\n",
       "    .dataframe thead th {\n",
       "        text-align: right;\n",
       "    }\n",
       "</style>\n",
       "<table border=\"1\" class=\"dataframe\">\n",
       "  <thead>\n",
       "    <tr style=\"text-align: right;\">\n",
       "      <th></th>\n",
       "      <th>fullname</th>\n",
       "      <th>pubmed_id</th>\n",
       "      <th>title</th>\n",
       "      <th>abstract</th>\n",
       "      <th>keywords</th>\n",
       "      <th>journal</th>\n",
       "      <th>publication_date</th>\n",
       "      <th>authors</th>\n",
       "      <th>affiliations</th>\n",
       "      <th>methods</th>\n",
       "      <th>conclusions</th>\n",
       "      <th>results</th>\n",
       "      <th>copyrights</th>\n",
       "      <th>doi</th>\n",
       "    </tr>\n",
       "  </thead>\n",
       "  <tbody>\n",
       "    <tr>\n",
       "      <th>0</th>\n",
       "      <td>Danilov Gleb</td>\n",
       "      <td>31349300</td>\n",
       "      <td>An Information Extraction Algorithm for Detect...</td>\n",
       "      <td>Rich-in-morphology language, such as Russian, ...</td>\n",
       "      <td>Adverse Events; Electronic Health Records; Nat...</td>\n",
       "      <td>Studies in health technology and informatics</td>\n",
       "      <td>2019-07-28</td>\n",
       "      <td>Danilov Gleb; Shifrin Michael; Strunina Uliya;...</td>\n",
       "      <td>National Medical Research Center for Neurosurg...</td>\n",
       "      <td>None</td>\n",
       "      <td>None</td>\n",
       "      <td>None</td>\n",
       "      <td>None</td>\n",
       "      <td>10.3233/SHTI190051</td>\n",
       "    </tr>\n",
       "    <tr>\n",
       "      <th>1</th>\n",
       "      <td>Danilov Gleb</td>\n",
       "      <td>31121374</td>\n",
       "      <td>A Single-Center Retrospective Descriptive Coho...</td>\n",
       "      <td>Cerebrospinal fluid (CSF) leak remains a signi...</td>\n",
       "      <td>Cerebrospinal fluid leakage; Children; Craniot...</td>\n",
       "      <td>World neurosurgery</td>\n",
       "      <td>2019-05-24</td>\n",
       "      <td>Kushel Yury; Danilov Gleb; Tekoev Aslan; Cheld...</td>\n",
       "      <td>2nd Neurosurgical Department, Burdenko Neurosu...</td>\n",
       "      <td>None</td>\n",
       "      <td>None</td>\n",
       "      <td>Postoperative wound CSF leakage was observed i...</td>\n",
       "      <td>Copyright © 2019 Elsevier Inc. All rights rese...</td>\n",
       "      <td>10.1016/j.wneu.2019.05.091</td>\n",
       "    </tr>\n",
       "    <tr>\n",
       "      <th>2</th>\n",
       "      <td>Danilov Gleb</td>\n",
       "      <td>30942728</td>\n",
       "      <td>Prediction of Postoperative Hospital Stay with...</td>\n",
       "      <td>Electronic Health Records (EHRs) conceal a hid...</td>\n",
       "      <td>Deep Learning; Electronic Health Records; Neur...</td>\n",
       "      <td>Studies in health technology and informatics</td>\n",
       "      <td>2019-04-04</td>\n",
       "      <td>Danilov Gleb; Kotik Konstantin; Shifrin Michae...</td>\n",
       "      <td>National Medical Research Center for Neurosurg...</td>\n",
       "      <td>None</td>\n",
       "      <td>None</td>\n",
       "      <td>None</td>\n",
       "      <td>None</td>\n",
       "      <td>None</td>\n",
       "    </tr>\n",
       "    <tr>\n",
       "      <th>3</th>\n",
       "      <td>Danilov Gleb</td>\n",
       "      <td>30468924</td>\n",
       "      <td>Pineal Cyst-Related Aqueductal Stenosis as Cau...</td>\n",
       "      <td>Pineal cysts (PCs) are histologically benign l...</td>\n",
       "      <td>Cerebral aqueduct; Headache; Magnetic resonanc...</td>\n",
       "      <td>World neurosurgery</td>\n",
       "      <td>2018-11-24</td>\n",
       "      <td>Pitskhelauri David I; Konovalov Alexander N; A...</td>\n",
       "      <td>Department of Neurooncology, Burdenko National...</td>\n",
       "      <td>None</td>\n",
       "      <td>The results indicate a statistically significa...</td>\n",
       "      <td>In 25 patients (82%) we observed clinical impr...</td>\n",
       "      <td>Copyright © 2018 Elsevier Inc. All rights rese...</td>\n",
       "      <td>10.1016/j.wneu.2018.11.096</td>\n",
       "    </tr>\n",
       "    <tr>\n",
       "      <th>4</th>\n",
       "      <td>Danilov Gleb</td>\n",
       "      <td>30096505</td>\n",
       "      <td>Great Hospitals of the Russian Federation: Nat...</td>\n",
       "      <td>In 1929 the surgeon N. N. Burdenko and the neu...</td>\n",
       "      <td>Education; N. N. Burdenko Neurosurgery Center;...</td>\n",
       "      <td>World neurosurgery</td>\n",
       "      <td>2018-08-11</td>\n",
       "      <td>Potapov Alexander; Likhterman Leonid; Danilov ...</td>\n",
       "      <td>Federal State Autonomous Institution N. N. Bur...</td>\n",
       "      <td>None</td>\n",
       "      <td>None</td>\n",
       "      <td>None</td>\n",
       "      <td>Copyright © 2018 The Authors. Published by Els...</td>\n",
       "      <td>10.1016/j.wneu.2018.07.280</td>\n",
       "    </tr>\n",
       "  </tbody>\n",
       "</table>\n",
       "</div>"
      ],
      "text/plain": [
       "       fullname pubmed_id                                              title  \\\n",
       "0  Danilov Gleb  31349300  An Information Extraction Algorithm for Detect...   \n",
       "1  Danilov Gleb  31121374  A Single-Center Retrospective Descriptive Coho...   \n",
       "2  Danilov Gleb  30942728  Prediction of Postoperative Hospital Stay with...   \n",
       "3  Danilov Gleb  30468924  Pineal Cyst-Related Aqueductal Stenosis as Cau...   \n",
       "4  Danilov Gleb  30096505  Great Hospitals of the Russian Federation: Nat...   \n",
       "\n",
       "                                            abstract  \\\n",
       "0  Rich-in-morphology language, such as Russian, ...   \n",
       "1  Cerebrospinal fluid (CSF) leak remains a signi...   \n",
       "2  Electronic Health Records (EHRs) conceal a hid...   \n",
       "3  Pineal cysts (PCs) are histologically benign l...   \n",
       "4  In 1929 the surgeon N. N. Burdenko and the neu...   \n",
       "\n",
       "                                            keywords  \\\n",
       "0  Adverse Events; Electronic Health Records; Nat...   \n",
       "1  Cerebrospinal fluid leakage; Children; Craniot...   \n",
       "2  Deep Learning; Electronic Health Records; Neur...   \n",
       "3  Cerebral aqueduct; Headache; Magnetic resonanc...   \n",
       "4  Education; N. N. Burdenko Neurosurgery Center;...   \n",
       "\n",
       "                                        journal publication_date  \\\n",
       "0  Studies in health technology and informatics       2019-07-28   \n",
       "1                            World neurosurgery       2019-05-24   \n",
       "2  Studies in health technology and informatics       2019-04-04   \n",
       "3                            World neurosurgery       2018-11-24   \n",
       "4                            World neurosurgery       2018-08-11   \n",
       "\n",
       "                                             authors  \\\n",
       "0  Danilov Gleb; Shifrin Michael; Strunina Uliya;...   \n",
       "1  Kushel Yury; Danilov Gleb; Tekoev Aslan; Cheld...   \n",
       "2  Danilov Gleb; Kotik Konstantin; Shifrin Michae...   \n",
       "3  Pitskhelauri David I; Konovalov Alexander N; A...   \n",
       "4  Potapov Alexander; Likhterman Leonid; Danilov ...   \n",
       "\n",
       "                                        affiliations methods  \\\n",
       "0  National Medical Research Center for Neurosurg...    None   \n",
       "1  2nd Neurosurgical Department, Burdenko Neurosu...    None   \n",
       "2  National Medical Research Center for Neurosurg...    None   \n",
       "3  Department of Neurooncology, Burdenko National...    None   \n",
       "4  Federal State Autonomous Institution N. N. Bur...    None   \n",
       "\n",
       "                                         conclusions  \\\n",
       "0                                               None   \n",
       "1                                               None   \n",
       "2                                               None   \n",
       "3  The results indicate a statistically significa...   \n",
       "4                                               None   \n",
       "\n",
       "                                             results  \\\n",
       "0                                               None   \n",
       "1  Postoperative wound CSF leakage was observed i...   \n",
       "2                                               None   \n",
       "3  In 25 patients (82%) we observed clinical impr...   \n",
       "4                                               None   \n",
       "\n",
       "                                          copyrights  \\\n",
       "0                                               None   \n",
       "1  Copyright © 2019 Elsevier Inc. All rights rese...   \n",
       "2                                               None   \n",
       "3  Copyright © 2018 Elsevier Inc. All rights rese...   \n",
       "4  Copyright © 2018 The Authors. Published by Els...   \n",
       "\n",
       "                          doi  \n",
       "0          10.3233/SHTI190051  \n",
       "1  10.1016/j.wneu.2019.05.091  \n",
       "2                        None  \n",
       "3  10.1016/j.wneu.2018.11.096  \n",
       "4  10.1016/j.wneu.2018.07.280  "
      ]
     },
     "execution_count": 120,
     "metadata": {},
     "output_type": "execute_result"
    }
   ],
   "source": [
    "items = get_items(authors_list[0])\n",
    "items.head()"
   ]
  },
  {
   "cell_type": "code",
   "execution_count": 121,
   "metadata": {
    "ExecuteTime": {
     "end_time": "2019-11-14T07:53:51.314534Z",
     "start_time": "2019-11-14T07:53:51.282340Z"
    }
   },
   "outputs": [],
   "source": [
    "items.to_excel('output/pubmed-pymed.xlsx')"
   ]
  },
  {
   "cell_type": "markdown",
   "metadata": {},
   "source": [
    "### Debug"
   ]
  },
  {
   "cell_type": "code",
   "execution_count": 104,
   "metadata": {
    "ExecuteTime": {
     "end_time": "2019-11-14T07:49:43.650290Z",
     "start_time": "2019-11-14T07:49:42.879959Z"
    }
   },
   "outputs": [],
   "source": [
    "pubmed = PubMed(tool=tool, email=email)\n",
    "results = pubmed.query(\"Danilov, Gleb[Author]\", max_results=500)"
   ]
  },
  {
   "cell_type": "code",
   "execution_count": 106,
   "metadata": {
    "ExecuteTime": {
     "end_time": "2019-11-14T07:50:04.053545Z",
     "start_time": "2019-11-14T07:50:04.048530Z"
    },
    "scrolled": true
   },
   "outputs": [
    {
     "data": {
      "text/plain": [
       "itertools.chain"
      ]
     },
     "execution_count": 106,
     "metadata": {},
     "output_type": "execute_result"
    }
   ],
   "source": [
    "type(results)"
   ]
  },
  {
   "cell_type": "code",
   "execution_count": 117,
   "metadata": {
    "ExecuteTime": {
     "end_time": "2019-11-14T07:50:59.323240Z",
     "start_time": "2019-11-14T07:50:59.319253Z"
    }
   },
   "outputs": [],
   "source": [
    "test = next(results)"
   ]
  },
  {
   "cell_type": "code",
   "execution_count": 55,
   "metadata": {
    "ExecuteTime": {
     "end_time": "2019-11-13T14:12:47.455131Z",
     "start_time": "2019-11-13T14:12:47.450176Z"
    }
   },
   "outputs": [
    {
     "data": {
      "text/plain": [
       "dict_keys(['pubmed_id', 'title', 'abstract', 'keywords', 'journal', 'publication_date', 'authors', 'methods', 'conclusions', 'results', 'copyrights', 'doi', 'xml'])"
      ]
     },
     "execution_count": 55,
     "metadata": {},
     "output_type": "execute_result"
    }
   ],
   "source": [
    "test.toDict().keys()"
   ]
  },
  {
   "cell_type": "code",
   "execution_count": 86,
   "metadata": {
    "ExecuteTime": {
     "end_time": "2019-11-14T07:34:09.759393Z",
     "start_time": "2019-11-14T07:34:09.740473Z"
    }
   },
   "outputs": [
    {
     "data": {
      "text/plain": [
       "'A Single-Center Retrospective Descriptive Cohort Study of 211 Pediatric Patients: Cerebrospinal Fluid Leakage After Fourth Ventricle Tumor Resection.'"
      ]
     },
     "execution_count": 86,
     "metadata": {},
     "output_type": "execute_result"
    }
   ],
   "source": [
    "test.title"
   ]
  }
 ],
 "metadata": {
  "kernelspec": {
   "display_name": "Python 3",
   "language": "python",
   "name": "python3"
  },
  "language_info": {
   "codemirror_mode": {
    "name": "ipython",
    "version": 3
   },
   "file_extension": ".py",
   "mimetype": "text/x-python",
   "name": "python",
   "nbconvert_exporter": "python",
   "pygments_lexer": "ipython3",
   "version": "3.7.3"
  }
 },
 "nbformat": 4,
 "nbformat_minor": 2
}
