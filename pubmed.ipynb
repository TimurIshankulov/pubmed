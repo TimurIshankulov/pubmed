{
 "cells": [
  {
   "cell_type": "markdown",
   "metadata": {},
   "source": [
    "### Import"
   ]
  },
  {
   "cell_type": "code",
   "execution_count": 499,
   "metadata": {
    "ExecuteTime": {
     "end_time": "2019-11-27T10:09:36.284980Z",
     "start_time": "2019-11-27T10:09:36.280993Z"
    }
   },
   "outputs": [],
   "source": [
    "import datetime\n",
    "import time\n",
    "import requests\n",
    "import os\n",
    "import json"
   ]
  },
  {
   "cell_type": "code",
   "execution_count": 500,
   "metadata": {
    "ExecuteTime": {
     "end_time": "2019-11-27T10:09:36.645564Z",
     "start_time": "2019-11-27T10:09:36.640576Z"
    }
   },
   "outputs": [],
   "source": [
    "from pymed import PubMed\n",
    "from IPython.display import clear_output\n",
    "import xml.etree.ElementTree as ET\n",
    "import pandas as pd"
   ]
  },
  {
   "cell_type": "markdown",
   "metadata": {},
   "source": [
    "### Settings"
   ]
  },
  {
   "cell_type": "code",
   "execution_count": 65,
   "metadata": {
    "ExecuteTime": {
     "end_time": "2019-11-20T05:52:41.969620Z",
     "start_time": "2019-11-20T05:52:41.964633Z"
    }
   },
   "outputs": [],
   "source": [
    "headers = {\n",
    "    'User-Agent': 'Mozilla / 5.0(Windows NT 10.0; Win64; x64) AppleWebKit / 537.36(KHTML, like Gecko) Chrome / 69.0.3497.81 Safari / 537.36'\n",
    "}\n",
    "\n",
    "authors_list = [\n",
    "    'Danilov Gleb',\n",
    "    'Shifrin Michael',\n",
    "    'Potapov Alexander',\n",
    "    'Shimansky Vadim'\n",
    "]\n",
    "\n",
    "tool = 'my_tool1'\n",
    "email = 'tishankulov@nsi.ru'\n",
    "api_key = '2839ed49187b099ec3d13cc079fc3ca0fc09'\n",
    "max_results = 5000\n",
    "\n",
    "full_texts_path = 'fulltexts/'\n",
    "\n",
    "url_pubmed_to_pmc = 'https://eutils.ncbi.nlm.nih.gov/entrez/eutils/elink.fcgi'\n",
    "url_full_text = 'https://eutils.ncbi.nlm.nih.gov/entrez/eutils/efetch.fcgi'\n",
    "url_article_ids = 'https://eutils.ncbi.nlm.nih.gov/entrez/eutils/esearch.fcgi'"
   ]
  },
  {
   "cell_type": "markdown",
   "metadata": {},
   "source": [
    "### Functions"
   ]
  },
  {
   "cell_type": "code",
   "execution_count": 111,
   "metadata": {
    "ExecuteTime": {
     "end_time": "2019-11-25T09:19:49.388703Z",
     "start_time": "2019-11-25T09:19:49.379728Z"
    }
   },
   "outputs": [],
   "source": [
    "def get_items_pubmed(fullname):\n",
    "    \"\"\"\n",
    "    Makes request to Pubmed database using pymed library.\n",
    "    Returns DataFrame with all articles authored by <fullname>.\n",
    "    \"\"\"\n",
    "    items = pd.DataFrame(columns=['fullname', 'pubmed_id', 'title', 'abstract', 'keywords', 'journal', 'publication_date',\n",
    "                                  'authors', 'affiliations', 'methods', 'conclusions', 'results', 'copyrights', 'doi'])\n",
    "    \n",
    "    lastname = fullname.split()[0]\n",
    "    firstname = fullname.split()[1]\n",
    "    query = '{0}, {1}[Author]'.format(lastname, firstname)\n",
    "    \n",
    "    pubmed = PubMed(tool=tool, email=email)\n",
    "    results = pubmed.query(query, max_results=max_results)\n",
    "    \n",
    "    while True:\n",
    "        try:\n",
    "            result = next(results)\n",
    "            result_dict = result.toDict()\n",
    "            result_dict['fullname'] = fullname\n",
    "            result_dict['affiliations'] = [author['affiliation'] for author in result_dict['authors']]\n",
    "            result_dict['affiliations'] = '; '.join(result_dict['affiliations'])\n",
    "            result_dict['authors'] = [' '.join([author['lastname'], author['firstname']]) for author in result_dict['authors']]\n",
    "            result_dict['authors'] = '; '.join(result_dict['authors'])\n",
    "            result_dict['keywords'] = '; '.join(result_dict['keywords'])\n",
    "            result_dict['pubmed_id'] = result_dict['pubmed_id'].replace('\\n', '; ')\n",
    "            del result_dict['xml']\n",
    "            items = items.append(result_dict, ignore_index=True)\n",
    "        except StopIteration:\n",
    "            break\n",
    "    \n",
    "    return items"
   ]
  },
  {
   "cell_type": "code",
   "execution_count": 112,
   "metadata": {
    "ExecuteTime": {
     "end_time": "2019-11-25T09:19:50.267702Z",
     "start_time": "2019-11-25T09:19:50.260723Z"
    }
   },
   "outputs": [],
   "source": [
    "def add_pmc_id(items):\n",
    "    \"\"\"Add PMC ID to <items> DataFrame\"\"\"\n",
    "    params = {\n",
    "        'format': 'json',\n",
    "        'dbfrom': 'pubmed',\n",
    "        'linkname': 'pubmed_pmc',\n",
    "        'api_key': api_key\n",
    "    }\n",
    "    \n",
    "    if not 'pmc_id' in items.columns:\n",
    "        items.insert(2, 'pmc_id', pd.np.nan)\n",
    "    \n",
    "    for i in range(0, len(items)):\n",
    "        params['id'] = items.loc[i, 'pubmed_id']\n",
    "        try:\n",
    "            response = requests.get(url=url_pubmed_to_pmc, headers=headers, params=params)\n",
    "        except requests.RequestException:\n",
    "            print('Problem has occured with Pubmed ID: {0}'.format(params['id']))\n",
    "        else:\n",
    "            data = response.json()\n",
    "            if 'linksetdbs' in data['linksets'][0]:\n",
    "                items.loc[i, 'pmc_id'] = data['linksets'][0]['linksetdbs'][0]['links'][0]\n",
    "    return items"
   ]
  },
  {
   "cell_type": "code",
   "execution_count": 640,
   "metadata": {
    "ExecuteTime": {
     "end_time": "2019-11-28T12:56:01.123650Z",
     "start_time": "2019-11-28T12:56:01.115667Z"
    }
   },
   "outputs": [],
   "source": [
    "def parse_pub_date(meta, pub_type):\n",
    "    pub_date = None\n",
    "    pub_dates = meta.findall('pub-date')\n",
    "    for pub_record in pub_dates:\n",
    "        if pub_record.attrib['pub-type'] == pub_type:\n",
    "            day = pub_record.find('day')\n",
    "            month = pub_record.find('month')\n",
    "            year = pub_record.find('year')\n",
    "            if year is not None:\n",
    "                pub_date = year.text\n",
    "                if month is not None:\n",
    "                    pub_date += '-' + month.text\n",
    "                    if day is not None:\n",
    "                        pub_date += '-' + day.text\n",
    "    return pub_date"
   ]
  },
  {
   "cell_type": "code",
   "execution_count": 657,
   "metadata": {
    "ExecuteTime": {
     "end_time": "2019-11-28T13:36:26.637119Z",
     "start_time": "2019-11-28T13:36:26.617173Z"
    }
   },
   "outputs": [],
   "source": [
    "def parse_element_tree(root):\n",
    "    item = {}\n",
    "    authors = []\n",
    "    \n",
    "    item['article-type'] = root.find('article').get('article-type')                             # Article type\n",
    "    article_meta = root.findall('article/front/article-meta')                                   # Article meta\n",
    "    for meta in article_meta:\n",
    "        article_ids = meta.findall('article-id')                                                # Article ids\n",
    "        for article_id in article_ids:\n",
    "            item[article_id.get('pub-id-type')] = article_id.text\n",
    "            \n",
    "        category = meta.find('article-categories/subj-group/subject')                           # Article category\n",
    "        if category is not None:\n",
    "            item['category'] = category.text\n",
    "        title = meta.find('title-group/article-title')                                          # Article title\n",
    "        if title is not None:\n",
    "            item['title'] = title.text\n",
    "            item['title'] = ' '.join(item['title'].split())\n",
    "        \n",
    "        contributors = meta.findall('contrib-group/contrib')                                    # Authors\n",
    "        for contributor in contributors:\n",
    "            for contributor_meta in contributor.iter('name'):\n",
    "                surname = contributor_meta.find('surname')\n",
    "                given_name = contributor_meta.find('given-names')\n",
    "                if surname is not None and given_name is not None:\n",
    "                    authors.append(' '.join([given_name.text, surname.text]))\n",
    "        if len(authors) > 0:\n",
    "            item['authors'] = ', '.join(authors)\n",
    "            item['authors'] = ' '.join(item['authors'].split())\n",
    "        \n",
    "        item['pub_date'] = parse_pub_date(meta, 'epub')                                         # Publication date\n",
    "        if item.get('pub_date', None) is None:\n",
    "            item['pub_date'] = parse_pub_date(meta, 'ppub')\n",
    "    \n",
    "        copyright = meta.find('permissions/copyright-statement')                                # Copyright statement\n",
    "        if copyright is not None:\n",
    "            item['copyright'] = copyright.text\n",
    "        license_type = meta.find('permissions/license')                                         # License type\n",
    "        if license_type is not None:\n",
    "            item['license-type'] = license_type.get('license-type')           \n",
    "        license = meta.find('permissions/license/license-p')                                    # License text\n",
    "        if license is not None:\n",
    "            for element in license.iter():\n",
    "                if element.text:\n",
    "                    item['license'] = item.get('license', '') + element.text + ' '\n",
    "                if element.tail:\n",
    "                    item['license'] = item.get('license', '') + element.tail + ' '\n",
    "            item['license'] = ' '.join(item['license'].split())\n",
    "        \n",
    "        abstract = meta.find('abstract')                                                        # Abstract\n",
    "        if abstract is not None:\n",
    "            for element in abstract.iter():\n",
    "                if element.text:\n",
    "                    item['abstract'] = item.get('abstract', '') + element.text + ' '\n",
    "                if element.tail:\n",
    "                    item['abstract'] = item.get('abstract', '') + element.tail + ' '\n",
    "            item['abstract'] = ' '.join(item['abstract'].split())\n",
    "\n",
    "                        \n",
    "        pass                                                                                    # Journal meta\n",
    "        pass                                                                                    # Keywords\n",
    "    \n",
    "    body = root.find('article/body')\n",
    "    if body is not None:\n",
    "        for element in body.iter():\n",
    "            if element.text:\n",
    "                item['full_text'] = item.get('full_text', '') + element.text + ' '\n",
    "            if element.tail:\n",
    "                item['full_text'] = item.get('full_text', '') + element.tail + ' '\n",
    "        item['full_text'] = ' '.join(item['full_text'].split())\n",
    "                \n",
    "    item['abstract_len'] = len(item.get('abstract', ''))\n",
    "    item['full_text_len'] = len(item.get('full_text', ''))\n",
    "    \n",
    "            \n",
    "    return item"
   ]
  },
  {
   "cell_type": "code",
   "execution_count": 450,
   "metadata": {
    "ExecuteTime": {
     "end_time": "2019-11-26T14:40:17.634855Z",
     "start_time": "2019-11-26T14:40:17.628870Z"
    }
   },
   "outputs": [],
   "source": [
    "def get_element_tree(pmc_id):\n",
    "    \"\"\"Returns parsed ElementTree object of article with <pmc_id> identifier\"\"\"\n",
    "    filename = os.path.join(full_texts_path, str(pmc_id))\n",
    "    \n",
    "    if not os.path.exists(filename):\n",
    "        return None\n",
    "    \n",
    "    with open(filename, 'r') as f:\n",
    "        data = f.read()        \n",
    "    root = ET.fromstring(data)\n",
    "    \n",
    "    return root"
   ]
  },
  {
   "cell_type": "code",
   "execution_count": 542,
   "metadata": {
    "ExecuteTime": {
     "end_time": "2019-11-27T11:08:32.063383Z",
     "start_time": "2019-11-27T11:08:32.054407Z"
    }
   },
   "outputs": [],
   "source": [
    "def handle_query_responses():\n",
    "    filenames = os.listdir(full_texts_path)\n",
    "    print('{0} query responses found. Starting...'.format(len(filenames)))\n",
    "    time.sleep(1)\n",
    "    \n",
    "    items = pd.DataFrame(columns=['pmid', 'pmc', 'publisher-id', 'doi', 'abstract_len', 'full_text_len', 'file_size',\n",
    "                                  'title', 'article-type', 'category', 'authors', 'pub_date',\n",
    "                                  'copyright', 'license-type', 'license', 'abstract', 'full_text'])\n",
    "    for i in range(0, len(filenames)):\n",
    "        clear_output(wait=True)\n",
    "        print('Working on {0}'.format(filenames[i]))\n",
    "        root = get_element_tree(filenames[i])\n",
    "        item = parse_element_tree(root)\n",
    "        item['file_size'] = os.path.getsize(os.path.join(full_texts_path, filenames[i]))\n",
    "        items = items.append(item, ignore_index=True)\n",
    "        if i % 1000 == 0:\n",
    "            items.to_csv('database/pmc.csv', sep='|', index=False)\n",
    "        print('Done {0} of {1}'.format(i+1, len(filenames)))\n",
    "        \n",
    "    return items"
   ]
  },
  {
   "cell_type": "code",
   "execution_count": 50,
   "metadata": {
    "ExecuteTime": {
     "end_time": "2019-11-19T14:42:33.695717Z",
     "start_time": "2019-11-19T14:42:33.688736Z"
    }
   },
   "outputs": [],
   "source": [
    "def get_article_ids(query):\n",
    "    \"\"\"Returns all article ids found by <query_words>\"\"\"\n",
    "    params = {\n",
    "        'db': 'pmc',\n",
    "        'tool': tool,\n",
    "        'email': email,\n",
    "        'term': query,\n",
    "        'retmax': max_results,\n",
    "        'retstart': 0\n",
    "    }\n",
    "    article_ids = []\n",
    "    count = params['retmax'] + 1\n",
    "    \n",
    "    while params['retstart'] < count:\n",
    "        try:\n",
    "            response = requests.get(url=url_article_ids, headers=headers, params=params)\n",
    "        except requests.RequestException:\n",
    "            print('Problem has occured at retstart: {0}'.format(params['retstart']))\n",
    "        else:\n",
    "            root = ET.fromstring(response.text)\n",
    "            for article_id in root.iter('Id'):\n",
    "                article_ids.append(int(article_id.text))\n",
    "            count = int(root.find('Count').text)\n",
    "        finally:\n",
    "            params['retstart'] += params['retmax']\n",
    "\n",
    "    return article_ids"
   ]
  },
  {
   "cell_type": "code",
   "execution_count": 96,
   "metadata": {
    "ExecuteTime": {
     "end_time": "2019-11-25T08:57:51.927024Z",
     "start_time": "2019-11-25T08:57:51.921014Z"
    }
   },
   "outputs": [],
   "source": [
    "def download_query_response(pmc_id, refresh=False):\n",
    "    \"\"\"Saves article query response with <pmc_id> identifier to file\"\"\"\n",
    "    params = {\n",
    "        'db': 'pmc',\n",
    "        'id': pmc_id,\n",
    "        'api_key': api_key\n",
    "    }\n",
    "    \n",
    "    filename = os.path.join(full_texts_path, str(pmc_id))\n",
    "    if (os.path.exists(filename)) and (not refresh):\n",
    "        pass\n",
    "    else:\n",
    "        try:\n",
    "            response = requests.get(url=url_full_text, headers=headers, params=params)\n",
    "        except requests.RequestException:\n",
    "            print('Problem has occured with PMC ID: {0}'.format(pmc_id))\n",
    "        else:\n",
    "            data = response.text\n",
    "            with open(filename, 'w+') as f:\n",
    "                f.write(data)"
   ]
  },
  {
   "cell_type": "code",
   "execution_count": 113,
   "metadata": {
    "ExecuteTime": {
     "end_time": "2019-11-25T09:20:27.737177Z",
     "start_time": "2019-11-25T09:20:27.732191Z"
    }
   },
   "outputs": [],
   "source": [
    "def download_all_query_responses(query='neurosurgery', refresh=False):\n",
    "    \"\"\"Downloads all query responses got by <query>\"\"\"\n",
    "    article_ids = get_article_ids(query)\n",
    "    print('{0} articles found, downloading...'.format(len(article_ids)))\n",
    "    \n",
    "    for pmc_id in article_ids:\n",
    "        download_query_response(pmc_id, refresh)\n",
    "        \n",
    "    files_count = len(os.listdir(full_texts_path))\n",
    "    print('{0} articles stored in the database'.format(files_count))"
   ]
  },
  {
   "cell_type": "markdown",
   "metadata": {},
   "source": [
    "### Main"
   ]
  },
  {
   "cell_type": "code",
   "execution_count": 51,
   "metadata": {
    "ExecuteTime": {
     "end_time": "2019-11-19T14:43:18.041521Z",
     "start_time": "2019-11-19T14:43:15.814718Z"
    }
   },
   "outputs": [
    {
     "data": {
      "text/html": [
       "<div>\n",
       "<style scoped>\n",
       "    .dataframe tbody tr th:only-of-type {\n",
       "        vertical-align: middle;\n",
       "    }\n",
       "\n",
       "    .dataframe tbody tr th {\n",
       "        vertical-align: top;\n",
       "    }\n",
       "\n",
       "    .dataframe thead th {\n",
       "        text-align: right;\n",
       "    }\n",
       "</style>\n",
       "<table border=\"1\" class=\"dataframe\">\n",
       "  <thead>\n",
       "    <tr style=\"text-align: right;\">\n",
       "      <th></th>\n",
       "      <th>fullname</th>\n",
       "      <th>pubmed_id</th>\n",
       "      <th>title</th>\n",
       "      <th>abstract</th>\n",
       "      <th>keywords</th>\n",
       "      <th>journal</th>\n",
       "      <th>publication_date</th>\n",
       "      <th>authors</th>\n",
       "      <th>affiliations</th>\n",
       "      <th>methods</th>\n",
       "      <th>conclusions</th>\n",
       "      <th>results</th>\n",
       "      <th>copyrights</th>\n",
       "      <th>doi</th>\n",
       "    </tr>\n",
       "  </thead>\n",
       "  <tbody>\n",
       "    <tr>\n",
       "      <th>0</th>\n",
       "      <td>Danilov Gleb</td>\n",
       "      <td>31349300</td>\n",
       "      <td>An Information Extraction Algorithm for Detect...</td>\n",
       "      <td>Rich-in-morphology language, such as Russian, ...</td>\n",
       "      <td>Adverse Events; Electronic Health Records; Nat...</td>\n",
       "      <td>Studies in health technology and informatics</td>\n",
       "      <td>2019-07-28</td>\n",
       "      <td>Danilov Gleb; Shifrin Michael; Strunina Uliya;...</td>\n",
       "      <td>National Medical Research Center for Neurosurg...</td>\n",
       "      <td>None</td>\n",
       "      <td>None</td>\n",
       "      <td>None</td>\n",
       "      <td>None</td>\n",
       "      <td>10.3233/SHTI190051</td>\n",
       "    </tr>\n",
       "    <tr>\n",
       "      <th>1</th>\n",
       "      <td>Danilov Gleb</td>\n",
       "      <td>31121374</td>\n",
       "      <td>A Single-Center Retrospective Descriptive Coho...</td>\n",
       "      <td>Cerebrospinal fluid (CSF) leak remains a signi...</td>\n",
       "      <td>Cerebrospinal fluid leakage; Children; Craniot...</td>\n",
       "      <td>World neurosurgery</td>\n",
       "      <td>2019-05-24</td>\n",
       "      <td>Kushel Yury; Danilov Gleb; Tekoev Aslan; Cheld...</td>\n",
       "      <td>2nd Neurosurgical Department, Burdenko Neurosu...</td>\n",
       "      <td>None</td>\n",
       "      <td>None</td>\n",
       "      <td>Postoperative wound CSF leakage was observed i...</td>\n",
       "      <td>Copyright © 2019 Elsevier Inc. All rights rese...</td>\n",
       "      <td>10.1016/j.wneu.2019.05.091</td>\n",
       "    </tr>\n",
       "  </tbody>\n",
       "</table>\n",
       "</div>"
      ],
      "text/plain": [
       "       fullname pubmed_id                                              title  \\\n",
       "0  Danilov Gleb  31349300  An Information Extraction Algorithm for Detect...   \n",
       "1  Danilov Gleb  31121374  A Single-Center Retrospective Descriptive Coho...   \n",
       "\n",
       "                                            abstract  \\\n",
       "0  Rich-in-morphology language, such as Russian, ...   \n",
       "1  Cerebrospinal fluid (CSF) leak remains a signi...   \n",
       "\n",
       "                                            keywords  \\\n",
       "0  Adverse Events; Electronic Health Records; Nat...   \n",
       "1  Cerebrospinal fluid leakage; Children; Craniot...   \n",
       "\n",
       "                                        journal publication_date  \\\n",
       "0  Studies in health technology and informatics       2019-07-28   \n",
       "1                            World neurosurgery       2019-05-24   \n",
       "\n",
       "                                             authors  \\\n",
       "0  Danilov Gleb; Shifrin Michael; Strunina Uliya;...   \n",
       "1  Kushel Yury; Danilov Gleb; Tekoev Aslan; Cheld...   \n",
       "\n",
       "                                        affiliations methods conclusions  \\\n",
       "0  National Medical Research Center for Neurosurg...    None        None   \n",
       "1  2nd Neurosurgical Department, Burdenko Neurosu...    None        None   \n",
       "\n",
       "                                             results  \\\n",
       "0                                               None   \n",
       "1  Postoperative wound CSF leakage was observed i...   \n",
       "\n",
       "                                          copyrights  \\\n",
       "0                                               None   \n",
       "1  Copyright © 2019 Elsevier Inc. All rights rese...   \n",
       "\n",
       "                          doi  \n",
       "0          10.3233/SHTI190051  \n",
       "1  10.1016/j.wneu.2019.05.091  "
      ]
     },
     "execution_count": 51,
     "metadata": {},
     "output_type": "execute_result"
    }
   ],
   "source": [
    "items = get_items(authors_list[0])\n",
    "items.head(2)"
   ]
  },
  {
   "cell_type": "code",
   "execution_count": 52,
   "metadata": {
    "ExecuteTime": {
     "end_time": "2019-11-19T14:43:44.658757Z",
     "start_time": "2019-11-19T14:43:37.448985Z"
    }
   },
   "outputs": [
    {
     "data": {
      "text/html": [
       "<div>\n",
       "<style scoped>\n",
       "    .dataframe tbody tr th:only-of-type {\n",
       "        vertical-align: middle;\n",
       "    }\n",
       "\n",
       "    .dataframe tbody tr th {\n",
       "        vertical-align: top;\n",
       "    }\n",
       "\n",
       "    .dataframe thead th {\n",
       "        text-align: right;\n",
       "    }\n",
       "</style>\n",
       "<table border=\"1\" class=\"dataframe\">\n",
       "  <thead>\n",
       "    <tr style=\"text-align: right;\">\n",
       "      <th></th>\n",
       "      <th>fullname</th>\n",
       "      <th>pubmed_id</th>\n",
       "      <th>pmc_id</th>\n",
       "      <th>title</th>\n",
       "      <th>abstract</th>\n",
       "      <th>keywords</th>\n",
       "      <th>journal</th>\n",
       "      <th>publication_date</th>\n",
       "      <th>authors</th>\n",
       "      <th>affiliations</th>\n",
       "      <th>methods</th>\n",
       "      <th>conclusions</th>\n",
       "      <th>results</th>\n",
       "      <th>copyrights</th>\n",
       "      <th>doi</th>\n",
       "    </tr>\n",
       "  </thead>\n",
       "  <tbody>\n",
       "    <tr>\n",
       "      <th>0</th>\n",
       "      <td>Danilov Gleb</td>\n",
       "      <td>31349300</td>\n",
       "      <td>NaN</td>\n",
       "      <td>An Information Extraction Algorithm for Detect...</td>\n",
       "      <td>Rich-in-morphology language, such as Russian, ...</td>\n",
       "      <td>Adverse Events; Electronic Health Records; Nat...</td>\n",
       "      <td>Studies in health technology and informatics</td>\n",
       "      <td>2019-07-28</td>\n",
       "      <td>Danilov Gleb; Shifrin Michael; Strunina Uliya;...</td>\n",
       "      <td>National Medical Research Center for Neurosurg...</td>\n",
       "      <td>None</td>\n",
       "      <td>None</td>\n",
       "      <td>None</td>\n",
       "      <td>None</td>\n",
       "      <td>10.3233/SHTI190051</td>\n",
       "    </tr>\n",
       "    <tr>\n",
       "      <th>1</th>\n",
       "      <td>Danilov Gleb</td>\n",
       "      <td>31121374</td>\n",
       "      <td>NaN</td>\n",
       "      <td>A Single-Center Retrospective Descriptive Coho...</td>\n",
       "      <td>Cerebrospinal fluid (CSF) leak remains a signi...</td>\n",
       "      <td>Cerebrospinal fluid leakage; Children; Craniot...</td>\n",
       "      <td>World neurosurgery</td>\n",
       "      <td>2019-05-24</td>\n",
       "      <td>Kushel Yury; Danilov Gleb; Tekoev Aslan; Cheld...</td>\n",
       "      <td>2nd Neurosurgical Department, Burdenko Neurosu...</td>\n",
       "      <td>None</td>\n",
       "      <td>None</td>\n",
       "      <td>Postoperative wound CSF leakage was observed i...</td>\n",
       "      <td>Copyright © 2019 Elsevier Inc. All rights rese...</td>\n",
       "      <td>10.1016/j.wneu.2019.05.091</td>\n",
       "    </tr>\n",
       "  </tbody>\n",
       "</table>\n",
       "</div>"
      ],
      "text/plain": [
       "       fullname pubmed_id pmc_id  \\\n",
       "0  Danilov Gleb  31349300    NaN   \n",
       "1  Danilov Gleb  31121374    NaN   \n",
       "\n",
       "                                               title  \\\n",
       "0  An Information Extraction Algorithm for Detect...   \n",
       "1  A Single-Center Retrospective Descriptive Coho...   \n",
       "\n",
       "                                            abstract  \\\n",
       "0  Rich-in-morphology language, such as Russian, ...   \n",
       "1  Cerebrospinal fluid (CSF) leak remains a signi...   \n",
       "\n",
       "                                            keywords  \\\n",
       "0  Adverse Events; Electronic Health Records; Nat...   \n",
       "1  Cerebrospinal fluid leakage; Children; Craniot...   \n",
       "\n",
       "                                        journal publication_date  \\\n",
       "0  Studies in health technology and informatics       2019-07-28   \n",
       "1                            World neurosurgery       2019-05-24   \n",
       "\n",
       "                                             authors  \\\n",
       "0  Danilov Gleb; Shifrin Michael; Strunina Uliya;...   \n",
       "1  Kushel Yury; Danilov Gleb; Tekoev Aslan; Cheld...   \n",
       "\n",
       "                                        affiliations methods conclusions  \\\n",
       "0  National Medical Research Center for Neurosurg...    None        None   \n",
       "1  2nd Neurosurgical Department, Burdenko Neurosu...    None        None   \n",
       "\n",
       "                                             results  \\\n",
       "0                                               None   \n",
       "1  Postoperative wound CSF leakage was observed i...   \n",
       "\n",
       "                                          copyrights  \\\n",
       "0                                               None   \n",
       "1  Copyright © 2019 Elsevier Inc. All rights rese...   \n",
       "\n",
       "                          doi  \n",
       "0          10.3233/SHTI190051  \n",
       "1  10.1016/j.wneu.2019.05.091  "
      ]
     },
     "execution_count": 52,
     "metadata": {},
     "output_type": "execute_result"
    }
   ],
   "source": [
    "items = add_pmc_id(items)\n",
    "items.head(2)"
   ]
  },
  {
   "cell_type": "code",
   "execution_count": 121,
   "metadata": {
    "ExecuteTime": {
     "end_time": "2019-11-14T07:53:51.314534Z",
     "start_time": "2019-11-14T07:53:51.282340Z"
    }
   },
   "outputs": [],
   "source": [
    "items.to_excel('output/pubmed-pymed.xlsx')"
   ]
  },
  {
   "cell_type": "markdown",
   "metadata": {},
   "source": [
    "### Download Neurosurgery articles"
   ]
  },
  {
   "cell_type": "code",
   "execution_count": 114,
   "metadata": {
    "ExecuteTime": {
     "end_time": "2019-11-25T09:21:27.517778Z",
     "start_time": "2019-11-25T09:20:39.932098Z"
    }
   },
   "outputs": [
    {
     "name": "stdout",
     "output_type": "stream",
     "text": [
      "121183 articles found, downloading...\n",
      "121183 articles stored in the database\n"
     ]
    }
   ],
   "source": [
    "download_all_query_responses(query='neurosurgery', refresh=False)"
   ]
  },
  {
   "cell_type": "markdown",
   "metadata": {},
   "source": [
    "### Handle query responses"
   ]
  },
  {
   "cell_type": "code",
   "execution_count": 545,
   "metadata": {
    "ExecuteTime": {
     "end_time": "2019-11-27T15:54:38.065963Z",
     "start_time": "2019-11-27T12:08:11.966446Z"
    }
   },
   "outputs": [
    {
     "name": "stdout",
     "output_type": "stream",
     "text": [
      "Working on 99430\n",
      "Done 121183 of 121183\n"
     ]
    },
    {
     "data": {
      "text/html": [
       "<div>\n",
       "<style scoped>\n",
       "    .dataframe tbody tr th:only-of-type {\n",
       "        vertical-align: middle;\n",
       "    }\n",
       "\n",
       "    .dataframe tbody tr th {\n",
       "        vertical-align: top;\n",
       "    }\n",
       "\n",
       "    .dataframe thead th {\n",
       "        text-align: right;\n",
       "    }\n",
       "</style>\n",
       "<table border=\"1\" class=\"dataframe\">\n",
       "  <thead>\n",
       "    <tr style=\"text-align: right;\">\n",
       "      <th></th>\n",
       "      <th>pmid</th>\n",
       "      <th>pmc</th>\n",
       "      <th>publisher-id</th>\n",
       "      <th>doi</th>\n",
       "      <th>abstract_len</th>\n",
       "      <th>full_text_len</th>\n",
       "      <th>file_size</th>\n",
       "      <th>title</th>\n",
       "      <th>article-type</th>\n",
       "      <th>category</th>\n",
       "      <th>...</th>\n",
       "      <th>manuscript</th>\n",
       "      <th>pii</th>\n",
       "      <th>sici</th>\n",
       "      <th>other</th>\n",
       "      <th>medline</th>\n",
       "      <th>pmcid</th>\n",
       "      <th>coden</th>\n",
       "      <th>art-access-id</th>\n",
       "      <th>publisher-manuscript</th>\n",
       "      <th>pmc-scan</th>\n",
       "    </tr>\n",
       "  </thead>\n",
       "  <tbody>\n",
       "    <tr>\n",
       "      <th>0</th>\n",
       "      <td>496443</td>\n",
       "      <td>1000359</td>\n",
       "      <td>NaN</td>\n",
       "      <td>NaN</td>\n",
       "      <td>1490</td>\n",
       "      <td>0</td>\n",
       "      <td>4635</td>\n",
       "      <td>NaN</td>\n",
       "      <td>research-article</td>\n",
       "      <td>NaN</td>\n",
       "      <td>...</td>\n",
       "      <td>NaN</td>\n",
       "      <td>NaN</td>\n",
       "      <td>NaN</td>\n",
       "      <td>NaN</td>\n",
       "      <td>NaN</td>\n",
       "      <td>NaN</td>\n",
       "      <td>NaN</td>\n",
       "      <td>NaN</td>\n",
       "      <td>NaN</td>\n",
       "      <td>NaN</td>\n",
       "    </tr>\n",
       "    <tr>\n",
       "      <th>1</th>\n",
       "      <td>NaN</td>\n",
       "      <td>1000485</td>\n",
       "      <td>NaN</td>\n",
       "      <td>NaN</td>\n",
       "      <td>0</td>\n",
       "      <td>0</td>\n",
       "      <td>1523</td>\n",
       "      <td>NaN</td>\n",
       "      <td>book-review</td>\n",
       "      <td>NaN</td>\n",
       "      <td>...</td>\n",
       "      <td>NaN</td>\n",
       "      <td>NaN</td>\n",
       "      <td>NaN</td>\n",
       "      <td>NaN</td>\n",
       "      <td>NaN</td>\n",
       "      <td>NaN</td>\n",
       "      <td>NaN</td>\n",
       "      <td>NaN</td>\n",
       "      <td>NaN</td>\n",
       "      <td>NaN</td>\n",
       "    </tr>\n",
       "    <tr>\n",
       "      <th>2</th>\n",
       "      <td>6696518</td>\n",
       "      <td>1001222</td>\n",
       "      <td>NaN</td>\n",
       "      <td>NaN</td>\n",
       "      <td>359</td>\n",
       "      <td>0</td>\n",
       "      <td>2839</td>\n",
       "      <td>NaN</td>\n",
       "      <td>research-article</td>\n",
       "      <td>NaN</td>\n",
       "      <td>...</td>\n",
       "      <td>NaN</td>\n",
       "      <td>NaN</td>\n",
       "      <td>NaN</td>\n",
       "      <td>NaN</td>\n",
       "      <td>NaN</td>\n",
       "      <td>NaN</td>\n",
       "      <td>NaN</td>\n",
       "      <td>NaN</td>\n",
       "      <td>NaN</td>\n",
       "      <td>NaN</td>\n",
       "    </tr>\n",
       "    <tr>\n",
       "      <th>3</th>\n",
       "      <td>4083935</td>\n",
       "      <td>1001788</td>\n",
       "      <td>NaN</td>\n",
       "      <td>NaN</td>\n",
       "      <td>0</td>\n",
       "      <td>0</td>\n",
       "      <td>1587</td>\n",
       "      <td>NaN</td>\n",
       "      <td>research-article</td>\n",
       "      <td>NaN</td>\n",
       "      <td>...</td>\n",
       "      <td>NaN</td>\n",
       "      <td>NaN</td>\n",
       "      <td>NaN</td>\n",
       "      <td>NaN</td>\n",
       "      <td>NaN</td>\n",
       "      <td>NaN</td>\n",
       "      <td>NaN</td>\n",
       "      <td>NaN</td>\n",
       "      <td>NaN</td>\n",
       "      <td>NaN</td>\n",
       "    </tr>\n",
       "    <tr>\n",
       "      <th>4</th>\n",
       "      <td>4083936</td>\n",
       "      <td>1001789</td>\n",
       "      <td>NaN</td>\n",
       "      <td>NaN</td>\n",
       "      <td>1189</td>\n",
       "      <td>0</td>\n",
       "      <td>4061</td>\n",
       "      <td>NaN</td>\n",
       "      <td>research-article</td>\n",
       "      <td>NaN</td>\n",
       "      <td>...</td>\n",
       "      <td>NaN</td>\n",
       "      <td>NaN</td>\n",
       "      <td>NaN</td>\n",
       "      <td>NaN</td>\n",
       "      <td>NaN</td>\n",
       "      <td>NaN</td>\n",
       "      <td>NaN</td>\n",
       "      <td>NaN</td>\n",
       "      <td>NaN</td>\n",
       "      <td>NaN</td>\n",
       "    </tr>\n",
       "  </tbody>\n",
       "</table>\n",
       "<p>5 rows × 27 columns</p>\n",
       "</div>"
      ],
      "text/plain": [
       "      pmid      pmc publisher-id  doi abstract_len full_text_len file_size  \\\n",
       "0   496443  1000359          NaN  NaN         1490             0      4635   \n",
       "1      NaN  1000485          NaN  NaN            0             0      1523   \n",
       "2  6696518  1001222          NaN  NaN          359             0      2839   \n",
       "3  4083935  1001788          NaN  NaN            0             0      1587   \n",
       "4  4083936  1001789          NaN  NaN         1189             0      4061   \n",
       "\n",
       "  title      article-type category  ... manuscript  pii sici other medline  \\\n",
       "0   NaN  research-article      NaN  ...        NaN  NaN  NaN   NaN     NaN   \n",
       "1   NaN       book-review      NaN  ...        NaN  NaN  NaN   NaN     NaN   \n",
       "2   NaN  research-article      NaN  ...        NaN  NaN  NaN   NaN     NaN   \n",
       "3   NaN  research-article      NaN  ...        NaN  NaN  NaN   NaN     NaN   \n",
       "4   NaN  research-article      NaN  ...        NaN  NaN  NaN   NaN     NaN   \n",
       "\n",
       "  pmcid coden art-access-id publisher-manuscript pmc-scan  \n",
       "0   NaN   NaN           NaN                  NaN      NaN  \n",
       "1   NaN   NaN           NaN                  NaN      NaN  \n",
       "2   NaN   NaN           NaN                  NaN      NaN  \n",
       "3   NaN   NaN           NaN                  NaN      NaN  \n",
       "4   NaN   NaN           NaN                  NaN      NaN  \n",
       "\n",
       "[5 rows x 27 columns]"
      ]
     },
     "execution_count": 545,
     "metadata": {},
     "output_type": "execute_result"
    }
   ],
   "source": [
    "items = handle_query_responses()\n",
    "items.head()"
   ]
  },
  {
   "cell_type": "code",
   "execution_count": 546,
   "metadata": {
    "ExecuteTime": {
     "end_time": "2019-11-27T19:28:13.512912Z",
     "start_time": "2019-11-27T19:28:11.701745Z"
    }
   },
   "outputs": [
    {
     "name": "stdout",
     "output_type": "stream",
     "text": [
      "<class 'pandas.core.frame.DataFrame'>\n",
      "RangeIndex: 121183 entries, 0 to 121182\n",
      "Data columns (total 27 columns):\n",
      "pmid                    110744 non-null object\n",
      "pmc                     121183 non-null object\n",
      "publisher-id            56677 non-null object\n",
      "doi                     87377 non-null object\n",
      "abstract_len            121183 non-null object\n",
      "full_text_len           121183 non-null object\n",
      "file_size               121183 non-null object\n",
      "title                   7820 non-null object\n",
      "article-type            121183 non-null object\n",
      "category                19 non-null object\n",
      "authors                 0 non-null object\n",
      "pub_date                0 non-null object\n",
      "copyright               1164 non-null object\n",
      "license-type            39082 non-null object\n",
      "license                 28246 non-null object\n",
      "abstract                99930 non-null object\n",
      "full_text               50771 non-null object\n",
      "manuscript              13759 non-null object\n",
      "pii                     1867 non-null object\n",
      "sici                    338 non-null object\n",
      "other                   2073 non-null object\n",
      "medline                 82 non-null object\n",
      "pmcid                   2 non-null object\n",
      "coden                   21 non-null object\n",
      "art-access-id           1210 non-null object\n",
      "publisher-manuscript    447 non-null object\n",
      "pmc-scan                129 non-null object\n",
      "dtypes: object(27)\n",
      "memory usage: 25.0+ MB\n"
     ]
    }
   ],
   "source": [
    "items.info()"
   ]
  },
  {
   "cell_type": "code",
   "execution_count": 547,
   "metadata": {
    "ExecuteTime": {
     "end_time": "2019-11-27T19:30:10.998149Z",
     "start_time": "2019-11-27T19:29:42.268104Z"
    }
   },
   "outputs": [],
   "source": [
    "items.to_csv('database/pmc_all.csv', sep='|')"
   ]
  },
  {
   "cell_type": "markdown",
   "metadata": {},
   "source": [
    "### Debug"
   ]
  },
  {
   "cell_type": "code",
   "execution_count": 608,
   "metadata": {
    "ExecuteTime": {
     "end_time": "2019-11-28T10:44:42.443361Z",
     "start_time": "2019-11-28T10:44:42.437348Z"
    }
   },
   "outputs": [],
   "source": [
    "root = get_element_tree(6069828)"
   ]
  },
  {
   "cell_type": "code",
   "execution_count": 656,
   "metadata": {
    "ExecuteTime": {
     "end_time": "2019-11-28T13:30:35.818999Z",
     "start_time": "2019-11-28T13:30:35.812017Z"
    }
   },
   "outputs": [
    {
     "data": {
      "text/plain": [
       "{'article-type': 'research-article',\n",
       " 'pmid': '9990066',\n",
       " 'pmc': '15521',\n",
       " 'publisher-id': '4665',\n",
       " 'category': 'Biological Sciences',\n",
       " 'title': 'Multinuclear solid-state three-dimensional MRI of bone and synthetic calcium phosphates',\n",
       " 'authors': 'Yaotang Wu, David A. Chesler, Melvin J. Glimcher, Leoncio Garrido, Jinxi Wang, Hong J. Jiang, Jerome L. Ackerman',\n",
       " 'pub_date': '1999-2-16',\n",
       " 'abstract': 'Multinuclear three-dimensional solid-state MRI of bone, tooth, and synthetic calcium phosphates is demonstrated in vitro and in vivo with a projection reconstruction technique based on acquisition of free induction decays in the presence of fixed amplitude magnetic field gradients. Phosphorus-31 solid-state MRI provides direct images of the calcium phosphate constituents of bone substance and is a quantitative measurement of the true volumetric bone mineral density of the bone. Proton solid-state MRI shows the density of bone matrix including its organic constituents, which consist principally of collagen. These solid-state MRI methods promise to yield a biological picture of bone richer in information concerning the bone composition and short range-crystalline order than the fluid-state images provided by conventional proton MRI or the density images produced by radiologic imaging techniques. Three-dimensional solid-state projection reconstruction MRI should be readily adaptable to both human clinical use and nonmedical applications for a variety of solids in materials science.',\n",
       " 'abstract_len': 1095,\n",
       " 'full_text_len': 0}"
      ]
     },
     "execution_count": 656,
     "metadata": {},
     "output_type": "execute_result"
    }
   ],
   "source": [
    "root = get_element_tree(15521)\n",
    "item = parse_element_tree(root)\n",
    "item"
   ]
  },
  {
   "cell_type": "code",
   "execution_count": 501,
   "metadata": {
    "ExecuteTime": {
     "end_time": "2019-11-27T10:10:04.197895Z",
     "start_time": "2019-11-27T10:10:04.034338Z"
    }
   },
   "outputs": [
    {
     "data": {
      "text/html": [
       "<div>\n",
       "<style scoped>\n",
       "    .dataframe tbody tr th:only-of-type {\n",
       "        vertical-align: middle;\n",
       "    }\n",
       "\n",
       "    .dataframe tbody tr th {\n",
       "        vertical-align: top;\n",
       "    }\n",
       "\n",
       "    .dataframe thead th {\n",
       "        text-align: right;\n",
       "    }\n",
       "</style>\n",
       "<table border=\"1\" class=\"dataframe\">\n",
       "  <thead>\n",
       "    <tr style=\"text-align: right;\">\n",
       "      <th></th>\n",
       "      <th>abstract</th>\n",
       "      <th>abstract_len</th>\n",
       "      <th>article-type</th>\n",
       "      <th>category</th>\n",
       "      <th>full_text_len</th>\n",
       "      <th>pmc</th>\n",
       "      <th>pmid</th>\n",
       "      <th>title</th>\n",
       "    </tr>\n",
       "  </thead>\n",
       "  <tbody>\n",
       "    <tr>\n",
       "      <th>0</th>\n",
       "      <td>\\n         \\n     As part of a prospective sur...</td>\n",
       "      <td>1555.0</td>\n",
       "      <td>research-article</td>\n",
       "      <td>Research Article</td>\n",
       "      <td>0.0</td>\n",
       "      <td>1000359</td>\n",
       "      <td>496443</td>\n",
       "      <td>The neuropsychiatric disorder in systemic lupu...</td>\n",
       "    </tr>\n",
       "    <tr>\n",
       "      <th>1</th>\n",
       "      <td>NaN</td>\n",
       "      <td>0.0</td>\n",
       "      <td>book-review</td>\n",
       "      <td>Book Reviews</td>\n",
       "      <td>0.0</td>\n",
       "      <td>1000485</td>\n",
       "      <td>NaN</td>\n",
       "      <td>Clinical Aspects of Neuroimmunology</td>\n",
       "    </tr>\n",
       "    <tr>\n",
       "      <th>2</th>\n",
       "      <td>\\n         \\n     Two popliteal swellings, tho...</td>\n",
       "      <td>462.0</td>\n",
       "      <td>research-article</td>\n",
       "      <td>Research Article</td>\n",
       "      <td>0.0</td>\n",
       "      <td>1001222</td>\n",
       "      <td>6696518</td>\n",
       "      <td>Popliteal masses masquerading as popliteal cysts.</td>\n",
       "    </tr>\n",
       "    <tr>\n",
       "      <th>3</th>\n",
       "      <td>NaN</td>\n",
       "      <td>0.0</td>\n",
       "      <td>research-article</td>\n",
       "      <td>Research Article</td>\n",
       "      <td>0.0</td>\n",
       "      <td>1001788</td>\n",
       "      <td>4083935</td>\n",
       "      <td>Rheumatoid subluxations of the cervical spine.</td>\n",
       "    </tr>\n",
       "    <tr>\n",
       "      <th>4</th>\n",
       "      <td>\\n         \\n     Cervical myelopathy is a rar...</td>\n",
       "      <td>1292.0</td>\n",
       "      <td>research-article</td>\n",
       "      <td>Research Article</td>\n",
       "      <td>0.0</td>\n",
       "      <td>1001789</td>\n",
       "      <td>4083936</td>\n",
       "      <td>Surgical treatment of cervical cord compressio...</td>\n",
       "    </tr>\n",
       "    <tr>\n",
       "      <th>5</th>\n",
       "      <td>\\n         \\n     Material from 100 consecutiv...</td>\n",
       "      <td>958.0</td>\n",
       "      <td>research-article</td>\n",
       "      <td>Research Article</td>\n",
       "      <td>0.0</td>\n",
       "      <td>1001857</td>\n",
       "      <td>3954473</td>\n",
       "      <td>Amyloid in intervertebral discs: a histopathol...</td>\n",
       "    </tr>\n",
       "    <tr>\n",
       "      <th>6</th>\n",
       "      <td>NaN</td>\n",
       "      <td>0.0</td>\n",
       "      <td>research-article</td>\n",
       "      <td>Research Article</td>\n",
       "      <td>0.0</td>\n",
       "      <td>1002279</td>\n",
       "      <td>2309487</td>\n",
       "      <td>Perceived health quackery use among patients. ...</td>\n",
       "    </tr>\n",
       "    <tr>\n",
       "      <th>7</th>\n",
       "      <td>\\n         \\n     \\n           \\n       Images...</td>\n",
       "      <td>167.0</td>\n",
       "      <td>research-article</td>\n",
       "      <td>Research Article</td>\n",
       "      <td>0.0</td>\n",
       "      <td>1002313</td>\n",
       "      <td>2305578</td>\n",
       "      <td>Intracranial tuberculoma developing during the...</td>\n",
       "    </tr>\n",
       "    <tr>\n",
       "      <th>8</th>\n",
       "      <td>\\n         \\n     Multiple myeloma associated ...</td>\n",
       "      <td>1147.0</td>\n",
       "      <td>review-article</td>\n",
       "      <td>Research Article</td>\n",
       "      <td>0.0</td>\n",
       "      <td>1002325</td>\n",
       "      <td>2185597</td>\n",
       "      <td>Syndrome of plasma cell dyscrasia, polyneuropa...</td>\n",
       "    </tr>\n",
       "    <tr>\n",
       "      <th>9</th>\n",
       "      <td>\\n         \\n     \\n           \\n       Images...</td>\n",
       "      <td>129.0</td>\n",
       "      <td>research-article</td>\n",
       "      <td>Research Article</td>\n",
       "      <td>0.0</td>\n",
       "      <td>1002389</td>\n",
       "      <td>2161587</td>\n",
       "      <td>A 36-year-old woman with a pulsatile mass of t...</td>\n",
       "    </tr>\n",
       "  </tbody>\n",
       "</table>\n",
       "</div>"
      ],
      "text/plain": [
       "                                            abstract  abstract_len  \\\n",
       "0  \\n         \\n     As part of a prospective sur...        1555.0   \n",
       "1                                                NaN           0.0   \n",
       "2  \\n         \\n     Two popliteal swellings, tho...         462.0   \n",
       "3                                                NaN           0.0   \n",
       "4  \\n         \\n     Cervical myelopathy is a rar...        1292.0   \n",
       "5  \\n         \\n     Material from 100 consecutiv...         958.0   \n",
       "6                                                NaN           0.0   \n",
       "7  \\n         \\n     \\n           \\n       Images...         167.0   \n",
       "8  \\n         \\n     Multiple myeloma associated ...        1147.0   \n",
       "9  \\n         \\n     \\n           \\n       Images...         129.0   \n",
       "\n",
       "       article-type          category  full_text_len      pmc     pmid  \\\n",
       "0  research-article  Research Article            0.0  1000359   496443   \n",
       "1       book-review      Book Reviews            0.0  1000485      NaN   \n",
       "2  research-article  Research Article            0.0  1001222  6696518   \n",
       "3  research-article  Research Article            0.0  1001788  4083935   \n",
       "4  research-article  Research Article            0.0  1001789  4083936   \n",
       "5  research-article  Research Article            0.0  1001857  3954473   \n",
       "6  research-article  Research Article            0.0  1002279  2309487   \n",
       "7  research-article  Research Article            0.0  1002313  2305578   \n",
       "8    review-article  Research Article            0.0  1002325  2185597   \n",
       "9  research-article  Research Article            0.0  1002389  2161587   \n",
       "\n",
       "                                               title  \n",
       "0  The neuropsychiatric disorder in systemic lupu...  \n",
       "1                Clinical Aspects of Neuroimmunology  \n",
       "2  Popliteal masses masquerading as popliteal cysts.  \n",
       "3     Rheumatoid subluxations of the cervical spine.  \n",
       "4  Surgical treatment of cervical cord compressio...  \n",
       "5  Amyloid in intervertebral discs: a histopathol...  \n",
       "6  Perceived health quackery use among patients. ...  \n",
       "7  Intracranial tuberculoma developing during the...  \n",
       "8  Syndrome of plasma cell dyscrasia, polyneuropa...  \n",
       "9  A 36-year-old woman with a pulsatile mass of t...  "
      ]
     },
     "execution_count": 501,
     "metadata": {},
     "output_type": "execute_result"
    }
   ],
   "source": [
    "filenames = os.listdir(full_texts_path)\n",
    "items = pd.DataFrame()\n",
    "for filename in filenames[0:10]:\n",
    "    root = get_element_tree(filename)\n",
    "    item = parse_element_tree(root)\n",
    "    items = items.append(item, ignore_index=True)\n",
    "items"
   ]
  },
  {
   "cell_type": "code",
   "execution_count": 343,
   "metadata": {
    "ExecuteTime": {
     "end_time": "2019-11-26T13:32:20.393364Z",
     "start_time": "2019-11-26T13:32:20.387380Z"
    }
   },
   "outputs": [
    {
     "data": {
      "text/plain": [
       "[<Element 'article-meta' at 0x000001E11A85DE58>]"
      ]
     },
     "execution_count": 343,
     "metadata": {},
     "output_type": "execute_result"
    }
   ],
   "source": [
    "article_meta = root.findall('article/front/article-meta')\n",
    "article_meta"
   ]
  },
  {
   "cell_type": "code",
   "execution_count": 595,
   "metadata": {
    "ExecuteTime": {
     "end_time": "2019-11-28T09:57:36.403303Z",
     "start_time": "2019-11-28T09:57:36.397319Z"
    }
   },
   "outputs": [
    {
     "name": "stdout",
     "output_type": "stream",
     "text": [
      "Ksenia Ershova, Ivan Savin, Nataliya Kurdyumova, Darren Wong, Gleb Danilov, Michael Shifrin, Irina Alexandrova, Ekaterina Sokolova, Nadezhda Fursova, Vladimir Zelman, Olga Ershova\n"
     ]
    }
   ],
   "source": [
    "authors = []\n",
    "article_meta = root.findall('article/front/article-meta')\n",
    "for meta in article_meta:\n",
    "    contributors = meta.findall('contrib-group/contrib')\n",
    "    for contributor in contributors:\n",
    "        for contributor_meta in contributor.iter('name'):\n",
    "            surname = contributor_meta.find('surname')\n",
    "            given_name = contributor_meta.find('given-names')\n",
    "            if surname is not None and given_name is not None:\n",
    "                authors.append(' '.join([given_name.text, surname.text]))\n",
    "    authors = ', '.join(authors)\n",
    "print(authors)"
   ]
  },
  {
   "cell_type": "code",
   "execution_count": 629,
   "metadata": {
    "ExecuteTime": {
     "end_time": "2019-11-28T12:37:33.303793Z",
     "start_time": "2019-11-28T12:37:33.292823Z"
    }
   },
   "outputs": [
    {
     "name": "stdout",
     "output_type": "stream",
     "text": [
      "2018-7-31\n"
     ]
    }
   ],
   "source": [
    "item = {}\n",
    "article_meta = root.findall('article/front/article-meta')\n",
    "for meta in article_meta:\n",
    "    pub_dates = meta.findall('pub-date')\n",
    "    for pub_date in pub_dates:\n",
    "        if pub_date.attrib['pub-type'] == 'epub':\n",
    "            day = pub_date.find('day')\n",
    "            month = pub_date.find('month')\n",
    "            year = pub_date.find('year')\n",
    "            if year is not None:\n",
    "                item['pub_date'] = year.text\n",
    "                if month is not None:\n",
    "                    item['pub_date'] += '-' + month.text\n",
    "                    if day is not None:\n",
    "                        item['pub_date'] += '-' + day.text\n",
    "    if item.get('pub_date', None) is None:\n",
    "        for pub_date in pub_dates:\n",
    "            if pub_date.attrib['pub-type'] == 'epub':\n",
    "                day = pub_date.find('day')\n",
    "                month = pub_date.find('month')\n",
    "                year = pub_date.find('year')\n",
    "                if year is not None:\n",
    "                    item['pub_date'] = year.text\n",
    "                    if month is not None:\n",
    "                        item['pub_date'] += '-' + month.text\n",
    "                        if day is not None:\n",
    "                            item['pub_date'] += '-' + day.text\n",
    "        \n",
    "            \n",
    "print(date)"
   ]
  }
 ],
 "metadata": {
  "kernelspec": {
   "display_name": "Python 3",
   "language": "python",
   "name": "python3"
  },
  "language_info": {
   "codemirror_mode": {
    "name": "ipython",
    "version": 3
   },
   "file_extension": ".py",
   "mimetype": "text/x-python",
   "name": "python",
   "nbconvert_exporter": "python",
   "pygments_lexer": "ipython3",
   "version": "3.7.3"
  }
 },
 "nbformat": 4,
 "nbformat_minor": 2
}
