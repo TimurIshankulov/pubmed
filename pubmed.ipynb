{
 "cells": [
  {
   "cell_type": "markdown",
   "metadata": {},
   "source": [
    "### Import"
   ]
  },
  {
   "cell_type": "code",
   "execution_count": 1,
   "metadata": {
    "ExecuteTime": {
     "end_time": "2020-08-12T12:01:42.804371Z",
     "start_time": "2020-08-12T12:01:41.963676Z"
    }
   },
   "outputs": [],
   "source": [
    "import pubmed"
   ]
  },
  {
   "cell_type": "markdown",
   "metadata": {},
   "source": [
    "### Download Neurosurgery articles"
   ]
  },
  {
   "cell_type": "code",
   "execution_count": 2,
   "metadata": {
    "ExecuteTime": {
     "end_time": "2020-08-12T12:01:43.347004Z",
     "start_time": "2020-08-12T12:01:43.333872Z"
    }
   },
   "outputs": [],
   "source": [
    "db = 'pubmed'\n",
    "query = 'text classification neural network'\n",
    "query0 = 'neurosurgery'\n",
    "query1 = '(neurosurg*) AND (complicat*[Text Word])'\n",
    "query2 = '(\"Glioma/surgery\"[Mesh] OR \"Glioma/therapy\"[Mesh])'\n",
    "query3 = '(\"Neurosurgery\"[Mesh] OR \"Neurosurgical Procedures\"[Mesh]) AND \"Postoperative Complications\"[Mesh]'\n",
    "query4 = '(\"Neurosurgery\"[Mesh] OR \"Neurosurgical Procedures\"[Mesh]) AND complicat*[Text Word]'"
   ]
  },
  {
   "cell_type": "code",
   "execution_count": 3,
   "metadata": {
    "ExecuteTime": {
     "end_time": "2020-08-12T12:04:57.188254Z",
     "start_time": "2020-08-12T12:01:49.498325Z"
    },
    "scrolled": true
   },
   "outputs": [
    {
     "name": "stdout",
     "output_type": "stream",
     "text": [
      "237 articles found in pubmed with query specified.\n",
      "0 articles are already stored in the database.\n",
      "237 articles will be downloaded.\n"
     ]
    },
    {
     "data": {
      "application/vnd.jupyter.widget-view+json": {
       "model_id": "35c80415e0c74e9d8b7d76a88be6bfb9",
       "version_major": 2,
       "version_minor": 0
      },
      "text/plain": [
       "HBox(children=(FloatProgress(value=0.0, max=237.0), HTML(value='')))"
      ]
     },
     "metadata": {},
     "output_type": "display_data"
    },
    {
     "name": "stdout",
     "output_type": "stream",
     "text": [
      "\n",
      "Total 237 articles stored in the database.\n"
     ]
    }
   ],
   "source": [
    "article_ids = pubmed.download_all_query_responses(query=query, db=db, refresh=False)"
   ]
  },
  {
   "cell_type": "markdown",
   "metadata": {},
   "source": [
    "### Handle query responses"
   ]
  },
  {
   "cell_type": "code",
   "execution_count": 4,
   "metadata": {
    "ExecuteTime": {
     "end_time": "2020-08-12T12:05:10.525762Z",
     "start_time": "2020-08-12T12:05:05.931909Z"
    }
   },
   "outputs": [
    {
     "data": {
      "application/vnd.jupyter.widget-view+json": {
       "model_id": "9e426e0028914965b61be8af7d734813",
       "version_major": 2,
       "version_minor": 0
      },
      "text/plain": [
       "HBox(children=(FloatProgress(value=0.0, max=237.0), HTML(value='')))"
      ]
     },
     "metadata": {},
     "output_type": "display_data"
    },
    {
     "name": "stdout",
     "output_type": "stream",
     "text": [
      "\n"
     ]
    },
    {
     "data": {
      "text/html": [
       "<div>\n",
       "<style scoped>\n",
       "    .dataframe tbody tr th:only-of-type {\n",
       "        vertical-align: middle;\n",
       "    }\n",
       "\n",
       "    .dataframe tbody tr th {\n",
       "        vertical-align: top;\n",
       "    }\n",
       "\n",
       "    .dataframe thead th {\n",
       "        text-align: right;\n",
       "    }\n",
       "</style>\n",
       "<table border=\"1\" class=\"dataframe\">\n",
       "  <thead>\n",
       "    <tr style=\"text-align: right;\">\n",
       "      <th></th>\n",
       "      <th>pmid</th>\n",
       "      <th>pmc</th>\n",
       "      <th>pii</th>\n",
       "      <th>mid</th>\n",
       "      <th>doi</th>\n",
       "      <th>elocation_id</th>\n",
       "      <th>language</th>\n",
       "      <th>title</th>\n",
       "      <th>authors</th>\n",
       "      <th>article_type</th>\n",
       "      <th>...</th>\n",
       "      <th>publisher_nlm_id</th>\n",
       "      <th>publisher_issn_linking</th>\n",
       "      <th>abstract_len</th>\n",
       "      <th>abstract</th>\n",
       "      <th>copyright</th>\n",
       "      <th>mesh_quals_major</th>\n",
       "      <th>mesh_quals_minor</th>\n",
       "      <th>mesh_descriptors</th>\n",
       "      <th>keywords</th>\n",
       "      <th>file_size</th>\n",
       "    </tr>\n",
       "  </thead>\n",
       "  <tbody>\n",
       "    <tr>\n",
       "      <th>0</th>\n",
       "      <td>32765261</td>\n",
       "      <td>PMC7378532</td>\n",
       "      <td>NaN</td>\n",
       "      <td>NaN</td>\n",
       "      <td>10.3389/fphar.2020.01028</td>\n",
       "      <td>10.3389/fphar.2020.01028</td>\n",
       "      <td>eng</td>\n",
       "      <td>Artificial Intelligence in Pharmacoepidemiolog...</td>\n",
       "      <td>Sessa Maurizio; Khan Abdul Rauf; Liang David; ...</td>\n",
       "      <td>pubmed_article</td>\n",
       "      <td>...</td>\n",
       "      <td>101548923</td>\n",
       "      <td>1663-9812</td>\n",
       "      <td>1496</td>\n",
       "      <td>Aim: To perform a systematic review on the app...</td>\n",
       "      <td>Copyright © 2020 Sessa, Khan, Liang, Andersen ...</td>\n",
       "      <td>NaN</td>\n",
       "      <td>NaN</td>\n",
       "      <td>NaN</td>\n",
       "      <td>artificial intelligence; deep learning; machin...</td>\n",
       "      <td>33874</td>\n",
       "    </tr>\n",
       "    <tr>\n",
       "      <th>1</th>\n",
       "      <td>32764354</td>\n",
       "      <td>NaN</td>\n",
       "      <td>s20164369</td>\n",
       "      <td>NaN</td>\n",
       "      <td>10.3390/s20164369</td>\n",
       "      <td>E4369</td>\n",
       "      <td>eng</td>\n",
       "      <td>Earthquake Probability Assessment for the Indi...</td>\n",
       "      <td>Jena Ratiranjan; Pradhan Biswajeet; Al-Amri Ab...</td>\n",
       "      <td>pubmed_article</td>\n",
       "      <td>...</td>\n",
       "      <td>101204366</td>\n",
       "      <td>1424-8220</td>\n",
       "      <td>2212</td>\n",
       "      <td>Earthquake prediction is a popular topic among...</td>\n",
       "      <td>NaN</td>\n",
       "      <td>NaN</td>\n",
       "      <td>NaN</td>\n",
       "      <td>NaN</td>\n",
       "      <td>GIS; Indian subcontinent; deep learning; earth...</td>\n",
       "      <td>10267</td>\n",
       "    </tr>\n",
       "    <tr>\n",
       "      <th>2</th>\n",
       "      <td>32761550</td>\n",
       "      <td>NaN</td>\n",
       "      <td>10.1007/s11845-020-02332-1</td>\n",
       "      <td>NaN</td>\n",
       "      <td>10.1007/s11845-020-02332-1</td>\n",
       "      <td>10.1007/s11845-020-02332-1</td>\n",
       "      <td>eng</td>\n",
       "      <td>Machine learning for predicting long-term kidn...</td>\n",
       "      <td>Sekercioglu Nigar; Fu Rui; Kim S Joseph; Mitsa...</td>\n",
       "      <td>pubmed_article</td>\n",
       "      <td>...</td>\n",
       "      <td>7806864</td>\n",
       "      <td>0021-1265</td>\n",
       "      <td>1784</td>\n",
       "      <td>Supervised machine learning (ML) is a class of...</td>\n",
       "      <td>NaN</td>\n",
       "      <td>NaN</td>\n",
       "      <td>NaN</td>\n",
       "      <td>NaN</td>\n",
       "      <td>Chronic kidney allograft dysfunction; Risk pre...</td>\n",
       "      <td>7838</td>\n",
       "    </tr>\n",
       "    <tr>\n",
       "      <th>3</th>\n",
       "      <td>32729840</td>\n",
       "      <td>NaN</td>\n",
       "      <td>v8i7e17784</td>\n",
       "      <td>NaN</td>\n",
       "      <td>10.2196/17784</td>\n",
       "      <td>10.2196/17784</td>\n",
       "      <td>eng</td>\n",
       "      <td>Identifying and Predicting Intentional Self-Ha...</td>\n",
       "      <td>Obeid Jihad S; Dahne Jennifer; Christensen Sea...</td>\n",
       "      <td>pubmed_article</td>\n",
       "      <td>...</td>\n",
       "      <td>101645109</td>\n",
       "      <td>NaN</td>\n",
       "      <td>2309</td>\n",
       "      <td>BACKGROUND: Suicide is an important public hea...</td>\n",
       "      <td>©Jihad S Obeid, Jennifer Dahne, Sean Christens...</td>\n",
       "      <td>NaN</td>\n",
       "      <td>NaN</td>\n",
       "      <td>NaN</td>\n",
       "      <td>deep learning; electronic health records; mach...</td>\n",
       "      <td>11313</td>\n",
       "    </tr>\n",
       "    <tr>\n",
       "      <th>4</th>\n",
       "      <td>32673791</td>\n",
       "      <td>NaN</td>\n",
       "      <td>S1532-0464(20)30139-8</td>\n",
       "      <td>NaN</td>\n",
       "      <td>10.1016/j.jbi.2020.103511</td>\n",
       "      <td>S1532-0464(20)30139-8</td>\n",
       "      <td>eng</td>\n",
       "      <td>An attention-based multi-task model for named ...</td>\n",
       "      <td>Wu Chaochen; Luo Guan; Guo Chao; Ren Yin; Zhen...</td>\n",
       "      <td>pubmed_article</td>\n",
       "      <td>...</td>\n",
       "      <td>100970413</td>\n",
       "      <td>1532-0464</td>\n",
       "      <td>794</td>\n",
       "      <td>In this paper, we propose an attention-based m...</td>\n",
       "      <td>Copyright © 2020 Elsevier Inc. All rights rese...</td>\n",
       "      <td>NaN</td>\n",
       "      <td>NaN</td>\n",
       "      <td>NaN</td>\n",
       "      <td>Deep learning; Intent analysis; Interpretabili...</td>\n",
       "      <td>8424</td>\n",
       "    </tr>\n",
       "  </tbody>\n",
       "</table>\n",
       "<p>5 rows × 31 columns</p>\n",
       "</div>"
      ],
      "text/plain": [
       "       pmid         pmc                         pii  mid  \\\n",
       "0  32765261  PMC7378532                         NaN  NaN   \n",
       "1  32764354         NaN                   s20164369  NaN   \n",
       "2  32761550         NaN  10.1007/s11845-020-02332-1  NaN   \n",
       "3  32729840         NaN                  v8i7e17784  NaN   \n",
       "4  32673791         NaN       S1532-0464(20)30139-8  NaN   \n",
       "\n",
       "                          doi                elocation_id language  \\\n",
       "0    10.3389/fphar.2020.01028    10.3389/fphar.2020.01028      eng   \n",
       "1           10.3390/s20164369                       E4369      eng   \n",
       "2  10.1007/s11845-020-02332-1  10.1007/s11845-020-02332-1      eng   \n",
       "3               10.2196/17784               10.2196/17784      eng   \n",
       "4   10.1016/j.jbi.2020.103511       S1532-0464(20)30139-8      eng   \n",
       "\n",
       "                                               title  \\\n",
       "0  Artificial Intelligence in Pharmacoepidemiolog...   \n",
       "1  Earthquake Probability Assessment for the Indi...   \n",
       "2  Machine learning for predicting long-term kidn...   \n",
       "3  Identifying and Predicting Intentional Self-Ha...   \n",
       "4  An attention-based multi-task model for named ...   \n",
       "\n",
       "                                             authors    article_type  ...  \\\n",
       "0  Sessa Maurizio; Khan Abdul Rauf; Liang David; ...  pubmed_article  ...   \n",
       "1  Jena Ratiranjan; Pradhan Biswajeet; Al-Amri Ab...  pubmed_article  ...   \n",
       "2  Sekercioglu Nigar; Fu Rui; Kim S Joseph; Mitsa...  pubmed_article  ...   \n",
       "3  Obeid Jihad S; Dahne Jennifer; Christensen Sea...  pubmed_article  ...   \n",
       "4  Wu Chaochen; Luo Guan; Guo Chao; Ren Yin; Zhen...  pubmed_article  ...   \n",
       "\n",
       "  publisher_nlm_id publisher_issn_linking abstract_len  \\\n",
       "0        101548923              1663-9812         1496   \n",
       "1        101204366              1424-8220         2212   \n",
       "2          7806864              0021-1265         1784   \n",
       "3        101645109                    NaN         2309   \n",
       "4        100970413              1532-0464          794   \n",
       "\n",
       "                                            abstract  \\\n",
       "0  Aim: To perform a systematic review on the app...   \n",
       "1  Earthquake prediction is a popular topic among...   \n",
       "2  Supervised machine learning (ML) is a class of...   \n",
       "3  BACKGROUND: Suicide is an important public hea...   \n",
       "4  In this paper, we propose an attention-based m...   \n",
       "\n",
       "                                           copyright mesh_quals_major  \\\n",
       "0  Copyright © 2020 Sessa, Khan, Liang, Andersen ...              NaN   \n",
       "1                                                NaN              NaN   \n",
       "2                                                NaN              NaN   \n",
       "3  ©Jihad S Obeid, Jennifer Dahne, Sean Christens...              NaN   \n",
       "4  Copyright © 2020 Elsevier Inc. All rights rese...              NaN   \n",
       "\n",
       "  mesh_quals_minor mesh_descriptors  \\\n",
       "0              NaN              NaN   \n",
       "1              NaN              NaN   \n",
       "2              NaN              NaN   \n",
       "3              NaN              NaN   \n",
       "4              NaN              NaN   \n",
       "\n",
       "                                            keywords file_size  \n",
       "0  artificial intelligence; deep learning; machin...     33874  \n",
       "1  GIS; Indian subcontinent; deep learning; earth...     10267  \n",
       "2  Chronic kidney allograft dysfunction; Risk pre...      7838  \n",
       "3  deep learning; electronic health records; mach...     11313  \n",
       "4  Deep learning; Intent analysis; Interpretabili...      8424  \n",
       "\n",
       "[5 rows x 31 columns]"
      ]
     },
     "execution_count": 4,
     "metadata": {},
     "output_type": "execute_result"
    }
   ],
   "source": [
    "items = pubmed.handle_query_responses(db, article_ids)\n",
    "items.head()"
   ]
  },
  {
   "cell_type": "code",
   "execution_count": 33,
   "metadata": {
    "ExecuteTime": {
     "end_time": "2020-08-02T21:41:30.718328Z",
     "start_time": "2020-08-02T21:41:29.933751Z"
    }
   },
   "outputs": [],
   "source": [
    "items.to_csv('database/{0}_queryX.csv'.format(db), sep='|')\n",
    "items.to_excel('database/{0}_queryX.xlsx'.format(db))"
   ]
  }
 ],
 "metadata": {
  "kernelspec": {
   "display_name": "Python 3",
   "language": "python",
   "name": "python3"
  },
  "language_info": {
   "codemirror_mode": {
    "name": "ipython",
    "version": 3
   },
   "file_extension": ".py",
   "mimetype": "text/x-python",
   "name": "python",
   "nbconvert_exporter": "python",
   "pygments_lexer": "ipython3",
   "version": "3.6.10"
  }
 },
 "nbformat": 4,
 "nbformat_minor": 2
}
