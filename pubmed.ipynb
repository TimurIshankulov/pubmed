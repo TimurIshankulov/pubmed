{
 "cells": [
  {
   "cell_type": "markdown",
   "metadata": {},
   "source": [
    "### Import"
   ]
  },
  {
   "cell_type": "code",
   "execution_count": 78,
   "metadata": {
    "ExecuteTime": {
     "end_time": "2019-11-19T10:25:23.963806Z",
     "start_time": "2019-11-19T10:25:23.956826Z"
    }
   },
   "outputs": [],
   "source": [
    "import pandas as pd\n",
    "import datetime\n",
    "import time\n",
    "import requests\n",
    "#import xmltodict\n",
    "#import xml\n",
    "import os\n",
    "import json"
   ]
  },
  {
   "cell_type": "code",
   "execution_count": 80,
   "metadata": {
    "ExecuteTime": {
     "end_time": "2019-11-19T10:27:47.513690Z",
     "start_time": "2019-11-19T10:27:47.509699Z"
    }
   },
   "outputs": [],
   "source": [
    "from pymed import PubMed\n",
    "import xml.etree.ElementTree as ET"
   ]
  },
  {
   "cell_type": "markdown",
   "metadata": {},
   "source": [
    "### Settings"
   ]
  },
  {
   "cell_type": "code",
   "execution_count": 79,
   "metadata": {
    "ExecuteTime": {
     "end_time": "2019-11-19T10:27:34.009775Z",
     "start_time": "2019-11-19T10:27:34.002794Z"
    }
   },
   "outputs": [],
   "source": [
    "headers = {\n",
    "    'User-Agent': 'Mozilla / 5.0(Windows NT 10.0; Win64; x64) AppleWebKit / 537.36(KHTML, like Gecko) Chrome / 69.0.3497.81 Safari / 537.36'\n",
    "}\n",
    "\n",
    "authors_list = [\n",
    "    'Danilov Gleb',\n",
    "    'Shifrin Michael',\n",
    "    'Potapov Alexander',\n",
    "    'Shimansky Vadim'\n",
    "]\n",
    "\n",
    "tool = 'my_tool1'\n",
    "email = 'tishankulov@nsi.ru'\n",
    "max_results = 500\n",
    "\n",
    "full_texts_path = 'fulltexts/'\n",
    "\n",
    "url_pubmed_to_pmc = 'https://eutils.ncbi.nlm.nih.gov/entrez/eutils/elink.fcgi'\n",
    "url_full_text = 'https://eutils.ncbi.nlm.nih.gov/entrez/eutils/efetch.fcgi'"
   ]
  },
  {
   "cell_type": "markdown",
   "metadata": {},
   "source": [
    "### Functions"
   ]
  },
  {
   "cell_type": "code",
   "execution_count": 4,
   "metadata": {
    "ExecuteTime": {
     "end_time": "2019-11-18T10:38:05.771478Z",
     "start_time": "2019-11-18T10:38:05.762501Z"
    }
   },
   "outputs": [],
   "source": [
    "def get_items(fullname):\n",
    "    \"\"\"\n",
    "    Makes request to Pubmed database.\n",
    "    Returns DataFrame with all articles authored by <fullname>.\n",
    "    \"\"\"\n",
    "    items = pd.DataFrame(columns=['fullname', 'pubmed_id', 'title', 'abstract', 'keywords', 'journal', 'publication_date',\n",
    "                                  'authors', 'affiliations', 'methods', 'conclusions', 'results', 'copyrights', 'doi'])\n",
    "    \n",
    "    lastname = fullname.split()[0]\n",
    "    firstname = fullname.split()[1]\n",
    "    query = '{0}, {1}[Author]'.format(lastname, firstname)\n",
    "    \n",
    "    pubmed = PubMed(tool=tool, email=email)\n",
    "    results = pubmed.query(query, max_results=max_results)\n",
    "    \n",
    "    while True:\n",
    "        try:\n",
    "            result = next(results)\n",
    "            result_dict = result.toDict()\n",
    "            result_dict['fullname'] = fullname\n",
    "            result_dict['affiliations'] = [author['affiliation'] for author in result_dict['authors']]\n",
    "            result_dict['affiliations'] = '; '.join(result_dict['affiliations'])\n",
    "            result_dict['authors'] = [' '.join([author['lastname'], author['firstname']]) for author in result_dict['authors']]\n",
    "            result_dict['authors'] = '; '.join(result_dict['authors'])\n",
    "            result_dict['keywords'] = '; '.join(result_dict['keywords'])\n",
    "            result_dict['pubmed_id'] = result_dict['pubmed_id'].replace('\\n', '; ')\n",
    "            del result_dict['xml']\n",
    "            items = items.append(result_dict, ignore_index=True)\n",
    "        except StopIteration:\n",
    "            break\n",
    "    \n",
    "    return items"
   ]
  },
  {
   "cell_type": "code",
   "execution_count": 28,
   "metadata": {
    "ExecuteTime": {
     "end_time": "2019-11-18T13:25:48.664580Z",
     "start_time": "2019-11-18T13:25:48.654606Z"
    }
   },
   "outputs": [],
   "source": [
    "def add_pmc_id(items):\n",
    "    \"\"\"Makes request to Pubmed to get PMC ID by Pubmed ID in <items>\"\"\"\n",
    "    params = {\n",
    "        'format': 'json',\n",
    "        'dbfrom': 'pubmed',\n",
    "        'linkname': 'pubmed_pmc',\n",
    "        'tool': tool,\n",
    "        'email': email\n",
    "    }\n",
    "    \n",
    "    if not 'pmc_id' in items.columns:\n",
    "        items.insert(2, 'pmc_id', pd.np.nan)\n",
    "    \n",
    "    for i in range(0, len(items)):\n",
    "        params['id'] = items.loc[i, 'pubmed_id']\n",
    "        try:\n",
    "            response = requests.get(url=url_pubmed_to_pmc, headers=headers, params=params)\n",
    "        except requests.RequestException:\n",
    "            print('Problem has occured with Pubmed ID: {0}'.format(params['id']))\n",
    "        else:\n",
    "            data = response.json()\n",
    "            if 'linksetdbs' in data['linksets'][0]:\n",
    "                items.loc[i, 'pmc_id'] = data['linksets'][0]['linksetdbs'][0]['links'][0]\n",
    "    return items"
   ]
  },
  {
   "cell_type": "code",
   "execution_count": 81,
   "metadata": {
    "ExecuteTime": {
     "end_time": "2019-11-19T10:28:28.136204Z",
     "start_time": "2019-11-19T10:28:28.126229Z"
    }
   },
   "outputs": [],
   "source": [
    "def get_full_text(pmc_id, download=True, refresh=False):\n",
    "    \"\"\"Returns full text of article with <pmc_id> identifier\"\"\"\n",
    "    params = {\n",
    "        'db': 'pmc',\n",
    "        'id': pmc_id,\n",
    "        'tool': tool,\n",
    "        'email': email\n",
    "    }\n",
    "    data = ''\n",
    "    full_text = ''\n",
    "    \n",
    "    filename = os.path.join(full_texts_path, str(pmc_id))\n",
    "    if (os.path.exists(filename)) and (not refresh):\n",
    "        with open(filename, 'r') as f:\n",
    "            data = f.read()\n",
    "    else:\n",
    "        try:\n",
    "            response = requests.get(url=url_full_text, headers=headers, params=params)\n",
    "        except requests.RequestException:\n",
    "            print('Problem has occured with PMC ID: {0}'.format(pmc_id))\n",
    "        else:\n",
    "            data = response.text\n",
    "            if download:\n",
    "                with open(filename, 'w+') as f:\n",
    "                    f.write(data)\n",
    "    if data:\n",
    "        root = ET.fromstring(data)\n",
    "        for p in root.iter('p'):\n",
    "            full_text += p.text\n",
    "    \n",
    "    return full_text"
   ]
  },
  {
   "cell_type": "markdown",
   "metadata": {},
   "source": [
    "### Main"
   ]
  },
  {
   "cell_type": "code",
   "execution_count": 8,
   "metadata": {
    "ExecuteTime": {
     "end_time": "2019-11-18T10:49:30.163656Z",
     "start_time": "2019-11-18T10:49:25.443751Z"
    }
   },
   "outputs": [
    {
     "data": {
      "text/html": [
       "<div>\n",
       "<style scoped>\n",
       "    .dataframe tbody tr th:only-of-type {\n",
       "        vertical-align: middle;\n",
       "    }\n",
       "\n",
       "    .dataframe tbody tr th {\n",
       "        vertical-align: top;\n",
       "    }\n",
       "\n",
       "    .dataframe thead th {\n",
       "        text-align: right;\n",
       "    }\n",
       "</style>\n",
       "<table border=\"1\" class=\"dataframe\">\n",
       "  <thead>\n",
       "    <tr style=\"text-align: right;\">\n",
       "      <th></th>\n",
       "      <th>fullname</th>\n",
       "      <th>pubmed_id</th>\n",
       "      <th>title</th>\n",
       "      <th>abstract</th>\n",
       "      <th>keywords</th>\n",
       "      <th>journal</th>\n",
       "      <th>publication_date</th>\n",
       "      <th>authors</th>\n",
       "      <th>affiliations</th>\n",
       "      <th>methods</th>\n",
       "      <th>conclusions</th>\n",
       "      <th>results</th>\n",
       "      <th>copyrights</th>\n",
       "      <th>doi</th>\n",
       "    </tr>\n",
       "  </thead>\n",
       "  <tbody>\n",
       "    <tr>\n",
       "      <th>0</th>\n",
       "      <td>Danilov Gleb</td>\n",
       "      <td>31349300</td>\n",
       "      <td>An Information Extraction Algorithm for Detect...</td>\n",
       "      <td>Rich-in-morphology language, such as Russian, ...</td>\n",
       "      <td>Adverse Events; Electronic Health Records; Nat...</td>\n",
       "      <td>Studies in health technology and informatics</td>\n",
       "      <td>2019-07-28</td>\n",
       "      <td>Danilov Gleb; Shifrin Michael; Strunina Uliya;...</td>\n",
       "      <td>National Medical Research Center for Neurosurg...</td>\n",
       "      <td>None</td>\n",
       "      <td>None</td>\n",
       "      <td>None</td>\n",
       "      <td>None</td>\n",
       "      <td>10.3233/SHTI190051</td>\n",
       "    </tr>\n",
       "    <tr>\n",
       "      <th>1</th>\n",
       "      <td>Danilov Gleb</td>\n",
       "      <td>31121374</td>\n",
       "      <td>A Single-Center Retrospective Descriptive Coho...</td>\n",
       "      <td>Cerebrospinal fluid (CSF) leak remains a signi...</td>\n",
       "      <td>Cerebrospinal fluid leakage; Children; Craniot...</td>\n",
       "      <td>World neurosurgery</td>\n",
       "      <td>2019-05-24</td>\n",
       "      <td>Kushel Yury; Danilov Gleb; Tekoev Aslan; Cheld...</td>\n",
       "      <td>2nd Neurosurgical Department, Burdenko Neurosu...</td>\n",
       "      <td>None</td>\n",
       "      <td>None</td>\n",
       "      <td>Postoperative wound CSF leakage was observed i...</td>\n",
       "      <td>Copyright © 2019 Elsevier Inc. All rights rese...</td>\n",
       "      <td>10.1016/j.wneu.2019.05.091</td>\n",
       "    </tr>\n",
       "    <tr>\n",
       "      <th>2</th>\n",
       "      <td>Danilov Gleb</td>\n",
       "      <td>30942728</td>\n",
       "      <td>Prediction of Postoperative Hospital Stay with...</td>\n",
       "      <td>Electronic Health Records (EHRs) conceal a hid...</td>\n",
       "      <td>Deep Learning; Electronic Health Records; Neur...</td>\n",
       "      <td>Studies in health technology and informatics</td>\n",
       "      <td>2019-04-04</td>\n",
       "      <td>Danilov Gleb; Kotik Konstantin; Shifrin Michae...</td>\n",
       "      <td>National Medical Research Center for Neurosurg...</td>\n",
       "      <td>None</td>\n",
       "      <td>None</td>\n",
       "      <td>None</td>\n",
       "      <td>None</td>\n",
       "      <td>None</td>\n",
       "    </tr>\n",
       "    <tr>\n",
       "      <th>3</th>\n",
       "      <td>Danilov Gleb</td>\n",
       "      <td>30468924</td>\n",
       "      <td>Pineal Cyst-Related Aqueductal Stenosis as Cau...</td>\n",
       "      <td>Pineal cysts (PCs) are histologically benign l...</td>\n",
       "      <td>Cerebral aqueduct; Headache; Magnetic resonanc...</td>\n",
       "      <td>World neurosurgery</td>\n",
       "      <td>2018-11-24</td>\n",
       "      <td>Pitskhelauri David I; Konovalov Alexander N; A...</td>\n",
       "      <td>Department of Neurooncology, Burdenko National...</td>\n",
       "      <td>None</td>\n",
       "      <td>The results indicate a statistically significa...</td>\n",
       "      <td>In 25 patients (82%) we observed clinical impr...</td>\n",
       "      <td>Copyright © 2018 Elsevier Inc. All rights rese...</td>\n",
       "      <td>10.1016/j.wneu.2018.11.096</td>\n",
       "    </tr>\n",
       "    <tr>\n",
       "      <th>4</th>\n",
       "      <td>Danilov Gleb</td>\n",
       "      <td>30096505</td>\n",
       "      <td>Great Hospitals of the Russian Federation: Nat...</td>\n",
       "      <td>In 1929 the surgeon N. N. Burdenko and the neu...</td>\n",
       "      <td>Education; N. N. Burdenko Neurosurgery Center;...</td>\n",
       "      <td>World neurosurgery</td>\n",
       "      <td>2018-08-11</td>\n",
       "      <td>Potapov Alexander; Likhterman Leonid; Danilov ...</td>\n",
       "      <td>Federal State Autonomous Institution N. N. Bur...</td>\n",
       "      <td>None</td>\n",
       "      <td>None</td>\n",
       "      <td>None</td>\n",
       "      <td>Copyright © 2018 The Authors. Published by Els...</td>\n",
       "      <td>10.1016/j.wneu.2018.07.280</td>\n",
       "    </tr>\n",
       "  </tbody>\n",
       "</table>\n",
       "</div>"
      ],
      "text/plain": [
       "       fullname pubmed_id                                              title  \\\n",
       "0  Danilov Gleb  31349300  An Information Extraction Algorithm for Detect...   \n",
       "1  Danilov Gleb  31121374  A Single-Center Retrospective Descriptive Coho...   \n",
       "2  Danilov Gleb  30942728  Prediction of Postoperative Hospital Stay with...   \n",
       "3  Danilov Gleb  30468924  Pineal Cyst-Related Aqueductal Stenosis as Cau...   \n",
       "4  Danilov Gleb  30096505  Great Hospitals of the Russian Federation: Nat...   \n",
       "\n",
       "                                            abstract  \\\n",
       "0  Rich-in-morphology language, such as Russian, ...   \n",
       "1  Cerebrospinal fluid (CSF) leak remains a signi...   \n",
       "2  Electronic Health Records (EHRs) conceal a hid...   \n",
       "3  Pineal cysts (PCs) are histologically benign l...   \n",
       "4  In 1929 the surgeon N. N. Burdenko and the neu...   \n",
       "\n",
       "                                            keywords  \\\n",
       "0  Adverse Events; Electronic Health Records; Nat...   \n",
       "1  Cerebrospinal fluid leakage; Children; Craniot...   \n",
       "2  Deep Learning; Electronic Health Records; Neur...   \n",
       "3  Cerebral aqueduct; Headache; Magnetic resonanc...   \n",
       "4  Education; N. N. Burdenko Neurosurgery Center;...   \n",
       "\n",
       "                                        journal publication_date  \\\n",
       "0  Studies in health technology and informatics       2019-07-28   \n",
       "1                            World neurosurgery       2019-05-24   \n",
       "2  Studies in health technology and informatics       2019-04-04   \n",
       "3                            World neurosurgery       2018-11-24   \n",
       "4                            World neurosurgery       2018-08-11   \n",
       "\n",
       "                                             authors  \\\n",
       "0  Danilov Gleb; Shifrin Michael; Strunina Uliya;...   \n",
       "1  Kushel Yury; Danilov Gleb; Tekoev Aslan; Cheld...   \n",
       "2  Danilov Gleb; Kotik Konstantin; Shifrin Michae...   \n",
       "3  Pitskhelauri David I; Konovalov Alexander N; A...   \n",
       "4  Potapov Alexander; Likhterman Leonid; Danilov ...   \n",
       "\n",
       "                                        affiliations methods  \\\n",
       "0  National Medical Research Center for Neurosurg...    None   \n",
       "1  2nd Neurosurgical Department, Burdenko Neurosu...    None   \n",
       "2  National Medical Research Center for Neurosurg...    None   \n",
       "3  Department of Neurooncology, Burdenko National...    None   \n",
       "4  Federal State Autonomous Institution N. N. Bur...    None   \n",
       "\n",
       "                                         conclusions  \\\n",
       "0                                               None   \n",
       "1                                               None   \n",
       "2                                               None   \n",
       "3  The results indicate a statistically significa...   \n",
       "4                                               None   \n",
       "\n",
       "                                             results  \\\n",
       "0                                               None   \n",
       "1  Postoperative wound CSF leakage was observed i...   \n",
       "2                                               None   \n",
       "3  In 25 patients (82%) we observed clinical impr...   \n",
       "4                                               None   \n",
       "\n",
       "                                          copyrights  \\\n",
       "0                                               None   \n",
       "1  Copyright © 2019 Elsevier Inc. All rights rese...   \n",
       "2                                               None   \n",
       "3  Copyright © 2018 Elsevier Inc. All rights rese...   \n",
       "4  Copyright © 2018 The Authors. Published by Els...   \n",
       "\n",
       "                          doi  \n",
       "0          10.3233/SHTI190051  \n",
       "1  10.1016/j.wneu.2019.05.091  \n",
       "2                        None  \n",
       "3  10.1016/j.wneu.2018.11.096  \n",
       "4  10.1016/j.wneu.2018.07.280  "
      ]
     },
     "execution_count": 8,
     "metadata": {},
     "output_type": "execute_result"
    }
   ],
   "source": [
    "items = get_items(authors_list[0])\n",
    "items.head()"
   ]
  },
  {
   "cell_type": "code",
   "execution_count": 27,
   "metadata": {
    "ExecuteTime": {
     "end_time": "2019-11-18T10:57:58.812355Z",
     "start_time": "2019-11-18T10:57:50.921745Z"
    }
   },
   "outputs": [
    {
     "data": {
      "text/html": [
       "<div>\n",
       "<style scoped>\n",
       "    .dataframe tbody tr th:only-of-type {\n",
       "        vertical-align: middle;\n",
       "    }\n",
       "\n",
       "    .dataframe tbody tr th {\n",
       "        vertical-align: top;\n",
       "    }\n",
       "\n",
       "    .dataframe thead th {\n",
       "        text-align: right;\n",
       "    }\n",
       "</style>\n",
       "<table border=\"1\" class=\"dataframe\">\n",
       "  <thead>\n",
       "    <tr style=\"text-align: right;\">\n",
       "      <th></th>\n",
       "      <th>fullname</th>\n",
       "      <th>pubmed_id</th>\n",
       "      <th>pmc_id</th>\n",
       "      <th>title</th>\n",
       "      <th>abstract</th>\n",
       "      <th>keywords</th>\n",
       "      <th>journal</th>\n",
       "      <th>publication_date</th>\n",
       "      <th>authors</th>\n",
       "      <th>affiliations</th>\n",
       "      <th>methods</th>\n",
       "      <th>conclusions</th>\n",
       "      <th>results</th>\n",
       "      <th>copyrights</th>\n",
       "      <th>doi</th>\n",
       "    </tr>\n",
       "  </thead>\n",
       "  <tbody>\n",
       "    <tr>\n",
       "      <th>5</th>\n",
       "      <td>Danilov Gleb</td>\n",
       "      <td>30083313; 18171185; 11716632; 27408261; 401411...</td>\n",
       "      <td>6069828</td>\n",
       "      <td>Implementing an infection control and preventi...</td>\n",
       "      <td>The impact of infection prevention and control...</td>\n",
       "      <td>Cross infection; Drug resistance; Infection co...</td>\n",
       "      <td>Antimicrobial resistance and infection control</td>\n",
       "      <td>2018-08-08</td>\n",
       "      <td>Ershova Ksenia; Savin Ivan; Kurdyumova Nataliy...</td>\n",
       "      <td>1Center for Data-Intensive Biotechnology and B...</td>\n",
       "      <td>None</td>\n",
       "      <td>None</td>\n",
       "      <td>None</td>\n",
       "      <td>None</td>\n",
       "      <td>10.1186/s13756-018-0383-4</td>\n",
       "    </tr>\n",
       "    <tr>\n",
       "      <th>6</th>\n",
       "      <td>Danilov Gleb</td>\n",
       "      <td>29968664</td>\n",
       "      <td>NaN</td>\n",
       "      <td>Diagnostic Games as a Teaching Tool.</td>\n",
       "      <td>Diagnostic games were developed in the 70s of ...</td>\n",
       "      <td>Digital transformation; clinical decision maki...</td>\n",
       "      <td>Studies in health technology and informatics</td>\n",
       "      <td>2018-07-04</td>\n",
       "      <td>Shifrin Michael; Danilov Gleb; Shklovskiy-Kord...</td>\n",
       "      <td>N.N. Burdenko National Medical Research Centre...</td>\n",
       "      <td>None</td>\n",
       "      <td>None</td>\n",
       "      <td>None</td>\n",
       "      <td>None</td>\n",
       "      <td>None</td>\n",
       "    </tr>\n",
       "    <tr>\n",
       "      <th>7</th>\n",
       "      <td>Danilov Gleb</td>\n",
       "      <td>29557532</td>\n",
       "      <td>NaN</td>\n",
       "      <td>Cisterna magna arachnoid membrane suturing dec...</td>\n",
       "      <td>A pseudomeningocele and an incisional cerebros...</td>\n",
       "      <td>Arachnoid suturing; CSF leak; Pseudomeningocel...</td>\n",
       "      <td>Acta neurochirurgica</td>\n",
       "      <td>2018-03-21</td>\n",
       "      <td>Pitskhelauri David; Kudieva Elina; Moshchev Dm...</td>\n",
       "      <td>Burdenko Neurosurgery Center, Department of Ne...</td>\n",
       "      <td>None</td>\n",
       "      <td>None</td>\n",
       "      <td>In the patients who underwent arachnoid membra...</td>\n",
       "      <td>None</td>\n",
       "      <td>10.1007/s00701-018-3507-y</td>\n",
       "    </tr>\n",
       "    <tr>\n",
       "      <th>8</th>\n",
       "      <td>Danilov Gleb</td>\n",
       "      <td>29413730</td>\n",
       "      <td>NaN</td>\n",
       "      <td>Healthcare-associated ventriculitis and mening...</td>\n",
       "      <td>To define the incidence of healthcare-associat...</td>\n",
       "      <td>Bacterial; Cross infection; Infection control;...</td>\n",
       "      <td>Journal of critical care</td>\n",
       "      <td>2018-02-08</td>\n",
       "      <td>Savin Ivan; Ershova Ksenia; Kurdyumova Nataliy...</td>\n",
       "      <td>Burdenko Neurosurgery Institute, 16 4th Tversk...</td>\n",
       "      <td>None</td>\n",
       "      <td>We first reported HAVM incidence in a neuro-IC...</td>\n",
       "      <td>2286 patients of all ages were included, 216 o...</td>\n",
       "      <td>Copyright © 2018 Elsevier Inc. All rights rese...</td>\n",
       "      <td>10.1016/j.jcrc.2018.01.022</td>\n",
       "    </tr>\n",
       "    <tr>\n",
       "      <th>9</th>\n",
       "      <td>Danilov Gleb</td>\n",
       "      <td>25991140</td>\n",
       "      <td>NaN</td>\n",
       "      <td>Electronic patient records system as a monitor...</td>\n",
       "      <td>Data collected in electronic patient records (...</td>\n",
       "      <td></td>\n",
       "      <td>Studies in health technology and informatics</td>\n",
       "      <td>2015-05-21</td>\n",
       "      <td>Shifrin Michael; Kurdumova Natalia; Danilov Gl...</td>\n",
       "      <td>N. N. Burdenko Neurosurgery Institute, Moscow,...</td>\n",
       "      <td>None</td>\n",
       "      <td>None</td>\n",
       "      <td>None</td>\n",
       "      <td>None</td>\n",
       "      <td>None</td>\n",
       "    </tr>\n",
       "  </tbody>\n",
       "</table>\n",
       "</div>"
      ],
      "text/plain": [
       "       fullname                                          pubmed_id   pmc_id  \\\n",
       "5  Danilov Gleb  30083313; 18171185; 11716632; 27408261; 401411...  6069828   \n",
       "6  Danilov Gleb                                           29968664      NaN   \n",
       "7  Danilov Gleb                                           29557532      NaN   \n",
       "8  Danilov Gleb                                           29413730      NaN   \n",
       "9  Danilov Gleb                                           25991140      NaN   \n",
       "\n",
       "                                               title  \\\n",
       "5  Implementing an infection control and preventi...   \n",
       "6               Diagnostic Games as a Teaching Tool.   \n",
       "7  Cisterna magna arachnoid membrane suturing dec...   \n",
       "8  Healthcare-associated ventriculitis and mening...   \n",
       "9  Electronic patient records system as a monitor...   \n",
       "\n",
       "                                            abstract  \\\n",
       "5  The impact of infection prevention and control...   \n",
       "6  Diagnostic games were developed in the 70s of ...   \n",
       "7  A pseudomeningocele and an incisional cerebros...   \n",
       "8  To define the incidence of healthcare-associat...   \n",
       "9  Data collected in electronic patient records (...   \n",
       "\n",
       "                                            keywords  \\\n",
       "5  Cross infection; Drug resistance; Infection co...   \n",
       "6  Digital transformation; clinical decision maki...   \n",
       "7  Arachnoid suturing; CSF leak; Pseudomeningocel...   \n",
       "8  Bacterial; Cross infection; Infection control;...   \n",
       "9                                                      \n",
       "\n",
       "                                          journal publication_date  \\\n",
       "5  Antimicrobial resistance and infection control       2018-08-08   \n",
       "6    Studies in health technology and informatics       2018-07-04   \n",
       "7                            Acta neurochirurgica       2018-03-21   \n",
       "8                        Journal of critical care       2018-02-08   \n",
       "9    Studies in health technology and informatics       2015-05-21   \n",
       "\n",
       "                                             authors  \\\n",
       "5  Ershova Ksenia; Savin Ivan; Kurdyumova Nataliy...   \n",
       "6  Shifrin Michael; Danilov Gleb; Shklovskiy-Kord...   \n",
       "7  Pitskhelauri David; Kudieva Elina; Moshchev Dm...   \n",
       "8  Savin Ivan; Ershova Ksenia; Kurdyumova Nataliy...   \n",
       "9  Shifrin Michael; Kurdumova Natalia; Danilov Gl...   \n",
       "\n",
       "                                        affiliations methods  \\\n",
       "5  1Center for Data-Intensive Biotechnology and B...    None   \n",
       "6  N.N. Burdenko National Medical Research Centre...    None   \n",
       "7  Burdenko Neurosurgery Center, Department of Ne...    None   \n",
       "8  Burdenko Neurosurgery Institute, 16 4th Tversk...    None   \n",
       "9  N. N. Burdenko Neurosurgery Institute, Moscow,...    None   \n",
       "\n",
       "                                         conclusions  \\\n",
       "5                                               None   \n",
       "6                                               None   \n",
       "7                                               None   \n",
       "8  We first reported HAVM incidence in a neuro-IC...   \n",
       "9                                               None   \n",
       "\n",
       "                                             results  \\\n",
       "5                                               None   \n",
       "6                                               None   \n",
       "7  In the patients who underwent arachnoid membra...   \n",
       "8  2286 patients of all ages were included, 216 o...   \n",
       "9                                               None   \n",
       "\n",
       "                                          copyrights  \\\n",
       "5                                               None   \n",
       "6                                               None   \n",
       "7                                               None   \n",
       "8  Copyright © 2018 Elsevier Inc. All rights rese...   \n",
       "9                                               None   \n",
       "\n",
       "                          doi  \n",
       "5   10.1186/s13756-018-0383-4  \n",
       "6                        None  \n",
       "7   10.1007/s00701-018-3507-y  \n",
       "8  10.1016/j.jcrc.2018.01.022  \n",
       "9                        None  "
      ]
     },
     "execution_count": 27,
     "metadata": {},
     "output_type": "execute_result"
    }
   ],
   "source": [
    "items = add_pmc_id(items)\n",
    "items.tail()"
   ]
  },
  {
   "cell_type": "code",
   "execution_count": 121,
   "metadata": {
    "ExecuteTime": {
     "end_time": "2019-11-14T07:53:51.314534Z",
     "start_time": "2019-11-14T07:53:51.282340Z"
    }
   },
   "outputs": [],
   "source": [
    "items.to_excel('output/pubmed-pymed.xlsx')"
   ]
  },
  {
   "cell_type": "markdown",
   "metadata": {},
   "source": [
    "### Debug"
   ]
  },
  {
   "cell_type": "code",
   "execution_count": 91,
   "metadata": {
    "ExecuteTime": {
     "end_time": "2019-11-19T10:34:33.987612Z",
     "start_time": "2019-11-19T10:34:33.978631Z"
    }
   },
   "outputs": [
    {
     "data": {
      "text/plain": [
       "17372"
      ]
     },
     "execution_count": 91,
     "metadata": {},
     "output_type": "execute_result"
    }
   ],
   "source": [
    "test = get_full_text(6069828)\n",
    "len(test)"
   ]
  },
  {
   "cell_type": "code",
   "execution_count": 92,
   "metadata": {
    "ExecuteTime": {
     "end_time": "2019-11-19T10:34:35.814129Z",
     "start_time": "2019-11-19T10:34:35.809141Z"
    }
   },
   "outputs": [
    {
     "data": {
      "text/plain": [
       "'The impact of infection prevention and control (IPC) programs in limited resource countries such as Russia are largely unknown due to a lack of reliable data. The aim of this study is to evaluate the effect of an IPC program with respect to healthcare associated infection (HAI) prevention and to define the incidence of HAIs in a Russian ICU.A pioneering IPC program was implemented in a neuro-ICU at Burdenko Neurosurgery Institute in 2010 and included hand hygiene, surveillance, contact precautions, patient isolation, and environmental cleaning measures. This prospective observational cohort study lasted from 2011 to 2016, included high-risk ICU patients, and evaluated the dynamics of incidence, etiological spectrum, and resistance profile of four types of HAIs, including subgroup analysis of device-associated infections. Survival analysis compared patients with and without HAIs.We included 2038 high-risk patients. By 2016, HAI cumulative incidence decreased significantly for respiratory HAIs (36.1% vs. 24.5%, The implementation of an evidence-based IPC program in a middle-income country (Russia) was highly effective in HAI prevention with meaningful reductions in antibiotic resistance.The online version of this article (10.1186/s13756-018-0383-4) contains supplementary material, which is available to authorized users.Infection prevention and control (IPC) programs have been repeatedly shown to be effective at decreasing the incidence of healthcare-associated infections (HAIs). A landmark paper on this topic in 1985 showed a 32% decrease in the hospital infection rate after 5 years of an ongoing IPC program [To prevent HAIs, the WHO recommends implementing an IPC program in every acute healthcare facility [Besides significant underreporting of HAIs, Russia faces other challenges in establishing IPC programs, such as lack of commitment, punishment-based HAI reporting systems, lack of expertise, and inadequate allocation of resources [This study was a prospective obser'"
      ]
     },
     "execution_count": 92,
     "metadata": {},
     "output_type": "execute_result"
    }
   ],
   "source": [
    "test[:2000]"
   ]
  },
  {
   "cell_type": "code",
   "execution_count": 65,
   "metadata": {
    "ExecuteTime": {
     "end_time": "2019-11-19T08:19:30.307261Z",
     "start_time": "2019-11-19T08:19:28.935910Z"
    }
   },
   "outputs": [],
   "source": [
    "params = {\n",
    "    'db': 'pmc',\n",
    "    'id': 6069828,\n",
    "    'tool': tool,\n",
    "    'email': email\n",
    "}\n",
    "\n",
    "response = requests.get(url=url_full_text, headers=headers, params=params)"
   ]
  },
  {
   "cell_type": "code",
   "execution_count": 88,
   "metadata": {
    "ExecuteTime": {
     "end_time": "2019-11-19T10:33:49.009453Z",
     "start_time": "2019-11-19T10:33:49.004463Z"
    }
   },
   "outputs": [
    {
     "name": "stdout",
     "output_type": "stream",
     "text": [
      "<?xml version=\"1.0\" ?>\n",
      "<!DOCTYPE pmc-articleset PUBLIC \"-//NLM//DTD ARTICLE SET 2.0//EN\" \"https://dtd.nlm.nih.gov/ncbi/pmc/articleset/nlm-articleset-2.0.dtd\">\n",
      "<pmc-articleset><article xmlns:mml=\"http://www.w3.org/1998/Math/MathML\" xmlns:xlink=\"http://www.w3.org/1999/xlink\" article-type=\"research-article\">\n",
      "  <?properties open_access?>\n",
      "  <front>\n",
      "    <journal-meta>\n",
      "      <journal-id journal-id-type=\"nlm-ta\">Antimicrob Resist Infect Control</journal-id>\n",
      "      <journal-id journal-id-type=\"iso-abbrev\">Antimicrob Resist Infect Control</journal-id>\n",
      "      <journal-title-group>\n",
      "        <journal-title>Antimicrobial Resistance and Infection Control</journal-title>\n",
      "      </journal-title-group>\n",
      "      <issn pub-type=\"epub\">2047-2994</issn>\n",
      "      <publisher>\n",
      "        <publisher-name>BioMed Central</publisher-name>\n",
      "        <publisher-loc>London</publisher-loc>\n",
      "      </publisher>\n",
      "    </journal-meta>\n",
      "    <article-meta>\n",
      "      <article-id pub-id-type=\"pmid\">30083313</article-id>\n",
      "      <article-id pub-id-typ\n"
     ]
    }
   ],
   "source": [
    "print(response.text[:1000])"
   ]
  }
 ],
 "metadata": {
  "kernelspec": {
   "display_name": "Python 3",
   "language": "python",
   "name": "python3"
  },
  "language_info": {
   "codemirror_mode": {
    "name": "ipython",
    "version": 3
   },
   "file_extension": ".py",
   "mimetype": "text/x-python",
   "name": "python",
   "nbconvert_exporter": "python",
   "pygments_lexer": "ipython3",
   "version": "3.7.3"
  }
 },
 "nbformat": 4,
 "nbformat_minor": 2
}
