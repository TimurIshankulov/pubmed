{
 "cells": [
  {
   "cell_type": "markdown",
   "metadata": {},
   "source": [
    "### Import"
   ]
  },
  {
   "cell_type": "code",
   "execution_count": 1,
   "metadata": {
    "ExecuteTime": {
     "end_time": "2019-11-19T13:05:54.575755Z",
     "start_time": "2019-11-19T13:05:45.520501Z"
    }
   },
   "outputs": [],
   "source": [
    "import pandas as pd\n",
    "import datetime\n",
    "import time\n",
    "import requests\n",
    "#import xmltodict\n",
    "#import xml\n",
    "import os\n",
    "import json"
   ]
  },
  {
   "cell_type": "code",
   "execution_count": 2,
   "metadata": {
    "ExecuteTime": {
     "end_time": "2019-11-19T13:05:54.772127Z",
     "start_time": "2019-11-19T13:05:54.582697Z"
    }
   },
   "outputs": [],
   "source": [
    "from pymed import PubMed\n",
    "import xml.etree.ElementTree as ET"
   ]
  },
  {
   "cell_type": "markdown",
   "metadata": {},
   "source": [
    "### Settings"
   ]
  },
  {
   "cell_type": "code",
   "execution_count": 49,
   "metadata": {
    "ExecuteTime": {
     "end_time": "2019-11-19T14:42:00.287614Z",
     "start_time": "2019-11-19T14:42:00.282627Z"
    }
   },
   "outputs": [],
   "source": [
    "headers = {\n",
    "    'User-Agent': 'Mozilla / 5.0(Windows NT 10.0; Win64; x64) AppleWebKit / 537.36(KHTML, like Gecko) Chrome / 69.0.3497.81 Safari / 537.36'\n",
    "}\n",
    "\n",
    "authors_list = [\n",
    "    'Danilov Gleb',\n",
    "    'Shifrin Michael',\n",
    "    'Potapov Alexander',\n",
    "    'Shimansky Vadim'\n",
    "]\n",
    "\n",
    "tool = 'my_tool1'\n",
    "email = 'tishankulov@nsi.ru'\n",
    "max_results = 5000\n",
    "\n",
    "full_texts_path = 'fulltexts/'\n",
    "\n",
    "url_pubmed_to_pmc = 'https://eutils.ncbi.nlm.nih.gov/entrez/eutils/elink.fcgi'\n",
    "url_full_text = 'https://eutils.ncbi.nlm.nih.gov/entrez/eutils/efetch.fcgi'\n",
    "url_article_ids = 'https://eutils.ncbi.nlm.nih.gov/entrez/eutils/esearch.fcgi'"
   ]
  },
  {
   "cell_type": "markdown",
   "metadata": {},
   "source": [
    "### Functions"
   ]
  },
  {
   "cell_type": "code",
   "execution_count": 4,
   "metadata": {
    "ExecuteTime": {
     "end_time": "2019-11-19T13:06:02.129894Z",
     "start_time": "2019-11-19T13:06:02.118924Z"
    }
   },
   "outputs": [],
   "source": [
    "def get_items(fullname):\n",
    "    \"\"\"\n",
    "    Makes request to Pubmed database.\n",
    "    Returns DataFrame with all articles authored by <fullname>.\n",
    "    \"\"\"\n",
    "    items = pd.DataFrame(columns=['fullname', 'pubmed_id', 'title', 'abstract', 'keywords', 'journal', 'publication_date',\n",
    "                                  'authors', 'affiliations', 'methods', 'conclusions', 'results', 'copyrights', 'doi'])\n",
    "    \n",
    "    lastname = fullname.split()[0]\n",
    "    firstname = fullname.split()[1]\n",
    "    query = '{0}, {1}[Author]'.format(lastname, firstname)\n",
    "    \n",
    "    pubmed = PubMed(tool=tool, email=email)\n",
    "    results = pubmed.query(query, max_results=max_results)\n",
    "    \n",
    "    while True:\n",
    "        try:\n",
    "            result = next(results)\n",
    "            result_dict = result.toDict()\n",
    "            result_dict['fullname'] = fullname\n",
    "            result_dict['affiliations'] = [author['affiliation'] for author in result_dict['authors']]\n",
    "            result_dict['affiliations'] = '; '.join(result_dict['affiliations'])\n",
    "            result_dict['authors'] = [' '.join([author['lastname'], author['firstname']]) for author in result_dict['authors']]\n",
    "            result_dict['authors'] = '; '.join(result_dict['authors'])\n",
    "            result_dict['keywords'] = '; '.join(result_dict['keywords'])\n",
    "            result_dict['pubmed_id'] = result_dict['pubmed_id'].replace('\\n', '; ')\n",
    "            del result_dict['xml']\n",
    "            items = items.append(result_dict, ignore_index=True)\n",
    "        except StopIteration:\n",
    "            break\n",
    "    \n",
    "    return items"
   ]
  },
  {
   "cell_type": "code",
   "execution_count": 5,
   "metadata": {
    "ExecuteTime": {
     "end_time": "2019-11-19T13:06:11.272801Z",
     "start_time": "2019-11-19T13:06:11.263823Z"
    }
   },
   "outputs": [],
   "source": [
    "def add_pmc_id(items):\n",
    "    \"\"\"Makes request to Pubmed to get PMC ID by Pubmed ID in <items>\"\"\"\n",
    "    params = {\n",
    "        'format': 'json',\n",
    "        'dbfrom': 'pubmed',\n",
    "        'linkname': 'pubmed_pmc',\n",
    "        'tool': tool,\n",
    "        'email': email\n",
    "    }\n",
    "    \n",
    "    if not 'pmc_id' in items.columns:\n",
    "        items.insert(2, 'pmc_id', pd.np.nan)\n",
    "    \n",
    "    for i in range(0, len(items)):\n",
    "        params['id'] = items.loc[i, 'pubmed_id']\n",
    "        try:\n",
    "            response = requests.get(url=url_pubmed_to_pmc, headers=headers, params=params)\n",
    "        except requests.RequestException:\n",
    "            print('Problem has occured with Pubmed ID: {0}'.format(params['id']))\n",
    "        else:\n",
    "            data = response.json()\n",
    "            if 'linksetdbs' in data['linksets'][0]:\n",
    "                items.loc[i, 'pmc_id'] = data['linksets'][0]['linksetdbs'][0]['links'][0]\n",
    "    return items"
   ]
  },
  {
   "cell_type": "code",
   "execution_count": 6,
   "metadata": {
    "ExecuteTime": {
     "end_time": "2019-11-19T13:06:11.926882Z",
     "start_time": "2019-11-19T13:06:11.917907Z"
    }
   },
   "outputs": [],
   "source": [
    "def get_full_text(pmc_id, download=True, refresh=False):\n",
    "    \"\"\"Returns full text of article with <pmc_id> identifier\"\"\"\n",
    "    params = {\n",
    "        'db': 'pmc',\n",
    "        'id': pmc_id,\n",
    "        'tool': tool,\n",
    "        'email': email\n",
    "    }\n",
    "    data = ''\n",
    "    full_text = ''\n",
    "    \n",
    "    filename = os.path.join(full_texts_path, str(pmc_id))\n",
    "    if (os.path.exists(filename)) and (not refresh):\n",
    "        with open(filename, 'r') as f:\n",
    "            data = f.read()\n",
    "    else:\n",
    "        try:\n",
    "            response = requests.get(url=url_full_text, headers=headers, params=params)\n",
    "        except requests.RequestException:\n",
    "            print('Problem has occured with PMC ID: {0}'.format(pmc_id))\n",
    "        else:\n",
    "            data = response.text\n",
    "            if download:\n",
    "                with open(filename, 'w+') as f:\n",
    "                    f.write(data)\n",
    "    if data:\n",
    "        root = ET.fromstring(data)\n",
    "        for p in root.iter('p'):\n",
    "            full_text += p.text\n",
    "    \n",
    "    return full_text"
   ]
  },
  {
   "cell_type": "code",
   "execution_count": 50,
   "metadata": {
    "ExecuteTime": {
     "end_time": "2019-11-19T14:42:33.695717Z",
     "start_time": "2019-11-19T14:42:33.688736Z"
    }
   },
   "outputs": [],
   "source": [
    "def get_article_ids(query):\n",
    "    \"\"\"Returns all article ids found by <query_words>\"\"\"\n",
    "    params = {\n",
    "        'db': 'pmc',\n",
    "        'tool': tool,\n",
    "        'email': email,\n",
    "        'term': query,\n",
    "        'retmax': max_results,\n",
    "        'retstart': 0\n",
    "    }\n",
    "    article_ids = []\n",
    "    count = params['retmax'] + 1\n",
    "    \n",
    "    while params['retstart'] < count:\n",
    "        try:\n",
    "            response = requests.get(url=url_article_ids, headers=headers, params=params)\n",
    "        except requests.RequestException:\n",
    "            print('Problem has occured at retstart: {0}'.format(params['retstart']))\n",
    "        else:\n",
    "            root = ET.fromstring(response.text)\n",
    "            for article_id in root.iter('Id'):\n",
    "                article_ids.append(int(article_id.text))\n",
    "            count = int(root.find('Count').text)\n",
    "        finally:\n",
    "            params['retstart'] += params['retmax']\n",
    "\n",
    "    return article_ids"
   ]
  },
  {
   "cell_type": "markdown",
   "metadata": {},
   "source": [
    "### Main"
   ]
  },
  {
   "cell_type": "code",
   "execution_count": 51,
   "metadata": {
    "ExecuteTime": {
     "end_time": "2019-11-19T14:43:18.041521Z",
     "start_time": "2019-11-19T14:43:15.814718Z"
    }
   },
   "outputs": [
    {
     "data": {
      "text/html": [
       "<div>\n",
       "<style scoped>\n",
       "    .dataframe tbody tr th:only-of-type {\n",
       "        vertical-align: middle;\n",
       "    }\n",
       "\n",
       "    .dataframe tbody tr th {\n",
       "        vertical-align: top;\n",
       "    }\n",
       "\n",
       "    .dataframe thead th {\n",
       "        text-align: right;\n",
       "    }\n",
       "</style>\n",
       "<table border=\"1\" class=\"dataframe\">\n",
       "  <thead>\n",
       "    <tr style=\"text-align: right;\">\n",
       "      <th></th>\n",
       "      <th>fullname</th>\n",
       "      <th>pubmed_id</th>\n",
       "      <th>title</th>\n",
       "      <th>abstract</th>\n",
       "      <th>keywords</th>\n",
       "      <th>journal</th>\n",
       "      <th>publication_date</th>\n",
       "      <th>authors</th>\n",
       "      <th>affiliations</th>\n",
       "      <th>methods</th>\n",
       "      <th>conclusions</th>\n",
       "      <th>results</th>\n",
       "      <th>copyrights</th>\n",
       "      <th>doi</th>\n",
       "    </tr>\n",
       "  </thead>\n",
       "  <tbody>\n",
       "    <tr>\n",
       "      <th>0</th>\n",
       "      <td>Danilov Gleb</td>\n",
       "      <td>31349300</td>\n",
       "      <td>An Information Extraction Algorithm for Detect...</td>\n",
       "      <td>Rich-in-morphology language, such as Russian, ...</td>\n",
       "      <td>Adverse Events; Electronic Health Records; Nat...</td>\n",
       "      <td>Studies in health technology and informatics</td>\n",
       "      <td>2019-07-28</td>\n",
       "      <td>Danilov Gleb; Shifrin Michael; Strunina Uliya;...</td>\n",
       "      <td>National Medical Research Center for Neurosurg...</td>\n",
       "      <td>None</td>\n",
       "      <td>None</td>\n",
       "      <td>None</td>\n",
       "      <td>None</td>\n",
       "      <td>10.3233/SHTI190051</td>\n",
       "    </tr>\n",
       "    <tr>\n",
       "      <th>1</th>\n",
       "      <td>Danilov Gleb</td>\n",
       "      <td>31121374</td>\n",
       "      <td>A Single-Center Retrospective Descriptive Coho...</td>\n",
       "      <td>Cerebrospinal fluid (CSF) leak remains a signi...</td>\n",
       "      <td>Cerebrospinal fluid leakage; Children; Craniot...</td>\n",
       "      <td>World neurosurgery</td>\n",
       "      <td>2019-05-24</td>\n",
       "      <td>Kushel Yury; Danilov Gleb; Tekoev Aslan; Cheld...</td>\n",
       "      <td>2nd Neurosurgical Department, Burdenko Neurosu...</td>\n",
       "      <td>None</td>\n",
       "      <td>None</td>\n",
       "      <td>Postoperative wound CSF leakage was observed i...</td>\n",
       "      <td>Copyright © 2019 Elsevier Inc. All rights rese...</td>\n",
       "      <td>10.1016/j.wneu.2019.05.091</td>\n",
       "    </tr>\n",
       "  </tbody>\n",
       "</table>\n",
       "</div>"
      ],
      "text/plain": [
       "       fullname pubmed_id                                              title  \\\n",
       "0  Danilov Gleb  31349300  An Information Extraction Algorithm for Detect...   \n",
       "1  Danilov Gleb  31121374  A Single-Center Retrospective Descriptive Coho...   \n",
       "\n",
       "                                            abstract  \\\n",
       "0  Rich-in-morphology language, such as Russian, ...   \n",
       "1  Cerebrospinal fluid (CSF) leak remains a signi...   \n",
       "\n",
       "                                            keywords  \\\n",
       "0  Adverse Events; Electronic Health Records; Nat...   \n",
       "1  Cerebrospinal fluid leakage; Children; Craniot...   \n",
       "\n",
       "                                        journal publication_date  \\\n",
       "0  Studies in health technology and informatics       2019-07-28   \n",
       "1                            World neurosurgery       2019-05-24   \n",
       "\n",
       "                                             authors  \\\n",
       "0  Danilov Gleb; Shifrin Michael; Strunina Uliya;...   \n",
       "1  Kushel Yury; Danilov Gleb; Tekoev Aslan; Cheld...   \n",
       "\n",
       "                                        affiliations methods conclusions  \\\n",
       "0  National Medical Research Center for Neurosurg...    None        None   \n",
       "1  2nd Neurosurgical Department, Burdenko Neurosu...    None        None   \n",
       "\n",
       "                                             results  \\\n",
       "0                                               None   \n",
       "1  Postoperative wound CSF leakage was observed i...   \n",
       "\n",
       "                                          copyrights  \\\n",
       "0                                               None   \n",
       "1  Copyright © 2019 Elsevier Inc. All rights rese...   \n",
       "\n",
       "                          doi  \n",
       "0          10.3233/SHTI190051  \n",
       "1  10.1016/j.wneu.2019.05.091  "
      ]
     },
     "execution_count": 51,
     "metadata": {},
     "output_type": "execute_result"
    }
   ],
   "source": [
    "items = get_items(authors_list[0])\n",
    "items.head(2)"
   ]
  },
  {
   "cell_type": "code",
   "execution_count": 52,
   "metadata": {
    "ExecuteTime": {
     "end_time": "2019-11-19T14:43:44.658757Z",
     "start_time": "2019-11-19T14:43:37.448985Z"
    }
   },
   "outputs": [
    {
     "data": {
      "text/html": [
       "<div>\n",
       "<style scoped>\n",
       "    .dataframe tbody tr th:only-of-type {\n",
       "        vertical-align: middle;\n",
       "    }\n",
       "\n",
       "    .dataframe tbody tr th {\n",
       "        vertical-align: top;\n",
       "    }\n",
       "\n",
       "    .dataframe thead th {\n",
       "        text-align: right;\n",
       "    }\n",
       "</style>\n",
       "<table border=\"1\" class=\"dataframe\">\n",
       "  <thead>\n",
       "    <tr style=\"text-align: right;\">\n",
       "      <th></th>\n",
       "      <th>fullname</th>\n",
       "      <th>pubmed_id</th>\n",
       "      <th>pmc_id</th>\n",
       "      <th>title</th>\n",
       "      <th>abstract</th>\n",
       "      <th>keywords</th>\n",
       "      <th>journal</th>\n",
       "      <th>publication_date</th>\n",
       "      <th>authors</th>\n",
       "      <th>affiliations</th>\n",
       "      <th>methods</th>\n",
       "      <th>conclusions</th>\n",
       "      <th>results</th>\n",
       "      <th>copyrights</th>\n",
       "      <th>doi</th>\n",
       "    </tr>\n",
       "  </thead>\n",
       "  <tbody>\n",
       "    <tr>\n",
       "      <th>0</th>\n",
       "      <td>Danilov Gleb</td>\n",
       "      <td>31349300</td>\n",
       "      <td>NaN</td>\n",
       "      <td>An Information Extraction Algorithm for Detect...</td>\n",
       "      <td>Rich-in-morphology language, such as Russian, ...</td>\n",
       "      <td>Adverse Events; Electronic Health Records; Nat...</td>\n",
       "      <td>Studies in health technology and informatics</td>\n",
       "      <td>2019-07-28</td>\n",
       "      <td>Danilov Gleb; Shifrin Michael; Strunina Uliya;...</td>\n",
       "      <td>National Medical Research Center for Neurosurg...</td>\n",
       "      <td>None</td>\n",
       "      <td>None</td>\n",
       "      <td>None</td>\n",
       "      <td>None</td>\n",
       "      <td>10.3233/SHTI190051</td>\n",
       "    </tr>\n",
       "    <tr>\n",
       "      <th>1</th>\n",
       "      <td>Danilov Gleb</td>\n",
       "      <td>31121374</td>\n",
       "      <td>NaN</td>\n",
       "      <td>A Single-Center Retrospective Descriptive Coho...</td>\n",
       "      <td>Cerebrospinal fluid (CSF) leak remains a signi...</td>\n",
       "      <td>Cerebrospinal fluid leakage; Children; Craniot...</td>\n",
       "      <td>World neurosurgery</td>\n",
       "      <td>2019-05-24</td>\n",
       "      <td>Kushel Yury; Danilov Gleb; Tekoev Aslan; Cheld...</td>\n",
       "      <td>2nd Neurosurgical Department, Burdenko Neurosu...</td>\n",
       "      <td>None</td>\n",
       "      <td>None</td>\n",
       "      <td>Postoperative wound CSF leakage was observed i...</td>\n",
       "      <td>Copyright © 2019 Elsevier Inc. All rights rese...</td>\n",
       "      <td>10.1016/j.wneu.2019.05.091</td>\n",
       "    </tr>\n",
       "  </tbody>\n",
       "</table>\n",
       "</div>"
      ],
      "text/plain": [
       "       fullname pubmed_id pmc_id  \\\n",
       "0  Danilov Gleb  31349300    NaN   \n",
       "1  Danilov Gleb  31121374    NaN   \n",
       "\n",
       "                                               title  \\\n",
       "0  An Information Extraction Algorithm for Detect...   \n",
       "1  A Single-Center Retrospective Descriptive Coho...   \n",
       "\n",
       "                                            abstract  \\\n",
       "0  Rich-in-morphology language, such as Russian, ...   \n",
       "1  Cerebrospinal fluid (CSF) leak remains a signi...   \n",
       "\n",
       "                                            keywords  \\\n",
       "0  Adverse Events; Electronic Health Records; Nat...   \n",
       "1  Cerebrospinal fluid leakage; Children; Craniot...   \n",
       "\n",
       "                                        journal publication_date  \\\n",
       "0  Studies in health technology and informatics       2019-07-28   \n",
       "1                            World neurosurgery       2019-05-24   \n",
       "\n",
       "                                             authors  \\\n",
       "0  Danilov Gleb; Shifrin Michael; Strunina Uliya;...   \n",
       "1  Kushel Yury; Danilov Gleb; Tekoev Aslan; Cheld...   \n",
       "\n",
       "                                        affiliations methods conclusions  \\\n",
       "0  National Medical Research Center for Neurosurg...    None        None   \n",
       "1  2nd Neurosurgical Department, Burdenko Neurosu...    None        None   \n",
       "\n",
       "                                             results  \\\n",
       "0                                               None   \n",
       "1  Postoperative wound CSF leakage was observed i...   \n",
       "\n",
       "                                          copyrights  \\\n",
       "0                                               None   \n",
       "1  Copyright © 2019 Elsevier Inc. All rights rese...   \n",
       "\n",
       "                          doi  \n",
       "0          10.3233/SHTI190051  \n",
       "1  10.1016/j.wneu.2019.05.091  "
      ]
     },
     "execution_count": 52,
     "metadata": {},
     "output_type": "execute_result"
    }
   ],
   "source": [
    "items = add_pmc_id(items)\n",
    "items.head(2)"
   ]
  },
  {
   "cell_type": "code",
   "execution_count": 121,
   "metadata": {
    "ExecuteTime": {
     "end_time": "2019-11-14T07:53:51.314534Z",
     "start_time": "2019-11-14T07:53:51.282340Z"
    }
   },
   "outputs": [],
   "source": [
    "items.to_excel('output/pubmed-pymed.xlsx')"
   ]
  },
  {
   "cell_type": "markdown",
   "metadata": {},
   "source": [
    "### Download Neurosurgery full texts"
   ]
  },
  {
   "cell_type": "code",
   "execution_count": 53,
   "metadata": {
    "ExecuteTime": {
     "end_time": "2019-11-19T14:45:44.065370Z",
     "start_time": "2019-11-19T14:45:19.639302Z"
    }
   },
   "outputs": [],
   "source": [
    "article_ids = get_article_ids('neurosurgery')"
   ]
  },
  {
   "cell_type": "code",
   "execution_count": 55,
   "metadata": {
    "ExecuteTime": {
     "end_time": "2019-11-19T14:46:40.970681Z",
     "start_time": "2019-11-19T14:46:40.966690Z"
    }
   },
   "outputs": [
    {
     "data": {
      "text/plain": [
       "121002"
      ]
     },
     "execution_count": 55,
     "metadata": {},
     "output_type": "execute_result"
    }
   ],
   "source": [
    "len(article_ids)"
   ]
  },
  {
   "cell_type": "markdown",
   "metadata": {},
   "source": [
    "### Debug"
   ]
  },
  {
   "cell_type": "code",
   "execution_count": 91,
   "metadata": {
    "ExecuteTime": {
     "end_time": "2019-11-19T10:34:33.987612Z",
     "start_time": "2019-11-19T10:34:33.978631Z"
    }
   },
   "outputs": [
    {
     "data": {
      "text/plain": [
       "17372"
      ]
     },
     "execution_count": 91,
     "metadata": {},
     "output_type": "execute_result"
    }
   ],
   "source": [
    "test = get_full_text(6069828)\n",
    "len(test)"
   ]
  },
  {
   "cell_type": "code",
   "execution_count": 92,
   "metadata": {
    "ExecuteTime": {
     "end_time": "2019-11-19T10:34:35.814129Z",
     "start_time": "2019-11-19T10:34:35.809141Z"
    }
   },
   "outputs": [
    {
     "data": {
      "text/plain": [
       "'The impact of infection prevention and control (IPC) programs in limited resource countries such as Russia are largely unknown due to a lack of reliable data. The aim of this study is to evaluate the effect of an IPC program with respect to healthcare associated infection (HAI) prevention and to define the incidence of HAIs in a Russian ICU.A pioneering IPC program was implemented in a neuro-ICU at Burdenko Neurosurgery Institute in 2010 and included hand hygiene, surveillance, contact precautions, patient isolation, and environmental cleaning measures. This prospective observational cohort study lasted from 2011 to 2016, included high-risk ICU patients, and evaluated the dynamics of incidence, etiological spectrum, and resistance profile of four types of HAIs, including subgroup analysis of device-associated infections. Survival analysis compared patients with and without HAIs.We included 2038 high-risk patients. By 2016, HAI cumulative incidence decreased significantly for respiratory HAIs (36.1% vs. 24.5%, The implementation of an evidence-based IPC program in a middle-income country (Russia) was highly effective in HAI prevention with meaningful reductions in antibiotic resistance.The online version of this article (10.1186/s13756-018-0383-4) contains supplementary material, which is available to authorized users.Infection prevention and control (IPC) programs have been repeatedly shown to be effective at decreasing the incidence of healthcare-associated infections (HAIs). A landmark paper on this topic in 1985 showed a 32% decrease in the hospital infection rate after 5 years of an ongoing IPC program [To prevent HAIs, the WHO recommends implementing an IPC program in every acute healthcare facility [Besides significant underreporting of HAIs, Russia faces other challenges in establishing IPC programs, such as lack of commitment, punishment-based HAI reporting systems, lack of expertise, and inadequate allocation of resources [This study was a prospective obser'"
      ]
     },
     "execution_count": 92,
     "metadata": {},
     "output_type": "execute_result"
    }
   ],
   "source": [
    "test[:2000]"
   ]
  },
  {
   "cell_type": "code",
   "execution_count": 65,
   "metadata": {
    "ExecuteTime": {
     "end_time": "2019-11-19T08:19:30.307261Z",
     "start_time": "2019-11-19T08:19:28.935910Z"
    }
   },
   "outputs": [],
   "source": [
    "params = {\n",
    "    'db': 'pmc',\n",
    "    'id': 6069828,\n",
    "    'tool': tool,\n",
    "    'email': email\n",
    "}\n",
    "\n",
    "response = requests.get(url=url_full_text, headers=headers, params=params)"
   ]
  },
  {
   "cell_type": "code",
   "execution_count": 88,
   "metadata": {
    "ExecuteTime": {
     "end_time": "2019-11-19T10:33:49.009453Z",
     "start_time": "2019-11-19T10:33:49.004463Z"
    }
   },
   "outputs": [
    {
     "name": "stdout",
     "output_type": "stream",
     "text": [
      "<?xml version=\"1.0\" ?>\n",
      "<!DOCTYPE pmc-articleset PUBLIC \"-//NLM//DTD ARTICLE SET 2.0//EN\" \"https://dtd.nlm.nih.gov/ncbi/pmc/articleset/nlm-articleset-2.0.dtd\">\n",
      "<pmc-articleset><article xmlns:mml=\"http://www.w3.org/1998/Math/MathML\" xmlns:xlink=\"http://www.w3.org/1999/xlink\" article-type=\"research-article\">\n",
      "  <?properties open_access?>\n",
      "  <front>\n",
      "    <journal-meta>\n",
      "      <journal-id journal-id-type=\"nlm-ta\">Antimicrob Resist Infect Control</journal-id>\n",
      "      <journal-id journal-id-type=\"iso-abbrev\">Antimicrob Resist Infect Control</journal-id>\n",
      "      <journal-title-group>\n",
      "        <journal-title>Antimicrobial Resistance and Infection Control</journal-title>\n",
      "      </journal-title-group>\n",
      "      <issn pub-type=\"epub\">2047-2994</issn>\n",
      "      <publisher>\n",
      "        <publisher-name>BioMed Central</publisher-name>\n",
      "        <publisher-loc>London</publisher-loc>\n",
      "      </publisher>\n",
      "    </journal-meta>\n",
      "    <article-meta>\n",
      "      <article-id pub-id-type=\"pmid\">30083313</article-id>\n",
      "      <article-id pub-id-typ\n"
     ]
    }
   ],
   "source": [
    "print(response.text[:1000])"
   ]
  }
 ],
 "metadata": {
  "kernelspec": {
   "display_name": "Python 3",
   "language": "python",
   "name": "python3"
  },
  "language_info": {
   "codemirror_mode": {
    "name": "ipython",
    "version": 3
   },
   "file_extension": ".py",
   "mimetype": "text/x-python",
   "name": "python",
   "nbconvert_exporter": "python",
   "pygments_lexer": "ipython3",
   "version": "3.7.3"
  }
 },
 "nbformat": 4,
 "nbformat_minor": 2
}
